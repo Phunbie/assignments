{
  "nbformat": 4,
  "nbformat_minor": 0,
  "metadata": {
    "kernelspec": {
      "display_name": "Python 3",
      "language": "python",
      "name": "python3"
    },
    "language_info": {
      "codemirror_mode": {
        "name": "ipython",
        "version": 3
      },
      "file_extension": ".py",
      "mimetype": "text/x-python",
      "name": "python",
      "nbconvert_exporter": "python",
      "pygments_lexer": "ipython3",
      "version": "3.7.3"
    },
    "colab": {
      "name": "homework-6-starter.ipynb",
      "provenance": []
    }
  },
  "cells": [
    {
      "cell_type": "markdown",
      "metadata": {
        "id": "Zm5hdhWwvp3y"
      },
      "source": [
        "## 6.10 Homework\n",
        "\n",
        "The goal of this homework is to create a tree-based regression model for prediction apartment prices (column `'price'`).\n",
        "\n",
        "In this homework we'll again use the New York City Airbnb Open Data dataset - the same one we used in homework 2 and 3.\n",
        "\n",
        "You can take it from [Kaggle](https://www.kaggle.com/dgomonov/new-york-city-airbnb-open-data?select=AB_NYC_2019.csv)\n",
        "or download from [here](https://raw.githubusercontent.com/alexeygrigorev/datasets/master/AB_NYC_2019.csv)\n",
        "if you don't want to sign up to Kaggle.\n",
        "\n",
        "Let's load the data:"
      ]
    },
    {
      "cell_type": "code",
      "metadata": {
        "id": "eqP85_kZvp37"
      },
      "source": [
        "import pandas as pd\n",
        "import numpy as np\n",
        "\n",
        "import matplotlib.pyplot as plt\n",
        "import seaborn as sns\n",
        "\n",
        "%matplotlib inline"
      ],
      "execution_count": 1,
      "outputs": []
    },
    {
      "cell_type": "code",
      "metadata": {
        "id": "la4yVvgUwOa_"
      },
      "source": [
        "url= 'https://raw.githubusercontent.com/alexeygrigorev/datasets/master/AB_NYC_2019.csv'"
      ],
      "execution_count": 3,
      "outputs": []
    },
    {
      "cell_type": "code",
      "metadata": {
        "id": "AmOcN_mgvp3_"
      },
      "source": [
        "columns = [\n",
        "    'neighbourhood_group', 'room_type', 'latitude', 'longitude',\n",
        "    'minimum_nights', 'number_of_reviews','reviews_per_month',\n",
        "    'calculated_host_listings_count', 'availability_365',\n",
        "    'price'\n",
        "]\n",
        "\n",
        "df = pd.read_csv(url, usecols=columns)\n",
        "df.reviews_per_month = df.reviews_per_month.fillna(0)"
      ],
      "execution_count": 4,
      "outputs": []
    },
    {
      "cell_type": "markdown",
      "metadata": {
        "id": "YJS8gsUgvp4B"
      },
      "source": [
        "* Apply the log tranform to `price`\n",
        "* Do train/validation/test split with 60%/20%/20% distribution. \n",
        "* Use the `train_test_split` function and set the `random_state` parameter to 1"
      ]
    },
    {
      "cell_type": "code",
      "metadata": {
        "id": "7hPzcN-mwlaZ"
      },
      "source": [
        "df.price = np.log1p(df.price)"
      ],
      "execution_count": 5,
      "outputs": []
    },
    {
      "cell_type": "code",
      "metadata": {
        "id": "lNqR4VScwlln"
      },
      "source": [
        "y = df.price"
      ],
      "execution_count": 6,
      "outputs": []
    },
    {
      "cell_type": "code",
      "metadata": {
        "id": "O8aKgTGIvp4C",
        "outputId": "32644d7c-07c0-4aaf-8033-7521fb114deb",
        "colab": {
          "base_uri": "https://localhost:8080/"
        }
      },
      "source": [
        "X = df.drop('price',1)\n",
        "X.columns"
      ],
      "execution_count": 7,
      "outputs": [
        {
          "output_type": "execute_result",
          "data": {
            "text/plain": [
              "Index(['neighbourhood_group', 'latitude', 'longitude', 'room_type',\n",
              "       'minimum_nights', 'number_of_reviews', 'reviews_per_month',\n",
              "       'calculated_host_listings_count', 'availability_365'],\n",
              "      dtype='object')"
            ]
          },
          "metadata": {},
          "execution_count": 7
        }
      ]
    },
    {
      "cell_type": "code",
      "metadata": {
        "id": "-sZbRlZQzR6C"
      },
      "source": [
        "from sklearn.model_selection import train_test_split"
      ],
      "execution_count": 8,
      "outputs": []
    },
    {
      "cell_type": "code",
      "metadata": {
        "id": "UffPb6OZzbi4"
      },
      "source": [
        "X_train, X_test, y_train, y_test = train_test_split(X, y, test_size=0.2, random_state=1)"
      ],
      "execution_count": 9,
      "outputs": []
    },
    {
      "cell_type": "code",
      "metadata": {
        "id": "SjyAtnKEzj7l"
      },
      "source": [
        "X_train, X_val, y_train, y_val = train_test_split(X_train, y_train, test_size=0.25, random_state=42)"
      ],
      "execution_count": 10,
      "outputs": []
    },
    {
      "cell_type": "markdown",
      "metadata": {
        "id": "zmI3zHlovp4D"
      },
      "source": [
        "Now, use `DictVectorizer` to turn train and validation into matrices:"
      ]
    },
    {
      "cell_type": "code",
      "metadata": {
        "id": "E0-_zCMavp4H"
      },
      "source": [
        "from sklearn.feature_extraction import DictVectorizer"
      ],
      "execution_count": 11,
      "outputs": []
    },
    {
      "cell_type": "code",
      "metadata": {
        "id": "HFly-W_s0BBU"
      },
      "source": [
        "train_dict = X_train.to_dict(orient='records')"
      ],
      "execution_count": 12,
      "outputs": []
    },
    {
      "cell_type": "code",
      "metadata": {
        "id": "wJMwhAiW0BNz",
        "outputId": "7a92521f-0496-443b-d8f8-772b89b21314",
        "colab": {
          "base_uri": "https://localhost:8080/"
        }
      },
      "source": [
        "dv = DictVectorizer(sparse=False)\n",
        "dv.fit(train_dict)"
      ],
      "execution_count": 13,
      "outputs": [
        {
          "output_type": "execute_result",
          "data": {
            "text/plain": [
              "DictVectorizer(dtype=<class 'numpy.float64'>, separator='=', sort=True,\n",
              "               sparse=False)"
            ]
          },
          "metadata": {},
          "execution_count": 13
        }
      ]
    },
    {
      "cell_type": "code",
      "metadata": {
        "id": "K8f8JKVY53h4"
      },
      "source": [
        "X_train1 = dv.transform(train_dict)"
      ],
      "execution_count": 14,
      "outputs": []
    },
    {
      "cell_type": "code",
      "metadata": {
        "id": "rCkCWtX953s6",
        "outputId": "729443e8-0ce4-4a52-febb-a4e15347ac5f",
        "colab": {
          "base_uri": "https://localhost:8080/"
        }
      },
      "source": [
        "X_train1.shape"
      ],
      "execution_count": 15,
      "outputs": [
        {
          "output_type": "execute_result",
          "data": {
            "text/plain": [
              "(29337, 15)"
            ]
          },
          "metadata": {},
          "execution_count": 15
        }
      ]
    },
    {
      "cell_type": "code",
      "metadata": {
        "id": "Z1nZD0dQ5322",
        "outputId": "ff70fec3-227d-4c64-e331-329f4fab19de",
        "colab": {
          "base_uri": "https://localhost:8080/"
        }
      },
      "source": [
        "val_dict = X_val.to_dict(orient='records')\n",
        "X_val1 = dv.transform(val_dict)\n",
        "X_val1.shape"
      ],
      "execution_count": 16,
      "outputs": [
        {
          "output_type": "execute_result",
          "data": {
            "text/plain": [
              "(9779, 15)"
            ]
          },
          "metadata": {},
          "execution_count": 16
        }
      ]
    },
    {
      "cell_type": "markdown",
      "metadata": {
        "id": "n6KAbyVRvp4J"
      },
      "source": [
        "## Question 1\n",
        "\n",
        "Let's train a decision tree regressor to predict the price variable. \n",
        "\n",
        "* Train a model with `max_depth=1`"
      ]
    },
    {
      "cell_type": "code",
      "metadata": {
        "id": "BFFWkNZEvp4M"
      },
      "source": [
        "from sklearn.tree import DecisionTreeRegressor"
      ],
      "execution_count": 17,
      "outputs": []
    },
    {
      "cell_type": "code",
      "metadata": {
        "id": "pl153zTF6kOZ"
      },
      "source": [
        "dt = DecisionTreeRegressor(max_depth=1)"
      ],
      "execution_count": 19,
      "outputs": []
    },
    {
      "cell_type": "code",
      "metadata": {
        "id": "IHFudkP76ka5",
        "outputId": "d9a774f2-d582-4261-9e31-ef98ee58b879",
        "colab": {
          "base_uri": "https://localhost:8080/"
        }
      },
      "source": [
        "dt.fit(X_train1, y_train)"
      ],
      "execution_count": 20,
      "outputs": [
        {
          "output_type": "execute_result",
          "data": {
            "text/plain": [
              "DecisionTreeRegressor(ccp_alpha=0.0, criterion='mse', max_depth=1,\n",
              "                      max_features=None, max_leaf_nodes=None,\n",
              "                      min_impurity_decrease=0.0, min_impurity_split=None,\n",
              "                      min_samples_leaf=1, min_samples_split=2,\n",
              "                      min_weight_fraction_leaf=0.0, presort='deprecated',\n",
              "                      random_state=None, splitter='best')"
            ]
          },
          "metadata": {},
          "execution_count": 20
        }
      ]
    },
    {
      "cell_type": "code",
      "metadata": {
        "id": "T2H-En9l7oNR"
      },
      "source": [
        "from sklearn.tree import export_text"
      ],
      "execution_count": 21,
      "outputs": []
    },
    {
      "cell_type": "code",
      "metadata": {
        "id": "lLMQiPHS8v-K",
        "outputId": "8cdeb854-e351-481b-e467-3cf63985d165",
        "colab": {
          "base_uri": "https://localhost:8080/"
        }
      },
      "source": [
        "print(export_text(dt,feature_names=dv.get_feature_names()))"
      ],
      "execution_count": 23,
      "outputs": [
        {
          "output_type": "stream",
          "name": "stdout",
          "text": [
            "|--- room_type=Entire home/apt <= 0.50\n",
            "|   |--- value: [4.29]\n",
            "|--- room_type=Entire home/apt >  0.50\n",
            "|   |--- value: [5.15]\n",
            "\n"
          ]
        }
      ]
    },
    {
      "cell_type": "markdown",
      "metadata": {
        "id": "smBbAH_8vp4N"
      },
      "source": [
        "Which feature is used for splitting the data?\n",
        "\n",
        "* `room_type`\n",
        "* `neighbourhood_group`\n",
        "* `number_of_reviews`\n",
        "* `reviews_per_month`"
      ]
    },
    {
      "cell_type": "markdown",
      "metadata": {
        "id": "XKsTBEEWvp4O"
      },
      "source": [
        "## Question 2\n",
        "\n",
        "Train a random forest model with these parameters:\n",
        "\n",
        "* `n_estimators=10`\n",
        "* `random_state=1`\n",
        "* `n_jobs=-1`  (optional - to make training faster)"
      ]
    },
    {
      "cell_type": "code",
      "metadata": {
        "id": "5c9jI1xhvp4P"
      },
      "source": [
        "from sklearn.ensemble import RandomForestRegressor"
      ],
      "execution_count": 24,
      "outputs": []
    },
    {
      "cell_type": "code",
      "metadata": {
        "id": "ZRtuiMxEALWT"
      },
      "source": [
        "rf = RandomForestRegressor()"
      ],
      "execution_count": null,
      "outputs": []
    },
    {
      "cell_type": "markdown",
      "metadata": {
        "id": "gfR1nX_Pvp4Q"
      },
      "source": [
        "What's the RMSE of this model on validation?\n",
        "\n",
        "* 0.059\n",
        "* 0.259\n",
        "* 0.459\n",
        "* 0.659"
      ]
    },
    {
      "cell_type": "markdown",
      "metadata": {
        "id": "2CDtwE6zvp4R"
      },
      "source": [
        "## Question 3\n",
        "\n",
        "Now let's experiment with the `n_estimators` parameter\n",
        "\n",
        "* Try different values of this parameter from 10 to 200 with step 10\n",
        "* Set `random_state` to `1`\n",
        "* Evaluate the model on the validation dataset"
      ]
    },
    {
      "cell_type": "code",
      "metadata": {
        "id": "A3Bb3VFTvp4R"
      },
      "source": [
        ""
      ],
      "execution_count": null,
      "outputs": []
    },
    {
      "cell_type": "markdown",
      "metadata": {
        "id": "I8iOQtovvp4S"
      },
      "source": [
        "After which value of `n_estimators` does RMSE stop improving?\n",
        "\n",
        "- 10\n",
        "- 50\n",
        "- 70\n",
        "- 120"
      ]
    },
    {
      "cell_type": "markdown",
      "metadata": {
        "id": "XtEqncV5vp4S"
      },
      "source": [
        "## Question 4\n",
        "\n",
        "Let's select the best `max_depth`:\n",
        "\n",
        "* Try different values of `max_depth`: `[10, 15, 20, 25]`\n",
        "* For each of these values, try different values of `n_estimators` from 10 till 200 (with step 10)\n",
        "* Fix the random seed: `random_state=1`"
      ]
    },
    {
      "cell_type": "code",
      "metadata": {
        "id": "ZrDqSdl3vp4T"
      },
      "source": [
        ""
      ],
      "execution_count": null,
      "outputs": []
    },
    {
      "cell_type": "markdown",
      "metadata": {
        "id": "a_RObT6Avp4T"
      },
      "source": [
        "What's the best `max_depth`:\n",
        "\n",
        "* 10\n",
        "* 15\n",
        "* 20\n",
        "* 25\n",
        "\n",
        "Bonus question (not graded):\n",
        "\n",
        "Will the answer be different if we change the seed for the model?"
      ]
    },
    {
      "cell_type": "markdown",
      "metadata": {
        "id": "oA1BM5Twvp4U"
      },
      "source": [
        "## Question 5\n",
        "\n",
        "We can extract feature importance information from tree-based models. \n",
        "\n",
        "At each step of the decision tree learning algorith, it finds the best split. \n",
        "When doint it, we can calculate \"gain\" - the reduction in impurity before and after the split. \n",
        "This gain is quite useful in understanding what are the imporatant features \n",
        "for tree-based models.\n",
        "\n",
        "In Scikit-Learn, tree-based models contain this information in the `feature_importances_` field. \n",
        "\n",
        "For this homework question, we'll find the most important feature:\n",
        "\n",
        "* Train the model with these parametes:\n",
        "    * `n_estimators=10`,\n",
        "    * `max_depth=20`,\n",
        "    * `random_state=1`,\n",
        "    * `n_jobs=-1` (optional)\n",
        "* Get the feature importance information from this model"
      ]
    },
    {
      "cell_type": "code",
      "metadata": {
        "id": "YHBKb71rvp4V"
      },
      "source": [
        ""
      ],
      "execution_count": null,
      "outputs": []
    },
    {
      "cell_type": "markdown",
      "metadata": {
        "id": "OydhVotXvp4W"
      },
      "source": [
        "What's the most important feature? \n",
        "\n",
        "* `neighbourhood_group=Manhattan`\n",
        "* `room_type=Entire home/apt`\t\n",
        "* `longitude`\n",
        "* `latitude`"
      ]
    },
    {
      "cell_type": "markdown",
      "metadata": {
        "id": "y0E2Y_zgvp4W"
      },
      "source": [
        "## Question 6"
      ]
    },
    {
      "cell_type": "markdown",
      "metadata": {
        "id": "PPmf8VKXvp4X"
      },
      "source": [
        "Now let's train an XGBoost model! For this question, we'll tune the `eta` parameter\n",
        "\n",
        "* Install XGBoost\n",
        "* Create DMatrix for train and validation\n",
        "* Create a watchlist\n",
        "* Train a model with these parameters for 100 rounds:\n",
        "\n",
        "```\n",
        "xgb_params = {\n",
        "    'eta': 0.3, \n",
        "    'max_depth': 6,\n",
        "    'min_child_weight': 1,\n",
        "    \n",
        "    'objective': 'reg:squarederror',\n",
        "    'nthread': 8,\n",
        "    \n",
        "    'seed': 1,\n",
        "    'verbosity': 1,\n",
        "}\n",
        "```"
      ]
    },
    {
      "cell_type": "code",
      "metadata": {
        "id": "5wsbuPI_vp4X"
      },
      "source": [
        ""
      ],
      "execution_count": null,
      "outputs": []
    },
    {
      "cell_type": "markdown",
      "metadata": {
        "id": "30KyPmzivp4Y"
      },
      "source": [
        "Now change `eta` first to `0.1` and then to `0.01`"
      ]
    },
    {
      "cell_type": "code",
      "metadata": {
        "id": "p35UYb2Wvp4Y"
      },
      "source": [
        ""
      ],
      "execution_count": null,
      "outputs": []
    },
    {
      "cell_type": "markdown",
      "metadata": {
        "id": "1q7hyN2dvp4Y"
      },
      "source": [
        "Which eta leads to the best RMSE score on the validation dataset?\n",
        "\n",
        "* 0.3\n",
        "* 0.1\n",
        "* 0.01"
      ]
    },
    {
      "cell_type": "markdown",
      "metadata": {
        "id": "iRU4i5W3vp4Z"
      },
      "source": [
        "## Submit the results\n",
        "\n",
        "\n",
        "Submit your results here: https://forms.gle/wQgFkYE6CtdDed4w8\n",
        "\n",
        "It's possible that your answers won't match exactly. If it's the case, select the closest one.\n",
        "\n",
        "\n",
        "## Deadline\n",
        "\n",
        "\n",
        "The deadline for submitting is 20 October 2021, 17:00 CET (Wednesday). After that, the form will be closed.\n",
        "\n"
      ]
    }
  ]
}