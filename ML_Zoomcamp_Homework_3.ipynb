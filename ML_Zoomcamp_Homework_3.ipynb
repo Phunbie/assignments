{
  "nbformat": 4,
  "nbformat_minor": 0,
  "metadata": {
    "colab": {
      "name": "ML Zoomcamp - Homework #3.ipynb",
      "provenance": [],
      "authorship_tag": "ABX9TyPjRUKv4molOfW3x7R+p1N8",
      "include_colab_link": true
    },
    "kernelspec": {
      "name": "python3",
      "display_name": "Python 3"
    },
    "language_info": {
      "name": "python"
    }
  },
  "cells": [
    {
      "cell_type": "markdown",
      "metadata": {
        "id": "view-in-github",
        "colab_type": "text"
      },
      "source": [
        "<a href=\"https://colab.research.google.com/github/Phunbie/assignments/blob/main/ML_Zoomcamp_Homework_3.ipynb\" target=\"_parent\"><img src=\"https://colab.research.google.com/assets/colab-badge.svg\" alt=\"Open In Colab\"/></a>"
      ]
    },
    {
      "cell_type": "code",
      "metadata": {
        "id": "UY_spkcHJsWA"
      },
      "source": [
        "import pandas as pd"
      ],
      "execution_count": 1,
      "outputs": []
    },
    {
      "cell_type": "code",
      "metadata": {
        "id": "XJ269b9YKRjd"
      },
      "source": [
        "url = 'https://raw.githubusercontent.com/alexeygrigorev/datasets/master/AB_NYC_2019.csv'"
      ],
      "execution_count": 2,
      "outputs": []
    },
    {
      "cell_type": "code",
      "metadata": {
        "id": "2rSID73mKYaS"
      },
      "source": [
        "df = pd.read_csv(url)"
      ],
      "execution_count": 3,
      "outputs": []
    },
    {
      "cell_type": "code",
      "metadata": {
        "id": "oV-fO94CKsnQ"
      },
      "source": [
        "df = df[['neighbourhood_group','room_type','latitude','longitude','price','minimum_nights','number_of_reviews','reviews_per_month','calculated_host_listings_count','availability_365']]"
      ],
      "execution_count": 4,
      "outputs": []
    },
    {
      "cell_type": "code",
      "metadata": {
        "colab": {
          "base_uri": "https://localhost:8080/"
        },
        "id": "jm6K29xjLGTo",
        "outputId": "a2d3e9e0-8f0e-4c34-c037-d28d8c25b10f"
      },
      "source": [
        "df = df.fillna(0)\n",
        "df.isnull().sum()"
      ],
      "execution_count": 5,
      "outputs": [
        {
          "output_type": "execute_result",
          "data": {
            "text/plain": [
              "neighbourhood_group               0\n",
              "room_type                         0\n",
              "latitude                          0\n",
              "longitude                         0\n",
              "price                             0\n",
              "minimum_nights                    0\n",
              "number_of_reviews                 0\n",
              "reviews_per_month                 0\n",
              "calculated_host_listings_count    0\n",
              "availability_365                  0\n",
              "dtype: int64"
            ]
          },
          "metadata": {},
          "execution_count": 5
        }
      ]
    },
    {
      "cell_type": "code",
      "metadata": {
        "colab": {
          "base_uri": "https://localhost:8080/",
          "height": 423
        },
        "id": "sf9jSu_owXka",
        "outputId": "c8b84e12-6374-4c8d-8ec7-98005ed8f760"
      },
      "source": [
        "df"
      ],
      "execution_count": 6,
      "outputs": [
        {
          "output_type": "execute_result",
          "data": {
            "text/html": [
              "<div>\n",
              "<style scoped>\n",
              "    .dataframe tbody tr th:only-of-type {\n",
              "        vertical-align: middle;\n",
              "    }\n",
              "\n",
              "    .dataframe tbody tr th {\n",
              "        vertical-align: top;\n",
              "    }\n",
              "\n",
              "    .dataframe thead th {\n",
              "        text-align: right;\n",
              "    }\n",
              "</style>\n",
              "<table border=\"1\" class=\"dataframe\">\n",
              "  <thead>\n",
              "    <tr style=\"text-align: right;\">\n",
              "      <th></th>\n",
              "      <th>neighbourhood_group</th>\n",
              "      <th>room_type</th>\n",
              "      <th>latitude</th>\n",
              "      <th>longitude</th>\n",
              "      <th>price</th>\n",
              "      <th>minimum_nights</th>\n",
              "      <th>number_of_reviews</th>\n",
              "      <th>reviews_per_month</th>\n",
              "      <th>calculated_host_listings_count</th>\n",
              "      <th>availability_365</th>\n",
              "    </tr>\n",
              "  </thead>\n",
              "  <tbody>\n",
              "    <tr>\n",
              "      <th>0</th>\n",
              "      <td>Brooklyn</td>\n",
              "      <td>Private room</td>\n",
              "      <td>40.64749</td>\n",
              "      <td>-73.97237</td>\n",
              "      <td>149</td>\n",
              "      <td>1</td>\n",
              "      <td>9</td>\n",
              "      <td>0.21</td>\n",
              "      <td>6</td>\n",
              "      <td>365</td>\n",
              "    </tr>\n",
              "    <tr>\n",
              "      <th>1</th>\n",
              "      <td>Manhattan</td>\n",
              "      <td>Entire home/apt</td>\n",
              "      <td>40.75362</td>\n",
              "      <td>-73.98377</td>\n",
              "      <td>225</td>\n",
              "      <td>1</td>\n",
              "      <td>45</td>\n",
              "      <td>0.38</td>\n",
              "      <td>2</td>\n",
              "      <td>355</td>\n",
              "    </tr>\n",
              "    <tr>\n",
              "      <th>2</th>\n",
              "      <td>Manhattan</td>\n",
              "      <td>Private room</td>\n",
              "      <td>40.80902</td>\n",
              "      <td>-73.94190</td>\n",
              "      <td>150</td>\n",
              "      <td>3</td>\n",
              "      <td>0</td>\n",
              "      <td>0.00</td>\n",
              "      <td>1</td>\n",
              "      <td>365</td>\n",
              "    </tr>\n",
              "    <tr>\n",
              "      <th>3</th>\n",
              "      <td>Brooklyn</td>\n",
              "      <td>Entire home/apt</td>\n",
              "      <td>40.68514</td>\n",
              "      <td>-73.95976</td>\n",
              "      <td>89</td>\n",
              "      <td>1</td>\n",
              "      <td>270</td>\n",
              "      <td>4.64</td>\n",
              "      <td>1</td>\n",
              "      <td>194</td>\n",
              "    </tr>\n",
              "    <tr>\n",
              "      <th>4</th>\n",
              "      <td>Manhattan</td>\n",
              "      <td>Entire home/apt</td>\n",
              "      <td>40.79851</td>\n",
              "      <td>-73.94399</td>\n",
              "      <td>80</td>\n",
              "      <td>10</td>\n",
              "      <td>9</td>\n",
              "      <td>0.10</td>\n",
              "      <td>1</td>\n",
              "      <td>0</td>\n",
              "    </tr>\n",
              "    <tr>\n",
              "      <th>...</th>\n",
              "      <td>...</td>\n",
              "      <td>...</td>\n",
              "      <td>...</td>\n",
              "      <td>...</td>\n",
              "      <td>...</td>\n",
              "      <td>...</td>\n",
              "      <td>...</td>\n",
              "      <td>...</td>\n",
              "      <td>...</td>\n",
              "      <td>...</td>\n",
              "    </tr>\n",
              "    <tr>\n",
              "      <th>48890</th>\n",
              "      <td>Brooklyn</td>\n",
              "      <td>Private room</td>\n",
              "      <td>40.67853</td>\n",
              "      <td>-73.94995</td>\n",
              "      <td>70</td>\n",
              "      <td>2</td>\n",
              "      <td>0</td>\n",
              "      <td>0.00</td>\n",
              "      <td>2</td>\n",
              "      <td>9</td>\n",
              "    </tr>\n",
              "    <tr>\n",
              "      <th>48891</th>\n",
              "      <td>Brooklyn</td>\n",
              "      <td>Private room</td>\n",
              "      <td>40.70184</td>\n",
              "      <td>-73.93317</td>\n",
              "      <td>40</td>\n",
              "      <td>4</td>\n",
              "      <td>0</td>\n",
              "      <td>0.00</td>\n",
              "      <td>2</td>\n",
              "      <td>36</td>\n",
              "    </tr>\n",
              "    <tr>\n",
              "      <th>48892</th>\n",
              "      <td>Manhattan</td>\n",
              "      <td>Entire home/apt</td>\n",
              "      <td>40.81475</td>\n",
              "      <td>-73.94867</td>\n",
              "      <td>115</td>\n",
              "      <td>10</td>\n",
              "      <td>0</td>\n",
              "      <td>0.00</td>\n",
              "      <td>1</td>\n",
              "      <td>27</td>\n",
              "    </tr>\n",
              "    <tr>\n",
              "      <th>48893</th>\n",
              "      <td>Manhattan</td>\n",
              "      <td>Shared room</td>\n",
              "      <td>40.75751</td>\n",
              "      <td>-73.99112</td>\n",
              "      <td>55</td>\n",
              "      <td>1</td>\n",
              "      <td>0</td>\n",
              "      <td>0.00</td>\n",
              "      <td>6</td>\n",
              "      <td>2</td>\n",
              "    </tr>\n",
              "    <tr>\n",
              "      <th>48894</th>\n",
              "      <td>Manhattan</td>\n",
              "      <td>Private room</td>\n",
              "      <td>40.76404</td>\n",
              "      <td>-73.98933</td>\n",
              "      <td>90</td>\n",
              "      <td>7</td>\n",
              "      <td>0</td>\n",
              "      <td>0.00</td>\n",
              "      <td>1</td>\n",
              "      <td>23</td>\n",
              "    </tr>\n",
              "  </tbody>\n",
              "</table>\n",
              "<p>48895 rows × 10 columns</p>\n",
              "</div>"
            ],
            "text/plain": [
              "      neighbourhood_group  ... availability_365\n",
              "0                Brooklyn  ...              365\n",
              "1               Manhattan  ...              355\n",
              "2               Manhattan  ...              365\n",
              "3                Brooklyn  ...              194\n",
              "4               Manhattan  ...                0\n",
              "...                   ...  ...              ...\n",
              "48890            Brooklyn  ...                9\n",
              "48891            Brooklyn  ...               36\n",
              "48892           Manhattan  ...               27\n",
              "48893           Manhattan  ...                2\n",
              "48894           Manhattan  ...               23\n",
              "\n",
              "[48895 rows x 10 columns]"
            ]
          },
          "metadata": {},
          "execution_count": 6
        }
      ]
    },
    {
      "cell_type": "markdown",
      "metadata": {
        "id": "_gM60lj6L41X"
      },
      "source": [
        "Question 1:What is the most frequent observation (mode) for the column 'neighbourhood_group'?"
      ]
    },
    {
      "cell_type": "code",
      "metadata": {
        "colab": {
          "base_uri": "https://localhost:8080/"
        },
        "id": "GCjw1L-EMErc",
        "outputId": "86dc653c-58b9-44fd-de1f-01e14d89f75a"
      },
      "source": [
        "df.neighbourhood_group.value_counts()"
      ],
      "execution_count": 7,
      "outputs": [
        {
          "output_type": "execute_result",
          "data": {
            "text/plain": [
              "Manhattan        21661\n",
              "Brooklyn         20104\n",
              "Queens            5666\n",
              "Bronx             1091\n",
              "Staten Island      373\n",
              "Name: neighbourhood_group, dtype: int64"
            ]
          },
          "metadata": {},
          "execution_count": 7
        }
      ]
    },
    {
      "cell_type": "code",
      "metadata": {
        "id": "vW6VgyShjfYo"
      },
      "source": [
        "y = df.price\n"
      ],
      "execution_count": 8,
      "outputs": []
    },
    {
      "cell_type": "code",
      "metadata": {
        "colab": {
          "base_uri": "https://localhost:8080/",
          "height": 423
        },
        "id": "RPuOqDKfjn66",
        "outputId": "636cdcc3-9019-42db-d85a-1b3b1fdab979"
      },
      "source": [
        "X = df.drop('price',1)\n",
        "X"
      ],
      "execution_count": 9,
      "outputs": [
        {
          "output_type": "execute_result",
          "data": {
            "text/html": [
              "<div>\n",
              "<style scoped>\n",
              "    .dataframe tbody tr th:only-of-type {\n",
              "        vertical-align: middle;\n",
              "    }\n",
              "\n",
              "    .dataframe tbody tr th {\n",
              "        vertical-align: top;\n",
              "    }\n",
              "\n",
              "    .dataframe thead th {\n",
              "        text-align: right;\n",
              "    }\n",
              "</style>\n",
              "<table border=\"1\" class=\"dataframe\">\n",
              "  <thead>\n",
              "    <tr style=\"text-align: right;\">\n",
              "      <th></th>\n",
              "      <th>neighbourhood_group</th>\n",
              "      <th>room_type</th>\n",
              "      <th>latitude</th>\n",
              "      <th>longitude</th>\n",
              "      <th>minimum_nights</th>\n",
              "      <th>number_of_reviews</th>\n",
              "      <th>reviews_per_month</th>\n",
              "      <th>calculated_host_listings_count</th>\n",
              "      <th>availability_365</th>\n",
              "    </tr>\n",
              "  </thead>\n",
              "  <tbody>\n",
              "    <tr>\n",
              "      <th>0</th>\n",
              "      <td>Brooklyn</td>\n",
              "      <td>Private room</td>\n",
              "      <td>40.64749</td>\n",
              "      <td>-73.97237</td>\n",
              "      <td>1</td>\n",
              "      <td>9</td>\n",
              "      <td>0.21</td>\n",
              "      <td>6</td>\n",
              "      <td>365</td>\n",
              "    </tr>\n",
              "    <tr>\n",
              "      <th>1</th>\n",
              "      <td>Manhattan</td>\n",
              "      <td>Entire home/apt</td>\n",
              "      <td>40.75362</td>\n",
              "      <td>-73.98377</td>\n",
              "      <td>1</td>\n",
              "      <td>45</td>\n",
              "      <td>0.38</td>\n",
              "      <td>2</td>\n",
              "      <td>355</td>\n",
              "    </tr>\n",
              "    <tr>\n",
              "      <th>2</th>\n",
              "      <td>Manhattan</td>\n",
              "      <td>Private room</td>\n",
              "      <td>40.80902</td>\n",
              "      <td>-73.94190</td>\n",
              "      <td>3</td>\n",
              "      <td>0</td>\n",
              "      <td>0.00</td>\n",
              "      <td>1</td>\n",
              "      <td>365</td>\n",
              "    </tr>\n",
              "    <tr>\n",
              "      <th>3</th>\n",
              "      <td>Brooklyn</td>\n",
              "      <td>Entire home/apt</td>\n",
              "      <td>40.68514</td>\n",
              "      <td>-73.95976</td>\n",
              "      <td>1</td>\n",
              "      <td>270</td>\n",
              "      <td>4.64</td>\n",
              "      <td>1</td>\n",
              "      <td>194</td>\n",
              "    </tr>\n",
              "    <tr>\n",
              "      <th>4</th>\n",
              "      <td>Manhattan</td>\n",
              "      <td>Entire home/apt</td>\n",
              "      <td>40.79851</td>\n",
              "      <td>-73.94399</td>\n",
              "      <td>10</td>\n",
              "      <td>9</td>\n",
              "      <td>0.10</td>\n",
              "      <td>1</td>\n",
              "      <td>0</td>\n",
              "    </tr>\n",
              "    <tr>\n",
              "      <th>...</th>\n",
              "      <td>...</td>\n",
              "      <td>...</td>\n",
              "      <td>...</td>\n",
              "      <td>...</td>\n",
              "      <td>...</td>\n",
              "      <td>...</td>\n",
              "      <td>...</td>\n",
              "      <td>...</td>\n",
              "      <td>...</td>\n",
              "    </tr>\n",
              "    <tr>\n",
              "      <th>48890</th>\n",
              "      <td>Brooklyn</td>\n",
              "      <td>Private room</td>\n",
              "      <td>40.67853</td>\n",
              "      <td>-73.94995</td>\n",
              "      <td>2</td>\n",
              "      <td>0</td>\n",
              "      <td>0.00</td>\n",
              "      <td>2</td>\n",
              "      <td>9</td>\n",
              "    </tr>\n",
              "    <tr>\n",
              "      <th>48891</th>\n",
              "      <td>Brooklyn</td>\n",
              "      <td>Private room</td>\n",
              "      <td>40.70184</td>\n",
              "      <td>-73.93317</td>\n",
              "      <td>4</td>\n",
              "      <td>0</td>\n",
              "      <td>0.00</td>\n",
              "      <td>2</td>\n",
              "      <td>36</td>\n",
              "    </tr>\n",
              "    <tr>\n",
              "      <th>48892</th>\n",
              "      <td>Manhattan</td>\n",
              "      <td>Entire home/apt</td>\n",
              "      <td>40.81475</td>\n",
              "      <td>-73.94867</td>\n",
              "      <td>10</td>\n",
              "      <td>0</td>\n",
              "      <td>0.00</td>\n",
              "      <td>1</td>\n",
              "      <td>27</td>\n",
              "    </tr>\n",
              "    <tr>\n",
              "      <th>48893</th>\n",
              "      <td>Manhattan</td>\n",
              "      <td>Shared room</td>\n",
              "      <td>40.75751</td>\n",
              "      <td>-73.99112</td>\n",
              "      <td>1</td>\n",
              "      <td>0</td>\n",
              "      <td>0.00</td>\n",
              "      <td>6</td>\n",
              "      <td>2</td>\n",
              "    </tr>\n",
              "    <tr>\n",
              "      <th>48894</th>\n",
              "      <td>Manhattan</td>\n",
              "      <td>Private room</td>\n",
              "      <td>40.76404</td>\n",
              "      <td>-73.98933</td>\n",
              "      <td>7</td>\n",
              "      <td>0</td>\n",
              "      <td>0.00</td>\n",
              "      <td>1</td>\n",
              "      <td>23</td>\n",
              "    </tr>\n",
              "  </tbody>\n",
              "</table>\n",
              "<p>48895 rows × 9 columns</p>\n",
              "</div>"
            ],
            "text/plain": [
              "      neighbourhood_group  ... availability_365\n",
              "0                Brooklyn  ...              365\n",
              "1               Manhattan  ...              355\n",
              "2               Manhattan  ...              365\n",
              "3                Brooklyn  ...              194\n",
              "4               Manhattan  ...                0\n",
              "...                   ...  ...              ...\n",
              "48890            Brooklyn  ...                9\n",
              "48891            Brooklyn  ...               36\n",
              "48892           Manhattan  ...               27\n",
              "48893           Manhattan  ...                2\n",
              "48894           Manhattan  ...               23\n",
              "\n",
              "[48895 rows x 9 columns]"
            ]
          },
          "metadata": {},
          "execution_count": 9
        }
      ]
    },
    {
      "cell_type": "code",
      "metadata": {
        "id": "s1ywCvJ6kRp3"
      },
      "source": [
        "from sklearn.model_selection import train_test_split"
      ],
      "execution_count": 10,
      "outputs": []
    },
    {
      "cell_type": "code",
      "metadata": {
        "id": "U80HwtcWkst6"
      },
      "source": [
        "X_train, X_test, y_train, y_test = train_test_split(X, y, test_size=0.2, random_state=42)"
      ],
      "execution_count": 11,
      "outputs": []
    },
    {
      "cell_type": "code",
      "metadata": {
        "id": "abq3br6HlqkD"
      },
      "source": [
        "X_train, X_val, y_train, y_val = train_test_split(X_train, y_train, test_size=0.25, random_state=42)"
      ],
      "execution_count": 12,
      "outputs": []
    },
    {
      "cell_type": "code",
      "metadata": {
        "colab": {
          "base_uri": "https://localhost:8080/"
        },
        "id": "9ZKNOwGymR42",
        "outputId": "319f50a3-84f0-4e17-f081-dfb8ac59b70c"
      },
      "source": [
        "X_train.shape"
      ],
      "execution_count": 13,
      "outputs": [
        {
          "output_type": "execute_result",
          "data": {
            "text/plain": [
              "(29337, 9)"
            ]
          },
          "metadata": {},
          "execution_count": 13
        }
      ]
    },
    {
      "cell_type": "code",
      "metadata": {
        "colab": {
          "base_uri": "https://localhost:8080/"
        },
        "id": "seQkmiDumYTQ",
        "outputId": "fa6bee11-80a7-4ec1-d268-1f7e87ad0c1f"
      },
      "source": [
        "X_test.shape"
      ],
      "execution_count": 14,
      "outputs": [
        {
          "output_type": "execute_result",
          "data": {
            "text/plain": [
              "(9779, 9)"
            ]
          },
          "metadata": {},
          "execution_count": 14
        }
      ]
    },
    {
      "cell_type": "code",
      "metadata": {
        "colab": {
          "base_uri": "https://localhost:8080/"
        },
        "id": "GhWiJEutmlyM",
        "outputId": "0b871c92-44a7-443b-cc7e-c31149467b6f"
      },
      "source": [
        "X_val.shape"
      ],
      "execution_count": 15,
      "outputs": [
        {
          "output_type": "execute_result",
          "data": {
            "text/plain": [
              "(9779, 9)"
            ]
          },
          "metadata": {},
          "execution_count": 15
        }
      ]
    },
    {
      "cell_type": "markdown",
      "metadata": {
        "id": "6SgoGYF-szlE"
      },
      "source": [
        "Question 2:What are the two features that have the biggest correlation in this dataset?"
      ]
    },
    {
      "cell_type": "code",
      "metadata": {
        "colab": {
          "base_uri": "https://localhost:8080/"
        },
        "id": "ckG5hsW7oDLK",
        "outputId": "7a639de2-715e-4e2b-eaec-14ef68a66ee0"
      },
      "source": [
        "X_train.info()"
      ],
      "execution_count": 16,
      "outputs": [
        {
          "output_type": "stream",
          "name": "stdout",
          "text": [
            "<class 'pandas.core.frame.DataFrame'>\n",
            "Int64Index: 29337 entries, 13575 to 20523\n",
            "Data columns (total 9 columns):\n",
            " #   Column                          Non-Null Count  Dtype  \n",
            "---  ------                          --------------  -----  \n",
            " 0   neighbourhood_group             29337 non-null  object \n",
            " 1   room_type                       29337 non-null  object \n",
            " 2   latitude                        29337 non-null  float64\n",
            " 3   longitude                       29337 non-null  float64\n",
            " 4   minimum_nights                  29337 non-null  int64  \n",
            " 5   number_of_reviews               29337 non-null  int64  \n",
            " 6   reviews_per_month               29337 non-null  float64\n",
            " 7   calculated_host_listings_count  29337 non-null  int64  \n",
            " 8   availability_365                29337 non-null  int64  \n",
            "dtypes: float64(3), int64(4), object(2)\n",
            "memory usage: 2.2+ MB\n"
          ]
        }
      ]
    },
    {
      "cell_type": "code",
      "metadata": {
        "colab": {
          "base_uri": "https://localhost:8080/"
        },
        "id": "TkXs7ICcmt9c",
        "outputId": "7f1bb6ce-75b9-473a-b69d-f46d93703ca2"
      },
      "source": [
        "numeric_columns = list(X_train.dtypes[(X_train.dtypes == 'float64')|(X_train.dtypes == 'int64')].index)\n",
        "numeric_columns"
      ],
      "execution_count": 17,
      "outputs": [
        {
          "output_type": "execute_result",
          "data": {
            "text/plain": [
              "['latitude',\n",
              " 'longitude',\n",
              " 'minimum_nights',\n",
              " 'number_of_reviews',\n",
              " 'reviews_per_month',\n",
              " 'calculated_host_listings_count',\n",
              " 'availability_365']"
            ]
          },
          "metadata": {},
          "execution_count": 17
        }
      ]
    },
    {
      "cell_type": "code",
      "metadata": {
        "colab": {
          "base_uri": "https://localhost:8080/",
          "height": 268
        },
        "id": "OB_VA6gtrgAe",
        "outputId": "99ac0ec7-27e1-4103-9938-bf031f849555"
      },
      "source": [
        "X_train[numeric_columns].corr()"
      ],
      "execution_count": 18,
      "outputs": [
        {
          "output_type": "execute_result",
          "data": {
            "text/html": [
              "<div>\n",
              "<style scoped>\n",
              "    .dataframe tbody tr th:only-of-type {\n",
              "        vertical-align: middle;\n",
              "    }\n",
              "\n",
              "    .dataframe tbody tr th {\n",
              "        vertical-align: top;\n",
              "    }\n",
              "\n",
              "    .dataframe thead th {\n",
              "        text-align: right;\n",
              "    }\n",
              "</style>\n",
              "<table border=\"1\" class=\"dataframe\">\n",
              "  <thead>\n",
              "    <tr style=\"text-align: right;\">\n",
              "      <th></th>\n",
              "      <th>latitude</th>\n",
              "      <th>longitude</th>\n",
              "      <th>minimum_nights</th>\n",
              "      <th>number_of_reviews</th>\n",
              "      <th>reviews_per_month</th>\n",
              "      <th>calculated_host_listings_count</th>\n",
              "      <th>availability_365</th>\n",
              "    </tr>\n",
              "  </thead>\n",
              "  <tbody>\n",
              "    <tr>\n",
              "      <th>latitude</th>\n",
              "      <td>1.000000</td>\n",
              "      <td>0.080301</td>\n",
              "      <td>0.027441</td>\n",
              "      <td>-0.006246</td>\n",
              "      <td>-0.007159</td>\n",
              "      <td>0.019375</td>\n",
              "      <td>-0.005891</td>\n",
              "    </tr>\n",
              "    <tr>\n",
              "      <th>longitude</th>\n",
              "      <td>0.080301</td>\n",
              "      <td>1.000000</td>\n",
              "      <td>-0.060660</td>\n",
              "      <td>0.055084</td>\n",
              "      <td>0.134642</td>\n",
              "      <td>-0.117041</td>\n",
              "      <td>0.083666</td>\n",
              "    </tr>\n",
              "    <tr>\n",
              "      <th>minimum_nights</th>\n",
              "      <td>0.027441</td>\n",
              "      <td>-0.060660</td>\n",
              "      <td>1.000000</td>\n",
              "      <td>-0.076020</td>\n",
              "      <td>-0.120703</td>\n",
              "      <td>0.118647</td>\n",
              "      <td>0.138901</td>\n",
              "    </tr>\n",
              "    <tr>\n",
              "      <th>number_of_reviews</th>\n",
              "      <td>-0.006246</td>\n",
              "      <td>0.055084</td>\n",
              "      <td>-0.076020</td>\n",
              "      <td>1.000000</td>\n",
              "      <td>0.590374</td>\n",
              "      <td>-0.073167</td>\n",
              "      <td>0.174477</td>\n",
              "    </tr>\n",
              "    <tr>\n",
              "      <th>reviews_per_month</th>\n",
              "      <td>-0.007159</td>\n",
              "      <td>0.134642</td>\n",
              "      <td>-0.120703</td>\n",
              "      <td>0.590374</td>\n",
              "      <td>1.000000</td>\n",
              "      <td>-0.048767</td>\n",
              "      <td>0.165376</td>\n",
              "    </tr>\n",
              "    <tr>\n",
              "      <th>calculated_host_listings_count</th>\n",
              "      <td>0.019375</td>\n",
              "      <td>-0.117041</td>\n",
              "      <td>0.118647</td>\n",
              "      <td>-0.073167</td>\n",
              "      <td>-0.048767</td>\n",
              "      <td>1.000000</td>\n",
              "      <td>0.225913</td>\n",
              "    </tr>\n",
              "    <tr>\n",
              "      <th>availability_365</th>\n",
              "      <td>-0.005891</td>\n",
              "      <td>0.083666</td>\n",
              "      <td>0.138901</td>\n",
              "      <td>0.174477</td>\n",
              "      <td>0.165376</td>\n",
              "      <td>0.225913</td>\n",
              "      <td>1.000000</td>\n",
              "    </tr>\n",
              "  </tbody>\n",
              "</table>\n",
              "</div>"
            ],
            "text/plain": [
              "                                latitude  ...  availability_365\n",
              "latitude                        1.000000  ...         -0.005891\n",
              "longitude                       0.080301  ...          0.083666\n",
              "minimum_nights                  0.027441  ...          0.138901\n",
              "number_of_reviews              -0.006246  ...          0.174477\n",
              "reviews_per_month              -0.007159  ...          0.165376\n",
              "calculated_host_listings_count  0.019375  ...          0.225913\n",
              "availability_365               -0.005891  ...          1.000000\n",
              "\n",
              "[7 rows x 7 columns]"
            ]
          },
          "metadata": {},
          "execution_count": 18
        }
      ]
    },
    {
      "cell_type": "markdown",
      "metadata": {
        "id": "MdJJYBk7tamS"
      },
      "source": [
        "ans: reviews_per_month & number_of_reviews"
      ]
    },
    {
      "cell_type": "code",
      "metadata": {
        "colab": {
          "base_uri": "https://localhost:8080/"
        },
        "id": "6egfryctsnf5",
        "outputId": "0a6c0ee2-16f9-45e6-aa04-28716a58bab3"
      },
      "source": [
        "y_train_cat = (y_train>=152).astype(int)\n",
        "y_train_cat"
      ],
      "execution_count": 19,
      "outputs": [
        {
          "output_type": "execute_result",
          "data": {
            "text/plain": [
              "13575    0\n",
              "48476    0\n",
              "44499    0\n",
              "17382    0\n",
              "14638    0\n",
              "        ..\n",
              "13198    0\n",
              "14583    0\n",
              "6168     1\n",
              "12248    0\n",
              "20523    0\n",
              "Name: price, Length: 29337, dtype: int64"
            ]
          },
          "metadata": {},
          "execution_count": 19
        }
      ]
    },
    {
      "cell_type": "code",
      "metadata": {
        "colab": {
          "base_uri": "https://localhost:8080/"
        },
        "id": "FX5JGJqAuorL",
        "outputId": "2151bb93-9ab6-456c-f426-7d750371b75f"
      },
      "source": [
        "y_val_cat = (y_val>=152).astype(int)\n",
        "y_val_cat"
      ],
      "execution_count": 20,
      "outputs": [
        {
          "output_type": "execute_result",
          "data": {
            "text/plain": [
              "27408    0\n",
              "7741     0\n",
              "4771     1\n",
              "1719     0\n",
              "19153    1\n",
              "        ..\n",
              "31286    1\n",
              "35694    0\n",
              "14003    0\n",
              "13892    0\n",
              "10029    0\n",
              "Name: price, Length: 9779, dtype: int64"
            ]
          },
          "metadata": {},
          "execution_count": 20
        }
      ]
    },
    {
      "cell_type": "code",
      "metadata": {
        "colab": {
          "base_uri": "https://localhost:8080/"
        },
        "id": "pfKqguwjupuQ",
        "outputId": "1bbb6d79-8669-47d2-c06b-eeaae2f60706"
      },
      "source": [
        "y_test_cat = (y_test>=152).astype(int)\n",
        "y_test_cat"
      ],
      "execution_count": 21,
      "outputs": [
        {
          "output_type": "execute_result",
          "data": {
            "text/plain": [
              "879      0\n",
              "44383    0\n",
              "15394    0\n",
              "43230    1\n",
              "16332    1\n",
              "        ..\n",
              "20477    1\n",
              "44969    0\n",
              "36577    0\n",
              "11477    1\n",
              "1023     0\n",
              "Name: price, Length: 9779, dtype: int64"
            ]
          },
          "metadata": {},
          "execution_count": 21
        }
      ]
    },
    {
      "cell_type": "markdown",
      "metadata": {
        "id": "RrNV4qMa2qhA"
      },
      "source": [
        "Question 3:Calculate the mutual information score with the (binarized) price for the two categorical variables that we have. Use the training set only.\n",
        "Which of these two variables has bigger score?\n",
        "Round it to 2 decimal digits using round(score, 2)"
      ]
    },
    {
      "cell_type": "code",
      "metadata": {
        "id": "TYJJfwzmyN9E"
      },
      "source": [
        "from sklearn.metrics import mutual_info_score"
      ],
      "execution_count": 22,
      "outputs": []
    },
    {
      "cell_type": "markdown",
      "metadata": {
        "id": "l_dF6f2R2TJR"
      },
      "source": [
        "neighbourhood_group"
      ]
    },
    {
      "cell_type": "code",
      "metadata": {
        "colab": {
          "base_uri": "https://localhost:8080/"
        },
        "id": "ovHTy4_U1lkB",
        "outputId": "8447b9b2-4b01-4382-c236-7b524ef94cb4"
      },
      "source": [
        "round(mutual_info_score(X_train.neighbourhood_group,y_train_cat),2)"
      ],
      "execution_count": 23,
      "outputs": [
        {
          "output_type": "execute_result",
          "data": {
            "text/plain": [
              "0.05"
            ]
          },
          "metadata": {},
          "execution_count": 23
        }
      ]
    },
    {
      "cell_type": "markdown",
      "metadata": {
        "id": "08D7TIIm2bCC"
      },
      "source": [
        "room_type"
      ]
    },
    {
      "cell_type": "code",
      "metadata": {
        "colab": {
          "base_uri": "https://localhost:8080/"
        },
        "id": "JWZqx1zy2OQX",
        "outputId": "33169ebb-b0c1-46b8-e386-14f12dfef1c6"
      },
      "source": [
        "round(mutual_info_score(X_train.room_type,y_train_cat),2)"
      ],
      "execution_count": 24,
      "outputs": [
        {
          "output_type": "execute_result",
          "data": {
            "text/plain": [
              "0.14"
            ]
          },
          "metadata": {},
          "execution_count": 24
        }
      ]
    },
    {
      "cell_type": "markdown",
      "metadata": {
        "id": "t5Q9yEf83MTr"
      },
      "source": [
        "Question 4:Calculate the accuracy on the validation dataset and rount it to 2 decimal digits."
      ]
    },
    {
      "cell_type": "code",
      "metadata": {
        "id": "dZNfiXg1_uKV"
      },
      "source": [
        "from sklearn.feature_extraction import DictVectorizer"
      ],
      "execution_count": 25,
      "outputs": []
    },
    {
      "cell_type": "code",
      "metadata": {
        "id": "7LUde718_2yd"
      },
      "source": [
        "train_dict = X_train.to_dict(orient='records')"
      ],
      "execution_count": 26,
      "outputs": []
    },
    {
      "cell_type": "code",
      "metadata": {
        "colab": {
          "base_uri": "https://localhost:8080/"
        },
        "id": "M-8ulm9CAKIN",
        "outputId": "64fd5859-98f1-4f53-9c9e-9afa6953086f"
      },
      "source": [
        "dv = DictVectorizer(sparse=False)\n",
        "dv.fit(train_dict)"
      ],
      "execution_count": 27,
      "outputs": [
        {
          "output_type": "execute_result",
          "data": {
            "text/plain": [
              "DictVectorizer(dtype=<class 'numpy.float64'>, separator='=', sort=True,\n",
              "               sparse=False)"
            ]
          },
          "metadata": {},
          "execution_count": 27
        }
      ]
    },
    {
      "cell_type": "code",
      "metadata": {
        "id": "mARnSvbUAbLd"
      },
      "source": [
        "X_train1 = dv.transform(train_dict)"
      ],
      "execution_count": 28,
      "outputs": []
    },
    {
      "cell_type": "code",
      "metadata": {
        "colab": {
          "base_uri": "https://localhost:8080/"
        },
        "id": "EfkwJYYXAe6F",
        "outputId": "22d2c01a-4cf5-42ab-c074-ecb9dc49ec6a"
      },
      "source": [
        "X_train1.shape"
      ],
      "execution_count": 29,
      "outputs": [
        {
          "output_type": "execute_result",
          "data": {
            "text/plain": [
              "(29337, 15)"
            ]
          },
          "metadata": {},
          "execution_count": 29
        }
      ]
    },
    {
      "cell_type": "code",
      "metadata": {
        "colab": {
          "base_uri": "https://localhost:8080/"
        },
        "id": "O5oTxREIA8gD",
        "outputId": "f80ceacc-1a1b-4816-c2ef-3dce4938ba52"
      },
      "source": [
        "val_dict = X_val.to_dict(orient='records')\n",
        "X_val1 = dv.transform(val_dict)\n",
        "X_val1.shape"
      ],
      "execution_count": 30,
      "outputs": [
        {
          "output_type": "execute_result",
          "data": {
            "text/plain": [
              "(9779, 15)"
            ]
          },
          "metadata": {},
          "execution_count": 30
        }
      ]
    },
    {
      "cell_type": "code",
      "metadata": {
        "colab": {
          "base_uri": "https://localhost:8080/"
        },
        "id": "UNYvDVOABPZU",
        "outputId": "bc145236-0183-4e17-aa18-8efa40124989"
      },
      "source": [
        "test_dict = X_test.to_dict(orient='records')\n",
        "X_test1 = dv.transform(test_dict)\n",
        "X_test1.shape"
      ],
      "execution_count": 31,
      "outputs": [
        {
          "output_type": "execute_result",
          "data": {
            "text/plain": [
              "(9779, 15)"
            ]
          },
          "metadata": {},
          "execution_count": 31
        }
      ]
    },
    {
      "cell_type": "code",
      "metadata": {
        "id": "nDdsrmcmCKyo"
      },
      "source": [
        "from sklearn.linear_model import LogisticRegression"
      ],
      "execution_count": 32,
      "outputs": []
    },
    {
      "cell_type": "code",
      "metadata": {
        "id": "RlwzjJW0DoS9"
      },
      "source": [
        "model = LogisticRegression(solver='lbfgs', C=1.0, random_state=42)"
      ],
      "execution_count": 33,
      "outputs": []
    },
    {
      "cell_type": "code",
      "metadata": {
        "colab": {
          "base_uri": "https://localhost:8080/"
        },
        "id": "t4KipCjCDtv0",
        "outputId": "ac9da659-5f21-4cea-95cd-787db13f6317"
      },
      "source": [
        "model.fit(X_train1,y_train_cat)"
      ],
      "execution_count": 34,
      "outputs": [
        {
          "output_type": "stream",
          "name": "stderr",
          "text": [
            "/usr/local/lib/python3.7/dist-packages/sklearn/linear_model/_logistic.py:940: ConvergenceWarning: lbfgs failed to converge (status=1):\n",
            "STOP: TOTAL NO. of ITERATIONS REACHED LIMIT.\n",
            "\n",
            "Increase the number of iterations (max_iter) or scale the data as shown in:\n",
            "    https://scikit-learn.org/stable/modules/preprocessing.html\n",
            "Please also refer to the documentation for alternative solver options:\n",
            "    https://scikit-learn.org/stable/modules/linear_model.html#logistic-regression\n",
            "  extra_warning_msg=_LOGISTIC_SOLVER_CONVERGENCE_MSG)\n"
          ]
        },
        {
          "output_type": "execute_result",
          "data": {
            "text/plain": [
              "LogisticRegression(C=1.0, class_weight=None, dual=False, fit_intercept=True,\n",
              "                   intercept_scaling=1, l1_ratio=None, max_iter=100,\n",
              "                   multi_class='auto', n_jobs=None, penalty='l2',\n",
              "                   random_state=42, solver='lbfgs', tol=0.0001, verbose=0,\n",
              "                   warm_start=False)"
            ]
          },
          "metadata": {},
          "execution_count": 34
        }
      ]
    },
    {
      "cell_type": "code",
      "metadata": {
        "colab": {
          "base_uri": "https://localhost:8080/"
        },
        "id": "4AeU6dIsEglY",
        "outputId": "404bb078-5d4b-4538-c8a1-85a633c94fa8"
      },
      "source": [
        "predicted = model.predict(X_val1)\n",
        "predicted"
      ],
      "execution_count": 35,
      "outputs": [
        {
          "output_type": "execute_result",
          "data": {
            "text/plain": [
              "array([0, 1, 0, ..., 0, 0, 1])"
            ]
          },
          "metadata": {},
          "execution_count": 35
        }
      ]
    },
    {
      "cell_type": "code",
      "metadata": {
        "id": "HgXHSv5bE2BR"
      },
      "source": [
        "from sklearn.metrics import accuracy_score"
      ],
      "execution_count": 36,
      "outputs": []
    },
    {
      "cell_type": "code",
      "metadata": {
        "colab": {
          "base_uri": "https://localhost:8080/"
        },
        "id": "UfRDuZOFHNZb",
        "outputId": "3b169924-edf2-49c0-b4f5-85b39fd5f7db"
      },
      "source": [
        "acc = round(accuracy_score(y_val_cat,predicted),2)\n",
        "acc"
      ],
      "execution_count": 37,
      "outputs": [
        {
          "output_type": "execute_result",
          "data": {
            "text/plain": [
              "0.79"
            ]
          },
          "metadata": {},
          "execution_count": 37
        }
      ]
    },
    {
      "cell_type": "markdown",
      "metadata": {
        "id": "NWWRcpG0IOxO"
      },
      "source": [
        "Question 5:Which of following feature has the smallest difference?\n",
        "neighbourhood_group,\n",
        "room_type,\n",
        "number_of_reviews,\n",
        "reviews_per_month."
      ]
    },
    {
      "cell_type": "code",
      "metadata": {
        "id": "jumvN91kKXGb"
      },
      "source": [
        "features = ['neighbourhood_group','room_type','number_of_reviews','reviews_per_month']"
      ],
      "execution_count": 38,
      "outputs": []
    },
    {
      "cell_type": "code",
      "metadata": {
        "colab": {
          "base_uri": "https://localhost:8080/"
        },
        "id": "3RsotFKxIXZv",
        "outputId": "615a1710-30a5-4193-a183-99a0a2449299"
      },
      "source": [
        "for i in features:\n",
        "  X_train2 = X_train.drop(i,1)\n",
        "  X_va2 = X_val.drop(i,1)\n",
        "  train_ict = X_train2.to_dict(orient='records')\n",
        "  val_ict = X_va2.to_dict(orient='records')\n",
        "  dv = DictVectorizer(sparse=False)\n",
        "  dv.fit(train_ict)\n",
        "  X_trai = dv.transform(train_ict)\n",
        "  X_va = dv.transform(val_ict)\n",
        "  model.fit(X_trai,y_train_cat)\n",
        "  predic = model.predict(X_va)\n",
        "  acc2 = accuracy_score(y_val_cat,predic)\n",
        "  diff = acc - acc2 \n",
        "  print(i,':',acc2,'difference',diff)"
      ],
      "execution_count": 39,
      "outputs": [
        {
          "output_type": "stream",
          "name": "stdout",
          "text": [
            "neighbourhood_group : 0.7509970344616014 difference 0.03900296553839866\n"
          ]
        },
        {
          "output_type": "stream",
          "name": "stderr",
          "text": [
            "/usr/local/lib/python3.7/dist-packages/sklearn/linear_model/_logistic.py:940: ConvergenceWarning: lbfgs failed to converge (status=1):\n",
            "STOP: TOTAL NO. of ITERATIONS REACHED LIMIT.\n",
            "\n",
            "Increase the number of iterations (max_iter) or scale the data as shown in:\n",
            "    https://scikit-learn.org/stable/modules/preprocessing.html\n",
            "Please also refer to the documentation for alternative solver options:\n",
            "    https://scikit-learn.org/stable/modules/linear_model.html#logistic-regression\n",
            "  extra_warning_msg=_LOGISTIC_SOLVER_CONVERGENCE_MSG)\n"
          ]
        },
        {
          "output_type": "stream",
          "name": "stdout",
          "text": [
            "room_type : 0.7163309131813069 difference 0.07366908681869311\n"
          ]
        },
        {
          "output_type": "stream",
          "name": "stderr",
          "text": [
            "/usr/local/lib/python3.7/dist-packages/sklearn/linear_model/_logistic.py:940: ConvergenceWarning: lbfgs failed to converge (status=1):\n",
            "STOP: TOTAL NO. of ITERATIONS REACHED LIMIT.\n",
            "\n",
            "Increase the number of iterations (max_iter) or scale the data as shown in:\n",
            "    https://scikit-learn.org/stable/modules/preprocessing.html\n",
            "Please also refer to the documentation for alternative solver options:\n",
            "    https://scikit-learn.org/stable/modules/linear_model.html#logistic-regression\n",
            "  extra_warning_msg=_LOGISTIC_SOLVER_CONVERGENCE_MSG)\n"
          ]
        },
        {
          "output_type": "stream",
          "name": "stdout",
          "text": [
            "number_of_reviews : 0.7869925350240311 difference 0.003007464975968932\n",
            "reviews_per_month : 0.7851518560179978 difference 0.004848143982002284\n"
          ]
        },
        {
          "output_type": "stream",
          "name": "stderr",
          "text": [
            "/usr/local/lib/python3.7/dist-packages/sklearn/linear_model/_logistic.py:940: ConvergenceWarning: lbfgs failed to converge (status=1):\n",
            "STOP: TOTAL NO. of ITERATIONS REACHED LIMIT.\n",
            "\n",
            "Increase the number of iterations (max_iter) or scale the data as shown in:\n",
            "    https://scikit-learn.org/stable/modules/preprocessing.html\n",
            "Please also refer to the documentation for alternative solver options:\n",
            "    https://scikit-learn.org/stable/modules/linear_model.html#logistic-regression\n",
            "  extra_warning_msg=_LOGISTIC_SOLVER_CONVERGENCE_MSG)\n"
          ]
        }
      ]
    },
    {
      "cell_type": "markdown",
      "metadata": {
        "id": "6kZSQmeNRAp_"
      },
      "source": [
        "answer:number_of_reviews"
      ]
    },
    {
      "cell_type": "markdown",
      "metadata": {
        "id": "HznqgAM1TAOi"
      },
      "source": [
        "Question 6"
      ]
    },
    {
      "cell_type": "code",
      "metadata": {
        "id": "7f0DyObGRT_6"
      },
      "source": [
        "Alpha = [0, 0.01, 0.1, 1, 10]"
      ],
      "execution_count": 40,
      "outputs": []
    },
    {
      "cell_type": "code",
      "metadata": {
        "colab": {
          "base_uri": "https://localhost:8080/"
        },
        "id": "7nROSDctTRj1",
        "outputId": "c67ddcaf-f0e7-4aab-aa1a-1d64ac7c3da0"
      },
      "source": [
        "y"
      ],
      "execution_count": 41,
      "outputs": [
        {
          "output_type": "execute_result",
          "data": {
            "text/plain": [
              "0        149\n",
              "1        225\n",
              "2        150\n",
              "3         89\n",
              "4         80\n",
              "        ... \n",
              "48890     70\n",
              "48891     40\n",
              "48892    115\n",
              "48893     55\n",
              "48894     90\n",
              "Name: price, Length: 48895, dtype: int64"
            ]
          },
          "metadata": {},
          "execution_count": 41
        }
      ]
    },
    {
      "cell_type": "code",
      "metadata": {
        "id": "kD4Ht4IwTlb4"
      },
      "source": [
        "import numpy as np"
      ],
      "execution_count": 42,
      "outputs": []
    },
    {
      "cell_type": "code",
      "metadata": {
        "id": "kwC9kUfkULry"
      },
      "source": [
        "import seaborn as sns"
      ],
      "execution_count": 43,
      "outputs": []
    },
    {
      "cell_type": "code",
      "metadata": {
        "colab": {
          "base_uri": "https://localhost:8080/",
          "height": 297
        },
        "id": "gsggOpn2WReg",
        "outputId": "cd70618a-f28c-4a9e-9c08-84a30fc583e1"
      },
      "source": [
        "sns.histplot(data=y,x = y)"
      ],
      "execution_count": 44,
      "outputs": [
        {
          "output_type": "execute_result",
          "data": {
            "text/plain": [
              "<matplotlib.axes._subplots.AxesSubplot at 0x7f24e0585a10>"
            ]
          },
          "metadata": {},
          "execution_count": 44
        },
        {
          "output_type": "display_data",
          "data": {
            "image/png": "[encoded data removed]",
            "text/plain": [
              "<Figure size 432x288 with 1 Axes>"
            ]
          },
          "metadata": {
            "needs_background": "light"
          }
        }
      ]
    },
    {
      "cell_type": "code",
      "metadata": {
        "colab": {
          "base_uri": "https://localhost:8080/"
        },
        "id": "G_nyBUeWTxhC",
        "outputId": "43b96bf8-92a9-4b2d-dd46-a3d0a16ac30d"
      },
      "source": [
        "ylog1 = np.log1p(y_train)\n",
        "ylog1"
      ],
      "execution_count": 45,
      "outputs": [
        {
          "output_type": "execute_result",
          "data": {
            "text/plain": [
              "13575    4.605170\n",
              "48476    4.060443\n",
              "44499    4.262680\n",
              "17382    4.875197\n",
              "14638    4.709530\n",
              "           ...   \n",
              "13198    3.931826\n",
              "14583    4.836282\n",
              "6168     5.703782\n",
              "12248    4.189655\n",
              "20523    4.532599\n",
              "Name: price, Length: 29337, dtype: float64"
            ]
          },
          "metadata": {},
          "execution_count": 45
        }
      ]
    },
    {
      "cell_type": "code",
      "metadata": {
        "colab": {
          "base_uri": "https://localhost:8080/"
        },
        "id": "zXb8wAVuXiBi",
        "outputId": "a2f61bf4-dc33-4137-f30a-ab7f2b3b6809"
      },
      "source": [
        "\n",
        "ylog1_val = np.log1p(y_val)\n",
        "ylog1_val \n"
      ],
      "execution_count": 46,
      "outputs": [
        {
          "output_type": "execute_result",
          "data": {
            "text/plain": [
              "27408    4.189655\n",
              "7741     4.499810\n",
              "4771     5.303305\n",
              "1719     4.795791\n",
              "19153    6.618739\n",
              "           ...   \n",
              "31286    5.707110\n",
              "35694    3.367296\n",
              "14003    3.688879\n",
              "13892    4.262680\n",
              "10029    4.356709\n",
              "Name: price, Length: 9779, dtype: float64"
            ]
          },
          "metadata": {},
          "execution_count": 46
        }
      ]
    },
    {
      "cell_type": "code",
      "metadata": {
        "colab": {
          "base_uri": "https://localhost:8080/",
          "height": 297
        },
        "id": "Tn8aZFZxUTNC",
        "outputId": "1bbf7cad-b20b-4335-c3ca-f36a4883e3f4"
      },
      "source": [
        "sns.histplot(data=ylog1,x =ylog1  )"
      ],
      "execution_count": 47,
      "outputs": [
        {
          "output_type": "execute_result",
          "data": {
            "text/plain": [
              "<matplotlib.axes._subplots.AxesSubplot at 0x7f24df40dd50>"
            ]
          },
          "metadata": {},
          "execution_count": 47
        },
        {
          "output_type": "display_data",
          "data": {
            "image/png": "[encoded data removed]",
            "text/plain": [
              "<Figure size 432x288 with 1 Axes>"
            ]
          },
          "metadata": {
            "needs_background": "light"
          }
        }
      ]
    },
    {
      "cell_type": "code",
      "metadata": {
        "colab": {
          "base_uri": "https://localhost:8080/",
          "height": 297
        },
        "id": "hdXSGcBZWfHx",
        "outputId": "6d27229f-afc7-4070-d12e-ba3226526bac"
      },
      "source": [
        "sns.histplot(data=ylog1_val,x =ylog1_val  )"
      ],
      "execution_count": 48,
      "outputs": [
        {
          "output_type": "execute_result",
          "data": {
            "text/plain": [
              "<matplotlib.axes._subplots.AxesSubplot at 0x7f24df30b890>"
            ]
          },
          "metadata": {},
          "execution_count": 48
        },
        {
          "output_type": "display_data",
          "data": {
            "image/png": "[encoded data removed]",
            "text/plain": [
              "<Figure size 432x288 with 1 Axes>"
            ]
          },
          "metadata": {
            "needs_background": "light"
          }
        }
      ]
    },
    {
      "cell_type": "code",
      "metadata": {
        "id": "TqU9ZV1bYqfm"
      },
      "source": [
        "from sklearn.linear_model import Ridge\n",
        "from sklearn.metrics import mean_squared_error\n",
        "from math import sqrt"
      ],
      "execution_count": 49,
      "outputs": []
    },
    {
      "cell_type": "code",
      "metadata": {
        "colab": {
          "base_uri": "https://localhost:8080/"
        },
        "id": "_S9yRHokebjc",
        "outputId": "8bf4089a-80a5-4e50-9751-008153cf57c8"
      },
      "source": [
        "Ridge"
      ],
      "execution_count": 50,
      "outputs": [
        {
          "output_type": "execute_result",
          "data": {
            "text/plain": [
              "sklearn.linear_model._ridge.Ridge"
            ]
          },
          "metadata": {},
          "execution_count": 50
        }
      ]
    },
    {
      "cell_type": "code",
      "metadata": {
        "id": "rI_MovaZgNV4"
      },
      "source": [
        "np.e"
      ],
      "execution_count": null,
      "outputs": []
    },
    {
      "cell_type": "code",
      "metadata": {
        "colab": {
          "base_uri": "https://localhost:8080/"
        },
        "id": "nw_vwIKaZY3G",
        "outputId": "237cca8e-52fb-4931-8a3d-dff652e2c80c"
      },
      "source": [
        "for i in Alpha:\n",
        "  model = Ridge(alpha=i)\n",
        "  model.fit(X_train1,ylog1)\n",
        "  ripred = model.predict(X_val1)\n",
        "  rmse = sqrt(mean_squared_error(ylog1_val,ripred))\n",
        "  print(str(i),':',round(np.expm1(rmse),3))"
      ],
      "execution_count": 54,
      "outputs": [
        {
          "output_type": "stream",
          "name": "stdout",
          "text": [
            "0 : 0.644\n",
            "0.01 : 0.644\n",
            "0.1 : 0.644\n",
            "1 : 0.644\n",
            "10 : 0.645\n"
          ]
        }
      ]
    }
  ]
}