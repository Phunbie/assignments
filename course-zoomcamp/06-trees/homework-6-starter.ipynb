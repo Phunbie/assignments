{
  "nbformat": 4,
  "nbformat_minor": 0,
  "metadata": {
    "kernelspec": {
      "display_name": "Python 3",
      "language": "python",
      "name": "python3"
    },
    "language_info": {
      "codemirror_mode": {
        "name": "ipython",
        "version": 3
      },
      "file_extension": ".py",
      "mimetype": "text/x-python",
      "name": "python",
      "nbconvert_exporter": "python",
      "pygments_lexer": "ipython3",
      "version": "3.7.3"
    },
    "colab": {
      "name": "homework-6-starter.ipynb",
      "provenance": []
    }
  },
  "cells": [
    {
      "cell_type": "markdown",
      "metadata": {
        "id": "Zm5hdhWwvp3y"
      },
      "source": [
        "## 6.10 Homework\n",
        "\n",
        "The goal of this homework is to create a tree-based regression model for prediction apartment prices (column `'price'`).\n",
        "\n",
        "In this homework we'll again use the New York City Airbnb Open Data dataset - the same one we used in homework 2 and 3.\n",
        "\n",
        "You can take it from [Kaggle](https://www.kaggle.com/dgomonov/new-york-city-airbnb-open-data?select=AB_NYC_2019.csv)\n",
        "or download from [here](https://raw.githubusercontent.com/alexeygrigorev/datasets/master/AB_NYC_2019.csv)\n",
        "if you don't want to sign up to Kaggle.\n",
        "\n",
        "Let's load the data:"
      ]
    },
    {
      "cell_type": "code",
      "metadata": {
        "id": "eqP85_kZvp37"
      },
      "source": [
        "import pandas as pd\n",
        "import numpy as np\n",
        "\n",
        "import matplotlib.pyplot as plt\n",
        "import seaborn as sns\n",
        "\n",
        "%matplotlib inline"
      ],
      "execution_count": 32,
      "outputs": []
    },
    {
      "cell_type": "code",
      "metadata": {
        "id": "la4yVvgUwOa_"
      },
      "source": [
        "url= 'https://raw.githubusercontent.com/alexeygrigorev/datasets/master/AB_NYC_2019.csv'"
      ],
      "execution_count": 33,
      "outputs": []
    },
    {
      "cell_type": "code",
      "metadata": {
        "id": "AmOcN_mgvp3_"
      },
      "source": [
        "columns = [\n",
        "    'neighbourhood_group', 'room_type', 'latitude', 'longitude',\n",
        "    'minimum_nights', 'number_of_reviews','reviews_per_month',\n",
        "    'calculated_host_listings_count', 'availability_365',\n",
        "    'price'\n",
        "]\n",
        "\n",
        "df = pd.read_csv(url, usecols=columns)\n",
        "df.reviews_per_month = df.reviews_per_month.fillna(0)"
      ],
      "execution_count": 34,
      "outputs": []
    },
    {
      "cell_type": "markdown",
      "metadata": {
        "id": "YJS8gsUgvp4B"
      },
      "source": [
        "* Apply the log tranform to `price`\n",
        "* Do train/validation/test split with 60%/20%/20% distribution. \n",
        "* Use the `train_test_split` function and set the `random_state` parameter to 1"
      ]
    },
    {
      "cell_type": "code",
      "metadata": {
        "id": "7hPzcN-mwlaZ"
      },
      "source": [
        "df.price = np.log1p(df.price)"
      ],
      "execution_count": 35,
      "outputs": []
    },
    {
      "cell_type": "code",
      "metadata": {
        "id": "lNqR4VScwlln"
      },
      "source": [
        "y = df.price"
      ],
      "execution_count": 36,
      "outputs": []
    },
    {
      "cell_type": "code",
      "metadata": {
        "id": "O8aKgTGIvp4C",
        "colab": {
          "base_uri": "https://localhost:8080/"
        },
        "outputId": "9d8251ad-e14e-42bb-e747-1f9a17c30188"
      },
      "source": [
        "X = df.drop('price',1)\n",
        "X.columns"
      ],
      "execution_count": 37,
      "outputs": [
        {
          "output_type": "execute_result",
          "data": {
            "text/plain": [
              "Index(['neighbourhood_group', 'latitude', 'longitude', 'room_type',\n",
              "       'minimum_nights', 'number_of_reviews', 'reviews_per_month',\n",
              "       'calculated_host_listings_count', 'availability_365'],\n",
              "      dtype='object')"
            ]
          },
          "metadata": {},
          "execution_count": 37
        }
      ]
    },
    {
      "cell_type": "code",
      "metadata": {
        "id": "-sZbRlZQzR6C"
      },
      "source": [
        "from sklearn.model_selection import train_test_split"
      ],
      "execution_count": 38,
      "outputs": []
    },
    {
      "cell_type": "code",
      "metadata": {
        "id": "UffPb6OZzbi4"
      },
      "source": [
        "X_train, X_test, y_train, y_test = train_test_split(X, y, test_size=0.2, random_state=1)"
      ],
      "execution_count": 39,
      "outputs": []
    },
    {
      "cell_type": "code",
      "metadata": {
        "id": "SjyAtnKEzj7l"
      },
      "source": [
        "X_train, X_val, y_train, y_val = train_test_split(X_train, y_train, test_size=0.25, random_state=1)"
      ],
      "execution_count": 40,
      "outputs": []
    },
    {
      "cell_type": "markdown",
      "metadata": {
        "id": "zmI3zHlovp4D"
      },
      "source": [
        "Now, use `DictVectorizer` to turn train and validation into matrices:"
      ]
    },
    {
      "cell_type": "code",
      "metadata": {
        "id": "E0-_zCMavp4H"
      },
      "source": [
        "from sklearn.feature_extraction import DictVectorizer"
      ],
      "execution_count": 41,
      "outputs": []
    },
    {
      "cell_type": "code",
      "metadata": {
        "id": "HFly-W_s0BBU"
      },
      "source": [
        "train_dict = X_train.to_dict(orient='records')"
      ],
      "execution_count": 42,
      "outputs": []
    },
    {
      "cell_type": "code",
      "metadata": {
        "id": "wJMwhAiW0BNz",
        "colab": {
          "base_uri": "https://localhost:8080/"
        },
        "outputId": "a825513e-5799-4d95-dc88-79a93efcfaa9"
      },
      "source": [
        "dv = DictVectorizer(sparse=False)\n",
        "dv.fit(train_dict)"
      ],
      "execution_count": 43,
      "outputs": [
        {
          "output_type": "execute_result",
          "data": {
            "text/plain": [
              "DictVectorizer(dtype=<class 'numpy.float64'>, separator='=', sort=True,\n",
              "               sparse=False)"
            ]
          },
          "metadata": {},
          "execution_count": 43
        }
      ]
    },
    {
      "cell_type": "code",
      "metadata": {
        "id": "K8f8JKVY53h4"
      },
      "source": [
        "X_train1 = dv.transform(train_dict)"
      ],
      "execution_count": 44,
      "outputs": []
    },
    {
      "cell_type": "code",
      "metadata": {
        "id": "rCkCWtX953s6",
        "colab": {
          "base_uri": "https://localhost:8080/"
        },
        "outputId": "9594a679-3180-47db-9c83-ab90387ce37f"
      },
      "source": [
        "X_train1.shape"
      ],
      "execution_count": 45,
      "outputs": [
        {
          "output_type": "execute_result",
          "data": {
            "text/plain": [
              "(29337, 15)"
            ]
          },
          "metadata": {},
          "execution_count": 45
        }
      ]
    },
    {
      "cell_type": "code",
      "metadata": {
        "id": "Z1nZD0dQ5322",
        "colab": {
          "base_uri": "https://localhost:8080/"
        },
        "outputId": "c63c6c35-98cc-4cc8-8cf1-f2a6f17c97b0"
      },
      "source": [
        "val_dict = X_val.to_dict(orient='records')\n",
        "X_val1 = dv.transform(val_dict)\n",
        "X_val1.shape"
      ],
      "execution_count": 46,
      "outputs": [
        {
          "output_type": "execute_result",
          "data": {
            "text/plain": [
              "(9779, 15)"
            ]
          },
          "metadata": {},
          "execution_count": 46
        }
      ]
    },
    {
      "cell_type": "markdown",
      "metadata": {
        "id": "n6KAbyVRvp4J"
      },
      "source": [
        "## Question 1\n",
        "\n",
        "Let's train a decision tree regressor to predict the price variable. \n",
        "\n",
        "* Train a model with `max_depth=1`"
      ]
    },
    {
      "cell_type": "code",
      "metadata": {
        "id": "BFFWkNZEvp4M"
      },
      "source": [
        "from sklearn.tree import DecisionTreeRegressor"
      ],
      "execution_count": 47,
      "outputs": []
    },
    {
      "cell_type": "code",
      "metadata": {
        "id": "pl153zTF6kOZ"
      },
      "source": [
        "dt = DecisionTreeRegressor(max_depth=1)"
      ],
      "execution_count": 48,
      "outputs": []
    },
    {
      "cell_type": "code",
      "metadata": {
        "id": "IHFudkP76ka5",
        "colab": {
          "base_uri": "https://localhost:8080/"
        },
        "outputId": "f88bf632-ee47-4179-c940-e4a2965875ec"
      },
      "source": [
        "dt.fit(X_train1, y_train)"
      ],
      "execution_count": 49,
      "outputs": [
        {
          "output_type": "execute_result",
          "data": {
            "text/plain": [
              "DecisionTreeRegressor(ccp_alpha=0.0, criterion='mse', max_depth=1,\n",
              "                      max_features=None, max_leaf_nodes=None,\n",
              "                      min_impurity_decrease=0.0, min_impurity_split=None,\n",
              "                      min_samples_leaf=1, min_samples_split=2,\n",
              "                      min_weight_fraction_leaf=0.0, presort='deprecated',\n",
              "                      random_state=None, splitter='best')"
            ]
          },
          "metadata": {},
          "execution_count": 49
        }
      ]
    },
    {
      "cell_type": "code",
      "metadata": {
        "id": "T2H-En9l7oNR"
      },
      "source": [
        "from sklearn.tree import export_text"
      ],
      "execution_count": 50,
      "outputs": []
    },
    {
      "cell_type": "code",
      "metadata": {
        "id": "lLMQiPHS8v-K",
        "colab": {
          "base_uri": "https://localhost:8080/"
        },
        "outputId": "1060b710-9c8a-49b4-f619-79215dcb46bd"
      },
      "source": [
        "print(export_text(dt,feature_names=dv.get_feature_names()))"
      ],
      "execution_count": 51,
      "outputs": [
        {
          "output_type": "stream",
          "name": "stdout",
          "text": [
            "|--- room_type=Entire home/apt <= 0.50\n",
            "|   |--- value: [4.29]\n",
            "|--- room_type=Entire home/apt >  0.50\n",
            "|   |--- value: [5.15]\n",
            "\n"
          ]
        }
      ]
    },
    {
      "cell_type": "markdown",
      "metadata": {
        "id": "smBbAH_8vp4N"
      },
      "source": [
        "Which feature is used for splitting the data?\n",
        "\n",
        "* `room_type`\n",
        "* `neighbourhood_group`\n",
        "* `number_of_reviews`\n",
        "* `reviews_per_month`"
      ]
    },
    {
      "cell_type": "markdown",
      "metadata": {
        "id": "XKsTBEEWvp4O"
      },
      "source": [
        "## Question 2\n",
        "\n",
        "Train a random forest model with these parameters:\n",
        "\n",
        "* `n_estimators=10`\n",
        "* `random_state=1`\n",
        "* `n_jobs=-1`  (optional - to make training faster)"
      ]
    },
    {
      "cell_type": "code",
      "metadata": {
        "id": "5c9jI1xhvp4P"
      },
      "source": [
        "from sklearn.ensemble import RandomForestRegressor"
      ],
      "execution_count": null,
      "outputs": []
    },
    {
      "cell_type": "code",
      "metadata": {
        "id": "ZRtuiMxEALWT"
      },
      "source": [
        "rf = RandomForestRegressor(n_estimators=10,random_state=1,n_jobs=-1)"
      ],
      "execution_count": 52,
      "outputs": []
    },
    {
      "cell_type": "code",
      "metadata": {
        "id": "6XU43wHuhS13",
        "outputId": "eb53a271-4421-42f3-f164-d12e76173ae7",
        "colab": {
          "base_uri": "https://localhost:8080/"
        }
      },
      "source": [
        "rf.fit(X_train1, y_train)"
      ],
      "execution_count": 53,
      "outputs": [
        {
          "output_type": "execute_result",
          "data": {
            "text/plain": [
              "RandomForestRegressor(bootstrap=True, ccp_alpha=0.0, criterion='mse',\n",
              "                      max_depth=None, max_features='auto', max_leaf_nodes=None,\n",
              "                      max_samples=None, min_impurity_decrease=0.0,\n",
              "                      min_impurity_split=None, min_samples_leaf=1,\n",
              "                      min_samples_split=2, min_weight_fraction_leaf=0.0,\n",
              "                      n_estimators=10, n_jobs=-1, oob_score=False,\n",
              "                      random_state=1, verbose=0, warm_start=False)"
            ]
          },
          "metadata": {},
          "execution_count": 53
        }
      ]
    },
    {
      "cell_type": "code",
      "metadata": {
        "id": "1Q3-DPbfhdCx"
      },
      "source": [
        "pred = rf.predict(X_val1)"
      ],
      "execution_count": 54,
      "outputs": []
    },
    {
      "cell_type": "code",
      "metadata": {
        "id": "AiPX7mg_hvu_"
      },
      "source": [
        "from sklearn.metrics import mean_squared_error"
      ],
      "execution_count": 55,
      "outputs": []
    },
    {
      "cell_type": "code",
      "metadata": {
        "id": "-4nY6Pv9iifj",
        "outputId": "114c677c-1b98-4a65-8c2c-aa3cc076fbc7",
        "colab": {
          "base_uri": "https://localhost:8080/"
        }
      },
      "source": [
        "rmse = sqrt(mean_squared_error(y_val,pred))\n",
        "rmse"
      ],
      "execution_count": 56,
      "outputs": [
        {
          "output_type": "execute_result",
          "data": {
            "text/plain": [
              "0.460888788095762"
            ]
          },
          "metadata": {},
          "execution_count": 56
        }
      ]
    },
    {
      "cell_type": "markdown",
      "metadata": {
        "id": "gfR1nX_Pvp4Q"
      },
      "source": [
        "What's the RMSE of this model on validation?\n",
        "\n",
        "* 0.059\n",
        "* 0.259\n",
        "* 0.459\n",
        "* 0.659"
      ]
    },
    {
      "cell_type": "markdown",
      "metadata": {
        "id": "2CDtwE6zvp4R"
      },
      "source": [
        "## Question 3\n",
        "\n",
        "Now let's experiment with the `n_estimators` parameter\n",
        "\n",
        "* Try different values of this parameter from 10 to 200 with step 10\n",
        "* Set `random_state` to `1`\n",
        "* Evaluate the model on the validation dataset"
      ]
    },
    {
      "cell_type": "code",
      "metadata": {
        "id": "fvPTPWX5i3OY"
      },
      "source": [
        "import numpy as np"
      ],
      "execution_count": 57,
      "outputs": []
    },
    {
      "cell_type": "code",
      "metadata": {
        "id": "A3Bb3VFTvp4R"
      },
      "source": [
        "n_est = np.linspace(10, 200, 20)\n",
        "n_est = [int(i) for i in n_est]\n"
      ],
      "execution_count": 61,
      "outputs": []
    },
    {
      "cell_type": "code",
      "metadata": {
        "id": "8XnsA-zgj17S",
        "outputId": "31bea73b-ed98-4cf6-90b8-e88d255f53ac",
        "colab": {
          "base_uri": "https://localhost:8080/"
        }
      },
      "source": [
        "resrsme = []\n",
        "for i in n_est:\n",
        "  rf = RandomForestRegressor(n_estimators=i,random_state=1,n_jobs=-1)\n",
        "  rf.fit(X_train1, y_train)\n",
        "  pred = rf.predict(X_val1)\n",
        "  rmse = sqrt(mean_squared_error(y_val,pred))\n",
        "  resrsme.append(rmse)\n",
        "  print(i,' ',rmse)\n",
        "\n",
        "\n"
      ],
      "execution_count": 67,
      "outputs": [
        {
          "output_type": "stream",
          "name": "stdout",
          "text": [
            "10   0.460888788095762\n",
            "20   0.44744055425901735\n",
            "30   0.44440015830200136\n",
            "40   0.44281711871165336\n",
            "50   0.44176815762157207\n",
            "60   0.44125165338475053\n",
            "70   0.44064455072014125\n",
            "80   0.440740830263047\n",
            "90   0.4402749020311618\n",
            "100   0.4397631903425602\n",
            "110   0.4393128261208466\n",
            "120   0.43912990819267467\n",
            "130   0.4392796575512702\n",
            "140   0.4391514983746916\n",
            "150   0.43902892484355854\n",
            "160   0.4388423640549406\n",
            "170   0.43874605090230334\n",
            "180   0.4388528948224223\n",
            "190   0.4387907435385231\n",
            "200   0.4387871286025359\n"
          ]
        }
      ]
    },
    {
      "cell_type": "code",
      "metadata": {
        "id": "-8RxtlBtmBGf"
      },
      "source": [
        "import matplotlib.pyplot as plt"
      ],
      "execution_count": 64,
      "outputs": []
    },
    {
      "cell_type": "code",
      "metadata": {
        "id": "sm5SkDmtlqt_",
        "outputId": "438cb88b-adc1-4f91-9b02-3eeac81af963",
        "colab": {
          "base_uri": "https://localhost:8080/",
          "height": 483
        }
      },
      "source": [
        "plt.figure(figsize=(10, 8))\n",
        "plt.plot(n_est,resrsme, linestyle='solid', label='rmse')\n",
        "plt.xticks(np.linspace(10,200 , 20))\n",
        "plt.show()\n"
      ],
      "execution_count": 70,
      "outputs": [
        {
          "output_type": "display_data",
          "data": {
            "image/png": "[encoded data removed]",
            "text/plain": [
              "<Figure size 720x576 with 1 Axes>"
            ]
          },
          "metadata": {
            "needs_background": "light"
          }
        }
      ]
    },
    {
      "cell_type": "markdown",
      "metadata": {
        "id": "I8iOQtovvp4S"
      },
      "source": [
        "After which value of `n_estimators` does RMSE stop improving?\n",
        "\n",
        "- 10\n",
        "- 50\n",
        "- 70\n",
        "- 120"
      ]
    },
    {
      "cell_type": "markdown",
      "metadata": {
        "id": "XtEqncV5vp4S"
      },
      "source": [
        "## Question 4\n",
        "\n",
        "Let's select the best `max_depth`:\n",
        "\n",
        "* Try different values of `max_depth`: `[10, 15, 20, 25]`\n",
        "* For each of these values, try different values of `n_estimators` from 10 till 200 (with step 10)\n",
        "* Fix the random seed: `random_state=1`"
      ]
    },
    {
      "cell_type": "code",
      "metadata": {
        "id": "ZrDqSdl3vp4T",
        "outputId": "e6f575b0-d473-4f98-a359-edf52fd72e3b",
        "colab": {
          "base_uri": "https://localhost:8080/"
        }
      },
      "source": [
        "maxd = [10, 15, 20, 25]\n",
        "for i in maxd:\n",
        "  for j in n_est:\n",
        "    rf = RandomForestRegressor(n_estimators=j,max_depth=i,random_state=1,n_jobs=-1)\n",
        "    rf.fit(X_train1, y_train)\n",
        "    pred = rf.predict(X_val1)\n",
        "    rmse = sqrt(mean_squared_error(y_val,pred))\n",
        "    resrsme.append(rmse)\n",
        "    print('max depth-',i,' ','n_estimators-',j,' ','rmse',rmse)"
      ],
      "execution_count": 71,
      "outputs": [
        {
          "output_type": "stream",
          "name": "stdout",
          "text": [
            "max depth- 10   n_estimators- 10   rmse 0.44520997451725497\n",
            "max depth- 10   n_estimators- 20   rmse 0.44188768969228903\n",
            "max depth- 10   n_estimators- 30   rmse 0.4412072430403244\n",
            "max depth- 10   n_estimators- 40   rmse 0.441302539566751\n",
            "max depth- 10   n_estimators- 50   rmse 0.44094661033788907\n",
            "max depth- 10   n_estimators- 60   rmse 0.4410194069419074\n",
            "max depth- 10   n_estimators- 70   rmse 0.4408176000010481\n",
            "max depth- 10   n_estimators- 80   rmse 0.44067863323218287\n",
            "max depth- 10   n_estimators- 90   rmse 0.44039309045805686\n",
            "max depth- 10   n_estimators- 100   rmse 0.44016087713810426\n",
            "max depth- 10   n_estimators- 110   rmse 0.4401070986887385\n",
            "max depth- 10   n_estimators- 120   rmse 0.43988415134762726\n",
            "max depth- 10   n_estimators- 130   rmse 0.43992211198265757\n",
            "max depth- 10   n_estimators- 140   rmse 0.43991391462947493\n",
            "max depth- 10   n_estimators- 150   rmse 0.4397403211692405\n",
            "max depth- 10   n_estimators- 160   rmse 0.4396909000703574\n",
            "max depth- 10   n_estimators- 170   rmse 0.43966710118276714\n",
            "max depth- 10   n_estimators- 180   rmse 0.43978907843722126\n",
            "max depth- 10   n_estimators- 190   rmse 0.4397308434736405\n",
            "max depth- 10   n_estimators- 200   rmse 0.4397273925569717\n",
            "max depth- 15   n_estimators- 10   rmse 0.4502764734468855\n",
            "max depth- 15   n_estimators- 20   rmse 0.4412498927762147\n",
            "max depth- 15   n_estimators- 30   rmse 0.4397632942548365\n",
            "max depth- 15   n_estimators- 40   rmse 0.43889977393932633\n",
            "max depth- 15   n_estimators- 50   rmse 0.43808317617709414\n",
            "max depth- 15   n_estimators- 60   rmse 0.43776561899596245\n",
            "max depth- 15   n_estimators- 70   rmse 0.43737018304491615\n",
            "max depth- 15   n_estimators- 80   rmse 0.43723853057685913\n",
            "max depth- 15   n_estimators- 90   rmse 0.43682458657973466\n",
            "max depth- 15   n_estimators- 100   rmse 0.4364995813365258\n",
            "max depth- 15   n_estimators- 110   rmse 0.43623556376114225\n",
            "max depth- 15   n_estimators- 120   rmse 0.43622177522920197\n",
            "max depth- 15   n_estimators- 130   rmse 0.43625311956400475\n",
            "max depth- 15   n_estimators- 140   rmse 0.43613464382761596\n",
            "max depth- 15   n_estimators- 150   rmse 0.4361678070168537\n",
            "max depth- 15   n_estimators- 160   rmse 0.43598032251716634\n",
            "max depth- 15   n_estimators- 170   rmse 0.4358902747137396\n",
            "max depth- 15   n_estimators- 180   rmse 0.43607469678764726\n",
            "max depth- 15   n_estimators- 190   rmse 0.43605266557958333\n",
            "max depth- 15   n_estimators- 200   rmse 0.43602704487581345\n",
            "max depth- 20   n_estimators- 10   rmse 0.4585647393201247\n",
            "max depth- 20   n_estimators- 20   rmse 0.44624949423712823\n",
            "max depth- 20   n_estimators- 30   rmse 0.4440610381477068\n",
            "max depth- 20   n_estimators- 40   rmse 0.44247822975036494\n",
            "max depth- 20   n_estimators- 50   rmse 0.4410732190747157\n",
            "max depth- 20   n_estimators- 60   rmse 0.4404834790199017\n",
            "max depth- 20   n_estimators- 70   rmse 0.43995665475289847\n",
            "max depth- 20   n_estimators- 80   rmse 0.43996653378273576\n",
            "max depth- 20   n_estimators- 90   rmse 0.4392470713580365\n",
            "max depth- 20   n_estimators- 100   rmse 0.438869346672688\n",
            "max depth- 20   n_estimators- 110   rmse 0.4384217465583603\n",
            "max depth- 20   n_estimators- 120   rmse 0.4381886442046175\n",
            "max depth- 20   n_estimators- 130   rmse 0.43817096708685255\n",
            "max depth- 20   n_estimators- 140   rmse 0.4379459554654234\n",
            "max depth- 20   n_estimators- 150   rmse 0.4379403867320411\n",
            "max depth- 20   n_estimators- 160   rmse 0.4378051901916333\n",
            "max depth- 20   n_estimators- 170   rmse 0.4377271739639964\n",
            "max depth- 20   n_estimators- 180   rmse 0.43783610147283486\n",
            "max depth- 20   n_estimators- 190   rmse 0.4377601794978258\n",
            "max depth- 20   n_estimators- 200   rmse 0.4377952041608392\n",
            "max depth- 25   n_estimators- 10   rmse 0.4608812993440649\n",
            "max depth- 25   n_estimators- 20   rmse 0.44778344333186204\n",
            "max depth- 25   n_estimators- 30   rmse 0.4446828910588172\n",
            "max depth- 25   n_estimators- 40   rmse 0.44292720578491285\n",
            "max depth- 25   n_estimators- 50   rmse 0.442038896302953\n",
            "max depth- 25   n_estimators- 60   rmse 0.4414435612748096\n",
            "max depth- 25   n_estimators- 70   rmse 0.4407270599411504\n",
            "max depth- 25   n_estimators- 80   rmse 0.440752754223262\n",
            "max depth- 25   n_estimators- 90   rmse 0.4401617184605655\n",
            "max depth- 25   n_estimators- 100   rmse 0.43991709459754186\n",
            "max depth- 25   n_estimators- 110   rmse 0.4393812391046055\n",
            "max depth- 25   n_estimators- 120   rmse 0.43917193514076613\n",
            "max depth- 25   n_estimators- 130   rmse 0.4392052502707997\n",
            "max depth- 25   n_estimators- 140   rmse 0.4390357810726889\n",
            "max depth- 25   n_estimators- 150   rmse 0.438928356383729\n",
            "max depth- 25   n_estimators- 160   rmse 0.4387656702527446\n",
            "max depth- 25   n_estimators- 170   rmse 0.4386409134885594\n",
            "max depth- 25   n_estimators- 180   rmse 0.4387624210502079\n",
            "max depth- 25   n_estimators- 190   rmse 0.43867028034055433\n",
            "max depth- 25   n_estimators- 200   rmse 0.4386183682374325\n"
          ]
        }
      ]
    },
    {
      "cell_type": "markdown",
      "metadata": {
        "id": "a_RObT6Avp4T"
      },
      "source": [
        "What's the best `max_depth`:\n",
        "\n",
        "* 10\n",
        "* 15\n",
        "* 20\n",
        "* 25\n",
        "\n",
        "Bonus question (not graded):\n",
        "\n",
        "Will the answer be different if we change the seed for the model?"
      ]
    },
    {
      "cell_type": "markdown",
      "metadata": {
        "id": "oA1BM5Twvp4U"
      },
      "source": [
        "## Question 5\n",
        "\n",
        "We can extract feature importance information from tree-based models. \n",
        "\n",
        "At each step of the decision tree learning algorith, it finds the best split. \n",
        "When doint it, we can calculate \"gain\" - the reduction in impurity before and after the split. \n",
        "This gain is quite useful in understanding what are the imporatant features \n",
        "for tree-based models.\n",
        "\n",
        "In Scikit-Learn, tree-based models contain this information in the `feature_importances_` field. \n",
        "\n",
        "For this homework question, we'll find the most important feature:\n",
        "\n",
        "* Train the model with these parametes:\n",
        "    * `n_estimators=10`,\n",
        "    * `max_depth=20`,\n",
        "    * `random_state=1`,\n",
        "    * `n_jobs=-1` (optional)\n",
        "* Get the feature importance information from this model"
      ]
    },
    {
      "cell_type": "code",
      "metadata": {
        "id": "YHBKb71rvp4V"
      },
      "source": [
        ""
      ],
      "execution_count": null,
      "outputs": []
    },
    {
      "cell_type": "markdown",
      "metadata": {
        "id": "OydhVotXvp4W"
      },
      "source": [
        "What's the most important feature? \n",
        "\n",
        "* `neighbourhood_group=Manhattan`\n",
        "* `room_type=Entire home/apt`\t\n",
        "* `longitude`\n",
        "* `latitude`"
      ]
    },
    {
      "cell_type": "markdown",
      "metadata": {
        "id": "y0E2Y_zgvp4W"
      },
      "source": [
        "## Question 6"
      ]
    },
    {
      "cell_type": "markdown",
      "metadata": {
        "id": "PPmf8VKXvp4X"
      },
      "source": [
        "Now let's train an XGBoost model! For this question, we'll tune the `eta` parameter\n",
        "\n",
        "* Install XGBoost\n",
        "* Create DMatrix for train and validation\n",
        "* Create a watchlist\n",
        "* Train a model with these parameters for 100 rounds:\n",
        "\n",
        "```\n",
        "xgb_params = {\n",
        "    'eta': 0.3, \n",
        "    'max_depth': 6,\n",
        "    'min_child_weight': 1,\n",
        "    \n",
        "    'objective': 'reg:squarederror',\n",
        "    'nthread': 8,\n",
        "    \n",
        "    'seed': 1,\n",
        "    'verbosity': 1,\n",
        "}\n",
        "```"
      ]
    },
    {
      "cell_type": "code",
      "metadata": {
        "id": "5wsbuPI_vp4X"
      },
      "source": [
        ""
      ],
      "execution_count": null,
      "outputs": []
    },
    {
      "cell_type": "markdown",
      "metadata": {
        "id": "30KyPmzivp4Y"
      },
      "source": [
        "Now change `eta` first to `0.1` and then to `0.01`"
      ]
    },
    {
      "cell_type": "code",
      "metadata": {
        "id": "p35UYb2Wvp4Y"
      },
      "source": [
        ""
      ],
      "execution_count": null,
      "outputs": []
    },
    {
      "cell_type": "markdown",
      "metadata": {
        "id": "1q7hyN2dvp4Y"
      },
      "source": [
        "Which eta leads to the best RMSE score on the validation dataset?\n",
        "\n",
        "* 0.3\n",
        "* 0.1\n",
        "* 0.01"
      ]
    },
    {
      "cell_type": "markdown",
      "metadata": {
        "id": "iRU4i5W3vp4Z"
      },
      "source": [
        "## Submit the results\n",
        "\n",
        "\n",
        "Submit your results here: https://forms.gle/wQgFkYE6CtdDed4w8\n",
        "\n",
        "It's possible that your answers won't match exactly. If it's the case, select the closest one.\n",
        "\n",
        "\n",
        "## Deadline\n",
        "\n",
        "\n",
        "The deadline for submitting is 20 October 2021, 17:00 CET (Wednesday). After that, the form will be closed.\n",
        "\n"
      ]
    }
  ]
}