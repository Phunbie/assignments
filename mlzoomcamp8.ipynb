{
  "nbformat": 4,
  "nbformat_minor": 0,
  "metadata": {
    "colab": {
      "name": "mlzoomcamp8.ipynb",
      "provenance": [],
      "collapsed_sections": [],
      "mount_file_id": "1UBt8hHdfMIaFEgn8rhvjxUQX3QezuGlK",
      "authorship_tag": "ABX9TyPEV1XLK+utBAkfvFfEf5WK",
      "include_colab_link": true
    },
    "kernelspec": {
      "display_name": "Python 3",
      "name": "python3"
    },
    "language_info": {
      "name": "python"
    }
  },
  "cells": [
    {
      "cell_type": "markdown",
      "metadata": {
        "id": "view-in-github",
        "colab_type": "text"
      },
      "source": [
        "<a href=\"https://colab.research.google.com/github/Phunbie/assignments/blob/main/mlzoomcamp8.ipynb\" target=\"_parent\"><img src=\"https://colab.research.google.com/assets/colab-badge.svg\" alt=\"Open In Colab\"/></a>"
      ]
    },
    {
      "cell_type": "code",
      "metadata": {
        "id": "mVG6aQbojgAz"
      },
      "source": [
        "link = 'https://github.com/alexeygrigorev/large-datasets/releases/download/dogs-cats/train.zip'"
      ],
      "execution_count": 1,
      "outputs": []
    },
    {
      "cell_type": "code",
      "metadata": {
        "id": "R-G-WmrnmQyg"
      },
      "source": [
        "import requests, zipfile, io"
      ],
      "execution_count": 2,
      "outputs": []
    },
    {
      "cell_type": "code",
      "metadata": {
        "id": "-V0FqXLQmRIR"
      },
      "source": [
        "r = requests.get(link)\n",
        "z = zipfile.ZipFile(io.BytesIO(r.content))\n",
        "z.extractall()"
      ],
      "execution_count": 3,
      "outputs": []
    },
    {
      "cell_type": "code",
      "metadata": {
        "id": "MTrwtsXbj7RD"
      },
      "source": [
        "import os\n",
        "import shutil\n",
        "import glob\n",
        "import tensorflow as tf\n",
        "from tensorflow import keras\n",
        "import numpy as np\n",
        "import matplotlib.pyplot as plt\n",
        "from tensorflow.keras.layers import Dense, Dropout, Input\n",
        "from tensorflow.keras.layers import Conv2D, MaxPooling2D, Flatten\n",
        "from tensorflow.keras.models import Model\n",
        "from tensorflow.keras.preprocessing.image import ImageDataGenerator"
      ],
      "execution_count": 4,
      "outputs": []
    },
    {
      "cell_type": "code",
      "metadata": {
        "id": "AtGc40uO8eZw"
      },
      "source": [
        "os.chdir('/content/train')"
      ],
      "execution_count": 5,
      "outputs": []
    },
    {
      "cell_type": "code",
      "metadata": {
        "id": "rvqshw6MoIKv"
      },
      "source": [
        "if os.path.isdir('train/dog') is False:\n",
        "    os.makedirs('train/dog')\n",
        "    os.makedirs('train/cat')\n",
        "    os.makedirs('valid/dog')\n",
        "    os.makedirs('valid/cat')\n",
        "\n",
        "    for i in glob.glob('cat*')[:10000]:\n",
        "        shutil.move(i, 'train/cat')      \n",
        "    for i in glob.glob('dog*')[:10000]:\n",
        "        shutil.move(i, 'train/dog')\n",
        "    for i in glob.glob('cat*')[:2500]:\n",
        "        shutil.move(i, 'valid/cat')        \n",
        "    for i in glob.glob('dog*')[:2500]:\n",
        "        shutil.move(i, 'valid/dog')\n",
        "\n",
        "os.chdir('../../')"
      ],
      "execution_count": 6,
      "outputs": []
    },
    {
      "cell_type": "code",
      "metadata": {
        "id": "ITsLX1W8EaSC"
      },
      "source": [
        "train_path = '/content/train/train'\n",
        "valid_path = '/content/train/valid'"
      ],
      "execution_count": 7,
      "outputs": []
    },
    {
      "cell_type": "code",
      "metadata": {
        "id": "7EldeGKiFHE8",
        "colab": {
          "base_uri": "https://localhost:8080/"
        },
        "outputId": "18393dde-91ab-4cf1-ebbd-db477bea476f"
      },
      "source": [
        "ImageDataGenerator(rescale=1./255)\n",
        "train_batches =  ImageDataGenerator(rescale=1./255).flow_from_directory(directory=train_path, target_size=(150,150), batch_size=20, class_mode='binary')"
      ],
      "execution_count": 8,
      "outputs": [
        {
          "output_type": "stream",
          "name": "stdout",
          "text": [
            "Found 20000 images belonging to 2 classes.\n"
          ]
        }
      ]
    },
    {
      "cell_type": "code",
      "metadata": {
        "colab": {
          "base_uri": "https://localhost:8080/"
        },
        "id": "5qPis8lVLvB8",
        "outputId": "fed2bcee-e617-47b8-efc3-5cc11bfb8105"
      },
      "source": [
        "valid_batches =  ImageDataGenerator(rescale=1./255).flow_from_directory(directory=valid_path, target_size=(150,150), batch_size=20, class_mode='binary',shuffle=False)"
      ],
      "execution_count": 9,
      "outputs": [
        {
          "output_type": "stream",
          "name": "stdout",
          "text": [
            "Found 5000 images belonging to 2 classes.\n"
          ]
        }
      ]
    },
    {
      "cell_type": "code",
      "metadata": {
        "id": "1DqCEuX4s669"
      },
      "source": [
        "inputs = keras.Input(shape=(150, 150, 3))\n",
        "y = Conv2D(filters=32,kernel_size=(3,3),activation='relu')(inputs)\n",
        "y = MaxPooling2D(2,2)(y)\n",
        "y = Flatten()(y)\n",
        "y= Dense(64,activation='relu')(y)\n",
        "output= Dense(1, activation='sigmoid')(y)\n",
        "model = Model(inputs=inputs, outputs=output)"
      ],
      "execution_count": 10,
      "outputs": []
    },
    {
      "cell_type": "code",
      "metadata": {
        "id": "LswDPu4Z6fUQ",
        "colab": {
          "base_uri": "https://localhost:8080/"
        },
        "outputId": "556dd67b-cc24-4bb8-f369-c3d3f065dda4"
      },
      "source": [
        "model.summary()"
      ],
      "execution_count": 11,
      "outputs": [
        {
          "output_type": "stream",
          "name": "stdout",
          "text": [
            "Model: \"model\"\n",
            "_________________________________________________________________\n",
            " Layer (type)                Output Shape              Param #   \n",
            "=================================================================\n",
            " input_1 (InputLayer)        [(None, 150, 150, 3)]     0         \n",
            "                                                                 \n",
            " conv2d (Conv2D)             (None, 148, 148, 32)      896       \n",
            "                                                                 \n",
            " max_pooling2d (MaxPooling2D  (None, 74, 74, 32)       0         \n",
            " )                                                               \n",
            "                                                                 \n",
            " flatten (Flatten)           (None, 175232)            0         \n",
            "                                                                 \n",
            " dense (Dense)               (None, 64)                11214912  \n",
            "                                                                 \n",
            " dense_1 (Dense)             (None, 1)                 65        \n",
            "                                                                 \n",
            "=================================================================\n",
            "Total params: 11,215,873\n",
            "Trainable params: 11,215,873\n",
            "Non-trainable params: 0\n",
            "_________________________________________________________________\n"
          ]
        }
      ]
    },
    {
      "cell_type": "code",
      "metadata": {
        "id": "z8PL0og8hrwM",
        "colab": {
          "base_uri": "https://localhost:8080/"
        },
        "outputId": "46a0e66c-4f1b-4883-f785-175cd4945aba"
      },
      "source": [
        "\n",
        "\n",
        "optimizer = keras.optimizers.SGD(lr=0.002, momentum=0.8)\n",
        "loss = keras.losses.BinaryCrossentropy()\n",
        "\n",
        "model.compile(optimizer=optimizer, loss=loss, metrics=['accuracy'])\n",
        "\n"
      ],
      "execution_count": 12,
      "outputs": [
        {
          "output_type": "stream",
          "name": "stderr",
          "text": [
            "/usr/local/lib/python3.7/dist-packages/keras/optimizer_v2/gradient_descent.py:102: UserWarning: The `lr` argument is deprecated, use `learning_rate` instead.\n",
            "  super(SGD, self).__init__(name, **kwargs)\n"
          ]
        }
      ]
    },
    {
      "cell_type": "code",
      "metadata": {
        "colab": {
          "base_uri": "https://localhost:8080/"
        },
        "id": "vjEtvaG2OSyU",
        "outputId": "484b6b1d-628e-4b5f-92e8-469a21dd054e"
      },
      "source": [
        "model.fit(\n",
        "    train_batches,\n",
        "    steps_per_epoch=100,\n",
        "    epochs=10,\n",
        "    validation_data=valid_batches,\n",
        "    validation_steps=50\n",
        ")"
      ],
      "execution_count": 13,
      "outputs": [
        {
          "output_type": "stream",
          "name": "stdout",
          "text": [
            "Epoch 1/10\n",
            "100/100 [==============================] - 43s 419ms/step - loss: 0.7038 - accuracy: 0.4955 - val_loss: 0.6823 - val_accuracy: 0.6600\n",
            "Epoch 2/10\n",
            "100/100 [==============================] - 41s 415ms/step - loss: 0.6895 - accuracy: 0.5415 - val_loss: 0.6398 - val_accuracy: 0.7740\n",
            "Epoch 3/10\n",
            "100/100 [==============================] - 42s 418ms/step - loss: 0.6866 - accuracy: 0.5520 - val_loss: 0.7636 - val_accuracy: 0.1930\n",
            "Epoch 4/10\n",
            "100/100 [==============================] - 41s 415ms/step - loss: 0.6848 - accuracy: 0.5605 - val_loss: 0.6920 - val_accuracy: 0.4260\n",
            "Epoch 5/10\n",
            "100/100 [==============================] - 41s 413ms/step - loss: 0.6788 - accuracy: 0.5675 - val_loss: 0.7916 - val_accuracy: 0.2470\n",
            "Epoch 6/10\n",
            "100/100 [==============================] - 41s 411ms/step - loss: 0.6691 - accuracy: 0.5835 - val_loss: 0.7157 - val_accuracy: 0.4260\n",
            "Epoch 7/10\n",
            "100/100 [==============================] - 41s 411ms/step - loss: 0.6602 - accuracy: 0.6050 - val_loss: 0.4021 - val_accuracy: 0.9760\n",
            "Epoch 8/10\n",
            "100/100 [==============================] - 41s 412ms/step - loss: 0.6542 - accuracy: 0.6125 - val_loss: 0.5859 - val_accuracy: 0.7060\n",
            "Epoch 9/10\n",
            "100/100 [==============================] - 41s 413ms/step - loss: 0.6580 - accuracy: 0.5950 - val_loss: 0.7609 - val_accuracy: 0.3690\n",
            "Epoch 10/10\n",
            "100/100 [==============================] - 42s 418ms/step - loss: 0.6502 - accuracy: 0.6135 - val_loss: 0.8731 - val_accuracy: 0.3010\n"
          ]
        },
        {
          "output_type": "execute_result",
          "data": {
            "text/plain": [
              "<keras.callbacks.History at 0x7f8c7485dbd0>"
            ]
          },
          "metadata": {},
          "execution_count": 13
        }
      ]
    },
    {
      "cell_type": "code",
      "metadata": {
        "id": "wt5F7uIL6clE"
      },
      "source": [
        "train_gen = ImageDataGenerator(\n",
        "    rescale=1./255,\n",
        "    rotation_range=40,\n",
        "    width_shift_range=0.2,\n",
        "    height_shift_range=0.2,\n",
        "    shear_range=0.2,\n",
        "    zoom_range=0.2,\n",
        "    horizontal_flip=True,\n",
        "    fill_mode='nearest')"
      ],
      "execution_count": 15,
      "outputs": []
    },
    {
      "cell_type": "code",
      "metadata": {
        "colab": {
          "base_uri": "https://localhost:8080/"
        },
        "id": "HqAsi84ykft1",
        "outputId": "20f81c2d-2715-4335-c008-88d172ee0637"
      },
      "source": [
        "train_ds = train_gen.flow_from_directory(directory=train_path, target_size=(150,150), batch_size=20, class_mode='binary')"
      ],
      "execution_count": 16,
      "outputs": [
        {
          "output_type": "stream",
          "name": "stdout",
          "text": [
            "Found 20000 images belonging to 2 classes.\n"
          ]
        }
      ]
    },
    {
      "cell_type": "code",
      "metadata": {
        "colab": {
          "base_uri": "https://localhost:8080/"
        },
        "id": "YqCLrrLUleky",
        "outputId": "dcd605fe-213c-4713-f840-b10bc7509069"
      },
      "source": [
        "model.fit(\n",
        "    train_ds,\n",
        "    steps_per_epoch=100,\n",
        "    epochs=10,\n",
        "    validation_data=valid_batches,\n",
        "    validation_steps=50\n",
        ")"
      ],
      "execution_count": 17,
      "outputs": [
        {
          "output_type": "stream",
          "name": "stdout",
          "text": [
            "Epoch 1/10\n",
            "100/100 [==============================] - 50s 503ms/step - loss: 0.6729 - accuracy: 0.5810 - val_loss: 0.5966 - val_accuracy: 0.6930\n",
            "Epoch 2/10\n",
            "100/100 [==============================] - 51s 507ms/step - loss: 0.6613 - accuracy: 0.5990 - val_loss: 0.8311 - val_accuracy: 0.3260\n",
            "Epoch 3/10\n",
            "100/100 [==============================] - 50s 502ms/step - loss: 0.6619 - accuracy: 0.5945 - val_loss: 0.6997 - val_accuracy: 0.4970\n",
            "Epoch 4/10\n",
            "100/100 [==============================] - 50s 498ms/step - loss: 0.6719 - accuracy: 0.5800 - val_loss: 0.8035 - val_accuracy: 0.2940\n",
            "Epoch 5/10\n",
            "100/100 [==============================] - 50s 499ms/step - loss: 0.6618 - accuracy: 0.5990 - val_loss: 0.7805 - val_accuracy: 0.3630\n",
            "Epoch 6/10\n",
            "100/100 [==============================] - 50s 496ms/step - loss: 0.6689 - accuracy: 0.5855 - val_loss: 0.7624 - val_accuracy: 0.4110\n",
            "Epoch 7/10\n",
            "100/100 [==============================] - 50s 497ms/step - loss: 0.6607 - accuracy: 0.6035 - val_loss: 0.7098 - val_accuracy: 0.5000\n",
            "Epoch 8/10\n",
            "100/100 [==============================] - 50s 495ms/step - loss: 0.6571 - accuracy: 0.5950 - val_loss: 0.6060 - val_accuracy: 0.7170\n",
            "Epoch 9/10\n",
            "100/100 [==============================] - 50s 494ms/step - loss: 0.6580 - accuracy: 0.6030 - val_loss: 0.7528 - val_accuracy: 0.4100\n",
            "Epoch 10/10\n",
            "100/100 [==============================] - 50s 495ms/step - loss: 0.6574 - accuracy: 0.6050 - val_loss: 0.8639 - val_accuracy: 0.2680\n"
          ]
        },
        {
          "output_type": "execute_result",
          "data": {
            "text/plain": [
              "<keras.callbacks.History at 0x7f8c6edef410>"
            ]
          },
          "metadata": {},
          "execution_count": 17
        }
      ]
    }
  ]
}