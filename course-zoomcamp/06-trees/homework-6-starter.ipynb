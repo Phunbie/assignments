{
  "nbformat": 4,
  "nbformat_minor": 0,
  "metadata": {
    "kernelspec": {
      "display_name": "Python 3",
      "language": "python",
      "name": "python3"
    },
    "language_info": {
      "codemirror_mode": {
        "name": "ipython",
        "version": 3
      },
      "file_extension": ".py",
      "mimetype": "text/x-python",
      "name": "python",
      "nbconvert_exporter": "python",
      "pygments_lexer": "ipython3",
      "version": "3.7.3"
    },
    "colab": {
      "name": "homework-6-starter.ipynb",
      "provenance": []
    }
  },
  "cells": [
    {
      "cell_type": "markdown",
      "metadata": {
        "id": "Zm5hdhWwvp3y"
      },
      "source": [
        "## 6.10 Homework\n",
        "\n",
        "The goal of this homework is to create a tree-based regression model for prediction apartment prices (column `'price'`).\n",
        "\n",
        "In this homework we'll again use the New York City Airbnb Open Data dataset - the same one we used in homework 2 and 3.\n",
        "\n",
        "You can take it from [Kaggle](https://www.kaggle.com/dgomonov/new-york-city-airbnb-open-data?select=AB_NYC_2019.csv)\n",
        "or download from [here](https://raw.githubusercontent.com/alexeygrigorev/datasets/master/AB_NYC_2019.csv)\n",
        "if you don't want to sign up to Kaggle.\n",
        "\n",
        "Let's load the data:"
      ]
    },
    {
      "cell_type": "code",
      "metadata": {
        "id": "eqP85_kZvp37"
      },
      "source": [
        "import pandas as pd\n",
        "import numpy as np\n",
        "\n",
        "import matplotlib.pyplot as plt\n",
        "import seaborn as sns\n",
        "\n",
        "%matplotlib inline"
      ],
      "execution_count": 32,
      "outputs": []
    },
    {
      "cell_type": "code",
      "metadata": {
        "id": "la4yVvgUwOa_"
      },
      "source": [
        "url= 'https://raw.githubusercontent.com/alexeygrigorev/datasets/master/AB_NYC_2019.csv'"
      ],
      "execution_count": 33,
      "outputs": []
    },
    {
      "cell_type": "code",
      "metadata": {
        "id": "AmOcN_mgvp3_"
      },
      "source": [
        "columns = [\n",
        "    'neighbourhood_group', 'room_type', 'latitude', 'longitude',\n",
        "    'minimum_nights', 'number_of_reviews','reviews_per_month',\n",
        "    'calculated_host_listings_count', 'availability_365',\n",
        "    'price'\n",
        "]\n",
        "\n",
        "df = pd.read_csv(url, usecols=columns)\n",
        "df.reviews_per_month = df.reviews_per_month.fillna(0)"
      ],
      "execution_count": 34,
      "outputs": []
    },
    {
      "cell_type": "markdown",
      "metadata": {
        "id": "YJS8gsUgvp4B"
      },
      "source": [
        "* Apply the log tranform to `price`\n",
        "* Do train/validation/test split with 60%/20%/20% distribution. \n",
        "* Use the `train_test_split` function and set the `random_state` parameter to 1"
      ]
    },
    {
      "cell_type": "code",
      "metadata": {
        "id": "7hPzcN-mwlaZ"
      },
      "source": [
        "df.price = np.log1p(df.price)"
      ],
      "execution_count": 35,
      "outputs": []
    },
    {
      "cell_type": "code",
      "metadata": {
        "id": "lNqR4VScwlln"
      },
      "source": [
        "y = df.price"
      ],
      "execution_count": 36,
      "outputs": []
    },
    {
      "cell_type": "code",
      "metadata": {
        "id": "O8aKgTGIvp4C",
        "colab": {
          "base_uri": "https://localhost:8080/"
        },
        "outputId": "9d8251ad-e14e-42bb-e747-1f9a17c30188"
      },
      "source": [
        "X = df.drop('price',1)\n",
        "X.columns"
      ],
      "execution_count": 37,
      "outputs": [
        {
          "output_type": "execute_result",
          "data": {
            "text/plain": [
              "Index(['neighbourhood_group', 'latitude', 'longitude', 'room_type',\n",
              "       'minimum_nights', 'number_of_reviews', 'reviews_per_month',\n",
              "       'calculated_host_listings_count', 'availability_365'],\n",
              "      dtype='object')"
            ]
          },
          "metadata": {},
          "execution_count": 37
        }
      ]
    },
    {
      "cell_type": "code",
      "metadata": {
        "id": "-sZbRlZQzR6C"
      },
      "source": [
        "from sklearn.model_selection import train_test_split"
      ],
      "execution_count": 38,
      "outputs": []
    },
    {
      "cell_type": "code",
      "metadata": {
        "id": "UffPb6OZzbi4"
      },
      "source": [
        "X_train, X_test, y_train, y_test = train_test_split(X, y, test_size=0.2, random_state=1)"
      ],
      "execution_count": 39,
      "outputs": []
    },
    {
      "cell_type": "code",
      "metadata": {
        "id": "SjyAtnKEzj7l"
      },
      "source": [
        "X_train, X_val, y_train, y_val = train_test_split(X_train, y_train, test_size=0.25, random_state=1)"
      ],
      "execution_count": 40,
      "outputs": []
    },
    {
      "cell_type": "markdown",
      "metadata": {
        "id": "zmI3zHlovp4D"
      },
      "source": [
        "Now, use `DictVectorizer` to turn train and validation into matrices:"
      ]
    },
    {
      "cell_type": "code",
      "metadata": {
        "id": "E0-_zCMavp4H"
      },
      "source": [
        "from sklearn.feature_extraction import DictVectorizer"
      ],
      "execution_count": 41,
      "outputs": []
    },
    {
      "cell_type": "code",
      "metadata": {
        "id": "HFly-W_s0BBU"
      },
      "source": [
        "train_dict = X_train.to_dict(orient='records')"
      ],
      "execution_count": 42,
      "outputs": []
    },
    {
      "cell_type": "code",
      "metadata": {
        "id": "wJMwhAiW0BNz",
        "colab": {
          "base_uri": "https://localhost:8080/"
        },
        "outputId": "a825513e-5799-4d95-dc88-79a93efcfaa9"
      },
      "source": [
        "dv = DictVectorizer(sparse=False)\n",
        "dv.fit(train_dict)"
      ],
      "execution_count": 43,
      "outputs": [
        {
          "output_type": "execute_result",
          "data": {
            "text/plain": [
              "DictVectorizer(dtype=<class 'numpy.float64'>, separator='=', sort=True,\n",
              "               sparse=False)"
            ]
          },
          "metadata": {},
          "execution_count": 43
        }
      ]
    },
    {
      "cell_type": "code",
      "metadata": {
        "id": "K8f8JKVY53h4"
      },
      "source": [
        "X_train1 = dv.transform(train_dict)"
      ],
      "execution_count": 44,
      "outputs": []
    },
    {
      "cell_type": "code",
      "metadata": {
        "id": "rCkCWtX953s6",
        "colab": {
          "base_uri": "https://localhost:8080/"
        },
        "outputId": "9594a679-3180-47db-9c83-ab90387ce37f"
      },
      "source": [
        "X_train1.shape"
      ],
      "execution_count": 45,
      "outputs": [
        {
          "output_type": "execute_result",
          "data": {
            "text/plain": [
              "(29337, 15)"
            ]
          },
          "metadata": {},
          "execution_count": 45
        }
      ]
    },
    {
      "cell_type": "code",
      "metadata": {
        "id": "Z1nZD0dQ5322",
        "colab": {
          "base_uri": "https://localhost:8080/"
        },
        "outputId": "c63c6c35-98cc-4cc8-8cf1-f2a6f17c97b0"
      },
      "source": [
        "val_dict = X_val.to_dict(orient='records')\n",
        "X_val1 = dv.transform(val_dict)\n",
        "X_val1.shape"
      ],
      "execution_count": 46,
      "outputs": [
        {
          "output_type": "execute_result",
          "data": {
            "text/plain": [
              "(9779, 15)"
            ]
          },
          "metadata": {},
          "execution_count": 46
        }
      ]
    },
    {
      "cell_type": "markdown",
      "metadata": {
        "id": "n6KAbyVRvp4J"
      },
      "source": [
        "## Question 1\n",
        "\n",
        "Let's train a decision tree regressor to predict the price variable. \n",
        "\n",
        "* Train a model with `max_depth=1`"
      ]
    },
    {
      "cell_type": "code",
      "metadata": {
        "id": "BFFWkNZEvp4M"
      },
      "source": [
        "from sklearn.tree import DecisionTreeRegressor"
      ],
      "execution_count": 47,
      "outputs": []
    },
    {
      "cell_type": "code",
      "metadata": {
        "id": "pl153zTF6kOZ"
      },
      "source": [
        "dt = DecisionTreeRegressor(max_depth=1)"
      ],
      "execution_count": 48,
      "outputs": []
    },
    {
      "cell_type": "code",
      "metadata": {
        "id": "IHFudkP76ka5",
        "colab": {
          "base_uri": "https://localhost:8080/"
        },
        "outputId": "f88bf632-ee47-4179-c940-e4a2965875ec"
      },
      "source": [
        "dt.fit(X_train1, y_train)"
      ],
      "execution_count": 49,
      "outputs": [
        {
          "output_type": "execute_result",
          "data": {
            "text/plain": [
              "DecisionTreeRegressor(ccp_alpha=0.0, criterion='mse', max_depth=1,\n",
              "                      max_features=None, max_leaf_nodes=None,\n",
              "                      min_impurity_decrease=0.0, min_impurity_split=None,\n",
              "                      min_samples_leaf=1, min_samples_split=2,\n",
              "                      min_weight_fraction_leaf=0.0, presort='deprecated',\n",
              "                      random_state=None, splitter='best')"
            ]
          },
          "metadata": {},
          "execution_count": 49
        }
      ]
    },
    {
      "cell_type": "code",
      "metadata": {
        "id": "T2H-En9l7oNR"
      },
      "source": [
        "from sklearn.tree import export_text"
      ],
      "execution_count": 50,
      "outputs": []
    },
    {
      "cell_type": "code",
      "metadata": {
        "id": "lLMQiPHS8v-K",
        "colab": {
          "base_uri": "https://localhost:8080/"
        },
        "outputId": "1060b710-9c8a-49b4-f619-79215dcb46bd"
      },
      "source": [
        "print(export_text(dt,feature_names=dv.get_feature_names()))"
      ],
      "execution_count": 51,
      "outputs": [
        {
          "output_type": "stream",
          "name": "stdout",
          "text": [
            "|--- room_type=Entire home/apt <= 0.50\n",
            "|   |--- value: [4.29]\n",
            "|--- room_type=Entire home/apt >  0.50\n",
            "|   |--- value: [5.15]\n",
            "\n"
          ]
        }
      ]
    },
    {
      "cell_type": "markdown",
      "metadata": {
        "id": "smBbAH_8vp4N"
      },
      "source": [
        "Which feature is used for splitting the data?\n",
        "\n",
        "* `room_type`\n",
        "* `neighbourhood_group`\n",
        "* `number_of_reviews`\n",
        "* `reviews_per_month`"
      ]
    },
    {
      "cell_type": "markdown",
      "metadata": {
        "id": "XKsTBEEWvp4O"
      },
      "source": [
        "## Question 2\n",
        "\n",
        "Train a random forest model with these parameters:\n",
        "\n",
        "* `n_estimators=10`\n",
        "* `random_state=1`\n",
        "* `n_jobs=-1`  (optional - to make training faster)"
      ]
    },
    {
      "cell_type": "code",
      "metadata": {
        "id": "5c9jI1xhvp4P"
      },
      "source": [
        "from sklearn.ensemble import RandomForestRegressor"
      ],
      "execution_count": null,
      "outputs": []
    },
    {
      "cell_type": "code",
      "metadata": {
        "id": "ZRtuiMxEALWT"
      },
      "source": [
        "rf = RandomForestRegressor(n_estimators=10,random_state=1,n_jobs=-1)"
      ],
      "execution_count": 52,
      "outputs": []
    },
    {
      "cell_type": "code",
      "metadata": {
        "colab": {
          "base_uri": "https://localhost:8080/"
        },
        "id": "6XU43wHuhS13",
        "outputId": "eb53a271-4421-42f3-f164-d12e76173ae7"
      },
      "source": [
        "rf.fit(X_train1, y_train)"
      ],
      "execution_count": 53,
      "outputs": [
        {
          "output_type": "execute_result",
          "data": {
            "text/plain": [
              "RandomForestRegressor(bootstrap=True, ccp_alpha=0.0, criterion='mse',\n",
              "                      max_depth=None, max_features='auto', max_leaf_nodes=None,\n",
              "                      max_samples=None, min_impurity_decrease=0.0,\n",
              "                      min_impurity_split=None, min_samples_leaf=1,\n",
              "                      min_samples_split=2, min_weight_fraction_leaf=0.0,\n",
              "                      n_estimators=10, n_jobs=-1, oob_score=False,\n",
              "                      random_state=1, verbose=0, warm_start=False)"
            ]
          },
          "metadata": {},
          "execution_count": 53
        }
      ]
    },
    {
      "cell_type": "code",
      "metadata": {
        "id": "1Q3-DPbfhdCx"
      },
      "source": [
        "pred = rf.predict(X_val1)"
      ],
      "execution_count": 54,
      "outputs": []
    },
    {
      "cell_type": "code",
      "metadata": {
        "id": "AiPX7mg_hvu_"
      },
      "source": [
        "from sklearn.metrics import mean_squared_error"
      ],
      "execution_count": 55,
      "outputs": []
    },
    {
      "cell_type": "code",
      "metadata": {
        "colab": {
          "base_uri": "https://localhost:8080/"
        },
        "id": "-4nY6Pv9iifj",
        "outputId": "114c677c-1b98-4a65-8c2c-aa3cc076fbc7"
      },
      "source": [
        "rmse = sqrt(mean_squared_error(y_val,pred))\n",
        "rmse"
      ],
      "execution_count": 56,
      "outputs": [
        {
          "output_type": "execute_result",
          "data": {
            "text/plain": [
              "0.460888788095762"
            ]
          },
          "metadata": {},
          "execution_count": 56
        }
      ]
    },
    {
      "cell_type": "markdown",
      "metadata": {
        "id": "gfR1nX_Pvp4Q"
      },
      "source": [
        "What's the RMSE of this model on validation?\n",
        "\n",
        "* 0.059\n",
        "* 0.259\n",
        "* 0.459\n",
        "* 0.659"
      ]
    },
    {
      "cell_type": "markdown",
      "metadata": {
        "id": "2CDtwE6zvp4R"
      },
      "source": [
        "## Question 3\n",
        "\n",
        "Now let's experiment with the `n_estimators` parameter\n",
        "\n",
        "* Try different values of this parameter from 10 to 200 with step 10\n",
        "* Set `random_state` to `1`\n",
        "* Evaluate the model on the validation dataset"
      ]
    },
    {
      "cell_type": "code",
      "metadata": {
        "id": "fvPTPWX5i3OY"
      },
      "source": [
        "import numpy as np"
      ],
      "execution_count": 57,
      "outputs": []
    },
    {
      "cell_type": "code",
      "metadata": {
        "id": "A3Bb3VFTvp4R"
      },
      "source": [
        "n_est = np.linspace(10, 200, 20)\n",
        "n_est = [int(i) for i in n_est]\n"
      ],
      "execution_count": 61,
      "outputs": []
    },
    {
      "cell_type": "code",
      "metadata": {
        "colab": {
          "base_uri": "https://localhost:8080/"
        },
        "id": "8XnsA-zgj17S",
        "outputId": "31bea73b-ed98-4cf6-90b8-e88d255f53ac"
      },
      "source": [
        "resrsme = []\n",
        "for i in n_est:\n",
        "  rf = RandomForestRegressor(n_estimators=i,random_state=1,n_jobs=-1)\n",
        "  rf.fit(X_train1, y_train)\n",
        "  pred = rf.predict(X_val1)\n",
        "  rmse = sqrt(mean_squared_error(y_val,pred))\n",
        "  resrsme.append(rmse)\n",
        "  print(i,' ',rmse)\n",
        "\n",
        "\n"
      ],
      "execution_count": 67,
      "outputs": [
        {
          "output_type": "stream",
          "name": "stdout",
          "text": [
            "10   0.460888788095762\n",
            "20   0.44744055425901735\n",
            "30   0.44440015830200136\n",
            "40   0.44281711871165336\n",
            "50   0.44176815762157207\n",
            "60   0.44125165338475053\n",
            "70   0.44064455072014125\n",
            "80   0.440740830263047\n",
            "90   0.4402749020311618\n",
            "100   0.4397631903425602\n",
            "110   0.4393128261208466\n",
            "120   0.43912990819267467\n",
            "130   0.4392796575512702\n",
            "140   0.4391514983746916\n",
            "150   0.43902892484355854\n",
            "160   0.4388423640549406\n",
            "170   0.43874605090230334\n",
            "180   0.4388528948224223\n",
            "190   0.4387907435385231\n",
            "200   0.4387871286025359\n"
          ]
        }
      ]
    },
    {
      "cell_type": "code",
      "metadata": {
        "id": "-8RxtlBtmBGf"
      },
      "source": [
        "import matplotlib.pyplot as plt"
      ],
      "execution_count": 64,
      "outputs": []
    },
    {
      "cell_type": "code",
      "metadata": {
        "colab": {
          "base_uri": "https://localhost:8080/",
          "height": 483
        },
        "id": "sm5SkDmtlqt_",
        "outputId": "438cb88b-adc1-4f91-9b02-3eeac81af963"
      },
      "source": [
        "plt.figure(figsize=(10, 8))\n",
        "plt.plot(n_est,resrsme, linestyle='solid', label='rmse')\n",
        "plt.xticks(np.linspace(10,200 , 20))\n",
        "plt.show()\n"
      ],
      "execution_count": 70,
      "outputs": [
        {
          "output_type": "display_data",
          "data": {
            "image/png": "[encoded data removed]",
            "text/plain": [
              "<Figure size 720x576 with 1 Axes>"
            ]
          },
          "metadata": {
            "needs_background": "light"
          }
        }
      ]
    },
    {
      "cell_type": "markdown",
      "metadata": {
        "id": "I8iOQtovvp4S"
      },
      "source": [
        "After which value of `n_estimators` does RMSE stop improving?\n",
        "\n",
        "- 10\n",
        "- 50\n",
        "- 70\n",
        "- 120"
      ]
    },
    {
      "cell_type": "markdown",
      "metadata": {
        "id": "XtEqncV5vp4S"
      },
      "source": [
        "## Question 4\n",
        "\n",
        "Let's select the best `max_depth`:\n",
        "\n",
        "* Try different values of `max_depth`: `[10, 15, 20, 25]`\n",
        "* For each of these values, try different values of `n_estimators` from 10 till 200 (with step 10)\n",
        "* Fix the random seed: `random_state=1`"
      ]
    },
    {
      "cell_type": "code",
      "metadata": {
        "id": "ZrDqSdl3vp4T",
        "colab": {
          "base_uri": "https://localhost:8080/"
        },
        "outputId": "e6f575b0-d473-4f98-a359-edf52fd72e3b"
      },
      "source": [
        "maxd = [10, 15, 20, 25]\n",
        "for i in maxd:\n",
        "  for j in n_est:\n",
        "    rf = RandomForestRegressor(n_estimators=j,max_depth=i,random_state=1,n_jobs=-1)\n",
        "    rf.fit(X_train1, y_train)\n",
        "    pred = rf.predict(X_val1)\n",
        "    rmse = sqrt(mean_squared_error(y_val,pred))\n",
        "    resrsme.append(rmse)\n",
        "    print('max depth-',i,' ','n_estimators-',j,' ','rmse',rmse)"
      ],
      "execution_count": 71,
      "outputs": [
        {
          "output_type": "stream",
          "name": "stdout",
          "text": [
            "max depth- 10   n_estimators- 10   rmse 0.44520997451725497\n",
            "max depth- 10   n_estimators- 20   rmse 0.44188768969228903\n",
            "max depth- 10   n_estimators- 30   rmse 0.4412072430403244\n",
            "max depth- 10   n_estimators- 40   rmse 0.441302539566751\n",
            "max depth- 10   n_estimators- 50   rmse 0.44094661033788907\n",
            "max depth- 10   n_estimators- 60   rmse 0.4410194069419074\n",
            "max depth- 10   n_estimators- 70   rmse 0.4408176000010481\n",
            "max depth- 10   n_estimators- 80   rmse 0.44067863323218287\n",
            "max depth- 10   n_estimators- 90   rmse 0.44039309045805686\n",
            "max depth- 10   n_estimators- 100   rmse 0.44016087713810426\n",
            "max depth- 10   n_estimators- 110   rmse 0.4401070986887385\n",
            "max depth- 10   n_estimators- 120   rmse 0.43988415134762726\n",
            "max depth- 10   n_estimators- 130   rmse 0.43992211198265757\n",
            "max depth- 10   n_estimators- 140   rmse 0.43991391462947493\n",
            "max depth- 10   n_estimators- 150   rmse 0.4397403211692405\n",
            "max depth- 10   n_estimators- 160   rmse 0.4396909000703574\n",
            "max depth- 10   n_estimators- 170   rmse 0.43966710118276714\n",
            "max depth- 10   n_estimators- 180   rmse 0.43978907843722126\n",
            "max depth- 10   n_estimators- 190   rmse 0.4397308434736405\n",
            "max depth- 10   n_estimators- 200   rmse 0.4397273925569717\n",
            "max depth- 15   n_estimators- 10   rmse 0.4502764734468855\n",
            "max depth- 15   n_estimators- 20   rmse 0.4412498927762147\n",
            "max depth- 15   n_estimators- 30   rmse 0.4397632942548365\n",
            "max depth- 15   n_estimators- 40   rmse 0.43889977393932633\n",
            "max depth- 15   n_estimators- 50   rmse 0.43808317617709414\n",
            "max depth- 15   n_estimators- 60   rmse 0.43776561899596245\n",
            "max depth- 15   n_estimators- 70   rmse 0.43737018304491615\n",
            "max depth- 15   n_estimators- 80   rmse 0.43723853057685913\n",
            "max depth- 15   n_estimators- 90   rmse 0.43682458657973466\n",
            "max depth- 15   n_estimators- 100   rmse 0.4364995813365258\n",
            "max depth- 15   n_estimators- 110   rmse 0.43623556376114225\n",
            "max depth- 15   n_estimators- 120   rmse 0.43622177522920197\n",
            "max depth- 15   n_estimators- 130   rmse 0.43625311956400475\n",
            "max depth- 15   n_estimators- 140   rmse 0.43613464382761596\n",
            "max depth- 15   n_estimators- 150   rmse 0.4361678070168537\n",
            "max depth- 15   n_estimators- 160   rmse 0.43598032251716634\n",
            "max depth- 15   n_estimators- 170   rmse 0.4358902747137396\n",
            "max depth- 15   n_estimators- 180   rmse 0.43607469678764726\n",
            "max depth- 15   n_estimators- 190   rmse 0.43605266557958333\n",
            "max depth- 15   n_estimators- 200   rmse 0.43602704487581345\n",
            "max depth- 20   n_estimators- 10   rmse 0.4585647393201247\n",
            "max depth- 20   n_estimators- 20   rmse 0.44624949423712823\n",
            "max depth- 20   n_estimators- 30   rmse 0.4440610381477068\n",
            "max depth- 20   n_estimators- 40   rmse 0.44247822975036494\n",
            "max depth- 20   n_estimators- 50   rmse 0.4410732190747157\n",
            "max depth- 20   n_estimators- 60   rmse 0.4404834790199017\n",
            "max depth- 20   n_estimators- 70   rmse 0.43995665475289847\n",
            "max depth- 20   n_estimators- 80   rmse 0.43996653378273576\n",
            "max depth- 20   n_estimators- 90   rmse 0.4392470713580365\n",
            "max depth- 20   n_estimators- 100   rmse 0.438869346672688\n",
            "max depth- 20   n_estimators- 110   rmse 0.4384217465583603\n",
            "max depth- 20   n_estimators- 120   rmse 0.4381886442046175\n",
            "max depth- 20   n_estimators- 130   rmse 0.43817096708685255\n",
            "max depth- 20   n_estimators- 140   rmse 0.4379459554654234\n",
            "max depth- 20   n_estimators- 150   rmse 0.4379403867320411\n",
            "max depth- 20   n_estimators- 160   rmse 0.4378051901916333\n",
            "max depth- 20   n_estimators- 170   rmse 0.4377271739639964\n",
            "max depth- 20   n_estimators- 180   rmse 0.43783610147283486\n",
            "max depth- 20   n_estimators- 190   rmse 0.4377601794978258\n",
            "max depth- 20   n_estimators- 200   rmse 0.4377952041608392\n",
            "max depth- 25   n_estimators- 10   rmse 0.4608812993440649\n",
            "max depth- 25   n_estimators- 20   rmse 0.44778344333186204\n",
            "max depth- 25   n_estimators- 30   rmse 0.4446828910588172\n",
            "max depth- 25   n_estimators- 40   rmse 0.44292720578491285\n",
            "max depth- 25   n_estimators- 50   rmse 0.442038896302953\n",
            "max depth- 25   n_estimators- 60   rmse 0.4414435612748096\n",
            "max depth- 25   n_estimators- 70   rmse 0.4407270599411504\n",
            "max depth- 25   n_estimators- 80   rmse 0.440752754223262\n",
            "max depth- 25   n_estimators- 90   rmse 0.4401617184605655\n",
            "max depth- 25   n_estimators- 100   rmse 0.43991709459754186\n",
            "max depth- 25   n_estimators- 110   rmse 0.4393812391046055\n",
            "max depth- 25   n_estimators- 120   rmse 0.43917193514076613\n",
            "max depth- 25   n_estimators- 130   rmse 0.4392052502707997\n",
            "max depth- 25   n_estimators- 140   rmse 0.4390357810726889\n",
            "max depth- 25   n_estimators- 150   rmse 0.438928356383729\n",
            "max depth- 25   n_estimators- 160   rmse 0.4387656702527446\n",
            "max depth- 25   n_estimators- 170   rmse 0.4386409134885594\n",
            "max depth- 25   n_estimators- 180   rmse 0.4387624210502079\n",
            "max depth- 25   n_estimators- 190   rmse 0.43867028034055433\n",
            "max depth- 25   n_estimators- 200   rmse 0.4386183682374325\n"
          ]
        }
      ]
    },
    {
      "cell_type": "code",
      "metadata": {
        "colab": {
          "base_uri": "https://localhost:8080/"
        },
        "id": "-xfvvM6fuuyw",
        "outputId": "8194f8a0-d119-44da-a604-a5e6dbd6634a"
      },
      "source": [
        "min(resrsme)"
      ],
      "execution_count": 73,
      "outputs": [
        {
          "output_type": "execute_result",
          "data": {
            "text/plain": [
              "0.4358902747137396"
            ]
          },
          "metadata": {},
          "execution_count": 72
        },
        {
          "output_type": "execute_result",
          "data": {
            "text/plain": [
              "0.4358902747137396"
            ]
          },
          "metadata": {},
          "execution_count": 73
        }
      ]
    },
    {
      "cell_type": "markdown",
      "metadata": {
        "id": "a_RObT6Avp4T"
      },
      "source": [
        "What's the best `max_depth`:\n",
        "\n",
        "* 10\n",
        "* 15\n",
        "* 20\n",
        "* 25\n",
        "\n",
        "Bonus question (not graded):\n",
        "\n",
        "Will the answer be different if we change the seed for the model?"
      ]
    },
    {
      "cell_type": "markdown",
      "metadata": {
        "id": "dMoWT-rEzs97"
      },
      "source": [
        "15"
      ]
    },
    {
      "cell_type": "markdown",
      "metadata": {
        "id": "oA1BM5Twvp4U"
      },
      "source": [
        "## Question 5\n",
        "\n",
        "We can extract feature importance information from tree-based models. \n",
        "\n",
        "At each step of the decision tree learning algorith, it finds the best split. \n",
        "When doint it, we can calculate \"gain\" - the reduction in impurity before and after the split. \n",
        "This gain is quite useful in understanding what are the imporatant features \n",
        "for tree-based models.\n",
        "\n",
        "In Scikit-Learn, tree-based models contain this information in the `feature_importances_` field. \n",
        "\n",
        "For this homework question, we'll find the most important feature:\n",
        "\n",
        "* Train the model with these parametes:\n",
        "    * `n_estimators=10`,\n",
        "    * `max_depth=20`,\n",
        "    * `random_state=1`,\n",
        "    * `n_jobs=-1` (optional)\n",
        "* Get the feature importance information from this model"
      ]
    },
    {
      "cell_type": "code",
      "metadata": {
        "id": "YHBKb71rvp4V"
      },
      "source": [
        "rf1 = RandomForestRegressor(n_estimators=10,max_depth=20,random_state=1,n_jobs=-1)"
      ],
      "execution_count": 75,
      "outputs": []
    },
    {
      "cell_type": "code",
      "metadata": {
        "colab": {
          "base_uri": "https://localhost:8080/"
        },
        "id": "TKbh6r_02Lg2",
        "outputId": "3a4fc49c-5666-400a-bb78-e80873c1520a"
      },
      "source": [
        "rf1.fit(X_train1, y_train)"
      ],
      "execution_count": 77,
      "outputs": [
        {
          "output_type": "execute_result",
          "data": {
            "text/plain": [
              "RandomForestRegressor(bootstrap=True, ccp_alpha=0.0, criterion='mse',\n",
              "                      max_depth=20, max_features='auto', max_leaf_nodes=None,\n",
              "                      max_samples=None, min_impurity_decrease=0.0,\n",
              "                      min_impurity_split=None, min_samples_leaf=1,\n",
              "                      min_samples_split=2, min_weight_fraction_leaf=0.0,\n",
              "                      n_estimators=10, n_jobs=-1, oob_score=False,\n",
              "                      random_state=1, verbose=0, warm_start=False)"
            ]
          },
          "metadata": {},
          "execution_count": 77
        }
      ]
    },
    {
      "cell_type": "code",
      "metadata": {
        "colab": {
          "base_uri": "https://localhost:8080/"
        },
        "id": "t0T_VgGi183u",
        "outputId": "9e9448d9-7325-4428-a9e4-0e0f22ab4ff5"
      },
      "source": [
        "list(zip(dv.feature_names_, rf1.feature_importances_))"
      ],
      "execution_count": 78,
      "outputs": [
        {
          "output_type": "execute_result",
          "data": {
            "text/plain": [
              "[('availability_365', 0.07651608462923112),\n",
              " ('calculated_host_listings_count', 0.030906352520589986),\n",
              " ('latitude', 0.15205397490899036),\n",
              " ('longitude', 0.15321933669623872),\n",
              " ('minimum_nights', 0.0536452299566982),\n",
              " ('neighbourhood_group=Bronx', 0.0002838225491492307),\n",
              " ('neighbourhood_group=Brooklyn', 0.0011661162111558155),\n",
              " ('neighbourhood_group=Manhattan', 0.03401674428986242),\n",
              " ('neighbourhood_group=Queens', 0.0011532423357895512),\n",
              " ('neighbourhood_group=Staten Island', 0.00011802695206485345),\n",
              " ('number_of_reviews', 0.0435248857335957),\n",
              " ('reviews_per_month', 0.05243793489874994),\n",
              " ('room_type=Entire home/apt', 0.3918968371926611),\n",
              " ('room_type=Private room', 0.004520617592045859),\n",
              " ('room_type=Shared room', 0.004540793533177226)]"
            ]
          },
          "metadata": {},
          "execution_count": 78
        }
      ]
    },
    {
      "cell_type": "markdown",
      "metadata": {
        "id": "OydhVotXvp4W"
      },
      "source": [
        "What's the most important feature? \n",
        "\n",
        "* `neighbourhood_group=Manhattan`\n",
        "* `room_type=Entire home/apt`\t\n",
        "* `longitude`\n",
        "* `latitude`"
      ]
    },
    {
      "cell_type": "markdown",
      "metadata": {
        "id": "y0E2Y_zgvp4W"
      },
      "source": [
        "## Question 6"
      ]
    },
    {
      "cell_type": "markdown",
      "metadata": {
        "id": "PPmf8VKXvp4X"
      },
      "source": [
        "Now let's train an XGBoost model! For this question, we'll tune the `eta` parameter\n",
        "\n",
        "* Install XGBoost\n",
        "* Create DMatrix for train and validation\n",
        "* Create a watchlist\n",
        "* Train a model with these parameters for 100 rounds:\n",
        "\n",
        "```\n",
        "xgb_params = {\n",
        "    'eta': 0.3, \n",
        "    'max_depth': 6,\n",
        "    'min_child_weight': 1,\n",
        "    \n",
        "    'objective': 'reg:squarederror',\n",
        "    'nthread': 8,\n",
        "    \n",
        "    'seed': 1,\n",
        "    'verbosity': 1,\n",
        "}\n",
        "```"
      ]
    },
    {
      "cell_type": "code",
      "metadata": {
        "id": "5wsbuPI_vp4X"
      },
      "source": [
        "import xgboost as xgb"
      ],
      "execution_count": 79,
      "outputs": []
    },
    {
      "cell_type": "code",
      "metadata": {
        "id": "7MGoSGY98gED"
      },
      "source": [
        "dtrain = xgb.DMatrix(X_train1, label=y_train, feature_names=dv.feature_names_)\n",
        "dval = xgb.DMatrix(X_val1, label=y_val, feature_names=dv.feature_names_)"
      ],
      "execution_count": 81,
      "outputs": []
    },
    {
      "cell_type": "code",
      "metadata": {
        "id": "fjLRlXAjAsMz"
      },
      "source": [
        "watchlist=[(dtrain,'train'),(dval,'val')]"
      ],
      "execution_count": 82,
      "outputs": []
    },
    {
      "cell_type": "code",
      "metadata": {
        "id": "BQpoZv6_9S6V",
        "outputId": "b71bff35-d8fd-4fbb-9dd0-56932be65663",
        "colab": {
          "base_uri": "https://localhost:8080/"
        }
      },
      "source": [
        "xgb_params = {\n",
        "    'eta': 0.3, \n",
        "    'max_depth': 6,\n",
        "    'min_child_weight': 1,\n",
        "\n",
        "    'objective': 'reg:squarederror',\n",
        "    'nthread': 8,\n",
        "\n",
        "    'seed': 1,\n",
        "    'verbosity': 1,\n",
        "}\n",
        "xgbt = xgb.train(xgb_params, dtrain, num_boost_round=100,evals=watchlist)"
      ],
      "execution_count": 84,
      "outputs": [
        {
          "output_type": "stream",
          "name": "stdout",
          "text": [
            "[0]\ttrain-rmse:3.02752\tval-rmse:3.02415\n",
            "[1]\ttrain-rmse:2.14667\tval-rmse:2.1439\n",
            "[2]\ttrain-rmse:1.53878\tval-rmse:1.53721\n",
            "[3]\ttrain-rmse:1.12557\tval-rmse:1.12524\n",
            "[4]\ttrain-rmse:0.851002\tval-rmse:0.851752\n",
            "[5]\ttrain-rmse:0.674904\tval-rmse:0.677523\n",
            "[6]\ttrain-rmse:0.566867\tval-rmse:0.571483\n",
            "[7]\ttrain-rmse:0.504476\tval-rmse:0.511388\n",
            "[8]\ttrain-rmse:0.469135\tval-rmse:0.477768\n",
            "[9]\ttrain-rmse:0.450101\tval-rmse:0.459656\n",
            "[10]\ttrain-rmse:0.439151\tval-rmse:0.449813\n",
            "[11]\ttrain-rmse:0.433304\tval-rmse:0.444755\n",
            "[12]\ttrain-rmse:0.42939\tval-rmse:0.442105\n",
            "[13]\ttrain-rmse:0.426859\tval-rmse:0.440504\n",
            "[14]\ttrain-rmse:0.424518\tval-rmse:0.439644\n",
            "[15]\ttrain-rmse:0.423031\tval-rmse:0.439126\n",
            "[16]\ttrain-rmse:0.420145\tval-rmse:0.437716\n",
            "[17]\ttrain-rmse:0.419024\tval-rmse:0.437486\n",
            "[18]\ttrain-rmse:0.418434\tval-rmse:0.437265\n",
            "[19]\ttrain-rmse:0.417949\tval-rmse:0.437266\n",
            "[20]\ttrain-rmse:0.417245\tval-rmse:0.437226\n",
            "[21]\ttrain-rmse:0.415279\tval-rmse:0.436491\n",
            "[22]\ttrain-rmse:0.414449\tval-rmse:0.436191\n",
            "[23]\ttrain-rmse:0.414126\tval-rmse:0.436189\n",
            "[24]\ttrain-rmse:0.413631\tval-rmse:0.436156\n",
            "[25]\ttrain-rmse:0.412681\tval-rmse:0.436174\n",
            "[26]\ttrain-rmse:0.41079\tval-rmse:0.435662\n",
            "[27]\ttrain-rmse:0.410167\tval-rmse:0.435704\n",
            "[28]\ttrain-rmse:0.408406\tval-rmse:0.43518\n",
            "[29]\ttrain-rmse:0.407929\tval-rmse:0.43521\n",
            "[30]\ttrain-rmse:0.407563\tval-rmse:0.435124\n",
            "[31]\ttrain-rmse:0.407402\tval-rmse:0.43514\n",
            "[32]\ttrain-rmse:0.406406\tval-rmse:0.434718\n",
            "[33]\ttrain-rmse:0.406284\tval-rmse:0.434722\n",
            "[34]\ttrain-rmse:0.405967\tval-rmse:0.434632\n",
            "[35]\ttrain-rmse:0.404793\tval-rmse:0.434324\n",
            "[36]\ttrain-rmse:0.404311\tval-rmse:0.434411\n",
            "[37]\ttrain-rmse:0.403232\tval-rmse:0.434401\n",
            "[38]\ttrain-rmse:0.402524\tval-rmse:0.434326\n",
            "[39]\ttrain-rmse:0.401856\tval-rmse:0.434527\n",
            "[40]\ttrain-rmse:0.401326\tval-rmse:0.434602\n",
            "[41]\ttrain-rmse:0.401239\tval-rmse:0.434606\n",
            "[42]\ttrain-rmse:0.400843\tval-rmse:0.434614\n",
            "[43]\ttrain-rmse:0.400622\tval-rmse:0.434606\n",
            "[44]\ttrain-rmse:0.400242\tval-rmse:0.434692\n",
            "[45]\ttrain-rmse:0.399043\tval-rmse:0.434132\n",
            "[46]\ttrain-rmse:0.39824\tval-rmse:0.434213\n",
            "[47]\ttrain-rmse:0.398051\tval-rmse:0.434152\n",
            "[48]\ttrain-rmse:0.397506\tval-rmse:0.434001\n",
            "[49]\ttrain-rmse:0.396752\tval-rmse:0.433726\n",
            "[50]\ttrain-rmse:0.395527\tval-rmse:0.433357\n",
            "[51]\ttrain-rmse:0.394522\tval-rmse:0.433401\n",
            "[52]\ttrain-rmse:0.393319\tval-rmse:0.433545\n",
            "[53]\ttrain-rmse:0.392503\tval-rmse:0.433531\n",
            "[54]\ttrain-rmse:0.391991\tval-rmse:0.433631\n",
            "[55]\ttrain-rmse:0.391777\tval-rmse:0.433642\n",
            "[56]\ttrain-rmse:0.391147\tval-rmse:0.433673\n",
            "[57]\ttrain-rmse:0.391039\tval-rmse:0.433613\n",
            "[58]\ttrain-rmse:0.390811\tval-rmse:0.433598\n",
            "[59]\ttrain-rmse:0.389819\tval-rmse:0.433417\n",
            "[60]\ttrain-rmse:0.388646\tval-rmse:0.43327\n",
            "[61]\ttrain-rmse:0.3874\tval-rmse:0.433328\n",
            "[62]\ttrain-rmse:0.386707\tval-rmse:0.432925\n",
            "[63]\ttrain-rmse:0.386409\tval-rmse:0.432932\n",
            "[64]\ttrain-rmse:0.384965\tval-rmse:0.432698\n",
            "[65]\ttrain-rmse:0.383917\tval-rmse:0.432713\n",
            "[66]\ttrain-rmse:0.383111\tval-rmse:0.432582\n",
            "[67]\ttrain-rmse:0.382678\tval-rmse:0.432494\n",
            "[68]\ttrain-rmse:0.382023\tval-rmse:0.432767\n",
            "[69]\ttrain-rmse:0.381703\tval-rmse:0.432764\n",
            "[70]\ttrain-rmse:0.380675\tval-rmse:0.432784\n",
            "[71]\ttrain-rmse:0.379796\tval-rmse:0.432762\n",
            "[72]\ttrain-rmse:0.379158\tval-rmse:0.43284\n",
            "[73]\ttrain-rmse:0.378347\tval-rmse:0.432833\n",
            "[74]\ttrain-rmse:0.37811\tval-rmse:0.433031\n",
            "[75]\ttrain-rmse:0.377159\tval-rmse:0.432945\n",
            "[76]\ttrain-rmse:0.37654\tval-rmse:0.432957\n",
            "[77]\ttrain-rmse:0.376294\tval-rmse:0.432947\n",
            "[78]\ttrain-rmse:0.375343\tval-rmse:0.432899\n",
            "[79]\ttrain-rmse:0.374981\tval-rmse:0.432732\n",
            "[80]\ttrain-rmse:0.374531\tval-rmse:0.432804\n",
            "[81]\ttrain-rmse:0.374157\tval-rmse:0.432837\n",
            "[82]\ttrain-rmse:0.373987\tval-rmse:0.432861\n",
            "[83]\ttrain-rmse:0.373639\tval-rmse:0.433009\n",
            "[84]\ttrain-rmse:0.373034\tval-rmse:0.432886\n",
            "[85]\ttrain-rmse:0.37268\tval-rmse:0.4331\n",
            "[86]\ttrain-rmse:0.371959\tval-rmse:0.433217\n",
            "[87]\ttrain-rmse:0.371162\tval-rmse:0.433563\n",
            "[88]\ttrain-rmse:0.370902\tval-rmse:0.433585\n",
            "[89]\ttrain-rmse:0.370372\tval-rmse:0.433544\n",
            "[90]\ttrain-rmse:0.370312\tval-rmse:0.433563\n",
            "[91]\ttrain-rmse:0.369742\tval-rmse:0.433568\n",
            "[92]\ttrain-rmse:0.368692\tval-rmse:0.433497\n",
            "[93]\ttrain-rmse:0.367757\tval-rmse:0.433543\n",
            "[94]\ttrain-rmse:0.366946\tval-rmse:0.433673\n",
            "[95]\ttrain-rmse:0.366663\tval-rmse:0.433719\n",
            "[96]\ttrain-rmse:0.365954\tval-rmse:0.433802\n",
            "[97]\ttrain-rmse:0.365645\tval-rmse:0.433925\n",
            "[98]\ttrain-rmse:0.364781\tval-rmse:0.433995\n",
            "[99]\ttrain-rmse:0.36437\tval-rmse:0.434066\n"
          ]
        }
      ]
    },
    {
      "cell_type": "markdown",
      "metadata": {
        "id": "30KyPmzivp4Y"
      },
      "source": [
        "Now change `eta` first to `0.1` and then to `0.01`"
      ]
    },
    {
      "cell_type": "code",
      "metadata": {
        "id": "p35UYb2Wvp4Y",
        "colab": {
          "base_uri": "https://localhost:8080/"
        },
        "outputId": "7b5c97f8-3bb1-45d5-8f19-551286e776e7"
      },
      "source": [
        "xgb_params = {\n",
        "    'eta': 0.1, \n",
        "    'max_depth': 6,\n",
        "    'min_child_weight': 1,\n",
        "\n",
        "    'objective': 'reg:squarederror',\n",
        "    'nthread': 8,\n",
        "\n",
        "    'seed': 1,\n",
        "    'verbosity': 1,\n",
        "}\n",
        "xgbt = xgb.train(xgb_params, dtrain, num_boost_round=100,evals=watchlist)"
      ],
      "execution_count": 85,
      "outputs": [
        {
          "output_type": "stream",
          "name": "stdout",
          "text": [
            "[0]\ttrain-rmse:3.87217\tval-rmse:3.86889\n",
            "[1]\ttrain-rmse:3.4915\tval-rmse:3.4884\n",
            "[2]\ttrain-rmse:3.14949\tval-rmse:3.14635\n",
            "[3]\ttrain-rmse:2.84231\tval-rmse:2.83953\n",
            "[4]\ttrain-rmse:2.56649\tval-rmse:2.56407\n",
            "[5]\ttrain-rmse:2.31905\tval-rmse:2.31689\n",
            "[6]\ttrain-rmse:2.09713\tval-rmse:2.09526\n",
            "[7]\ttrain-rmse:1.89832\tval-rmse:1.89664\n",
            "[8]\ttrain-rmse:1.72031\tval-rmse:1.71879\n",
            "[9]\ttrain-rmse:1.5612\tval-rmse:1.55978\n",
            "[10]\ttrain-rmse:1.41919\tval-rmse:1.41798\n",
            "[11]\ttrain-rmse:1.29245\tval-rmse:1.29158\n",
            "[12]\ttrain-rmse:1.17975\tval-rmse:1.1792\n",
            "[13]\ttrain-rmse:1.07969\tval-rmse:1.07948\n",
            "[14]\ttrain-rmse:0.99115\tval-rmse:0.991265\n",
            "[15]\ttrain-rmse:0.912897\tval-rmse:0.913599\n",
            "[16]\ttrain-rmse:0.843951\tval-rmse:0.845246\n",
            "[17]\ttrain-rmse:0.783592\tval-rmse:0.785267\n",
            "[18]\ttrain-rmse:0.730789\tval-rmse:0.733102\n",
            "[19]\ttrain-rmse:0.684904\tval-rmse:0.687857\n",
            "[20]\ttrain-rmse:0.645011\tval-rmse:0.648887\n",
            "[21]\ttrain-rmse:0.610787\tval-rmse:0.615211\n",
            "[22]\ttrain-rmse:0.581375\tval-rmse:0.586417\n",
            "[23]\ttrain-rmse:0.556266\tval-rmse:0.562046\n",
            "[24]\ttrain-rmse:0.535029\tval-rmse:0.541461\n",
            "[25]\ttrain-rmse:0.517091\tval-rmse:0.52394\n",
            "[26]\ttrain-rmse:0.501839\tval-rmse:0.509181\n",
            "[27]\ttrain-rmse:0.489165\tval-rmse:0.497065\n",
            "[28]\ttrain-rmse:0.478232\tval-rmse:0.486831\n",
            "[29]\ttrain-rmse:0.469151\tval-rmse:0.478242\n",
            "[30]\ttrain-rmse:0.461519\tval-rmse:0.471089\n",
            "[31]\ttrain-rmse:0.455255\tval-rmse:0.46543\n",
            "[32]\ttrain-rmse:0.449975\tval-rmse:0.460653\n",
            "[33]\ttrain-rmse:0.445368\tval-rmse:0.456502\n",
            "[34]\ttrain-rmse:0.441567\tval-rmse:0.45318\n",
            "[35]\ttrain-rmse:0.438045\tval-rmse:0.450283\n",
            "[36]\ttrain-rmse:0.435374\tval-rmse:0.448054\n",
            "[37]\ttrain-rmse:0.433185\tval-rmse:0.44602\n",
            "[38]\ttrain-rmse:0.431284\tval-rmse:0.444371\n",
            "[39]\ttrain-rmse:0.429551\tval-rmse:0.443038\n",
            "[40]\ttrain-rmse:0.427864\tval-rmse:0.44178\n",
            "[41]\ttrain-rmse:0.42655\tval-rmse:0.440597\n",
            "[42]\ttrain-rmse:0.425418\tval-rmse:0.439901\n",
            "[43]\ttrain-rmse:0.424369\tval-rmse:0.439224\n",
            "[44]\ttrain-rmse:0.423468\tval-rmse:0.438677\n",
            "[45]\ttrain-rmse:0.422597\tval-rmse:0.438206\n",
            "[46]\ttrain-rmse:0.421642\tval-rmse:0.437746\n",
            "[47]\ttrain-rmse:0.420726\tval-rmse:0.437199\n",
            "[48]\ttrain-rmse:0.420044\tval-rmse:0.43676\n",
            "[49]\ttrain-rmse:0.419385\tval-rmse:0.436477\n",
            "[50]\ttrain-rmse:0.418963\tval-rmse:0.436207\n",
            "[51]\ttrain-rmse:0.418449\tval-rmse:0.436142\n",
            "[52]\ttrain-rmse:0.417806\tval-rmse:0.435999\n",
            "[53]\ttrain-rmse:0.417223\tval-rmse:0.435706\n",
            "[54]\ttrain-rmse:0.416967\tval-rmse:0.435679\n",
            "[55]\ttrain-rmse:0.416481\tval-rmse:0.435422\n",
            "[56]\ttrain-rmse:0.41619\tval-rmse:0.435381\n",
            "[57]\ttrain-rmse:0.415683\tval-rmse:0.435129\n",
            "[58]\ttrain-rmse:0.415414\tval-rmse:0.435093\n",
            "[59]\ttrain-rmse:0.414992\tval-rmse:0.434943\n",
            "[60]\ttrain-rmse:0.414688\tval-rmse:0.434822\n",
            "[61]\ttrain-rmse:0.414242\tval-rmse:0.434781\n",
            "[62]\ttrain-rmse:0.4137\tval-rmse:0.43474\n",
            "[63]\ttrain-rmse:0.413505\tval-rmse:0.434722\n",
            "[64]\ttrain-rmse:0.412916\tval-rmse:0.434555\n",
            "[65]\ttrain-rmse:0.412339\tval-rmse:0.434327\n",
            "[66]\ttrain-rmse:0.412241\tval-rmse:0.434333\n",
            "[67]\ttrain-rmse:0.411911\tval-rmse:0.434277\n",
            "[68]\ttrain-rmse:0.411579\tval-rmse:0.434178\n",
            "[69]\ttrain-rmse:0.411075\tval-rmse:0.433945\n",
            "[70]\ttrain-rmse:0.410824\tval-rmse:0.433942\n",
            "[71]\ttrain-rmse:0.410721\tval-rmse:0.433965\n",
            "[72]\ttrain-rmse:0.410328\tval-rmse:0.433895\n",
            "[73]\ttrain-rmse:0.409963\tval-rmse:0.433768\n",
            "[74]\ttrain-rmse:0.409813\tval-rmse:0.43373\n",
            "[75]\ttrain-rmse:0.409584\tval-rmse:0.433725\n",
            "[76]\ttrain-rmse:0.409233\tval-rmse:0.433748\n",
            "[77]\ttrain-rmse:0.40911\tval-rmse:0.433727\n",
            "[78]\ttrain-rmse:0.408724\tval-rmse:0.433694\n",
            "[79]\ttrain-rmse:0.408341\tval-rmse:0.433656\n",
            "[80]\ttrain-rmse:0.407816\tval-rmse:0.433406\n",
            "[81]\ttrain-rmse:0.407755\tval-rmse:0.433413\n",
            "[82]\ttrain-rmse:0.407227\tval-rmse:0.433302\n",
            "[83]\ttrain-rmse:0.406882\tval-rmse:0.433214\n",
            "[84]\ttrain-rmse:0.406806\tval-rmse:0.433234\n",
            "[85]\ttrain-rmse:0.406555\tval-rmse:0.433194\n",
            "[86]\ttrain-rmse:0.406124\tval-rmse:0.433063\n",
            "[87]\ttrain-rmse:0.405932\tval-rmse:0.433046\n",
            "[88]\ttrain-rmse:0.405745\tval-rmse:0.433059\n",
            "[89]\ttrain-rmse:0.405708\tval-rmse:0.433065\n",
            "[90]\ttrain-rmse:0.405447\tval-rmse:0.432963\n",
            "[91]\ttrain-rmse:0.405205\tval-rmse:0.43297\n",
            "[92]\ttrain-rmse:0.405154\tval-rmse:0.432959\n",
            "[93]\ttrain-rmse:0.404779\tval-rmse:0.432877\n",
            "[94]\ttrain-rmse:0.404524\tval-rmse:0.432904\n",
            "[95]\ttrain-rmse:0.404238\tval-rmse:0.43287\n",
            "[96]\ttrain-rmse:0.404184\tval-rmse:0.432859\n",
            "[97]\ttrain-rmse:0.404084\tval-rmse:0.432854\n",
            "[98]\ttrain-rmse:0.404053\tval-rmse:0.432884\n",
            "[99]\ttrain-rmse:0.404032\tval-rmse:0.432873\n"
          ]
        }
      ]
    },
    {
      "cell_type": "code",
      "metadata": {
        "id": "eOamQBdKBxDG",
        "outputId": "b0d96811-8d71-41d7-8ba5-18d295c54ca5",
        "colab": {
          "base_uri": "https://localhost:8080/"
        }
      },
      "source": [
        "xgb_params = {\n",
        "    'eta': 0.01, \n",
        "    'max_depth': 6,\n",
        "    'min_child_weight': 1,\n",
        "\n",
        "    'objective': 'reg:squarederror',\n",
        "    'nthread': 8,\n",
        "\n",
        "    'seed': 1,\n",
        "    'verbosity': 1,\n",
        "}\n",
        "xgbt = xgb.train(xgb_params, dtrain, num_boost_round=100,evals=watchlist)"
      ],
      "execution_count": 86,
      "outputs": [
        {
          "output_type": "stream",
          "name": "stdout",
          "text": [
            "[0]\ttrain-rmse:4.25336\tval-rmse:4.2501\n",
            "[1]\ttrain-rmse:4.21141\tval-rmse:4.20815\n",
            "[2]\ttrain-rmse:4.16988\tval-rmse:4.16661\n",
            "[3]\ttrain-rmse:4.12877\tval-rmse:4.12551\n",
            "[4]\ttrain-rmse:4.08807\tval-rmse:4.08481\n",
            "[5]\ttrain-rmse:4.04779\tval-rmse:4.04454\n",
            "[6]\ttrain-rmse:4.00792\tval-rmse:4.00467\n",
            "[7]\ttrain-rmse:3.96845\tval-rmse:3.96521\n",
            "[8]\ttrain-rmse:3.92937\tval-rmse:3.92616\n",
            "[9]\ttrain-rmse:3.8907\tval-rmse:3.88749\n",
            "[10]\ttrain-rmse:3.85242\tval-rmse:3.84922\n",
            "[11]\ttrain-rmse:3.81452\tval-rmse:3.81133\n",
            "[12]\ttrain-rmse:3.77701\tval-rmse:3.77383\n",
            "[13]\ttrain-rmse:3.73988\tval-rmse:3.73672\n",
            "[14]\ttrain-rmse:3.70313\tval-rmse:3.69996\n",
            "[15]\ttrain-rmse:3.66674\tval-rmse:3.66359\n",
            "[16]\ttrain-rmse:3.63073\tval-rmse:3.62759\n",
            "[17]\ttrain-rmse:3.59508\tval-rmse:3.59194\n",
            "[18]\ttrain-rmse:3.55979\tval-rmse:3.55665\n",
            "[19]\ttrain-rmse:3.52487\tval-rmse:3.52174\n",
            "[20]\ttrain-rmse:3.4903\tval-rmse:3.48718\n",
            "[21]\ttrain-rmse:3.45608\tval-rmse:3.45298\n",
            "[22]\ttrain-rmse:3.4222\tval-rmse:3.41911\n",
            "[23]\ttrain-rmse:3.38867\tval-rmse:3.38559\n",
            "[24]\ttrain-rmse:3.35548\tval-rmse:3.3524\n",
            "[25]\ttrain-rmse:3.32263\tval-rmse:3.31956\n",
            "[26]\ttrain-rmse:3.29012\tval-rmse:3.28705\n",
            "[27]\ttrain-rmse:3.25793\tval-rmse:3.25487\n",
            "[28]\ttrain-rmse:3.22606\tval-rmse:3.22302\n",
            "[29]\ttrain-rmse:3.19453\tval-rmse:3.19149\n",
            "[30]\ttrain-rmse:3.16332\tval-rmse:3.16027\n",
            "[31]\ttrain-rmse:3.13243\tval-rmse:3.12941\n",
            "[32]\ttrain-rmse:3.10184\tval-rmse:3.09883\n",
            "[33]\ttrain-rmse:3.07157\tval-rmse:3.06858\n",
            "[34]\ttrain-rmse:3.04161\tval-rmse:3.03863\n",
            "[35]\ttrain-rmse:3.01196\tval-rmse:3.00898\n",
            "[36]\ttrain-rmse:2.98261\tval-rmse:2.97966\n",
            "[37]\ttrain-rmse:2.95355\tval-rmse:2.9506\n",
            "[38]\ttrain-rmse:2.9248\tval-rmse:2.92188\n",
            "[39]\ttrain-rmse:2.89634\tval-rmse:2.89345\n",
            "[40]\ttrain-rmse:2.86817\tval-rmse:2.86532\n",
            "[41]\ttrain-rmse:2.84029\tval-rmse:2.83744\n",
            "[42]\ttrain-rmse:2.81269\tval-rmse:2.80988\n",
            "[43]\ttrain-rmse:2.78537\tval-rmse:2.78259\n",
            "[44]\ttrain-rmse:2.75834\tval-rmse:2.75558\n",
            "[45]\ttrain-rmse:2.73158\tval-rmse:2.72884\n",
            "[46]\ttrain-rmse:2.7051\tval-rmse:2.70237\n",
            "[47]\ttrain-rmse:2.67889\tval-rmse:2.67619\n",
            "[48]\ttrain-rmse:2.65294\tval-rmse:2.65028\n",
            "[49]\ttrain-rmse:2.62726\tval-rmse:2.62462\n",
            "[50]\ttrain-rmse:2.60185\tval-rmse:2.59924\n",
            "[51]\ttrain-rmse:2.5767\tval-rmse:2.57412\n",
            "[52]\ttrain-rmse:2.55181\tval-rmse:2.54924\n",
            "[53]\ttrain-rmse:2.52717\tval-rmse:2.5246\n",
            "[54]\ttrain-rmse:2.50278\tval-rmse:2.50025\n",
            "[55]\ttrain-rmse:2.47865\tval-rmse:2.47614\n",
            "[56]\ttrain-rmse:2.45477\tval-rmse:2.45227\n",
            "[57]\ttrain-rmse:2.43113\tval-rmse:2.42867\n",
            "[58]\ttrain-rmse:2.40774\tval-rmse:2.4053\n",
            "[59]\ttrain-rmse:2.38459\tval-rmse:2.38216\n",
            "[60]\ttrain-rmse:2.36167\tval-rmse:2.35927\n",
            "[61]\ttrain-rmse:2.339\tval-rmse:2.33662\n",
            "[62]\ttrain-rmse:2.31655\tval-rmse:2.31421\n",
            "[63]\ttrain-rmse:2.29434\tval-rmse:2.29203\n",
            "[64]\ttrain-rmse:2.27236\tval-rmse:2.27007\n",
            "[65]\ttrain-rmse:2.25061\tval-rmse:2.24836\n",
            "[66]\ttrain-rmse:2.22908\tval-rmse:2.22686\n",
            "[67]\ttrain-rmse:2.20778\tval-rmse:2.20558\n",
            "[68]\ttrain-rmse:2.1867\tval-rmse:2.18452\n",
            "[69]\ttrain-rmse:2.16583\tval-rmse:2.16366\n",
            "[70]\ttrain-rmse:2.14519\tval-rmse:2.14303\n",
            "[71]\ttrain-rmse:2.12476\tval-rmse:2.12262\n",
            "[72]\ttrain-rmse:2.10454\tval-rmse:2.10242\n",
            "[73]\ttrain-rmse:2.08453\tval-rmse:2.08244\n",
            "[74]\ttrain-rmse:2.06474\tval-rmse:2.06267\n",
            "[75]\ttrain-rmse:2.04515\tval-rmse:2.04309\n",
            "[76]\ttrain-rmse:2.02575\tval-rmse:2.02374\n",
            "[77]\ttrain-rmse:2.00657\tval-rmse:2.00459\n",
            "[78]\ttrain-rmse:1.98758\tval-rmse:1.98564\n",
            "[79]\ttrain-rmse:1.9688\tval-rmse:1.96687\n",
            "[80]\ttrain-rmse:1.95021\tval-rmse:1.94831\n",
            "[81]\ttrain-rmse:1.93182\tval-rmse:1.92993\n",
            "[82]\ttrain-rmse:1.91362\tval-rmse:1.91176\n",
            "[83]\ttrain-rmse:1.89561\tval-rmse:1.89376\n",
            "[84]\ttrain-rmse:1.87779\tval-rmse:1.87597\n",
            "[85]\ttrain-rmse:1.86016\tval-rmse:1.85836\n",
            "[86]\ttrain-rmse:1.8427\tval-rmse:1.84095\n",
            "[87]\ttrain-rmse:1.82543\tval-rmse:1.82371\n",
            "[88]\ttrain-rmse:1.80835\tval-rmse:1.80666\n",
            "[89]\ttrain-rmse:1.79146\tval-rmse:1.78978\n",
            "[90]\ttrain-rmse:1.77473\tval-rmse:1.77307\n",
            "[91]\ttrain-rmse:1.75817\tval-rmse:1.75655\n",
            "[92]\ttrain-rmse:1.74181\tval-rmse:1.7402\n",
            "[93]\ttrain-rmse:1.72561\tval-rmse:1.72403\n",
            "[94]\ttrain-rmse:1.70958\tval-rmse:1.70802\n",
            "[95]\ttrain-rmse:1.69373\tval-rmse:1.69216\n",
            "[96]\ttrain-rmse:1.67804\tval-rmse:1.6765\n",
            "[97]\ttrain-rmse:1.66251\tval-rmse:1.66099\n",
            "[98]\ttrain-rmse:1.64716\tval-rmse:1.64566\n",
            "[99]\ttrain-rmse:1.63197\tval-rmse:1.63049\n"
          ]
        }
      ]
    },
    {
      "cell_type": "markdown",
      "metadata": {
        "id": "1q7hyN2dvp4Y"
      },
      "source": [
        "Which eta leads to the best RMSE score on the validation dataset?\n",
        "\n",
        "* 0.3\n",
        "* 0.1\n",
        "* 0.01"
      ]
    },
    {
      "cell_type": "markdown",
      "metadata": {
        "id": "iRU4i5W3vp4Z"
      },
      "source": [
        "## Submit the results\n",
        "\n",
        "\n",
        "Submit your results here: https://forms.gle/wQgFkYE6CtdDed4w8\n",
        "\n",
        "It's possible that your answers won't match exactly. If it's the case, select the closest one.\n",
        "\n",
        "\n",
        "## Deadline\n",
        "\n",
        "\n",
        "The deadline for submitting is 20 October 2021, 17:00 CET (Wednesday). After that, the form will be closed.\n",
        "\n"
      ]
    }
  ]
}