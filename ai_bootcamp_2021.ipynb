{
  "nbformat": 4,
  "nbformat_minor": 0,
  "metadata": {
    "colab": {
      "name": "ai-bootcamp-2021.ipynb",
      "provenance": [],
      "collapsed_sections": [],
      "authorship_tag": "ABX9TyNASTdy4DihnbL8LuaHRQhg",
      "include_colab_link": true
    },
    "kernelspec": {
      "display_name": "Python 3",
      "name": "python3"
    },
    "language_info": {
      "name": "python"
    }
  },
  "cells": [
    {
      "cell_type": "markdown",
      "metadata": {
        "id": "view-in-github",
        "colab_type": "text"
      },
      "source": [
        "<a href=\"https://colab.research.google.com/github/Phunbie/assignments/blob/main/ai_bootcamp_2021.ipynb\" target=\"_parent\"><img src=\"https://colab.research.google.com/assets/colab-badge.svg\" alt=\"Open In Colab\"/></a>"
      ]
    },
    {
      "cell_type": "markdown",
      "metadata": {
        "id": "6SR-n5RQg4px"
      },
      "source": [
        "#Data preparation"
      ]
    },
    {
      "cell_type": "code",
      "metadata": {
        "id": "P3EZs8EQed8G"
      },
      "source": [
        "import pandas as pd"
      ],
      "execution_count": null,
      "outputs": []
    },
    {
      "cell_type": "code",
      "metadata": {
        "id": "6YuCYdC7cfAP"
      },
      "source": [
        "train_url ='/content/Train (1).csv'"
      ],
      "execution_count": null,
      "outputs": []
    },
    {
      "cell_type": "code",
      "metadata": {
        "id": "dKLog18mdvZz"
      },
      "source": [
        "test_url = '/content/Test (1).csv'"
      ],
      "execution_count": null,
      "outputs": []
    },
    {
      "cell_type": "code",
      "metadata": {
        "id": "4QzhwZG8d_58"
      },
      "source": [
        "sample_url= '/content/SampleSubmission.csv'\n",
        "submission=pd.read_csv(sample_url)"
      ],
      "execution_count": null,
      "outputs": []
    },
    {
      "cell_type": "code",
      "metadata": {
        "colab": {
          "base_uri": "https://localhost:8080/",
          "height": 434
        },
        "id": "rfENcvrUeVLq",
        "outputId": "8c24d806-31ee-4809-a96a-7da97b0eeccd"
      },
      "source": [
        "df_train= pd.read_csv(train_url)\n",
        "df_train "
      ],
      "execution_count": null,
      "outputs": [
        {
          "output_type": "execute_result",
          "data": {
            "text/html": [
              "<div>\n",
              "<style scoped>\n",
              "    .dataframe tbody tr th:only-of-type {\n",
              "        vertical-align: middle;\n",
              "    }\n",
              "\n",
              "    .dataframe tbody tr th {\n",
              "        vertical-align: top;\n",
              "    }\n",
              "\n",
              "    .dataframe thead th {\n",
              "        text-align: right;\n",
              "    }\n",
              "</style>\n",
              "<table border=\"1\" class=\"dataframe\">\n",
              "  <thead>\n",
              "    <tr style=\"text-align: right;\">\n",
              "      <th></th>\n",
              "      <th>ID</th>\n",
              "      <th>Year_of_Birth</th>\n",
              "      <th>Education_Level</th>\n",
              "      <th>Marital_Status</th>\n",
              "      <th>Disposable_Income</th>\n",
              "      <th>No_of_Kids_in_home</th>\n",
              "      <th>No_of_Teen_in_home</th>\n",
              "      <th>Date_Customer</th>\n",
              "      <th>Recency</th>\n",
              "      <th>Discounted_Purchases</th>\n",
              "      <th>WebPurchases</th>\n",
              "      <th>CatalogPurchases</th>\n",
              "      <th>StorePurchases</th>\n",
              "      <th>Amount_on_Wines</th>\n",
              "      <th>Amount_on_Fruits</th>\n",
              "      <th>Amount_on_MeatProducts</th>\n",
              "      <th>Amount_on_FishProducts</th>\n",
              "      <th>Amount_on_SweetProducts</th>\n",
              "      <th>Amount_on_GoldProds</th>\n",
              "      <th>WebVisitsMonth</th>\n",
              "      <th>Cmp3Accepted</th>\n",
              "      <th>Cmp4Accepted</th>\n",
              "      <th>Cmp5Accepted</th>\n",
              "      <th>Cmp1Accepted</th>\n",
              "      <th>Cmp2Accepted</th>\n",
              "      <th>Any_Complain</th>\n",
              "      <th>Response</th>\n",
              "    </tr>\n",
              "  </thead>\n",
              "  <tbody>\n",
              "    <tr>\n",
              "      <th>0</th>\n",
              "      <td>ID_4A9AR6FQ</td>\n",
              "      <td>1955</td>\n",
              "      <td>Graduation</td>\n",
              "      <td>Divorced</td>\n",
              "      <td>77504.4</td>\n",
              "      <td>1</td>\n",
              "      <td>1</td>\n",
              "      <td>22-06-2014</td>\n",
              "      <td>56</td>\n",
              "      <td>2</td>\n",
              "      <td>1</td>\n",
              "      <td>1</td>\n",
              "      <td>4</td>\n",
              "      <td>71</td>\n",
              "      <td>3</td>\n",
              "      <td>16</td>\n",
              "      <td>0</td>\n",
              "      <td>6</td>\n",
              "      <td>20</td>\n",
              "      <td>3</td>\n",
              "      <td>0</td>\n",
              "      <td>0</td>\n",
              "      <td>0</td>\n",
              "      <td>0</td>\n",
              "      <td>0</td>\n",
              "      <td>0</td>\n",
              "      <td>0</td>\n",
              "    </tr>\n",
              "    <tr>\n",
              "      <th>1</th>\n",
              "      <td>ID_X28T3VEK</td>\n",
              "      <td>1958</td>\n",
              "      <td>Graduation</td>\n",
              "      <td>Together</td>\n",
              "      <td>56784.0</td>\n",
              "      <td>0</td>\n",
              "      <td>1</td>\n",
              "      <td>01-08-2013</td>\n",
              "      <td>17</td>\n",
              "      <td>6</td>\n",
              "      <td>5</td>\n",
              "      <td>1</td>\n",
              "      <td>8</td>\n",
              "      <td>205</td>\n",
              "      <td>22</td>\n",
              "      <td>111</td>\n",
              "      <td>50</td>\n",
              "      <td>15</td>\n",
              "      <td>19</td>\n",
              "      <td>6</td>\n",
              "      <td>0</td>\n",
              "      <td>0</td>\n",
              "      <td>0</td>\n",
              "      <td>0</td>\n",
              "      <td>0</td>\n",
              "      <td>0</td>\n",
              "      <td>0</td>\n",
              "    </tr>\n",
              "    <tr>\n",
              "      <th>2</th>\n",
              "      <td>ID_AWXARH57</td>\n",
              "      <td>1962</td>\n",
              "      <td>Graduation</td>\n",
              "      <td>Single</td>\n",
              "      <td>103714.8</td>\n",
              "      <td>0</td>\n",
              "      <td>0</td>\n",
              "      <td>21-11-2013</td>\n",
              "      <td>17</td>\n",
              "      <td>0</td>\n",
              "      <td>7</td>\n",
              "      <td>4</td>\n",
              "      <td>7</td>\n",
              "      <td>469</td>\n",
              "      <td>31</td>\n",
              "      <td>873</td>\n",
              "      <td>29</td>\n",
              "      <td>18</td>\n",
              "      <td>37</td>\n",
              "      <td>2</td>\n",
              "      <td>0</td>\n",
              "      <td>0</td>\n",
              "      <td>0</td>\n",
              "      <td>1</td>\n",
              "      <td>0</td>\n",
              "      <td>0</td>\n",
              "      <td>1</td>\n",
              "    </tr>\n",
              "    <tr>\n",
              "      <th>3</th>\n",
              "      <td>ID_FQVZHE81</td>\n",
              "      <td>1979</td>\n",
              "      <td>2n Cycle</td>\n",
              "      <td>Single</td>\n",
              "      <td>46311.6</td>\n",
              "      <td>1</td>\n",
              "      <td>0</td>\n",
              "      <td>13-09-2013</td>\n",
              "      <td>49</td>\n",
              "      <td>3</td>\n",
              "      <td>4</td>\n",
              "      <td>1</td>\n",
              "      <td>3</td>\n",
              "      <td>56</td>\n",
              "      <td>15</td>\n",
              "      <td>49</td>\n",
              "      <td>17</td>\n",
              "      <td>24</td>\n",
              "      <td>24</td>\n",
              "      <td>8</td>\n",
              "      <td>0</td>\n",
              "      <td>0</td>\n",
              "      <td>0</td>\n",
              "      <td>0</td>\n",
              "      <td>0</td>\n",
              "      <td>0</td>\n",
              "      <td>0</td>\n",
              "    </tr>\n",
              "    <tr>\n",
              "      <th>4</th>\n",
              "      <td>ID_QVLWGPRN</td>\n",
              "      <td>1959</td>\n",
              "      <td>Graduation</td>\n",
              "      <td>Married</td>\n",
              "      <td>87486.0</td>\n",
              "      <td>0</td>\n",
              "      <td>0</td>\n",
              "      <td>21-01-2014</td>\n",
              "      <td>59</td>\n",
              "      <td>1</td>\n",
              "      <td>3</td>\n",
              "      <td>7</td>\n",
              "      <td>9</td>\n",
              "      <td>412</td>\n",
              "      <td>117</td>\n",
              "      <td>445</td>\n",
              "      <td>181</td>\n",
              "      <td>165</td>\n",
              "      <td>203</td>\n",
              "      <td>1</td>\n",
              "      <td>0</td>\n",
              "      <td>0</td>\n",
              "      <td>0</td>\n",
              "      <td>1</td>\n",
              "      <td>0</td>\n",
              "      <td>0</td>\n",
              "      <td>0</td>\n",
              "    </tr>\n",
              "    <tr>\n",
              "      <th>...</th>\n",
              "      <td>...</td>\n",
              "      <td>...</td>\n",
              "      <td>...</td>\n",
              "      <td>...</td>\n",
              "      <td>...</td>\n",
              "      <td>...</td>\n",
              "      <td>...</td>\n",
              "      <td>...</td>\n",
              "      <td>...</td>\n",
              "      <td>...</td>\n",
              "      <td>...</td>\n",
              "      <td>...</td>\n",
              "      <td>...</td>\n",
              "      <td>...</td>\n",
              "      <td>...</td>\n",
              "      <td>...</td>\n",
              "      <td>...</td>\n",
              "      <td>...</td>\n",
              "      <td>...</td>\n",
              "      <td>...</td>\n",
              "      <td>...</td>\n",
              "      <td>...</td>\n",
              "      <td>...</td>\n",
              "      <td>...</td>\n",
              "      <td>...</td>\n",
              "      <td>...</td>\n",
              "      <td>...</td>\n",
              "    </tr>\n",
              "    <tr>\n",
              "      <th>1563</th>\n",
              "      <td>ID_XWINUFGG</td>\n",
              "      <td>1970</td>\n",
              "      <td>Graduation</td>\n",
              "      <td>Married</td>\n",
              "      <td>52893.6</td>\n",
              "      <td>1</td>\n",
              "      <td>1</td>\n",
              "      <td>19-06-2014</td>\n",
              "      <td>24</td>\n",
              "      <td>2</td>\n",
              "      <td>2</td>\n",
              "      <td>0</td>\n",
              "      <td>3</td>\n",
              "      <td>29</td>\n",
              "      <td>4</td>\n",
              "      <td>10</td>\n",
              "      <td>2</td>\n",
              "      <td>0</td>\n",
              "      <td>4</td>\n",
              "      <td>5</td>\n",
              "      <td>0</td>\n",
              "      <td>0</td>\n",
              "      <td>0</td>\n",
              "      <td>0</td>\n",
              "      <td>0</td>\n",
              "      <td>0</td>\n",
              "      <td>0</td>\n",
              "    </tr>\n",
              "    <tr>\n",
              "      <th>1564</th>\n",
              "      <td>ID_GLVIHZLR</td>\n",
              "      <td>1980</td>\n",
              "      <td>Graduation</td>\n",
              "      <td>Single</td>\n",
              "      <td>74190.0</td>\n",
              "      <td>0</td>\n",
              "      <td>1</td>\n",
              "      <td>07-08-2013</td>\n",
              "      <td>63</td>\n",
              "      <td>1</td>\n",
              "      <td>4</td>\n",
              "      <td>2</td>\n",
              "      <td>8</td>\n",
              "      <td>167</td>\n",
              "      <td>53</td>\n",
              "      <td>100</td>\n",
              "      <td>55</td>\n",
              "      <td>30</td>\n",
              "      <td>27</td>\n",
              "      <td>4</td>\n",
              "      <td>0</td>\n",
              "      <td>0</td>\n",
              "      <td>0</td>\n",
              "      <td>0</td>\n",
              "      <td>0</td>\n",
              "      <td>0</td>\n",
              "      <td>0</td>\n",
              "    </tr>\n",
              "    <tr>\n",
              "      <th>1565</th>\n",
              "      <td>ID_O11VSIJY</td>\n",
              "      <td>1952</td>\n",
              "      <td>Master</td>\n",
              "      <td>Married</td>\n",
              "      <td>80857.2</td>\n",
              "      <td>0</td>\n",
              "      <td>1</td>\n",
              "      <td>15-01-2013</td>\n",
              "      <td>74</td>\n",
              "      <td>4</td>\n",
              "      <td>2</td>\n",
              "      <td>2</td>\n",
              "      <td>9</td>\n",
              "      <td>820</td>\n",
              "      <td>11</td>\n",
              "      <td>53</td>\n",
              "      <td>11</td>\n",
              "      <td>0</td>\n",
              "      <td>70</td>\n",
              "      <td>7</td>\n",
              "      <td>0</td>\n",
              "      <td>1</td>\n",
              "      <td>0</td>\n",
              "      <td>0</td>\n",
              "      <td>0</td>\n",
              "      <td>0</td>\n",
              "      <td>0</td>\n",
              "    </tr>\n",
              "    <tr>\n",
              "      <th>1566</th>\n",
              "      <td>ID_VS37P6MS</td>\n",
              "      <td>1964</td>\n",
              "      <td>PhD</td>\n",
              "      <td>Single</td>\n",
              "      <td>58701.6</td>\n",
              "      <td>1</td>\n",
              "      <td>1</td>\n",
              "      <td>12-04-2014</td>\n",
              "      <td>28</td>\n",
              "      <td>2</td>\n",
              "      <td>1</td>\n",
              "      <td>0</td>\n",
              "      <td>4</td>\n",
              "      <td>57</td>\n",
              "      <td>3</td>\n",
              "      <td>9</td>\n",
              "      <td>0</td>\n",
              "      <td>0</td>\n",
              "      <td>1</td>\n",
              "      <td>4</td>\n",
              "      <td>0</td>\n",
              "      <td>0</td>\n",
              "      <td>0</td>\n",
              "      <td>0</td>\n",
              "      <td>0</td>\n",
              "      <td>0</td>\n",
              "      <td>0</td>\n",
              "    </tr>\n",
              "    <tr>\n",
              "      <th>1567</th>\n",
              "      <td>ID_AKHOY7EI</td>\n",
              "      <td>1970</td>\n",
              "      <td>Graduation</td>\n",
              "      <td>Together</td>\n",
              "      <td>27873.6</td>\n",
              "      <td>1</td>\n",
              "      <td>0</td>\n",
              "      <td>26-01-2014</td>\n",
              "      <td>78</td>\n",
              "      <td>2</td>\n",
              "      <td>2</td>\n",
              "      <td>0</td>\n",
              "      <td>3</td>\n",
              "      <td>18</td>\n",
              "      <td>5</td>\n",
              "      <td>18</td>\n",
              "      <td>6</td>\n",
              "      <td>1</td>\n",
              "      <td>0</td>\n",
              "      <td>8</td>\n",
              "      <td>0</td>\n",
              "      <td>0</td>\n",
              "      <td>0</td>\n",
              "      <td>0</td>\n",
              "      <td>0</td>\n",
              "      <td>0</td>\n",
              "      <td>0</td>\n",
              "    </tr>\n",
              "  </tbody>\n",
              "</table>\n",
              "<p>1568 rows × 27 columns</p>\n",
              "</div>"
            ],
            "text/plain": [
              "               ID  Year_of_Birth  ... Any_Complain Response\n",
              "0     ID_4A9AR6FQ           1955  ...            0        0\n",
              "1     ID_X28T3VEK           1958  ...            0        0\n",
              "2     ID_AWXARH57           1962  ...            0        1\n",
              "3     ID_FQVZHE81           1979  ...            0        0\n",
              "4     ID_QVLWGPRN           1959  ...            0        0\n",
              "...           ...            ...  ...          ...      ...\n",
              "1563  ID_XWINUFGG           1970  ...            0        0\n",
              "1564  ID_GLVIHZLR           1980  ...            0        0\n",
              "1565  ID_O11VSIJY           1952  ...            0        0\n",
              "1566  ID_VS37P6MS           1964  ...            0        0\n",
              "1567  ID_AKHOY7EI           1970  ...            0        0\n",
              "\n",
              "[1568 rows x 27 columns]"
            ]
          },
          "metadata": {},
          "execution_count": 9
        }
      ]
    },
    {
      "cell_type": "code",
      "metadata": {
        "colab": {
          "base_uri": "https://localhost:8080/",
          "height": 434
        },
        "id": "MVNH0Q9SeX-F",
        "outputId": "0c70414e-0494-4f75-9f6f-226e3b8259da"
      },
      "source": [
        "df_test = pd.read_csv(test_url)\n",
        "df_test\n"
      ],
      "execution_count": null,
      "outputs": [
        {
          "output_type": "execute_result",
          "data": {
            "text/html": [
              "<div>\n",
              "<style scoped>\n",
              "    .dataframe tbody tr th:only-of-type {\n",
              "        vertical-align: middle;\n",
              "    }\n",
              "\n",
              "    .dataframe tbody tr th {\n",
              "        vertical-align: top;\n",
              "    }\n",
              "\n",
              "    .dataframe thead th {\n",
              "        text-align: right;\n",
              "    }\n",
              "</style>\n",
              "<table border=\"1\" class=\"dataframe\">\n",
              "  <thead>\n",
              "    <tr style=\"text-align: right;\">\n",
              "      <th></th>\n",
              "      <th>ID</th>\n",
              "      <th>Year_of_Birth</th>\n",
              "      <th>Education_Level</th>\n",
              "      <th>Marital_Status</th>\n",
              "      <th>Disposable_Income</th>\n",
              "      <th>No_of_Kids_in_home</th>\n",
              "      <th>No_of_Teen_in_home</th>\n",
              "      <th>Date_Customer</th>\n",
              "      <th>Recency</th>\n",
              "      <th>Discounted_Purchases</th>\n",
              "      <th>WebPurchases</th>\n",
              "      <th>CatalogPurchases</th>\n",
              "      <th>StorePurchases</th>\n",
              "      <th>Amount_on_Wines</th>\n",
              "      <th>Amount_on_Fruits</th>\n",
              "      <th>Amount_on_MeatProducts</th>\n",
              "      <th>Amount_on_FishProducts</th>\n",
              "      <th>Amount_on_SweetProducts</th>\n",
              "      <th>Amount_on_GoldProds</th>\n",
              "      <th>WebVisitsMonth</th>\n",
              "      <th>Cmp3Accepted</th>\n",
              "      <th>Cmp4Accepted</th>\n",
              "      <th>Cmp5Accepted</th>\n",
              "      <th>Cmp1Accepted</th>\n",
              "      <th>Cmp2Accepted</th>\n",
              "      <th>Any_Complain</th>\n",
              "    </tr>\n",
              "  </thead>\n",
              "  <tbody>\n",
              "    <tr>\n",
              "      <th>0</th>\n",
              "      <td>ID_ZPMABNVX</td>\n",
              "      <td>1954</td>\n",
              "      <td>Graduation</td>\n",
              "      <td>Single</td>\n",
              "      <td>48556.8</td>\n",
              "      <td>0</td>\n",
              "      <td>1</td>\n",
              "      <td>11-01-2013</td>\n",
              "      <td>85</td>\n",
              "      <td>6</td>\n",
              "      <td>8</td>\n",
              "      <td>2</td>\n",
              "      <td>8</td>\n",
              "      <td>429</td>\n",
              "      <td>20</td>\n",
              "      <td>118</td>\n",
              "      <td>7</td>\n",
              "      <td>23</td>\n",
              "      <td>41</td>\n",
              "      <td>8</td>\n",
              "      <td>0</td>\n",
              "      <td>0</td>\n",
              "      <td>0</td>\n",
              "      <td>0</td>\n",
              "      <td>0</td>\n",
              "      <td>0</td>\n",
              "    </tr>\n",
              "    <tr>\n",
              "      <th>1</th>\n",
              "      <td>ID_WFE91NAA</td>\n",
              "      <td>1961</td>\n",
              "      <td>Graduation</td>\n",
              "      <td>Widow</td>\n",
              "      <td>57499.2</td>\n",
              "      <td>0</td>\n",
              "      <td>1</td>\n",
              "      <td>22-11-2012</td>\n",
              "      <td>79</td>\n",
              "      <td>5</td>\n",
              "      <td>7</td>\n",
              "      <td>4</td>\n",
              "      <td>6</td>\n",
              "      <td>510</td>\n",
              "      <td>3</td>\n",
              "      <td>26</td>\n",
              "      <td>0</td>\n",
              "      <td>0</td>\n",
              "      <td>75</td>\n",
              "      <td>6</td>\n",
              "      <td>0</td>\n",
              "      <td>1</td>\n",
              "      <td>0</td>\n",
              "      <td>0</td>\n",
              "      <td>0</td>\n",
              "      <td>0</td>\n",
              "    </tr>\n",
              "    <tr>\n",
              "      <th>2</th>\n",
              "      <td>ID_JV11RBRK</td>\n",
              "      <td>1973</td>\n",
              "      <td>Basic</td>\n",
              "      <td>Married</td>\n",
              "      <td>17025.6</td>\n",
              "      <td>0</td>\n",
              "      <td>0</td>\n",
              "      <td>28-02-2013</td>\n",
              "      <td>47</td>\n",
              "      <td>1</td>\n",
              "      <td>2</td>\n",
              "      <td>0</td>\n",
              "      <td>4</td>\n",
              "      <td>7</td>\n",
              "      <td>10</td>\n",
              "      <td>11</td>\n",
              "      <td>16</td>\n",
              "      <td>12</td>\n",
              "      <td>27</td>\n",
              "      <td>6</td>\n",
              "      <td>0</td>\n",
              "      <td>0</td>\n",
              "      <td>0</td>\n",
              "      <td>0</td>\n",
              "      <td>0</td>\n",
              "      <td>0</td>\n",
              "    </tr>\n",
              "    <tr>\n",
              "      <th>3</th>\n",
              "      <td>ID_6B7SVKY9</td>\n",
              "      <td>1970</td>\n",
              "      <td>Graduation</td>\n",
              "      <td>Together</td>\n",
              "      <td>91983.6</td>\n",
              "      <td>0</td>\n",
              "      <td>0</td>\n",
              "      <td>16-08-2013</td>\n",
              "      <td>98</td>\n",
              "      <td>1</td>\n",
              "      <td>4</td>\n",
              "      <td>7</td>\n",
              "      <td>11</td>\n",
              "      <td>741</td>\n",
              "      <td>66</td>\n",
              "      <td>946</td>\n",
              "      <td>219</td>\n",
              "      <td>189</td>\n",
              "      <td>126</td>\n",
              "      <td>2</td>\n",
              "      <td>0</td>\n",
              "      <td>0</td>\n",
              "      <td>1</td>\n",
              "      <td>1</td>\n",
              "      <td>0</td>\n",
              "      <td>0</td>\n",
              "    </tr>\n",
              "    <tr>\n",
              "      <th>4</th>\n",
              "      <td>ID_GOVUZ545</td>\n",
              "      <td>1959</td>\n",
              "      <td>Graduation</td>\n",
              "      <td>Together</td>\n",
              "      <td>78235.2</td>\n",
              "      <td>0</td>\n",
              "      <td>2</td>\n",
              "      <td>25-07-2013</td>\n",
              "      <td>41</td>\n",
              "      <td>2</td>\n",
              "      <td>7</td>\n",
              "      <td>6</td>\n",
              "      <td>11</td>\n",
              "      <td>748</td>\n",
              "      <td>22</td>\n",
              "      <td>181</td>\n",
              "      <td>12</td>\n",
              "      <td>0</td>\n",
              "      <td>200</td>\n",
              "      <td>5</td>\n",
              "      <td>1</td>\n",
              "      <td>0</td>\n",
              "      <td>0</td>\n",
              "      <td>0</td>\n",
              "      <td>0</td>\n",
              "      <td>0</td>\n",
              "    </tr>\n",
              "    <tr>\n",
              "      <th>...</th>\n",
              "      <td>...</td>\n",
              "      <td>...</td>\n",
              "      <td>...</td>\n",
              "      <td>...</td>\n",
              "      <td>...</td>\n",
              "      <td>...</td>\n",
              "      <td>...</td>\n",
              "      <td>...</td>\n",
              "      <td>...</td>\n",
              "      <td>...</td>\n",
              "      <td>...</td>\n",
              "      <td>...</td>\n",
              "      <td>...</td>\n",
              "      <td>...</td>\n",
              "      <td>...</td>\n",
              "      <td>...</td>\n",
              "      <td>...</td>\n",
              "      <td>...</td>\n",
              "      <td>...</td>\n",
              "      <td>...</td>\n",
              "      <td>...</td>\n",
              "      <td>...</td>\n",
              "      <td>...</td>\n",
              "      <td>...</td>\n",
              "      <td>...</td>\n",
              "      <td>...</td>\n",
              "    </tr>\n",
              "    <tr>\n",
              "      <th>667</th>\n",
              "      <td>ID_1D68PV28</td>\n",
              "      <td>1975</td>\n",
              "      <td>Graduation</td>\n",
              "      <td>Married</td>\n",
              "      <td>80934.0</td>\n",
              "      <td>0</td>\n",
              "      <td>1</td>\n",
              "      <td>12-08-2012</td>\n",
              "      <td>70</td>\n",
              "      <td>5</td>\n",
              "      <td>9</td>\n",
              "      <td>6</td>\n",
              "      <td>12</td>\n",
              "      <td>762</td>\n",
              "      <td>83</td>\n",
              "      <td>217</td>\n",
              "      <td>29</td>\n",
              "      <td>80</td>\n",
              "      <td>11</td>\n",
              "      <td>6</td>\n",
              "      <td>0</td>\n",
              "      <td>0</td>\n",
              "      <td>0</td>\n",
              "      <td>0</td>\n",
              "      <td>0</td>\n",
              "      <td>0</td>\n",
              "    </tr>\n",
              "    <tr>\n",
              "      <th>668</th>\n",
              "      <td>ID_TM6CYFZO</td>\n",
              "      <td>1955</td>\n",
              "      <td>Graduation</td>\n",
              "      <td>Divorced</td>\n",
              "      <td>84052.8</td>\n",
              "      <td>0</td>\n",
              "      <td>1</td>\n",
              "      <td>18-02-2013</td>\n",
              "      <td>53</td>\n",
              "      <td>4</td>\n",
              "      <td>7</td>\n",
              "      <td>10</td>\n",
              "      <td>5</td>\n",
              "      <td>1078</td>\n",
              "      <td>3</td>\n",
              "      <td>250</td>\n",
              "      <td>153</td>\n",
              "      <td>14</td>\n",
              "      <td>14</td>\n",
              "      <td>5</td>\n",
              "      <td>0</td>\n",
              "      <td>0</td>\n",
              "      <td>0</td>\n",
              "      <td>0</td>\n",
              "      <td>0</td>\n",
              "      <td>0</td>\n",
              "    </tr>\n",
              "    <tr>\n",
              "      <th>669</th>\n",
              "      <td>ID_VHR666SC</td>\n",
              "      <td>1952</td>\n",
              "      <td>PhD</td>\n",
              "      <td>Married</td>\n",
              "      <td>63974.4</td>\n",
              "      <td>0</td>\n",
              "      <td>0</td>\n",
              "      <td>09-08-2013</td>\n",
              "      <td>39</td>\n",
              "      <td>1</td>\n",
              "      <td>5</td>\n",
              "      <td>1</td>\n",
              "      <td>5</td>\n",
              "      <td>246</td>\n",
              "      <td>3</td>\n",
              "      <td>12</td>\n",
              "      <td>0</td>\n",
              "      <td>0</td>\n",
              "      <td>25</td>\n",
              "      <td>7</td>\n",
              "      <td>0</td>\n",
              "      <td>0</td>\n",
              "      <td>0</td>\n",
              "      <td>0</td>\n",
              "      <td>0</td>\n",
              "      <td>0</td>\n",
              "    </tr>\n",
              "    <tr>\n",
              "      <th>670</th>\n",
              "      <td>ID_O852YAO1</td>\n",
              "      <td>1960</td>\n",
              "      <td>Graduation</td>\n",
              "      <td>Together</td>\n",
              "      <td>69548.4</td>\n",
              "      <td>0</td>\n",
              "      <td>1</td>\n",
              "      <td>19-08-2013</td>\n",
              "      <td>31</td>\n",
              "      <td>7</td>\n",
              "      <td>4</td>\n",
              "      <td>6</td>\n",
              "      <td>8</td>\n",
              "      <td>295</td>\n",
              "      <td>62</td>\n",
              "      <td>177</td>\n",
              "      <td>77</td>\n",
              "      <td>5</td>\n",
              "      <td>29</td>\n",
              "      <td>3</td>\n",
              "      <td>0</td>\n",
              "      <td>0</td>\n",
              "      <td>0</td>\n",
              "      <td>0</td>\n",
              "      <td>0</td>\n",
              "      <td>1</td>\n",
              "    </tr>\n",
              "    <tr>\n",
              "      <th>671</th>\n",
              "      <td>ID_ML5HMWHI</td>\n",
              "      <td>1961</td>\n",
              "      <td>Master</td>\n",
              "      <td>Married</td>\n",
              "      <td>56823.6</td>\n",
              "      <td>0</td>\n",
              "      <td>1</td>\n",
              "      <td>13-11-2013</td>\n",
              "      <td>100</td>\n",
              "      <td>3</td>\n",
              "      <td>2</td>\n",
              "      <td>2</td>\n",
              "      <td>6</td>\n",
              "      <td>189</td>\n",
              "      <td>5</td>\n",
              "      <td>19</td>\n",
              "      <td>8</td>\n",
              "      <td>8</td>\n",
              "      <td>4</td>\n",
              "      <td>5</td>\n",
              "      <td>0</td>\n",
              "      <td>0</td>\n",
              "      <td>0</td>\n",
              "      <td>0</td>\n",
              "      <td>0</td>\n",
              "      <td>0</td>\n",
              "    </tr>\n",
              "  </tbody>\n",
              "</table>\n",
              "<p>672 rows × 26 columns</p>\n",
              "</div>"
            ],
            "text/plain": [
              "              ID  Year_of_Birth  ... Cmp2Accepted Any_Complain\n",
              "0    ID_ZPMABNVX           1954  ...            0            0\n",
              "1    ID_WFE91NAA           1961  ...            0            0\n",
              "2    ID_JV11RBRK           1973  ...            0            0\n",
              "3    ID_6B7SVKY9           1970  ...            0            0\n",
              "4    ID_GOVUZ545           1959  ...            0            0\n",
              "..           ...            ...  ...          ...          ...\n",
              "667  ID_1D68PV28           1975  ...            0            0\n",
              "668  ID_TM6CYFZO           1955  ...            0            0\n",
              "669  ID_VHR666SC           1952  ...            0            0\n",
              "670  ID_O852YAO1           1960  ...            0            1\n",
              "671  ID_ML5HMWHI           1961  ...            0            0\n",
              "\n",
              "[672 rows x 26 columns]"
            ]
          },
          "metadata": {},
          "execution_count": 10
        }
      ]
    },
    {
      "cell_type": "code",
      "metadata": {
        "colab": {
          "base_uri": "https://localhost:8080/"
        },
        "id": "jEDw0QXVfhvl",
        "outputId": "7472e294-f0af-4b5b-a650-e1cce95b9f6c"
      },
      "source": [
        "df_train.info()"
      ],
      "execution_count": null,
      "outputs": [
        {
          "output_type": "stream",
          "name": "stdout",
          "text": [
            "<class 'pandas.core.frame.DataFrame'>\n",
            "RangeIndex: 1568 entries, 0 to 1567\n",
            "Data columns (total 27 columns):\n",
            " #   Column                   Non-Null Count  Dtype  \n",
            "---  ------                   --------------  -----  \n",
            " 0   ID                       1568 non-null   object \n",
            " 1   Year_of_Birth            1568 non-null   int64  \n",
            " 2   Education_Level          1568 non-null   object \n",
            " 3   Marital_Status           1568 non-null   object \n",
            " 4   Disposable_Income        1552 non-null   float64\n",
            " 5   No_of_Kids_in_home       1568 non-null   int64  \n",
            " 6   No_of_Teen_in_home       1568 non-null   int64  \n",
            " 7   Date_Customer            1568 non-null   object \n",
            " 8   Recency                  1568 non-null   int64  \n",
            " 9   Discounted_Purchases     1568 non-null   int64  \n",
            " 10  WebPurchases             1568 non-null   int64  \n",
            " 11  CatalogPurchases         1568 non-null   int64  \n",
            " 12  StorePurchases           1568 non-null   int64  \n",
            " 13  Amount_on_Wines          1568 non-null   int64  \n",
            " 14  Amount_on_Fruits         1568 non-null   int64  \n",
            " 15  Amount_on_MeatProducts   1568 non-null   int64  \n",
            " 16  Amount_on_FishProducts   1568 non-null   int64  \n",
            " 17  Amount_on_SweetProducts  1568 non-null   int64  \n",
            " 18  Amount_on_GoldProds      1568 non-null   int64  \n",
            " 19  WebVisitsMonth           1568 non-null   int64  \n",
            " 20  Cmp3Accepted             1568 non-null   int64  \n",
            " 21  Cmp4Accepted             1568 non-null   int64  \n",
            " 22  Cmp5Accepted             1568 non-null   int64  \n",
            " 23  Cmp1Accepted             1568 non-null   int64  \n",
            " 24  Cmp2Accepted             1568 non-null   int64  \n",
            " 25  Any_Complain             1568 non-null   int64  \n",
            " 26  Response                 1568 non-null   int64  \n",
            "dtypes: float64(1), int64(22), object(4)\n",
            "memory usage: 330.9+ KB\n"
          ]
        }
      ]
    },
    {
      "cell_type": "code",
      "metadata": {
        "colab": {
          "base_uri": "https://localhost:8080/"
        },
        "id": "MA-pcGe0ftdo",
        "outputId": "46fc8446-2bb9-4ab1-8d5c-fb6d270e7fd2"
      },
      "source": [
        "df_test.info()"
      ],
      "execution_count": null,
      "outputs": [
        {
          "output_type": "stream",
          "name": "stdout",
          "text": [
            "<class 'pandas.core.frame.DataFrame'>\n",
            "RangeIndex: 672 entries, 0 to 671\n",
            "Data columns (total 26 columns):\n",
            " #   Column                   Non-Null Count  Dtype  \n",
            "---  ------                   --------------  -----  \n",
            " 0   ID                       672 non-null    object \n",
            " 1   Year_of_Birth            672 non-null    int64  \n",
            " 2   Education_Level          672 non-null    object \n",
            " 3   Marital_Status           672 non-null    object \n",
            " 4   Disposable_Income        664 non-null    float64\n",
            " 5   No_of_Kids_in_home       672 non-null    int64  \n",
            " 6   No_of_Teen_in_home       672 non-null    int64  \n",
            " 7   Date_Customer            672 non-null    object \n",
            " 8   Recency                  672 non-null    int64  \n",
            " 9   Discounted_Purchases     672 non-null    int64  \n",
            " 10  WebPurchases             672 non-null    int64  \n",
            " 11  CatalogPurchases         672 non-null    int64  \n",
            " 12  StorePurchases           672 non-null    int64  \n",
            " 13  Amount_on_Wines          672 non-null    int64  \n",
            " 14  Amount_on_Fruits         672 non-null    int64  \n",
            " 15  Amount_on_MeatProducts   672 non-null    int64  \n",
            " 16  Amount_on_FishProducts   672 non-null    int64  \n",
            " 17  Amount_on_SweetProducts  672 non-null    int64  \n",
            " 18  Amount_on_GoldProds      672 non-null    int64  \n",
            " 19  WebVisitsMonth           672 non-null    int64  \n",
            " 20  Cmp3Accepted             672 non-null    int64  \n",
            " 21  Cmp4Accepted             672 non-null    int64  \n",
            " 22  Cmp5Accepted             672 non-null    int64  \n",
            " 23  Cmp1Accepted             672 non-null    int64  \n",
            " 24  Cmp2Accepted             672 non-null    int64  \n",
            " 25  Any_Complain             672 non-null    int64  \n",
            "dtypes: float64(1), int64(21), object(4)\n",
            "memory usage: 136.6+ KB\n"
          ]
        }
      ]
    },
    {
      "cell_type": "code",
      "metadata": {
        "id": "TQ2tiJdcgvAE"
      },
      "source": [
        "import missingno as msno"
      ],
      "execution_count": null,
      "outputs": []
    },
    {
      "cell_type": "code",
      "metadata": {
        "colab": {
          "base_uri": "https://localhost:8080/",
          "height": 605
        },
        "id": "ncfcXT5Mgxnj",
        "outputId": "9f678ac1-64a5-46fb-9761-91e030164e2a"
      },
      "source": [
        "msno.bar(df_train)"
      ],
      "execution_count": null,
      "outputs": [
        {
          "output_type": "execute_result",
          "data": {
            "text/plain": [
              "<matplotlib.axes._subplots.AxesSubplot at 0x7f16ce053f90>"
            ]
          },
          "metadata": {},
          "execution_count": 14
        },
        {
          "output_type": "display_data",
          "data": {
            "image/png": "[encoded data removed]",
            "text/plain": [
              "<Figure size 1800x720 with 3 Axes>"
            ]
          },
          "metadata": {
            "needs_background": "light"
          }
        }
      ]
    },
    {
      "cell_type": "code",
      "metadata": {
        "colab": {
          "base_uri": "https://localhost:8080/"
        },
        "id": "f33QxcSnhKJ6",
        "outputId": "47082766-c954-4f55-fbfd-a99c4e67cf04"
      },
      "source": [
        "df_train.isnull().sum()"
      ],
      "execution_count": null,
      "outputs": [
        {
          "output_type": "execute_result",
          "data": {
            "text/plain": [
              "ID                          0\n",
              "Year_of_Birth               0\n",
              "Education_Level             0\n",
              "Marital_Status              0\n",
              "Disposable_Income          16\n",
              "No_of_Kids_in_home          0\n",
              "No_of_Teen_in_home          0\n",
              "Date_Customer               0\n",
              "Recency                     0\n",
              "Discounted_Purchases        0\n",
              "WebPurchases                0\n",
              "CatalogPurchases            0\n",
              "StorePurchases              0\n",
              "Amount_on_Wines             0\n",
              "Amount_on_Fruits            0\n",
              "Amount_on_MeatProducts      0\n",
              "Amount_on_FishProducts      0\n",
              "Amount_on_SweetProducts     0\n",
              "Amount_on_GoldProds         0\n",
              "WebVisitsMonth              0\n",
              "Cmp3Accepted                0\n",
              "Cmp4Accepted                0\n",
              "Cmp5Accepted                0\n",
              "Cmp1Accepted                0\n",
              "Cmp2Accepted                0\n",
              "Any_Complain                0\n",
              "Response                    0\n",
              "dtype: int64"
            ]
          },
          "metadata": {},
          "execution_count": 15
        }
      ]
    },
    {
      "cell_type": "code",
      "metadata": {
        "id": "taNbT4T2ATpW"
      },
      "source": [
        "dff = pd.read_csv(train_url)\n",
        "dff.fillna(0,inplace=True)"
      ],
      "execution_count": null,
      "outputs": []
    },
    {
      "cell_type": "code",
      "metadata": {
        "colab": {
          "base_uri": "https://localhost:8080/"
        },
        "id": "99QfMMv5hh5i",
        "outputId": "96244976-43ce-4ea7-9065-811d20de7503"
      },
      "source": [
        "df_train.ID.nunique()"
      ],
      "execution_count": null,
      "outputs": [
        {
          "output_type": "execute_result",
          "data": {
            "text/plain": [
              "1568"
            ]
          },
          "metadata": {},
          "execution_count": 17
        }
      ]
    },
    {
      "cell_type": "code",
      "metadata": {
        "colab": {
          "base_uri": "https://localhost:8080/",
          "height": 434
        },
        "id": "nDSc0YRah4t2",
        "outputId": "c9aa02d0-8cda-4003-df74-866f60417d7e"
      },
      "source": [
        "df_train.drop('ID',1,inplace=True)\n",
        "df_train"
      ],
      "execution_count": null,
      "outputs": [
        {
          "output_type": "execute_result",
          "data": {
            "text/html": [
              "<div>\n",
              "<style scoped>\n",
              "    .dataframe tbody tr th:only-of-type {\n",
              "        vertical-align: middle;\n",
              "    }\n",
              "\n",
              "    .dataframe tbody tr th {\n",
              "        vertical-align: top;\n",
              "    }\n",
              "\n",
              "    .dataframe thead th {\n",
              "        text-align: right;\n",
              "    }\n",
              "</style>\n",
              "<table border=\"1\" class=\"dataframe\">\n",
              "  <thead>\n",
              "    <tr style=\"text-align: right;\">\n",
              "      <th></th>\n",
              "      <th>Year_of_Birth</th>\n",
              "      <th>Education_Level</th>\n",
              "      <th>Marital_Status</th>\n",
              "      <th>Disposable_Income</th>\n",
              "      <th>No_of_Kids_in_home</th>\n",
              "      <th>No_of_Teen_in_home</th>\n",
              "      <th>Date_Customer</th>\n",
              "      <th>Recency</th>\n",
              "      <th>Discounted_Purchases</th>\n",
              "      <th>WebPurchases</th>\n",
              "      <th>CatalogPurchases</th>\n",
              "      <th>StorePurchases</th>\n",
              "      <th>Amount_on_Wines</th>\n",
              "      <th>Amount_on_Fruits</th>\n",
              "      <th>Amount_on_MeatProducts</th>\n",
              "      <th>Amount_on_FishProducts</th>\n",
              "      <th>Amount_on_SweetProducts</th>\n",
              "      <th>Amount_on_GoldProds</th>\n",
              "      <th>WebVisitsMonth</th>\n",
              "      <th>Cmp3Accepted</th>\n",
              "      <th>Cmp4Accepted</th>\n",
              "      <th>Cmp5Accepted</th>\n",
              "      <th>Cmp1Accepted</th>\n",
              "      <th>Cmp2Accepted</th>\n",
              "      <th>Any_Complain</th>\n",
              "      <th>Response</th>\n",
              "    </tr>\n",
              "  </thead>\n",
              "  <tbody>\n",
              "    <tr>\n",
              "      <th>0</th>\n",
              "      <td>1955</td>\n",
              "      <td>Graduation</td>\n",
              "      <td>Divorced</td>\n",
              "      <td>77504.4</td>\n",
              "      <td>1</td>\n",
              "      <td>1</td>\n",
              "      <td>22-06-2014</td>\n",
              "      <td>56</td>\n",
              "      <td>2</td>\n",
              "      <td>1</td>\n",
              "      <td>1</td>\n",
              "      <td>4</td>\n",
              "      <td>71</td>\n",
              "      <td>3</td>\n",
              "      <td>16</td>\n",
              "      <td>0</td>\n",
              "      <td>6</td>\n",
              "      <td>20</td>\n",
              "      <td>3</td>\n",
              "      <td>0</td>\n",
              "      <td>0</td>\n",
              "      <td>0</td>\n",
              "      <td>0</td>\n",
              "      <td>0</td>\n",
              "      <td>0</td>\n",
              "      <td>0</td>\n",
              "    </tr>\n",
              "    <tr>\n",
              "      <th>1</th>\n",
              "      <td>1958</td>\n",
              "      <td>Graduation</td>\n",
              "      <td>Together</td>\n",
              "      <td>56784.0</td>\n",
              "      <td>0</td>\n",
              "      <td>1</td>\n",
              "      <td>01-08-2013</td>\n",
              "      <td>17</td>\n",
              "      <td>6</td>\n",
              "      <td>5</td>\n",
              "      <td>1</td>\n",
              "      <td>8</td>\n",
              "      <td>205</td>\n",
              "      <td>22</td>\n",
              "      <td>111</td>\n",
              "      <td>50</td>\n",
              "      <td>15</td>\n",
              "      <td>19</td>\n",
              "      <td>6</td>\n",
              "      <td>0</td>\n",
              "      <td>0</td>\n",
              "      <td>0</td>\n",
              "      <td>0</td>\n",
              "      <td>0</td>\n",
              "      <td>0</td>\n",
              "      <td>0</td>\n",
              "    </tr>\n",
              "    <tr>\n",
              "      <th>2</th>\n",
              "      <td>1962</td>\n",
              "      <td>Graduation</td>\n",
              "      <td>Single</td>\n",
              "      <td>103714.8</td>\n",
              "      <td>0</td>\n",
              "      <td>0</td>\n",
              "      <td>21-11-2013</td>\n",
              "      <td>17</td>\n",
              "      <td>0</td>\n",
              "      <td>7</td>\n",
              "      <td>4</td>\n",
              "      <td>7</td>\n",
              "      <td>469</td>\n",
              "      <td>31</td>\n",
              "      <td>873</td>\n",
              "      <td>29</td>\n",
              "      <td>18</td>\n",
              "      <td>37</td>\n",
              "      <td>2</td>\n",
              "      <td>0</td>\n",
              "      <td>0</td>\n",
              "      <td>0</td>\n",
              "      <td>1</td>\n",
              "      <td>0</td>\n",
              "      <td>0</td>\n",
              "      <td>1</td>\n",
              "    </tr>\n",
              "    <tr>\n",
              "      <th>3</th>\n",
              "      <td>1979</td>\n",
              "      <td>2n Cycle</td>\n",
              "      <td>Single</td>\n",
              "      <td>46311.6</td>\n",
              "      <td>1</td>\n",
              "      <td>0</td>\n",
              "      <td>13-09-2013</td>\n",
              "      <td>49</td>\n",
              "      <td>3</td>\n",
              "      <td>4</td>\n",
              "      <td>1</td>\n",
              "      <td>3</td>\n",
              "      <td>56</td>\n",
              "      <td>15</td>\n",
              "      <td>49</td>\n",
              "      <td>17</td>\n",
              "      <td>24</td>\n",
              "      <td>24</td>\n",
              "      <td>8</td>\n",
              "      <td>0</td>\n",
              "      <td>0</td>\n",
              "      <td>0</td>\n",
              "      <td>0</td>\n",
              "      <td>0</td>\n",
              "      <td>0</td>\n",
              "      <td>0</td>\n",
              "    </tr>\n",
              "    <tr>\n",
              "      <th>4</th>\n",
              "      <td>1959</td>\n",
              "      <td>Graduation</td>\n",
              "      <td>Married</td>\n",
              "      <td>87486.0</td>\n",
              "      <td>0</td>\n",
              "      <td>0</td>\n",
              "      <td>21-01-2014</td>\n",
              "      <td>59</td>\n",
              "      <td>1</td>\n",
              "      <td>3</td>\n",
              "      <td>7</td>\n",
              "      <td>9</td>\n",
              "      <td>412</td>\n",
              "      <td>117</td>\n",
              "      <td>445</td>\n",
              "      <td>181</td>\n",
              "      <td>165</td>\n",
              "      <td>203</td>\n",
              "      <td>1</td>\n",
              "      <td>0</td>\n",
              "      <td>0</td>\n",
              "      <td>0</td>\n",
              "      <td>1</td>\n",
              "      <td>0</td>\n",
              "      <td>0</td>\n",
              "      <td>0</td>\n",
              "    </tr>\n",
              "    <tr>\n",
              "      <th>...</th>\n",
              "      <td>...</td>\n",
              "      <td>...</td>\n",
              "      <td>...</td>\n",
              "      <td>...</td>\n",
              "      <td>...</td>\n",
              "      <td>...</td>\n",
              "      <td>...</td>\n",
              "      <td>...</td>\n",
              "      <td>...</td>\n",
              "      <td>...</td>\n",
              "      <td>...</td>\n",
              "      <td>...</td>\n",
              "      <td>...</td>\n",
              "      <td>...</td>\n",
              "      <td>...</td>\n",
              "      <td>...</td>\n",
              "      <td>...</td>\n",
              "      <td>...</td>\n",
              "      <td>...</td>\n",
              "      <td>...</td>\n",
              "      <td>...</td>\n",
              "      <td>...</td>\n",
              "      <td>...</td>\n",
              "      <td>...</td>\n",
              "      <td>...</td>\n",
              "      <td>...</td>\n",
              "    </tr>\n",
              "    <tr>\n",
              "      <th>1563</th>\n",
              "      <td>1970</td>\n",
              "      <td>Graduation</td>\n",
              "      <td>Married</td>\n",
              "      <td>52893.6</td>\n",
              "      <td>1</td>\n",
              "      <td>1</td>\n",
              "      <td>19-06-2014</td>\n",
              "      <td>24</td>\n",
              "      <td>2</td>\n",
              "      <td>2</td>\n",
              "      <td>0</td>\n",
              "      <td>3</td>\n",
              "      <td>29</td>\n",
              "      <td>4</td>\n",
              "      <td>10</td>\n",
              "      <td>2</td>\n",
              "      <td>0</td>\n",
              "      <td>4</td>\n",
              "      <td>5</td>\n",
              "      <td>0</td>\n",
              "      <td>0</td>\n",
              "      <td>0</td>\n",
              "      <td>0</td>\n",
              "      <td>0</td>\n",
              "      <td>0</td>\n",
              "      <td>0</td>\n",
              "    </tr>\n",
              "    <tr>\n",
              "      <th>1564</th>\n",
              "      <td>1980</td>\n",
              "      <td>Graduation</td>\n",
              "      <td>Single</td>\n",
              "      <td>74190.0</td>\n",
              "      <td>0</td>\n",
              "      <td>1</td>\n",
              "      <td>07-08-2013</td>\n",
              "      <td>63</td>\n",
              "      <td>1</td>\n",
              "      <td>4</td>\n",
              "      <td>2</td>\n",
              "      <td>8</td>\n",
              "      <td>167</td>\n",
              "      <td>53</td>\n",
              "      <td>100</td>\n",
              "      <td>55</td>\n",
              "      <td>30</td>\n",
              "      <td>27</td>\n",
              "      <td>4</td>\n",
              "      <td>0</td>\n",
              "      <td>0</td>\n",
              "      <td>0</td>\n",
              "      <td>0</td>\n",
              "      <td>0</td>\n",
              "      <td>0</td>\n",
              "      <td>0</td>\n",
              "    </tr>\n",
              "    <tr>\n",
              "      <th>1565</th>\n",
              "      <td>1952</td>\n",
              "      <td>Master</td>\n",
              "      <td>Married</td>\n",
              "      <td>80857.2</td>\n",
              "      <td>0</td>\n",
              "      <td>1</td>\n",
              "      <td>15-01-2013</td>\n",
              "      <td>74</td>\n",
              "      <td>4</td>\n",
              "      <td>2</td>\n",
              "      <td>2</td>\n",
              "      <td>9</td>\n",
              "      <td>820</td>\n",
              "      <td>11</td>\n",
              "      <td>53</td>\n",
              "      <td>11</td>\n",
              "      <td>0</td>\n",
              "      <td>70</td>\n",
              "      <td>7</td>\n",
              "      <td>0</td>\n",
              "      <td>1</td>\n",
              "      <td>0</td>\n",
              "      <td>0</td>\n",
              "      <td>0</td>\n",
              "      <td>0</td>\n",
              "      <td>0</td>\n",
              "    </tr>\n",
              "    <tr>\n",
              "      <th>1566</th>\n",
              "      <td>1964</td>\n",
              "      <td>PhD</td>\n",
              "      <td>Single</td>\n",
              "      <td>58701.6</td>\n",
              "      <td>1</td>\n",
              "      <td>1</td>\n",
              "      <td>12-04-2014</td>\n",
              "      <td>28</td>\n",
              "      <td>2</td>\n",
              "      <td>1</td>\n",
              "      <td>0</td>\n",
              "      <td>4</td>\n",
              "      <td>57</td>\n",
              "      <td>3</td>\n",
              "      <td>9</td>\n",
              "      <td>0</td>\n",
              "      <td>0</td>\n",
              "      <td>1</td>\n",
              "      <td>4</td>\n",
              "      <td>0</td>\n",
              "      <td>0</td>\n",
              "      <td>0</td>\n",
              "      <td>0</td>\n",
              "      <td>0</td>\n",
              "      <td>0</td>\n",
              "      <td>0</td>\n",
              "    </tr>\n",
              "    <tr>\n",
              "      <th>1567</th>\n",
              "      <td>1970</td>\n",
              "      <td>Graduation</td>\n",
              "      <td>Together</td>\n",
              "      <td>27873.6</td>\n",
              "      <td>1</td>\n",
              "      <td>0</td>\n",
              "      <td>26-01-2014</td>\n",
              "      <td>78</td>\n",
              "      <td>2</td>\n",
              "      <td>2</td>\n",
              "      <td>0</td>\n",
              "      <td>3</td>\n",
              "      <td>18</td>\n",
              "      <td>5</td>\n",
              "      <td>18</td>\n",
              "      <td>6</td>\n",
              "      <td>1</td>\n",
              "      <td>0</td>\n",
              "      <td>8</td>\n",
              "      <td>0</td>\n",
              "      <td>0</td>\n",
              "      <td>0</td>\n",
              "      <td>0</td>\n",
              "      <td>0</td>\n",
              "      <td>0</td>\n",
              "      <td>0</td>\n",
              "    </tr>\n",
              "  </tbody>\n",
              "</table>\n",
              "<p>1568 rows × 26 columns</p>\n",
              "</div>"
            ],
            "text/plain": [
              "      Year_of_Birth Education_Level  ... Any_Complain  Response\n",
              "0              1955      Graduation  ...            0         0\n",
              "1              1958      Graduation  ...            0         0\n",
              "2              1962      Graduation  ...            0         1\n",
              "3              1979        2n Cycle  ...            0         0\n",
              "4              1959      Graduation  ...            0         0\n",
              "...             ...             ...  ...          ...       ...\n",
              "1563           1970      Graduation  ...            0         0\n",
              "1564           1980      Graduation  ...            0         0\n",
              "1565           1952          Master  ...            0         0\n",
              "1566           1964             PhD  ...            0         0\n",
              "1567           1970      Graduation  ...            0         0\n",
              "\n",
              "[1568 rows x 26 columns]"
            ]
          },
          "metadata": {},
          "execution_count": 18
        }
      ]
    },
    {
      "cell_type": "code",
      "metadata": {
        "id": "D6OaZNu71Utt"
      },
      "source": [
        "from datetime import datetime"
      ],
      "execution_count": null,
      "outputs": []
    },
    {
      "cell_type": "code",
      "metadata": {
        "colab": {
          "base_uri": "https://localhost:8080/",
          "height": 434
        },
        "id": "0kxwF6Jjwq4I",
        "outputId": "d251babe-6086-40b6-d2a6-7b67b732cc45"
      },
      "source": [
        "df_train['Date_Customer'] =  pd.to_datetime(df_train['Date_Customer'],format='%d-%m-%Y')\n",
        "dalist= df_train['Date_Customer'].tolist()\n",
        "train_time =[]\n",
        "for i in dalist:\n",
        "  m= int(i.strftime('%Y%m%d'))\n",
        "  train_time.append(m)\n",
        "df_train['Date_Customer']= train_time\n",
        "\n",
        "df_train\n"
      ],
      "execution_count": null,
      "outputs": [
        {
          "output_type": "execute_result",
          "data": {
            "text/html": [
              "<div>\n",
              "<style scoped>\n",
              "    .dataframe tbody tr th:only-of-type {\n",
              "        vertical-align: middle;\n",
              "    }\n",
              "\n",
              "    .dataframe tbody tr th {\n",
              "        vertical-align: top;\n",
              "    }\n",
              "\n",
              "    .dataframe thead th {\n",
              "        text-align: right;\n",
              "    }\n",
              "</style>\n",
              "<table border=\"1\" class=\"dataframe\">\n",
              "  <thead>\n",
              "    <tr style=\"text-align: right;\">\n",
              "      <th></th>\n",
              "      <th>Year_of_Birth</th>\n",
              "      <th>Education_Level</th>\n",
              "      <th>Marital_Status</th>\n",
              "      <th>Disposable_Income</th>\n",
              "      <th>No_of_Kids_in_home</th>\n",
              "      <th>No_of_Teen_in_home</th>\n",
              "      <th>Date_Customer</th>\n",
              "      <th>Recency</th>\n",
              "      <th>Discounted_Purchases</th>\n",
              "      <th>WebPurchases</th>\n",
              "      <th>CatalogPurchases</th>\n",
              "      <th>StorePurchases</th>\n",
              "      <th>Amount_on_Wines</th>\n",
              "      <th>Amount_on_Fruits</th>\n",
              "      <th>Amount_on_MeatProducts</th>\n",
              "      <th>Amount_on_FishProducts</th>\n",
              "      <th>Amount_on_SweetProducts</th>\n",
              "      <th>Amount_on_GoldProds</th>\n",
              "      <th>WebVisitsMonth</th>\n",
              "      <th>Cmp3Accepted</th>\n",
              "      <th>Cmp4Accepted</th>\n",
              "      <th>Cmp5Accepted</th>\n",
              "      <th>Cmp1Accepted</th>\n",
              "      <th>Cmp2Accepted</th>\n",
              "      <th>Any_Complain</th>\n",
              "      <th>Response</th>\n",
              "    </tr>\n",
              "  </thead>\n",
              "  <tbody>\n",
              "    <tr>\n",
              "      <th>0</th>\n",
              "      <td>1955</td>\n",
              "      <td>Graduation</td>\n",
              "      <td>Divorced</td>\n",
              "      <td>77504.4</td>\n",
              "      <td>1</td>\n",
              "      <td>1</td>\n",
              "      <td>20140622</td>\n",
              "      <td>56</td>\n",
              "      <td>2</td>\n",
              "      <td>1</td>\n",
              "      <td>1</td>\n",
              "      <td>4</td>\n",
              "      <td>71</td>\n",
              "      <td>3</td>\n",
              "      <td>16</td>\n",
              "      <td>0</td>\n",
              "      <td>6</td>\n",
              "      <td>20</td>\n",
              "      <td>3</td>\n",
              "      <td>0</td>\n",
              "      <td>0</td>\n",
              "      <td>0</td>\n",
              "      <td>0</td>\n",
              "      <td>0</td>\n",
              "      <td>0</td>\n",
              "      <td>0</td>\n",
              "    </tr>\n",
              "    <tr>\n",
              "      <th>1</th>\n",
              "      <td>1958</td>\n",
              "      <td>Graduation</td>\n",
              "      <td>Together</td>\n",
              "      <td>56784.0</td>\n",
              "      <td>0</td>\n",
              "      <td>1</td>\n",
              "      <td>20130801</td>\n",
              "      <td>17</td>\n",
              "      <td>6</td>\n",
              "      <td>5</td>\n",
              "      <td>1</td>\n",
              "      <td>8</td>\n",
              "      <td>205</td>\n",
              "      <td>22</td>\n",
              "      <td>111</td>\n",
              "      <td>50</td>\n",
              "      <td>15</td>\n",
              "      <td>19</td>\n",
              "      <td>6</td>\n",
              "      <td>0</td>\n",
              "      <td>0</td>\n",
              "      <td>0</td>\n",
              "      <td>0</td>\n",
              "      <td>0</td>\n",
              "      <td>0</td>\n",
              "      <td>0</td>\n",
              "    </tr>\n",
              "    <tr>\n",
              "      <th>2</th>\n",
              "      <td>1962</td>\n",
              "      <td>Graduation</td>\n",
              "      <td>Single</td>\n",
              "      <td>103714.8</td>\n",
              "      <td>0</td>\n",
              "      <td>0</td>\n",
              "      <td>20131121</td>\n",
              "      <td>17</td>\n",
              "      <td>0</td>\n",
              "      <td>7</td>\n",
              "      <td>4</td>\n",
              "      <td>7</td>\n",
              "      <td>469</td>\n",
              "      <td>31</td>\n",
              "      <td>873</td>\n",
              "      <td>29</td>\n",
              "      <td>18</td>\n",
              "      <td>37</td>\n",
              "      <td>2</td>\n",
              "      <td>0</td>\n",
              "      <td>0</td>\n",
              "      <td>0</td>\n",
              "      <td>1</td>\n",
              "      <td>0</td>\n",
              "      <td>0</td>\n",
              "      <td>1</td>\n",
              "    </tr>\n",
              "    <tr>\n",
              "      <th>3</th>\n",
              "      <td>1979</td>\n",
              "      <td>2n Cycle</td>\n",
              "      <td>Single</td>\n",
              "      <td>46311.6</td>\n",
              "      <td>1</td>\n",
              "      <td>0</td>\n",
              "      <td>20130913</td>\n",
              "      <td>49</td>\n",
              "      <td>3</td>\n",
              "      <td>4</td>\n",
              "      <td>1</td>\n",
              "      <td>3</td>\n",
              "      <td>56</td>\n",
              "      <td>15</td>\n",
              "      <td>49</td>\n",
              "      <td>17</td>\n",
              "      <td>24</td>\n",
              "      <td>24</td>\n",
              "      <td>8</td>\n",
              "      <td>0</td>\n",
              "      <td>0</td>\n",
              "      <td>0</td>\n",
              "      <td>0</td>\n",
              "      <td>0</td>\n",
              "      <td>0</td>\n",
              "      <td>0</td>\n",
              "    </tr>\n",
              "    <tr>\n",
              "      <th>4</th>\n",
              "      <td>1959</td>\n",
              "      <td>Graduation</td>\n",
              "      <td>Married</td>\n",
              "      <td>87486.0</td>\n",
              "      <td>0</td>\n",
              "      <td>0</td>\n",
              "      <td>20140121</td>\n",
              "      <td>59</td>\n",
              "      <td>1</td>\n",
              "      <td>3</td>\n",
              "      <td>7</td>\n",
              "      <td>9</td>\n",
              "      <td>412</td>\n",
              "      <td>117</td>\n",
              "      <td>445</td>\n",
              "      <td>181</td>\n",
              "      <td>165</td>\n",
              "      <td>203</td>\n",
              "      <td>1</td>\n",
              "      <td>0</td>\n",
              "      <td>0</td>\n",
              "      <td>0</td>\n",
              "      <td>1</td>\n",
              "      <td>0</td>\n",
              "      <td>0</td>\n",
              "      <td>0</td>\n",
              "    </tr>\n",
              "    <tr>\n",
              "      <th>...</th>\n",
              "      <td>...</td>\n",
              "      <td>...</td>\n",
              "      <td>...</td>\n",
              "      <td>...</td>\n",
              "      <td>...</td>\n",
              "      <td>...</td>\n",
              "      <td>...</td>\n",
              "      <td>...</td>\n",
              "      <td>...</td>\n",
              "      <td>...</td>\n",
              "      <td>...</td>\n",
              "      <td>...</td>\n",
              "      <td>...</td>\n",
              "      <td>...</td>\n",
              "      <td>...</td>\n",
              "      <td>...</td>\n",
              "      <td>...</td>\n",
              "      <td>...</td>\n",
              "      <td>...</td>\n",
              "      <td>...</td>\n",
              "      <td>...</td>\n",
              "      <td>...</td>\n",
              "      <td>...</td>\n",
              "      <td>...</td>\n",
              "      <td>...</td>\n",
              "      <td>...</td>\n",
              "    </tr>\n",
              "    <tr>\n",
              "      <th>1563</th>\n",
              "      <td>1970</td>\n",
              "      <td>Graduation</td>\n",
              "      <td>Married</td>\n",
              "      <td>52893.6</td>\n",
              "      <td>1</td>\n",
              "      <td>1</td>\n",
              "      <td>20140619</td>\n",
              "      <td>24</td>\n",
              "      <td>2</td>\n",
              "      <td>2</td>\n",
              "      <td>0</td>\n",
              "      <td>3</td>\n",
              "      <td>29</td>\n",
              "      <td>4</td>\n",
              "      <td>10</td>\n",
              "      <td>2</td>\n",
              "      <td>0</td>\n",
              "      <td>4</td>\n",
              "      <td>5</td>\n",
              "      <td>0</td>\n",
              "      <td>0</td>\n",
              "      <td>0</td>\n",
              "      <td>0</td>\n",
              "      <td>0</td>\n",
              "      <td>0</td>\n",
              "      <td>0</td>\n",
              "    </tr>\n",
              "    <tr>\n",
              "      <th>1564</th>\n",
              "      <td>1980</td>\n",
              "      <td>Graduation</td>\n",
              "      <td>Single</td>\n",
              "      <td>74190.0</td>\n",
              "      <td>0</td>\n",
              "      <td>1</td>\n",
              "      <td>20130807</td>\n",
              "      <td>63</td>\n",
              "      <td>1</td>\n",
              "      <td>4</td>\n",
              "      <td>2</td>\n",
              "      <td>8</td>\n",
              "      <td>167</td>\n",
              "      <td>53</td>\n",
              "      <td>100</td>\n",
              "      <td>55</td>\n",
              "      <td>30</td>\n",
              "      <td>27</td>\n",
              "      <td>4</td>\n",
              "      <td>0</td>\n",
              "      <td>0</td>\n",
              "      <td>0</td>\n",
              "      <td>0</td>\n",
              "      <td>0</td>\n",
              "      <td>0</td>\n",
              "      <td>0</td>\n",
              "    </tr>\n",
              "    <tr>\n",
              "      <th>1565</th>\n",
              "      <td>1952</td>\n",
              "      <td>Master</td>\n",
              "      <td>Married</td>\n",
              "      <td>80857.2</td>\n",
              "      <td>0</td>\n",
              "      <td>1</td>\n",
              "      <td>20130115</td>\n",
              "      <td>74</td>\n",
              "      <td>4</td>\n",
              "      <td>2</td>\n",
              "      <td>2</td>\n",
              "      <td>9</td>\n",
              "      <td>820</td>\n",
              "      <td>11</td>\n",
              "      <td>53</td>\n",
              "      <td>11</td>\n",
              "      <td>0</td>\n",
              "      <td>70</td>\n",
              "      <td>7</td>\n",
              "      <td>0</td>\n",
              "      <td>1</td>\n",
              "      <td>0</td>\n",
              "      <td>0</td>\n",
              "      <td>0</td>\n",
              "      <td>0</td>\n",
              "      <td>0</td>\n",
              "    </tr>\n",
              "    <tr>\n",
              "      <th>1566</th>\n",
              "      <td>1964</td>\n",
              "      <td>PhD</td>\n",
              "      <td>Single</td>\n",
              "      <td>58701.6</td>\n",
              "      <td>1</td>\n",
              "      <td>1</td>\n",
              "      <td>20140412</td>\n",
              "      <td>28</td>\n",
              "      <td>2</td>\n",
              "      <td>1</td>\n",
              "      <td>0</td>\n",
              "      <td>4</td>\n",
              "      <td>57</td>\n",
              "      <td>3</td>\n",
              "      <td>9</td>\n",
              "      <td>0</td>\n",
              "      <td>0</td>\n",
              "      <td>1</td>\n",
              "      <td>4</td>\n",
              "      <td>0</td>\n",
              "      <td>0</td>\n",
              "      <td>0</td>\n",
              "      <td>0</td>\n",
              "      <td>0</td>\n",
              "      <td>0</td>\n",
              "      <td>0</td>\n",
              "    </tr>\n",
              "    <tr>\n",
              "      <th>1567</th>\n",
              "      <td>1970</td>\n",
              "      <td>Graduation</td>\n",
              "      <td>Together</td>\n",
              "      <td>27873.6</td>\n",
              "      <td>1</td>\n",
              "      <td>0</td>\n",
              "      <td>20140126</td>\n",
              "      <td>78</td>\n",
              "      <td>2</td>\n",
              "      <td>2</td>\n",
              "      <td>0</td>\n",
              "      <td>3</td>\n",
              "      <td>18</td>\n",
              "      <td>5</td>\n",
              "      <td>18</td>\n",
              "      <td>6</td>\n",
              "      <td>1</td>\n",
              "      <td>0</td>\n",
              "      <td>8</td>\n",
              "      <td>0</td>\n",
              "      <td>0</td>\n",
              "      <td>0</td>\n",
              "      <td>0</td>\n",
              "      <td>0</td>\n",
              "      <td>0</td>\n",
              "      <td>0</td>\n",
              "    </tr>\n",
              "  </tbody>\n",
              "</table>\n",
              "<p>1568 rows × 26 columns</p>\n",
              "</div>"
            ],
            "text/plain": [
              "      Year_of_Birth Education_Level  ... Any_Complain  Response\n",
              "0              1955      Graduation  ...            0         0\n",
              "1              1958      Graduation  ...            0         0\n",
              "2              1962      Graduation  ...            0         1\n",
              "3              1979        2n Cycle  ...            0         0\n",
              "4              1959      Graduation  ...            0         0\n",
              "...             ...             ...  ...          ...       ...\n",
              "1563           1970      Graduation  ...            0         0\n",
              "1564           1980      Graduation  ...            0         0\n",
              "1565           1952          Master  ...            0         0\n",
              "1566           1964             PhD  ...            0         0\n",
              "1567           1970      Graduation  ...            0         0\n",
              "\n",
              "[1568 rows x 26 columns]"
            ]
          },
          "metadata": {},
          "execution_count": 20
        }
      ]
    },
    {
      "cell_type": "code",
      "metadata": {
        "id": "Ifi2hjJus5qh"
      },
      "source": [
        "df_test.drop('ID',1,inplace=True)"
      ],
      "execution_count": null,
      "outputs": []
    },
    {
      "cell_type": "code",
      "metadata": {
        "colab": {
          "base_uri": "https://localhost:8080/",
          "height": 434
        },
        "id": "5kFmEuM_wtkn",
        "outputId": "70588a92-ccc6-4b53-9ee6-49411f8771d1"
      },
      "source": [
        "df_test['Date_Customer'] =  pd.to_datetime(df_test['Date_Customer'],format='%d-%m-%Y')\n",
        "dalist1= df_test['Date_Customer'].tolist()\n",
        "test_time =[]\n",
        "for i in dalist1:\n",
        "  n= int(i.strftime('%Y%m%d'))\n",
        "  test_time.append(n)\n",
        "df_test['Date_Customer']= test_time\n",
        "\n",
        "df_test"
      ],
      "execution_count": null,
      "outputs": [
        {
          "output_type": "execute_result",
          "data": {
            "text/html": [
              "<div>\n",
              "<style scoped>\n",
              "    .dataframe tbody tr th:only-of-type {\n",
              "        vertical-align: middle;\n",
              "    }\n",
              "\n",
              "    .dataframe tbody tr th {\n",
              "        vertical-align: top;\n",
              "    }\n",
              "\n",
              "    .dataframe thead th {\n",
              "        text-align: right;\n",
              "    }\n",
              "</style>\n",
              "<table border=\"1\" class=\"dataframe\">\n",
              "  <thead>\n",
              "    <tr style=\"text-align: right;\">\n",
              "      <th></th>\n",
              "      <th>Year_of_Birth</th>\n",
              "      <th>Education_Level</th>\n",
              "      <th>Marital_Status</th>\n",
              "      <th>Disposable_Income</th>\n",
              "      <th>No_of_Kids_in_home</th>\n",
              "      <th>No_of_Teen_in_home</th>\n",
              "      <th>Date_Customer</th>\n",
              "      <th>Recency</th>\n",
              "      <th>Discounted_Purchases</th>\n",
              "      <th>WebPurchases</th>\n",
              "      <th>CatalogPurchases</th>\n",
              "      <th>StorePurchases</th>\n",
              "      <th>Amount_on_Wines</th>\n",
              "      <th>Amount_on_Fruits</th>\n",
              "      <th>Amount_on_MeatProducts</th>\n",
              "      <th>Amount_on_FishProducts</th>\n",
              "      <th>Amount_on_SweetProducts</th>\n",
              "      <th>Amount_on_GoldProds</th>\n",
              "      <th>WebVisitsMonth</th>\n",
              "      <th>Cmp3Accepted</th>\n",
              "      <th>Cmp4Accepted</th>\n",
              "      <th>Cmp5Accepted</th>\n",
              "      <th>Cmp1Accepted</th>\n",
              "      <th>Cmp2Accepted</th>\n",
              "      <th>Any_Complain</th>\n",
              "    </tr>\n",
              "  </thead>\n",
              "  <tbody>\n",
              "    <tr>\n",
              "      <th>0</th>\n",
              "      <td>1954</td>\n",
              "      <td>Graduation</td>\n",
              "      <td>Single</td>\n",
              "      <td>48556.8</td>\n",
              "      <td>0</td>\n",
              "      <td>1</td>\n",
              "      <td>20130111</td>\n",
              "      <td>85</td>\n",
              "      <td>6</td>\n",
              "      <td>8</td>\n",
              "      <td>2</td>\n",
              "      <td>8</td>\n",
              "      <td>429</td>\n",
              "      <td>20</td>\n",
              "      <td>118</td>\n",
              "      <td>7</td>\n",
              "      <td>23</td>\n",
              "      <td>41</td>\n",
              "      <td>8</td>\n",
              "      <td>0</td>\n",
              "      <td>0</td>\n",
              "      <td>0</td>\n",
              "      <td>0</td>\n",
              "      <td>0</td>\n",
              "      <td>0</td>\n",
              "    </tr>\n",
              "    <tr>\n",
              "      <th>1</th>\n",
              "      <td>1961</td>\n",
              "      <td>Graduation</td>\n",
              "      <td>Widow</td>\n",
              "      <td>57499.2</td>\n",
              "      <td>0</td>\n",
              "      <td>1</td>\n",
              "      <td>20121122</td>\n",
              "      <td>79</td>\n",
              "      <td>5</td>\n",
              "      <td>7</td>\n",
              "      <td>4</td>\n",
              "      <td>6</td>\n",
              "      <td>510</td>\n",
              "      <td>3</td>\n",
              "      <td>26</td>\n",
              "      <td>0</td>\n",
              "      <td>0</td>\n",
              "      <td>75</td>\n",
              "      <td>6</td>\n",
              "      <td>0</td>\n",
              "      <td>1</td>\n",
              "      <td>0</td>\n",
              "      <td>0</td>\n",
              "      <td>0</td>\n",
              "      <td>0</td>\n",
              "    </tr>\n",
              "    <tr>\n",
              "      <th>2</th>\n",
              "      <td>1973</td>\n",
              "      <td>Basic</td>\n",
              "      <td>Married</td>\n",
              "      <td>17025.6</td>\n",
              "      <td>0</td>\n",
              "      <td>0</td>\n",
              "      <td>20130228</td>\n",
              "      <td>47</td>\n",
              "      <td>1</td>\n",
              "      <td>2</td>\n",
              "      <td>0</td>\n",
              "      <td>4</td>\n",
              "      <td>7</td>\n",
              "      <td>10</td>\n",
              "      <td>11</td>\n",
              "      <td>16</td>\n",
              "      <td>12</td>\n",
              "      <td>27</td>\n",
              "      <td>6</td>\n",
              "      <td>0</td>\n",
              "      <td>0</td>\n",
              "      <td>0</td>\n",
              "      <td>0</td>\n",
              "      <td>0</td>\n",
              "      <td>0</td>\n",
              "    </tr>\n",
              "    <tr>\n",
              "      <th>3</th>\n",
              "      <td>1970</td>\n",
              "      <td>Graduation</td>\n",
              "      <td>Together</td>\n",
              "      <td>91983.6</td>\n",
              "      <td>0</td>\n",
              "      <td>0</td>\n",
              "      <td>20130816</td>\n",
              "      <td>98</td>\n",
              "      <td>1</td>\n",
              "      <td>4</td>\n",
              "      <td>7</td>\n",
              "      <td>11</td>\n",
              "      <td>741</td>\n",
              "      <td>66</td>\n",
              "      <td>946</td>\n",
              "      <td>219</td>\n",
              "      <td>189</td>\n",
              "      <td>126</td>\n",
              "      <td>2</td>\n",
              "      <td>0</td>\n",
              "      <td>0</td>\n",
              "      <td>1</td>\n",
              "      <td>1</td>\n",
              "      <td>0</td>\n",
              "      <td>0</td>\n",
              "    </tr>\n",
              "    <tr>\n",
              "      <th>4</th>\n",
              "      <td>1959</td>\n",
              "      <td>Graduation</td>\n",
              "      <td>Together</td>\n",
              "      <td>78235.2</td>\n",
              "      <td>0</td>\n",
              "      <td>2</td>\n",
              "      <td>20130725</td>\n",
              "      <td>41</td>\n",
              "      <td>2</td>\n",
              "      <td>7</td>\n",
              "      <td>6</td>\n",
              "      <td>11</td>\n",
              "      <td>748</td>\n",
              "      <td>22</td>\n",
              "      <td>181</td>\n",
              "      <td>12</td>\n",
              "      <td>0</td>\n",
              "      <td>200</td>\n",
              "      <td>5</td>\n",
              "      <td>1</td>\n",
              "      <td>0</td>\n",
              "      <td>0</td>\n",
              "      <td>0</td>\n",
              "      <td>0</td>\n",
              "      <td>0</td>\n",
              "    </tr>\n",
              "    <tr>\n",
              "      <th>...</th>\n",
              "      <td>...</td>\n",
              "      <td>...</td>\n",
              "      <td>...</td>\n",
              "      <td>...</td>\n",
              "      <td>...</td>\n",
              "      <td>...</td>\n",
              "      <td>...</td>\n",
              "      <td>...</td>\n",
              "      <td>...</td>\n",
              "      <td>...</td>\n",
              "      <td>...</td>\n",
              "      <td>...</td>\n",
              "      <td>...</td>\n",
              "      <td>...</td>\n",
              "      <td>...</td>\n",
              "      <td>...</td>\n",
              "      <td>...</td>\n",
              "      <td>...</td>\n",
              "      <td>...</td>\n",
              "      <td>...</td>\n",
              "      <td>...</td>\n",
              "      <td>...</td>\n",
              "      <td>...</td>\n",
              "      <td>...</td>\n",
              "      <td>...</td>\n",
              "    </tr>\n",
              "    <tr>\n",
              "      <th>667</th>\n",
              "      <td>1975</td>\n",
              "      <td>Graduation</td>\n",
              "      <td>Married</td>\n",
              "      <td>80934.0</td>\n",
              "      <td>0</td>\n",
              "      <td>1</td>\n",
              "      <td>20120812</td>\n",
              "      <td>70</td>\n",
              "      <td>5</td>\n",
              "      <td>9</td>\n",
              "      <td>6</td>\n",
              "      <td>12</td>\n",
              "      <td>762</td>\n",
              "      <td>83</td>\n",
              "      <td>217</td>\n",
              "      <td>29</td>\n",
              "      <td>80</td>\n",
              "      <td>11</td>\n",
              "      <td>6</td>\n",
              "      <td>0</td>\n",
              "      <td>0</td>\n",
              "      <td>0</td>\n",
              "      <td>0</td>\n",
              "      <td>0</td>\n",
              "      <td>0</td>\n",
              "    </tr>\n",
              "    <tr>\n",
              "      <th>668</th>\n",
              "      <td>1955</td>\n",
              "      <td>Graduation</td>\n",
              "      <td>Divorced</td>\n",
              "      <td>84052.8</td>\n",
              "      <td>0</td>\n",
              "      <td>1</td>\n",
              "      <td>20130218</td>\n",
              "      <td>53</td>\n",
              "      <td>4</td>\n",
              "      <td>7</td>\n",
              "      <td>10</td>\n",
              "      <td>5</td>\n",
              "      <td>1078</td>\n",
              "      <td>3</td>\n",
              "      <td>250</td>\n",
              "      <td>153</td>\n",
              "      <td>14</td>\n",
              "      <td>14</td>\n",
              "      <td>5</td>\n",
              "      <td>0</td>\n",
              "      <td>0</td>\n",
              "      <td>0</td>\n",
              "      <td>0</td>\n",
              "      <td>0</td>\n",
              "      <td>0</td>\n",
              "    </tr>\n",
              "    <tr>\n",
              "      <th>669</th>\n",
              "      <td>1952</td>\n",
              "      <td>PhD</td>\n",
              "      <td>Married</td>\n",
              "      <td>63974.4</td>\n",
              "      <td>0</td>\n",
              "      <td>0</td>\n",
              "      <td>20130809</td>\n",
              "      <td>39</td>\n",
              "      <td>1</td>\n",
              "      <td>5</td>\n",
              "      <td>1</td>\n",
              "      <td>5</td>\n",
              "      <td>246</td>\n",
              "      <td>3</td>\n",
              "      <td>12</td>\n",
              "      <td>0</td>\n",
              "      <td>0</td>\n",
              "      <td>25</td>\n",
              "      <td>7</td>\n",
              "      <td>0</td>\n",
              "      <td>0</td>\n",
              "      <td>0</td>\n",
              "      <td>0</td>\n",
              "      <td>0</td>\n",
              "      <td>0</td>\n",
              "    </tr>\n",
              "    <tr>\n",
              "      <th>670</th>\n",
              "      <td>1960</td>\n",
              "      <td>Graduation</td>\n",
              "      <td>Together</td>\n",
              "      <td>69548.4</td>\n",
              "      <td>0</td>\n",
              "      <td>1</td>\n",
              "      <td>20130819</td>\n",
              "      <td>31</td>\n",
              "      <td>7</td>\n",
              "      <td>4</td>\n",
              "      <td>6</td>\n",
              "      <td>8</td>\n",
              "      <td>295</td>\n",
              "      <td>62</td>\n",
              "      <td>177</td>\n",
              "      <td>77</td>\n",
              "      <td>5</td>\n",
              "      <td>29</td>\n",
              "      <td>3</td>\n",
              "      <td>0</td>\n",
              "      <td>0</td>\n",
              "      <td>0</td>\n",
              "      <td>0</td>\n",
              "      <td>0</td>\n",
              "      <td>1</td>\n",
              "    </tr>\n",
              "    <tr>\n",
              "      <th>671</th>\n",
              "      <td>1961</td>\n",
              "      <td>Master</td>\n",
              "      <td>Married</td>\n",
              "      <td>56823.6</td>\n",
              "      <td>0</td>\n",
              "      <td>1</td>\n",
              "      <td>20131113</td>\n",
              "      <td>100</td>\n",
              "      <td>3</td>\n",
              "      <td>2</td>\n",
              "      <td>2</td>\n",
              "      <td>6</td>\n",
              "      <td>189</td>\n",
              "      <td>5</td>\n",
              "      <td>19</td>\n",
              "      <td>8</td>\n",
              "      <td>8</td>\n",
              "      <td>4</td>\n",
              "      <td>5</td>\n",
              "      <td>0</td>\n",
              "      <td>0</td>\n",
              "      <td>0</td>\n",
              "      <td>0</td>\n",
              "      <td>0</td>\n",
              "      <td>0</td>\n",
              "    </tr>\n",
              "  </tbody>\n",
              "</table>\n",
              "<p>672 rows × 25 columns</p>\n",
              "</div>"
            ],
            "text/plain": [
              "     Year_of_Birth Education_Level  ... Cmp2Accepted  Any_Complain\n",
              "0             1954      Graduation  ...            0             0\n",
              "1             1961      Graduation  ...            0             0\n",
              "2             1973           Basic  ...            0             0\n",
              "3             1970      Graduation  ...            0             0\n",
              "4             1959      Graduation  ...            0             0\n",
              "..             ...             ...  ...          ...           ...\n",
              "667           1975      Graduation  ...            0             0\n",
              "668           1955      Graduation  ...            0             0\n",
              "669           1952             PhD  ...            0             0\n",
              "670           1960      Graduation  ...            0             1\n",
              "671           1961          Master  ...            0             0\n",
              "\n",
              "[672 rows x 25 columns]"
            ]
          },
          "metadata": {},
          "execution_count": 22
        }
      ]
    },
    {
      "cell_type": "code",
      "metadata": {
        "colab": {
          "base_uri": "https://localhost:8080/"
        },
        "id": "2bw_8KfEivmW",
        "outputId": "79661c58-002b-4e93-8543-16642c1799d5"
      },
      "source": [
        "meandis=df_train.Disposable_Income.mean()\n",
        "meandis"
      ],
      "execution_count": null,
      "outputs": [
        {
          "output_type": "execute_result",
          "data": {
            "text/plain": [
              "62381.1865979382"
            ]
          },
          "metadata": {},
          "execution_count": 23
        }
      ]
    },
    {
      "cell_type": "code",
      "metadata": {
        "colab": {
          "base_uri": "https://localhost:8080/"
        },
        "id": "H6fh6xl5jGkK",
        "outputId": "6a72209a-5d2e-4616-c901-9b934cbfaa7e"
      },
      "source": [
        "df_train.fillna(meandis,inplace=True)\n",
        "df_train.isnull().sum()"
      ],
      "execution_count": null,
      "outputs": [
        {
          "output_type": "execute_result",
          "data": {
            "text/plain": [
              "Year_of_Birth              0\n",
              "Education_Level            0\n",
              "Marital_Status             0\n",
              "Disposable_Income          0\n",
              "No_of_Kids_in_home         0\n",
              "No_of_Teen_in_home         0\n",
              "Date_Customer              0\n",
              "Recency                    0\n",
              "Discounted_Purchases       0\n",
              "WebPurchases               0\n",
              "CatalogPurchases           0\n",
              "StorePurchases             0\n",
              "Amount_on_Wines            0\n",
              "Amount_on_Fruits           0\n",
              "Amount_on_MeatProducts     0\n",
              "Amount_on_FishProducts     0\n",
              "Amount_on_SweetProducts    0\n",
              "Amount_on_GoldProds        0\n",
              "WebVisitsMonth             0\n",
              "Cmp3Accepted               0\n",
              "Cmp4Accepted               0\n",
              "Cmp5Accepted               0\n",
              "Cmp1Accepted               0\n",
              "Cmp2Accepted               0\n",
              "Any_Complain               0\n",
              "Response                   0\n",
              "dtype: int64"
            ]
          },
          "metadata": {},
          "execution_count": 24
        }
      ]
    },
    {
      "cell_type": "code",
      "metadata": {
        "colab": {
          "base_uri": "https://localhost:8080/"
        },
        "id": "AF4_QrVPmzTw",
        "outputId": "bfd74779-a058-4a6e-f406-dfb8cfd5a208"
      },
      "source": [
        "y=df_train.Response\n",
        "y.value_counts()"
      ],
      "execution_count": null,
      "outputs": [
        {
          "output_type": "execute_result",
          "data": {
            "text/plain": [
              "0    1329\n",
              "1     239\n",
              "Name: Response, dtype: int64"
            ]
          },
          "metadata": {},
          "execution_count": 25
        }
      ]
    },
    {
      "cell_type": "code",
      "metadata": {
        "id": "agM_T3Mzt4TB"
      },
      "source": [
        "df_train.drop('Response',1,inplace=True)"
      ],
      "execution_count": null,
      "outputs": []
    },
    {
      "cell_type": "code",
      "metadata": {
        "colab": {
          "base_uri": "https://localhost:8080/"
        },
        "id": "hNfMEtnjAJ2n",
        "outputId": "520d9a0b-5b12-4612-ddb3-e53d6a91958f"
      },
      "source": [
        "categorical = list(df_train.dtypes[df_train.dtypes == 'object'].index)\n",
        "numerical = list(df_train.dtypes[df_train.dtypes == 'int64'].index) + list(df_train.dtypes[df_train.dtypes == 'float64'].index)\n",
        "numerical"
      ],
      "execution_count": null,
      "outputs": [
        {
          "output_type": "execute_result",
          "data": {
            "text/plain": [
              "['Year_of_Birth',\n",
              " 'No_of_Kids_in_home',\n",
              " 'No_of_Teen_in_home',\n",
              " 'Date_Customer',\n",
              " 'Recency',\n",
              " 'Discounted_Purchases',\n",
              " 'WebPurchases',\n",
              " 'CatalogPurchases',\n",
              " 'StorePurchases',\n",
              " 'Amount_on_Wines',\n",
              " 'Amount_on_Fruits',\n",
              " 'Amount_on_MeatProducts',\n",
              " 'Amount_on_FishProducts',\n",
              " 'Amount_on_SweetProducts',\n",
              " 'Amount_on_GoldProds',\n",
              " 'WebVisitsMonth',\n",
              " 'Cmp3Accepted',\n",
              " 'Cmp4Accepted',\n",
              " 'Cmp5Accepted',\n",
              " 'Cmp1Accepted',\n",
              " 'Cmp2Accepted',\n",
              " 'Any_Complain',\n",
              " 'Disposable_Income']"
            ]
          },
          "metadata": {},
          "execution_count": 27
        }
      ]
    },
    {
      "cell_type": "code",
      "metadata": {
        "colab": {
          "base_uri": "https://localhost:8080/"
        },
        "id": "cGb52TojDLTF",
        "outputId": "786592fd-9485-4a92-b3b3-e2db34dc1481"
      },
      "source": [
        "categorical"
      ],
      "execution_count": null,
      "outputs": [
        {
          "output_type": "execute_result",
          "data": {
            "text/plain": [
              "['Education_Level', 'Marital_Status']"
            ]
          },
          "metadata": {},
          "execution_count": 28
        }
      ]
    },
    {
      "cell_type": "code",
      "metadata": {
        "id": "nenNjWjr7ugF"
      },
      "source": [
        "from sklearn.metrics import mutual_info_score"
      ],
      "execution_count": null,
      "outputs": []
    },
    {
      "cell_type": "code",
      "metadata": {
        "colab": {
          "base_uri": "https://localhost:8080/"
        },
        "id": "zHMtIm_77978",
        "outputId": "b08def3c-dc29-42d7-a9a0-931336eb1f17"
      },
      "source": [
        "mutual_info_score(df_train.Education_Level,y)"
      ],
      "execution_count": null,
      "outputs": [
        {
          "output_type": "execute_result",
          "data": {
            "text/plain": [
              "0.005898475901871713"
            ]
          },
          "metadata": {},
          "execution_count": 30
        }
      ]
    },
    {
      "cell_type": "code",
      "metadata": {
        "colab": {
          "base_uri": "https://localhost:8080/"
        },
        "id": "BnDtFwh77_XI",
        "outputId": "3fe14585-09b0-4b21-e172-fe404018f6cf"
      },
      "source": [
        "mutual_info_score(df_train.Marital_Status,y)"
      ],
      "execution_count": null,
      "outputs": [
        {
          "output_type": "execute_result",
          "data": {
            "text/plain": [
              "0.011427492304730837"
            ]
          },
          "metadata": {},
          "execution_count": 31
        }
      ]
    },
    {
      "cell_type": "code",
      "metadata": {
        "id": "i32Pge-g8oDE"
      },
      "source": [
        "import seaborn as sns\n",
        "import matplotlib.pyplot as plt"
      ],
      "execution_count": null,
      "outputs": []
    },
    {
      "cell_type": "code",
      "metadata": {
        "colab": {
          "base_uri": "https://localhost:8080/"
        },
        "id": "hWjcWeBM-YCn",
        "outputId": "5d6af7a2-0629-4315-cf7e-37901a3914e2"
      },
      "source": [
        "nnum = numerical + ['Response']\n",
        "nnum"
      ],
      "execution_count": null,
      "outputs": [
        {
          "output_type": "execute_result",
          "data": {
            "text/plain": [
              "['Year_of_Birth',\n",
              " 'No_of_Kids_in_home',\n",
              " 'No_of_Teen_in_home',\n",
              " 'Date_Customer',\n",
              " 'Recency',\n",
              " 'Discounted_Purchases',\n",
              " 'WebPurchases',\n",
              " 'CatalogPurchases',\n",
              " 'StorePurchases',\n",
              " 'Amount_on_Wines',\n",
              " 'Amount_on_Fruits',\n",
              " 'Amount_on_MeatProducts',\n",
              " 'Amount_on_FishProducts',\n",
              " 'Amount_on_SweetProducts',\n",
              " 'Amount_on_GoldProds',\n",
              " 'WebVisitsMonth',\n",
              " 'Cmp3Accepted',\n",
              " 'Cmp4Accepted',\n",
              " 'Cmp5Accepted',\n",
              " 'Cmp1Accepted',\n",
              " 'Cmp2Accepted',\n",
              " 'Any_Complain',\n",
              " 'Disposable_Income',\n",
              " 'Response']"
            ]
          },
          "metadata": {},
          "execution_count": 33
        }
      ]
    },
    {
      "cell_type": "code",
      "metadata": {
        "id": "z__798Vf8yH0"
      },
      "source": [
        "#sns.pairplot(dff[['Year_of_Birth','No_of_Kids_in_home','No_of_Teen_in_home','Date_Customer','Recency','Discounted_Purchases','Response']])\n",
        "#plt.show()"
      ],
      "execution_count": null,
      "outputs": []
    },
    {
      "cell_type": "code",
      "metadata": {
        "id": "766hgmc_Kh6x"
      },
      "source": [
        "#sns.pairplot(dff[['WebPurchases','CatalogPurchases','StorePurchases','Amount_on_Wines','Amount_on_Fruits','Amount_on_MeatProducts','Amount_on_FishProducts','Response']],hue='Response')\n",
        "#plt.show()"
      ],
      "execution_count": null,
      "outputs": []
    },
    {
      "cell_type": "code",
      "metadata": {
        "id": "k52ZYpY3MHw3"
      },
      "source": [
        "#sns.pairplot(dff[['Amount_on_SweetProducts','Amount_on_GoldProds','WebVisitsMonth','Cmp3Accepted','Cmp4Accepted','Cmp5Accepted','Response']],hue='Response')\n",
        "#plt.show()"
      ],
      "execution_count": null,
      "outputs": []
    },
    {
      "cell_type": "code",
      "metadata": {
        "id": "fd69A_ZbNahJ"
      },
      "source": [
        "#sns.pairplot(dff[['Cmp1Accepted','Cmp2Accepted','Any_Complain','Disposable_Income','Response']],hue='Response')\n",
        "#plt.show()"
      ],
      "execution_count": null,
      "outputs": []
    },
    {
      "cell_type": "markdown",
      "metadata": {
        "id": "bUQQNg7oiEiO"
      },
      "source": [
        "Encoding categorical columns"
      ]
    },
    {
      "cell_type": "code",
      "metadata": {
        "id": "DUPPPFE3sC-M"
      },
      "source": [
        "from sklearn.feature_extraction import DictVectorizer"
      ],
      "execution_count": null,
      "outputs": []
    },
    {
      "cell_type": "code",
      "metadata": {
        "id": "q2q09JfisDKE"
      },
      "source": [
        "X_train_dict = df_train.to_dict(orient='records')"
      ],
      "execution_count": null,
      "outputs": []
    },
    {
      "cell_type": "code",
      "metadata": {
        "colab": {
          "base_uri": "https://localhost:8080/"
        },
        "id": "Rfw8OoTnsgHs",
        "outputId": "b0569592-aa8f-436f-c5d4-1777a6d60c15"
      },
      "source": [
        "dv = DictVectorizer(sparse=False)\n",
        "dv.fit(X_train_dict)"
      ],
      "execution_count": null,
      "outputs": [
        {
          "output_type": "execute_result",
          "data": {
            "text/plain": [
              "DictVectorizer(dtype=<class 'numpy.float64'>, separator='=', sort=True,\n",
              "               sparse=False)"
            ]
          },
          "metadata": {},
          "execution_count": 40
        }
      ]
    },
    {
      "cell_type": "code",
      "metadata": {
        "id": "I-wS5xJSsiM0"
      },
      "source": [
        "X_train1 = dv.transform(X_train_dict)"
      ],
      "execution_count": null,
      "outputs": []
    },
    {
      "cell_type": "code",
      "metadata": {
        "id": "KXd8Fj82tLbU"
      },
      "source": [
        "X_test_dict = df_test.to_dict(orient='records')"
      ],
      "execution_count": null,
      "outputs": []
    },
    {
      "cell_type": "code",
      "metadata": {
        "id": "1dvUgyrWtLra"
      },
      "source": [
        "X_test1= dv.transform(X_test_dict)"
      ],
      "execution_count": null,
      "outputs": []
    },
    {
      "cell_type": "code",
      "metadata": {
        "colab": {
          "base_uri": "https://localhost:8080/"
        },
        "id": "1BIiDqnDvCf8",
        "outputId": "d420ceaf-2fd1-43f6-b7f7-aa367f02d866"
      },
      "source": [
        "X_train1.shape"
      ],
      "execution_count": null,
      "outputs": [
        {
          "output_type": "execute_result",
          "data": {
            "text/plain": [
              "(1568, 36)"
            ]
          },
          "metadata": {},
          "execution_count": 44
        }
      ]
    },
    {
      "cell_type": "code",
      "metadata": {
        "colab": {
          "base_uri": "https://localhost:8080/"
        },
        "id": "bRwzIWmgvCxv",
        "outputId": "57f8da96-4069-462b-94c4-7fff6eb99c26"
      },
      "source": [
        "X_test1.shape"
      ],
      "execution_count": null,
      "outputs": [
        {
          "output_type": "execute_result",
          "data": {
            "text/plain": [
              "(672, 36)"
            ]
          },
          "metadata": {},
          "execution_count": 45
        }
      ]
    },
    {
      "cell_type": "markdown",
      "metadata": {
        "id": "fC-rPYyChu0H"
      },
      "source": [
        "Normalising the data"
      ]
    },
    {
      "cell_type": "code",
      "metadata": {
        "id": "uo0QFWmiGEnT"
      },
      "source": [
        "from sklearn.preprocessing import MinMaxScaler"
      ],
      "execution_count": null,
      "outputs": []
    },
    {
      "cell_type": "code",
      "metadata": {
        "id": "lo-vTIW8mVxe"
      },
      "source": [
        "scaler = MinMaxScaler()"
      ],
      "execution_count": null,
      "outputs": []
    },
    {
      "cell_type": "code",
      "metadata": {
        "colab": {
          "base_uri": "https://localhost:8080/"
        },
        "id": "eIWpmjXumV_S",
        "outputId": "76d7d859-0206-4a7a-cf69-a70e085e64bb"
      },
      "source": [
        "scaler.fit(X_train1)"
      ],
      "execution_count": null,
      "outputs": [
        {
          "output_type": "execute_result",
          "data": {
            "text/plain": [
              "MinMaxScaler(copy=True, feature_range=(0, 1))"
            ]
          },
          "metadata": {},
          "execution_count": 48
        }
      ]
    },
    {
      "cell_type": "code",
      "metadata": {
        "id": "U0tpehUumr-J"
      },
      "source": [
        "scaled_train_full= scaler.transform(X_train1)\n"
      ],
      "execution_count": null,
      "outputs": []
    },
    {
      "cell_type": "code",
      "metadata": {
        "id": "Bwf6RdAkK8xp"
      },
      "source": [
        "import numpy as np"
      ],
      "execution_count": null,
      "outputs": []
    },
    {
      "cell_type": "code",
      "metadata": {
        "id": "Sjh_WIWMnT7h"
      },
      "source": [
        "scaled_test = scaler.transform(X_test1)\n",
        "scaled_test=np.round(scaled_test)"
      ],
      "execution_count": null,
      "outputs": []
    },
    {
      "cell_type": "code",
      "metadata": {
        "id": "fnD4QxUpnUJX"
      },
      "source": [
        "test = pd.DataFrame(scaled_test)\n",
        "test.fillna(0,inplace=True)"
      ],
      "execution_count": null,
      "outputs": []
    },
    {
      "cell_type": "markdown",
      "metadata": {
        "id": "LRezj2EahjYc"
      },
      "source": [
        "Checking if the data is balanced"
      ]
    },
    {
      "cell_type": "code",
      "metadata": {
        "id": "vA-DUGfnseda"
      },
      "source": [
        "from collections import Counter"
      ],
      "execution_count": null,
      "outputs": []
    },
    {
      "cell_type": "code",
      "metadata": {
        "colab": {
          "base_uri": "https://localhost:8080/"
        },
        "id": "xHWgY-3Csj6H",
        "outputId": "0a95c01c-c1f7-437c-8650-31c5fbe4b152"
      },
      "source": [
        "Counter(y)"
      ],
      "execution_count": null,
      "outputs": [
        {
          "output_type": "execute_result",
          "data": {
            "text/plain": [
              "Counter({0: 1329, 1: 239})"
            ]
          },
          "metadata": {},
          "execution_count": 54
        }
      ]
    },
    {
      "cell_type": "markdown",
      "metadata": {
        "id": "szM5pbwriX3A"
      },
      "source": [
        "Balancing the imbalance data using imblearn"
      ]
    },
    {
      "cell_type": "code",
      "metadata": {
        "colab": {
          "base_uri": "https://localhost:8080/"
        },
        "id": "sAqrAPRtru7Y",
        "outputId": "9ff38bdd-5b37-4fdf-fc74-115b61ab048a"
      },
      "source": [
        "pip install imbalanced-learn"
      ],
      "execution_count": null,
      "outputs": [
        {
          "output_type": "stream",
          "name": "stdout",
          "text": [
            "Requirement already satisfied: imbalanced-learn in /usr/local/lib/python3.7/dist-packages (0.4.3)\n",
            "Requirement already satisfied: numpy>=1.8.2 in /usr/local/lib/python3.7/dist-packages (from imbalanced-learn) (1.19.5)\n",
            "Requirement already satisfied: scipy>=0.13.3 in /usr/local/lib/python3.7/dist-packages (from imbalanced-learn) (1.4.1)\n",
            "Requirement already satisfied: scikit-learn>=0.20 in /usr/local/lib/python3.7/dist-packages (from imbalanced-learn) (0.22.2.post1)\n",
            "Requirement already satisfied: joblib>=0.11 in /usr/local/lib/python3.7/dist-packages (from scikit-learn>=0.20->imbalanced-learn) (1.0.1)\n"
          ]
        }
      ]
    },
    {
      "cell_type": "code",
      "metadata": {
        "id": "mWgG7Q9RnUUT",
        "colab": {
          "base_uri": "https://localhost:8080/"
        },
        "outputId": "843bbbe5-0d5b-4cbb-a3a6-d5c0fd766753"
      },
      "source": [
        "from imblearn.over_sampling import SMOTE"
      ],
      "execution_count": null,
      "outputs": [
        {
          "output_type": "stream",
          "name": "stderr",
          "text": [
            "/usr/local/lib/python3.7/dist-packages/sklearn/externals/six.py:31: FutureWarning: The module is deprecated in version 0.21 and will be removed in version 0.23 since we've dropped support for Python 2.7. Please rely on the official version of six (https://pypi.org/project/six/).\n",
            "  \"(https://pypi.org/project/six/).\", FutureWarning)\n",
            "/usr/local/lib/python3.7/dist-packages/sklearn/utils/deprecation.py:144: FutureWarning: The sklearn.neighbors.base module is  deprecated in version 0.22 and will be removed in version 0.24. The corresponding classes / functions should instead be imported from sklearn.neighbors. Anything that cannot be imported from sklearn.neighbors is now part of the private API.\n",
            "  warnings.warn(message, FutureWarning)\n"
          ]
        }
      ]
    },
    {
      "cell_type": "code",
      "metadata": {
        "id": "t5AAXdmqmsK-"
      },
      "source": [
        "oversample = SMOTE()"
      ],
      "execution_count": null,
      "outputs": []
    },
    {
      "cell_type": "code",
      "metadata": {
        "colab": {
          "base_uri": "https://localhost:8080/"
        },
        "id": "Lrf-WRPrtLUp",
        "outputId": "7507c310-d24f-47b8-e3cf-9111814a7f09"
      },
      "source": [
        "X_ovr, y_ovr = oversample.fit_resample(scaled_train_full, y)"
      ],
      "execution_count": null,
      "outputs": [
        {
          "output_type": "stream",
          "name": "stderr",
          "text": [
            "/usr/local/lib/python3.7/dist-packages/sklearn/utils/deprecation.py:87: FutureWarning: Function safe_indexing is deprecated; safe_indexing is deprecated in version 0.22 and will be removed in version 0.24.\n",
            "  warnings.warn(msg, category=FutureWarning)\n"
          ]
        }
      ]
    },
    {
      "cell_type": "code",
      "metadata": {
        "colab": {
          "base_uri": "https://localhost:8080/"
        },
        "id": "o1abOWVbtLfW",
        "outputId": "60a05f77-88cf-4c95-bcc1-279e6e5f9b3e"
      },
      "source": [
        "Counter(y_ovr)"
      ],
      "execution_count": null,
      "outputs": [
        {
          "output_type": "execute_result",
          "data": {
            "text/plain": [
              "Counter({0: 1329, 1: 1329})"
            ]
          },
          "metadata": {},
          "execution_count": 59
        }
      ]
    },
    {
      "cell_type": "markdown",
      "metadata": {
        "id": "466jdcCOiqu6"
      },
      "source": [
        "spliting the dataset into train and validation"
      ]
    },
    {
      "cell_type": "code",
      "metadata": {
        "id": "1u-k-cnitLoI"
      },
      "source": [
        "from sklearn.model_selection import train_test_split"
      ],
      "execution_count": null,
      "outputs": []
    },
    {
      "cell_type": "code",
      "metadata": {
        "id": "Ke9JnwhsvZWN"
      },
      "source": [
        "X_train, X_val, y_train, y_val = train_test_split(X_ovr, y_ovr, test_size=0.3, random_state=42)"
      ],
      "execution_count": null,
      "outputs": []
    },
    {
      "cell_type": "code",
      "metadata": {
        "id": "JZwXirqFvZhh"
      },
      "source": [
        "from sklearn.linear_model import LogisticRegression"
      ],
      "execution_count": null,
      "outputs": []
    },
    {
      "cell_type": "code",
      "metadata": {
        "id": "bI-Xc7m9ymxI"
      },
      "source": [
        "model1= LogisticRegression(random_state=42)"
      ],
      "execution_count": null,
      "outputs": []
    },
    {
      "cell_type": "code",
      "metadata": {
        "colab": {
          "base_uri": "https://localhost:8080/"
        },
        "id": "FrtnPg0Gy19v",
        "outputId": "287a1f05-d2d1-477f-d985-2e706ef5ba27"
      },
      "source": [
        "model1.fit(X_train,y_train)"
      ],
      "execution_count": null,
      "outputs": [
        {
          "output_type": "execute_result",
          "data": {
            "text/plain": [
              "LogisticRegression(C=1.0, class_weight=None, dual=False, fit_intercept=True,\n",
              "                   intercept_scaling=1, l1_ratio=None, max_iter=100,\n",
              "                   multi_class='auto', n_jobs=None, penalty='l2',\n",
              "                   random_state=42, solver='lbfgs', tol=0.0001, verbose=0,\n",
              "                   warm_start=False)"
            ]
          },
          "metadata": {},
          "execution_count": 64
        }
      ]
    },
    {
      "cell_type": "markdown",
      "metadata": {
        "id": "FPXzjzUvi6Jw"
      },
      "source": [
        "#Model training and selection"
      ]
    },
    {
      "cell_type": "code",
      "metadata": {
        "id": "n98NALx2pxw4"
      },
      "source": [
        "c= []"
      ],
      "execution_count": null,
      "outputs": []
    },
    {
      "cell_type": "code",
      "metadata": {
        "colab": {
          "base_uri": "https://localhost:8080/"
        },
        "id": "-OHiQO4spD5M",
        "outputId": "abcf50de-c72a-46b5-9030-5bf3813921b9"
      },
      "source": [
        "print(model1.coef_)"
      ],
      "execution_count": null,
      "outputs": [
        {
          "output_type": "stream",
          "name": "stdout",
          "text": [
            "[[-0.46899791  0.3940781   1.83222468  2.17712418  1.09302369 -0.40602252\n",
            "  -0.70294404  1.88630681  1.28912891  1.25313178  2.44520871  1.13611438\n",
            "   2.3747555  -2.60846522  1.77003412 -0.03114453 -0.25659603 -2.19610268\n",
            "   0.32400653  0.65251322  1.47542642  0.08065728  0.20437121  0.37805506\n",
            "  -0.51711831  0.76671131 -0.89429161  0.51566054 -0.53479802  0.19984473\n",
            "  -1.88625078 -3.30953994 -1.8833926   2.99890137  2.47423745 -0.99140968]]\n"
          ]
        }
      ]
    },
    {
      "cell_type": "code",
      "metadata": {
        "colab": {
          "base_uri": "https://localhost:8080/"
        },
        "id": "ZDSlx9VSpPvr",
        "outputId": "2e0f9c83-4538-4c01-c496-c607d6383c27"
      },
      "source": [
        "print(model1.intercept_)"
      ],
      "execution_count": null,
      "outputs": [
        {
          "output_type": "stream",
          "name": "stdout",
          "text": [
            "[0.83855852]\n"
          ]
        }
      ]
    },
    {
      "cell_type": "code",
      "metadata": {
        "id": "mpSl6gJR5bab"
      },
      "source": [
        "train_pred = model1.predict(X_train)"
      ],
      "execution_count": null,
      "outputs": []
    },
    {
      "cell_type": "code",
      "metadata": {
        "id": "bKPcQJjh5oRN"
      },
      "source": [
        ""
      ],
      "execution_count": null,
      "outputs": []
    },
    {
      "cell_type": "code",
      "metadata": {
        "colab": {
          "base_uri": "https://localhost:8080/"
        },
        "id": "WUZ1YYxqzkhr",
        "outputId": "c17e0477-bc34-42c2-bba5-1a7a02aa1f8b"
      },
      "source": [
        "Counter(y_val)"
      ],
      "execution_count": null,
      "outputs": [
        {
          "output_type": "execute_result",
          "data": {
            "text/plain": [
              "Counter({0: 403, 1: 395})"
            ]
          },
          "metadata": {},
          "execution_count": 69
        }
      ]
    },
    {
      "cell_type": "code",
      "metadata": {
        "id": "raqXwQBlzQVo"
      },
      "source": [
        "pred1 = model1.predict(X_val)"
      ],
      "execution_count": null,
      "outputs": []
    },
    {
      "cell_type": "code",
      "metadata": {
        "id": "-xC4an-bzzPY"
      },
      "source": [
        "from sklearn.metrics import roc_auc_score"
      ],
      "execution_count": null,
      "outputs": []
    },
    {
      "cell_type": "code",
      "metadata": {
        "colab": {
          "base_uri": "https://localhost:8080/"
        },
        "id": "QvSPWmHU5ws7",
        "outputId": "907cc4b3-d0c2-4468-9f8e-e9ef5e50c6ab"
      },
      "source": [
        "roc_auc_score(y_train,train_pred)"
      ],
      "execution_count": null,
      "outputs": [
        {
          "output_type": "execute_result",
          "data": {
            "text/plain": [
              "0.8483889168952137"
            ]
          },
          "metadata": {},
          "execution_count": 72
        }
      ]
    },
    {
      "cell_type": "code",
      "metadata": {
        "colab": {
          "base_uri": "https://localhost:8080/"
        },
        "id": "ZMgzJi6B0c_w",
        "outputId": "0a4823ae-0845-42fd-e49b-bebe788d7908"
      },
      "source": [
        "roc_auc_score(y_val,pred1)"
      ],
      "execution_count": null,
      "outputs": [
        {
          "output_type": "execute_result",
          "data": {
            "text/plain": [
              "0.8422150328234443"
            ]
          },
          "metadata": {},
          "execution_count": 73
        }
      ]
    },
    {
      "cell_type": "code",
      "metadata": {
        "id": "ctaQUYt602hx"
      },
      "source": [
        "from sklearn.metrics import accuracy_score"
      ],
      "execution_count": null,
      "outputs": []
    },
    {
      "cell_type": "code",
      "metadata": {
        "colab": {
          "base_uri": "https://localhost:8080/"
        },
        "id": "cYQGJo1_1RH8",
        "outputId": "3d5f05c8-59f1-44cd-e9d8-82af9b068e84"
      },
      "source": [
        "accuracy_score(y_val,pred1)"
      ],
      "execution_count": null,
      "outputs": [
        {
          "output_type": "execute_result",
          "data": {
            "text/plain": [
              "0.8421052631578947"
            ]
          },
          "metadata": {},
          "execution_count": 75
        }
      ]
    },
    {
      "cell_type": "code",
      "metadata": {
        "id": "Qz29LAYq18sU"
      },
      "source": [
        "from sklearn.tree import DecisionTreeClassifier"
      ],
      "execution_count": null,
      "outputs": []
    },
    {
      "cell_type": "code",
      "metadata": {
        "id": "iI7Xg_Mh1-l5"
      },
      "source": [
        "model2= DecisionTreeClassifier( min_samples_leaf= 8,random_state=42, min_samples_split=4)"
      ],
      "execution_count": null,
      "outputs": []
    },
    {
      "cell_type": "code",
      "metadata": {
        "colab": {
          "base_uri": "https://localhost:8080/"
        },
        "id": "f6a56Yno2QLn",
        "outputId": "60005fd3-91a5-415f-caf7-5f0684fc1a74"
      },
      "source": [
        "model2.fit(X_train,y_train)"
      ],
      "execution_count": null,
      "outputs": [
        {
          "output_type": "execute_result",
          "data": {
            "text/plain": [
              "DecisionTreeClassifier(ccp_alpha=0.0, class_weight=None, criterion='gini',\n",
              "                       max_depth=None, max_features=None, max_leaf_nodes=None,\n",
              "                       min_impurity_decrease=0.0, min_impurity_split=None,\n",
              "                       min_samples_leaf=8, min_samples_split=4,\n",
              "                       min_weight_fraction_leaf=0.0, presort='deprecated',\n",
              "                       random_state=42, splitter='best')"
            ]
          },
          "metadata": {},
          "execution_count": 78
        }
      ]
    },
    {
      "cell_type": "code",
      "metadata": {
        "id": "GfmSs4MD6yIV"
      },
      "source": [
        "train_pred2 = model2.predict(X_train)"
      ],
      "execution_count": null,
      "outputs": []
    },
    {
      "cell_type": "code",
      "metadata": {
        "colab": {
          "base_uri": "https://localhost:8080/"
        },
        "id": "_yHOfAom6811",
        "outputId": "0cbda476-7a01-4368-9651-9172fa62a1de"
      },
      "source": [
        "roc_auc_score(y_train,train_pred2)"
      ],
      "execution_count": null,
      "outputs": [
        {
          "output_type": "execute_result",
          "data": {
            "text/plain": [
              "0.9392669999676257"
            ]
          },
          "metadata": {},
          "execution_count": 80
        }
      ]
    },
    {
      "cell_type": "code",
      "metadata": {
        "id": "2YVrzkX02fim"
      },
      "source": [
        "pred2 = model2.predict(X_val)"
      ],
      "execution_count": null,
      "outputs": []
    },
    {
      "cell_type": "code",
      "metadata": {
        "colab": {
          "base_uri": "https://localhost:8080/"
        },
        "id": "IZrcAuYB2q9r",
        "outputId": "e50cb97f-6f92-4195-d224-6c749f262ca6"
      },
      "source": [
        "roc_auc_score(y_val,pred2)"
      ],
      "execution_count": null,
      "outputs": [
        {
          "output_type": "execute_result",
          "data": {
            "text/plain": [
              "0.88353488079907"
            ]
          },
          "metadata": {},
          "execution_count": 82
        }
      ]
    },
    {
      "cell_type": "code",
      "metadata": {
        "id": "2Xdl2FJ74IIF"
      },
      "source": [
        "from sklearn.ensemble import RandomForestClassifier"
      ],
      "execution_count": null,
      "outputs": []
    },
    {
      "cell_type": "code",
      "metadata": {
        "id": "tIfk8Icf4JV_"
      },
      "source": [
        "model3 = RandomForestClassifier(max_depth=2, random_state=42)"
      ],
      "execution_count": null,
      "outputs": []
    },
    {
      "cell_type": "code",
      "metadata": {
        "colab": {
          "base_uri": "https://localhost:8080/"
        },
        "id": "9EDLB0KN4JfQ",
        "outputId": "5b0d6a78-5742-4060-8360-1c571a0c3f76"
      },
      "source": [
        "model3.fit(X_train,y_train)\n"
      ],
      "execution_count": null,
      "outputs": [
        {
          "output_type": "execute_result",
          "data": {
            "text/plain": [
              "RandomForestClassifier(bootstrap=True, ccp_alpha=0.0, class_weight=None,\n",
              "                       criterion='gini', max_depth=2, max_features='auto',\n",
              "                       max_leaf_nodes=None, max_samples=None,\n",
              "                       min_impurity_decrease=0.0, min_impurity_split=None,\n",
              "                       min_samples_leaf=1, min_samples_split=2,\n",
              "                       min_weight_fraction_leaf=0.0, n_estimators=100,\n",
              "                       n_jobs=None, oob_score=False, random_state=42, verbose=0,\n",
              "                       warm_start=False)"
            ]
          },
          "metadata": {},
          "execution_count": 85
        }
      ]
    },
    {
      "cell_type": "code",
      "metadata": {
        "colab": {
          "base_uri": "https://localhost:8080/"
        },
        "id": "k1sLG2jb4dlJ",
        "outputId": "80232fe6-577b-448d-d507-3068b486c336"
      },
      "source": [
        "pred3 = model3.predict(X_val)\n",
        "roc_auc_score(y_val,pred3)\n"
      ],
      "execution_count": null,
      "outputs": [
        {
          "output_type": "execute_result",
          "data": {
            "text/plain": [
              "0.7851179445299494"
            ]
          },
          "metadata": {},
          "execution_count": 86
        }
      ]
    },
    {
      "cell_type": "code",
      "metadata": {
        "id": "iS2-brk1DIsF"
      },
      "source": [
        "final_model1= RandomForestClassifier(max_depth=2, random_state=42)"
      ],
      "execution_count": null,
      "outputs": []
    },
    {
      "cell_type": "code",
      "metadata": {
        "colab": {
          "base_uri": "https://localhost:8080/"
        },
        "id": "KjNq2eEkDl7G",
        "outputId": "71558fcd-4031-4ca3-9cf3-bec03d4653ac"
      },
      "source": [
        "final_model1.fit(X_ovr, y_ovr)"
      ],
      "execution_count": null,
      "outputs": [
        {
          "output_type": "execute_result",
          "data": {
            "text/plain": [
              "RandomForestClassifier(bootstrap=True, ccp_alpha=0.0, class_weight=None,\n",
              "                       criterion='gini', max_depth=2, max_features='auto',\n",
              "                       max_leaf_nodes=None, max_samples=None,\n",
              "                       min_impurity_decrease=0.0, min_impurity_split=None,\n",
              "                       min_samples_leaf=1, min_samples_split=2,\n",
              "                       min_weight_fraction_leaf=0.0, n_estimators=100,\n",
              "                       n_jobs=None, oob_score=False, random_state=42, verbose=0,\n",
              "                       warm_start=False)"
            ]
          },
          "metadata": {},
          "execution_count": 88
        }
      ]
    },
    {
      "cell_type": "code",
      "metadata": {
        "colab": {
          "base_uri": "https://localhost:8080/"
        },
        "id": "y5oNtbErEBwK",
        "outputId": "7e1eb1ac-58e5-4504-a69e-b8ce5aa5f784"
      },
      "source": [
        "test_pred = final_model1.predict(test.values)\n",
        "test_pred"
      ],
      "execution_count": null,
      "outputs": [
        {
          "output_type": "execute_result",
          "data": {
            "text/plain": [
              "array([0, 0, 0, 0, 0, 0, 0, 0, 0, 0, 0, 0, 0, 0, 0, 0, 0, 0, 0, 0, 0, 0,\n",
              "       0, 0, 0, 0, 0, 0, 0, 0, 0, 0, 0, 0, 0, 0, 0, 0, 0, 0, 0, 0, 0, 0,\n",
              "       0, 0, 0, 0, 0, 0, 0, 0, 0, 0, 0, 0, 0, 0, 0, 0, 0, 0, 0, 0, 0, 0,\n",
              "       0, 0, 0, 0, 0, 0, 0, 0, 0, 0, 0, 0, 0, 0, 0, 0, 0, 0, 0, 0, 0, 0,\n",
              "       0, 0, 0, 0, 0, 0, 0, 0, 0, 0, 0, 0, 0, 0, 0, 0, 0, 0, 0, 0, 0, 0,\n",
              "       0, 0, 0, 0, 0, 0, 0, 0, 0, 0, 0, 0, 0, 0, 0, 0, 0, 0, 0, 0, 0, 0,\n",
              "       0, 0, 0, 0, 0, 0, 0, 0, 0, 0, 0, 0, 0, 0, 0, 0, 0, 0, 0, 0, 0, 0,\n",
              "       0, 0, 0, 0, 0, 0, 0, 0, 0, 0, 0, 0, 0, 0, 0, 0, 0, 0, 0, 0, 0, 0,\n",
              "       0, 0, 0, 0, 0, 0, 0, 0, 0, 0, 0, 0, 0, 0, 0, 0, 0, 0, 0, 0, 0, 0,\n",
              "       0, 0, 0, 0, 0, 0, 0, 0, 0, 0, 0, 0, 0, 0, 0, 0, 0, 0, 0, 0, 0, 0,\n",
              "       0, 0, 0, 0, 0, 0, 0, 0, 0, 0, 0, 0, 0, 0, 0, 0, 0, 0, 0, 0, 0, 0,\n",
              "       0, 0, 0, 0, 0, 0, 0, 0, 0, 0, 0, 0, 0, 0, 0, 0, 0, 0, 0, 0, 0, 0,\n",
              "       0, 0, 0, 0, 0, 0, 0, 0, 0, 0, 0, 0, 0, 0, 0, 0, 0, 0, 0, 0, 0, 0,\n",
              "       0, 0, 0, 0, 0, 0, 0, 0, 0, 0, 0, 0, 0, 0, 0, 0, 0, 0, 0, 0, 0, 0,\n",
              "       0, 0, 0, 0, 0, 0, 0, 0, 0, 0, 0, 0, 0, 0, 0, 0, 0, 0, 0, 0, 0, 0,\n",
              "       0, 0, 0, 0, 0, 0, 0, 0, 0, 0, 0, 0, 0, 0, 0, 0, 0, 0, 0, 0, 0, 0,\n",
              "       0, 0, 0, 0, 0, 0, 0, 0, 0, 0, 0, 0, 0, 0, 0, 0, 0, 0, 0, 0, 0, 0,\n",
              "       0, 0, 0, 0, 0, 0, 0, 0, 0, 0, 0, 0, 0, 0, 0, 0, 0, 0, 0, 0, 0, 0,\n",
              "       0, 0, 0, 0, 0, 0, 0, 0, 0, 0, 0, 0, 0, 0, 0, 0, 0, 0, 0, 0, 0, 0,\n",
              "       0, 0, 0, 0, 0, 0, 0, 0, 0, 0, 0, 0, 0, 0, 0, 0, 0, 0, 0, 0, 0, 0,\n",
              "       0, 0, 0, 0, 0, 0, 0, 0, 0, 0, 0, 0, 0, 0, 0, 0, 0, 0, 0, 0, 0, 0,\n",
              "       0, 0, 0, 0, 0, 0, 0, 0, 0, 0, 0, 0, 0, 0, 0, 0, 0, 0, 0, 0, 0, 0,\n",
              "       0, 0, 0, 0, 0, 0, 0, 0, 0, 0, 0, 0, 0, 0, 0, 0, 0, 0, 0, 0, 0, 0,\n",
              "       0, 0, 0, 0, 0, 0, 0, 0, 0, 0, 0, 0, 0, 0, 0, 0, 0, 0, 0, 0, 0, 0,\n",
              "       0, 0, 0, 0, 0, 0, 0, 0, 0, 0, 0, 0, 0, 0, 0, 0, 0, 0, 0, 0, 0, 0,\n",
              "       0, 0, 0, 0, 0, 0, 0, 0, 0, 0, 0, 0, 0, 0, 0, 0, 0, 0, 0, 0, 0, 0,\n",
              "       0, 0, 0, 0, 0, 0, 0, 0, 0, 0, 0, 0, 0, 0, 0, 0, 0, 0, 0, 0, 0, 0,\n",
              "       0, 0, 0, 0, 0, 0, 0, 0, 0, 0, 0, 0, 0, 0, 0, 0, 0, 0, 0, 0, 0, 0,\n",
              "       0, 0, 0, 0, 0, 0, 0, 0, 0, 0, 0, 0, 0, 0, 0, 0, 0, 0, 0, 0, 0, 0,\n",
              "       0, 0, 0, 0, 0, 0, 0, 0, 0, 0, 0, 0, 0, 0, 0, 0, 0, 0, 0, 0, 0, 0,\n",
              "       0, 0, 0, 0, 0, 0, 0, 0, 0, 0, 0, 0])"
            ]
          },
          "metadata": {},
          "execution_count": 89
        }
      ]
    },
    {
      "cell_type": "code",
      "metadata": {
        "id": "HBCgXokFuLYD"
      },
      "source": [
        "usable= submission.drop(['Response','Unnamed: 0'],1)\n",
        "usable.set_index('ID',inplace=True)"
      ],
      "execution_count": null,
      "outputs": []
    },
    {
      "cell_type": "code",
      "metadata": {
        "id": "5KIrY4nLUTPo"
      },
      "source": [
        "submission.drop(['Response','Unnamed: 0'],1,inplace=True)"
      ],
      "execution_count": null,
      "outputs": []
    },
    {
      "cell_type": "code",
      "metadata": {
        "id": "PXndldggTA-l"
      },
      "source": [
        "submission['Response'] = test_pred"
      ],
      "execution_count": null,
      "outputs": []
    },
    {
      "cell_type": "code",
      "metadata": {
        "id": "zN8S1oyaTdar"
      },
      "source": [
        "#submission.set_index('ID',inplace=True)"
      ],
      "execution_count": null,
      "outputs": []
    },
    {
      "cell_type": "code",
      "metadata": {
        "colab": {
          "base_uri": "https://localhost:8080/",
          "height": 414
        },
        "id": "ZnSAVGrEbo0M",
        "outputId": "ebb08344-f8e3-4736-b7a9-8283c96cbecb"
      },
      "source": [
        "submission"
      ],
      "execution_count": null,
      "outputs": [
        {
          "output_type": "execute_result",
          "data": {
            "text/html": [
              "<div>\n",
              "<style scoped>\n",
              "    .dataframe tbody tr th:only-of-type {\n",
              "        vertical-align: middle;\n",
              "    }\n",
              "\n",
              "    .dataframe tbody tr th {\n",
              "        vertical-align: top;\n",
              "    }\n",
              "\n",
              "    .dataframe thead th {\n",
              "        text-align: right;\n",
              "    }\n",
              "</style>\n",
              "<table border=\"1\" class=\"dataframe\">\n",
              "  <thead>\n",
              "    <tr style=\"text-align: right;\">\n",
              "      <th></th>\n",
              "      <th>ID</th>\n",
              "      <th>Response</th>\n",
              "    </tr>\n",
              "  </thead>\n",
              "  <tbody>\n",
              "    <tr>\n",
              "      <th>0</th>\n",
              "      <td>ID_ZPMABNVX</td>\n",
              "      <td>0</td>\n",
              "    </tr>\n",
              "    <tr>\n",
              "      <th>1</th>\n",
              "      <td>ID_WFE91NAA</td>\n",
              "      <td>0</td>\n",
              "    </tr>\n",
              "    <tr>\n",
              "      <th>2</th>\n",
              "      <td>ID_JV11RBRK</td>\n",
              "      <td>0</td>\n",
              "    </tr>\n",
              "    <tr>\n",
              "      <th>3</th>\n",
              "      <td>ID_6B7SVKY9</td>\n",
              "      <td>0</td>\n",
              "    </tr>\n",
              "    <tr>\n",
              "      <th>4</th>\n",
              "      <td>ID_GOVUZ545</td>\n",
              "      <td>0</td>\n",
              "    </tr>\n",
              "    <tr>\n",
              "      <th>...</th>\n",
              "      <td>...</td>\n",
              "      <td>...</td>\n",
              "    </tr>\n",
              "    <tr>\n",
              "      <th>667</th>\n",
              "      <td>ID_1D68PV28</td>\n",
              "      <td>0</td>\n",
              "    </tr>\n",
              "    <tr>\n",
              "      <th>668</th>\n",
              "      <td>ID_TM6CYFZO</td>\n",
              "      <td>0</td>\n",
              "    </tr>\n",
              "    <tr>\n",
              "      <th>669</th>\n",
              "      <td>ID_VHR666SC</td>\n",
              "      <td>0</td>\n",
              "    </tr>\n",
              "    <tr>\n",
              "      <th>670</th>\n",
              "      <td>ID_O852YAO1</td>\n",
              "      <td>0</td>\n",
              "    </tr>\n",
              "    <tr>\n",
              "      <th>671</th>\n",
              "      <td>ID_ML5HMWHI</td>\n",
              "      <td>0</td>\n",
              "    </tr>\n",
              "  </tbody>\n",
              "</table>\n",
              "<p>672 rows × 2 columns</p>\n",
              "</div>"
            ],
            "text/plain": [
              "              ID  Response\n",
              "0    ID_ZPMABNVX         0\n",
              "1    ID_WFE91NAA         0\n",
              "2    ID_JV11RBRK         0\n",
              "3    ID_6B7SVKY9         0\n",
              "4    ID_GOVUZ545         0\n",
              "..           ...       ...\n",
              "667  ID_1D68PV28         0\n",
              "668  ID_TM6CYFZO         0\n",
              "669  ID_VHR666SC         0\n",
              "670  ID_O852YAO1         0\n",
              "671  ID_ML5HMWHI         0\n",
              "\n",
              "[672 rows x 2 columns]"
            ]
          },
          "metadata": {},
          "execution_count": 94
        }
      ]
    },
    {
      "cell_type": "code",
      "metadata": {
        "id": "3Ih_Iwb3loWj"
      },
      "source": [
        "submission.set_index('ID',inplace=True)"
      ],
      "execution_count": null,
      "outputs": []
    },
    {
      "cell_type": "code",
      "metadata": {
        "colab": {
          "base_uri": "https://localhost:8080/",
          "height": 445
        },
        "id": "7UhfuHDtluKr",
        "outputId": "705469cb-4921-4cd6-cb0e-e2f868c9460a"
      },
      "source": [
        "submission"
      ],
      "execution_count": null,
      "outputs": [
        {
          "output_type": "execute_result",
          "data": {
            "text/html": [
              "<div>\n",
              "<style scoped>\n",
              "    .dataframe tbody tr th:only-of-type {\n",
              "        vertical-align: middle;\n",
              "    }\n",
              "\n",
              "    .dataframe tbody tr th {\n",
              "        vertical-align: top;\n",
              "    }\n",
              "\n",
              "    .dataframe thead th {\n",
              "        text-align: right;\n",
              "    }\n",
              "</style>\n",
              "<table border=\"1\" class=\"dataframe\">\n",
              "  <thead>\n",
              "    <tr style=\"text-align: right;\">\n",
              "      <th></th>\n",
              "      <th>Response</th>\n",
              "    </tr>\n",
              "    <tr>\n",
              "      <th>ID</th>\n",
              "      <th></th>\n",
              "    </tr>\n",
              "  </thead>\n",
              "  <tbody>\n",
              "    <tr>\n",
              "      <th>ID_ZPMABNVX</th>\n",
              "      <td>0</td>\n",
              "    </tr>\n",
              "    <tr>\n",
              "      <th>ID_WFE91NAA</th>\n",
              "      <td>0</td>\n",
              "    </tr>\n",
              "    <tr>\n",
              "      <th>ID_JV11RBRK</th>\n",
              "      <td>0</td>\n",
              "    </tr>\n",
              "    <tr>\n",
              "      <th>ID_6B7SVKY9</th>\n",
              "      <td>0</td>\n",
              "    </tr>\n",
              "    <tr>\n",
              "      <th>ID_GOVUZ545</th>\n",
              "      <td>0</td>\n",
              "    </tr>\n",
              "    <tr>\n",
              "      <th>...</th>\n",
              "      <td>...</td>\n",
              "    </tr>\n",
              "    <tr>\n",
              "      <th>ID_1D68PV28</th>\n",
              "      <td>0</td>\n",
              "    </tr>\n",
              "    <tr>\n",
              "      <th>ID_TM6CYFZO</th>\n",
              "      <td>0</td>\n",
              "    </tr>\n",
              "    <tr>\n",
              "      <th>ID_VHR666SC</th>\n",
              "      <td>0</td>\n",
              "    </tr>\n",
              "    <tr>\n",
              "      <th>ID_O852YAO1</th>\n",
              "      <td>0</td>\n",
              "    </tr>\n",
              "    <tr>\n",
              "      <th>ID_ML5HMWHI</th>\n",
              "      <td>0</td>\n",
              "    </tr>\n",
              "  </tbody>\n",
              "</table>\n",
              "<p>672 rows × 1 columns</p>\n",
              "</div>"
            ],
            "text/plain": [
              "             Response\n",
              "ID                   \n",
              "ID_ZPMABNVX         0\n",
              "ID_WFE91NAA         0\n",
              "ID_JV11RBRK         0\n",
              "ID_6B7SVKY9         0\n",
              "ID_GOVUZ545         0\n",
              "...               ...\n",
              "ID_1D68PV28         0\n",
              "ID_TM6CYFZO         0\n",
              "ID_VHR666SC         0\n",
              "ID_O852YAO1         0\n",
              "ID_ML5HMWHI         0\n",
              "\n",
              "[672 rows x 1 columns]"
            ]
          },
          "metadata": {},
          "execution_count": 96
        }
      ]
    },
    {
      "cell_type": "code",
      "metadata": {
        "id": "wkjMJ52oWweh"
      },
      "source": [
        "#submission.to_csv('Sample2.csv')"
      ],
      "execution_count": null,
      "outputs": []
    },
    {
      "cell_type": "markdown",
      "metadata": {
        "id": "HnkSXCQ8qyOA"
      },
      "source": [
        "#Trying undersampling"
      ]
    },
    {
      "cell_type": "code",
      "metadata": {
        "id": "xH7HokcliWmq"
      },
      "source": [
        "from imblearn.under_sampling import RandomUnderSampler"
      ],
      "execution_count": null,
      "outputs": []
    },
    {
      "cell_type": "code",
      "metadata": {
        "id": "ipzcbUSZroas"
      },
      "source": [
        "under = RandomUnderSampler(random_state=42)"
      ],
      "execution_count": null,
      "outputs": []
    },
    {
      "cell_type": "code",
      "metadata": {
        "colab": {
          "base_uri": "https://localhost:8080/"
        },
        "id": "qGNQIhdZsCzY",
        "outputId": "7d094706-226d-49dc-c95e-56d24d408237"
      },
      "source": [
        "X_und, y_und = under.fit_resample(scaled_train_full, y)"
      ],
      "execution_count": null,
      "outputs": [
        {
          "output_type": "stream",
          "name": "stderr",
          "text": [
            "/usr/local/lib/python3.7/dist-packages/sklearn/utils/deprecation.py:87: FutureWarning: Function safe_indexing is deprecated; safe_indexing is deprecated in version 0.22 and will be removed in version 0.24.\n",
            "  warnings.warn(msg, category=FutureWarning)\n"
          ]
        }
      ]
    },
    {
      "cell_type": "code",
      "metadata": {
        "id": "3gJobGZsBLJR"
      },
      "source": [
        "X_tra, X_va, y_tra, y_va = train_test_split(X_und, y_und, test_size=0.2, random_state=42)"
      ],
      "execution_count": null,
      "outputs": []
    },
    {
      "cell_type": "code",
      "metadata": {
        "colab": {
          "base_uri": "https://localhost:8080/"
        },
        "id": "C87tRbqCscgj",
        "outputId": "1ac06c79-4be7-4f97-960f-97cb3a33b37f"
      },
      "source": [
        "Counter(y_und)"
      ],
      "execution_count": null,
      "outputs": [
        {
          "output_type": "execute_result",
          "data": {
            "text/plain": [
              "Counter({0: 239, 1: 239})"
            ]
          },
          "metadata": {},
          "execution_count": 102
        }
      ]
    },
    {
      "cell_type": "code",
      "metadata": {
        "id": "4NYcX7QPtGOF"
      },
      "source": [
        "final_model2= DecisionTreeClassifier( min_samples_leaf= 8,random_state=42, min_samples_split=4)"
      ],
      "execution_count": null,
      "outputs": []
    },
    {
      "cell_type": "code",
      "metadata": {
        "colab": {
          "base_uri": "https://localhost:8080/"
        },
        "id": "g50yxmU4tT-C",
        "outputId": "76ae8b91-557b-4539-ab25-5cf032702519"
      },
      "source": [
        "final_model2.fit(X_und, y_und)"
      ],
      "execution_count": null,
      "outputs": [
        {
          "output_type": "execute_result",
          "data": {
            "text/plain": [
              "DecisionTreeClassifier(ccp_alpha=0.0, class_weight=None, criterion='gini',\n",
              "                       max_depth=None, max_features=None, max_leaf_nodes=None,\n",
              "                       min_impurity_decrease=0.0, min_impurity_split=None,\n",
              "                       min_samples_leaf=8, min_samples_split=4,\n",
              "                       min_weight_fraction_leaf=0.0, presort='deprecated',\n",
              "                       random_state=42, splitter='best')"
            ]
          },
          "metadata": {},
          "execution_count": 104
        }
      ]
    },
    {
      "cell_type": "code",
      "metadata": {
        "colab": {
          "base_uri": "https://localhost:8080/"
        },
        "id": "IqI-Vgg0tUIZ",
        "outputId": "177ca87a-bdb8-49c2-81c6-cb1ff6397c47"
      },
      "source": [
        "test_pred1 = final_model2.predict(test.values)\n",
        "test_pred1"
      ],
      "execution_count": null,
      "outputs": [
        {
          "output_type": "execute_result",
          "data": {
            "text/plain": [
              "array([0, 1, 1, 0, 1, 1, 0, 0, 0, 0, 1, 0, 0, 1, 1, 0, 1, 1, 0, 0, 0, 1,\n",
              "       1, 1, 1, 1, 0, 1, 0, 0, 0, 0, 1, 0, 0, 0, 1, 0, 1, 0, 0, 0, 0, 1,\n",
              "       0, 1, 1, 0, 1, 1, 0, 1, 1, 0, 0, 1, 0, 1, 0, 1, 1, 0, 0, 1, 0, 1,\n",
              "       0, 0, 0, 0, 0, 0, 1, 0, 0, 1, 0, 1, 1, 0, 0, 1, 1, 0, 0, 0, 0, 0,\n",
              "       0, 0, 0, 0, 0, 0, 0, 1, 0, 0, 0, 0, 0, 0, 0, 0, 0, 1, 0, 0, 0, 0,\n",
              "       0, 0, 0, 0, 0, 1, 0, 1, 0, 1, 1, 0, 1, 0, 0, 0, 0, 1, 0, 0, 0, 0,\n",
              "       1, 0, 0, 0, 1, 0, 0, 0, 0, 0, 0, 1, 1, 0, 0, 1, 1, 0, 0, 1, 1, 0,\n",
              "       1, 1, 0, 0, 1, 0, 1, 0, 0, 0, 1, 0, 0, 1, 1, 1, 1, 0, 0, 0, 0, 0,\n",
              "       1, 1, 1, 1, 0, 1, 0, 0, 0, 0, 0, 0, 1, 0, 0, 1, 0, 0, 0, 0, 1, 0,\n",
              "       0, 0, 0, 1, 0, 0, 0, 0, 0, 1, 0, 0, 0, 0, 1, 0, 1, 1, 0, 0, 0, 0,\n",
              "       1, 0, 1, 1, 0, 0, 0, 0, 0, 1, 1, 0, 0, 1, 0, 1, 0, 0, 0, 1, 0, 0,\n",
              "       1, 1, 0, 1, 0, 0, 0, 0, 1, 0, 0, 0, 0, 0, 1, 1, 0, 0, 0, 1, 0, 1,\n",
              "       1, 1, 1, 1, 0, 1, 1, 1, 0, 1, 0, 0, 0, 0, 0, 1, 0, 0, 1, 0, 0, 1,\n",
              "       0, 1, 0, 0, 0, 0, 1, 0, 0, 0, 0, 1, 0, 1, 0, 0, 0, 1, 0, 1, 0, 1,\n",
              "       0, 1, 1, 0, 0, 0, 1, 1, 0, 1, 0, 0, 0, 1, 0, 0, 1, 0, 0, 1, 0, 1,\n",
              "       0, 0, 1, 0, 0, 0, 1, 0, 0, 1, 1, 0, 0, 1, 0, 0, 0, 0, 0, 0, 1, 0,\n",
              "       0, 0, 0, 0, 0, 0, 1, 1, 0, 0, 1, 1, 1, 0, 0, 0, 0, 0, 0, 1, 0, 0,\n",
              "       0, 0, 0, 1, 1, 0, 0, 1, 0, 0, 0, 0, 1, 1, 1, 0, 1, 1, 1, 0, 0, 0,\n",
              "       0, 1, 1, 0, 0, 0, 0, 1, 0, 1, 0, 1, 1, 1, 0, 1, 0, 0, 1, 0, 0, 0,\n",
              "       0, 0, 1, 0, 0, 0, 0, 1, 0, 0, 1, 1, 1, 0, 0, 1, 1, 1, 0, 0, 0, 0,\n",
              "       1, 0, 1, 1, 1, 1, 0, 1, 1, 1, 1, 1, 1, 1, 1, 0, 0, 0, 0, 1, 0, 0,\n",
              "       0, 0, 1, 1, 0, 0, 0, 0, 0, 0, 0, 0, 0, 1, 0, 0, 0, 1, 0, 1, 1, 0,\n",
              "       0, 0, 0, 1, 0, 0, 0, 0, 0, 0, 0, 0, 0, 1, 1, 1, 1, 0, 1, 1, 0, 1,\n",
              "       0, 0, 1, 1, 0, 1, 1, 0, 1, 0, 0, 1, 0, 0, 0, 0, 1, 0, 0, 1, 0, 1,\n",
              "       1, 0, 0, 1, 0, 0, 1, 1, 1, 1, 1, 0, 0, 0, 0, 0, 1, 1, 0, 0, 0, 1,\n",
              "       0, 0, 0, 1, 0, 1, 1, 1, 1, 0, 1, 0, 0, 0, 0, 0, 0, 0, 0, 0, 0, 0,\n",
              "       0, 1, 0, 0, 0, 0, 0, 0, 0, 0, 0, 1, 0, 1, 0, 0, 0, 0, 1, 0, 1, 0,\n",
              "       1, 0, 0, 0, 0, 0, 0, 0, 0, 0, 0, 0, 0, 1, 0, 1, 0, 0, 1, 0, 0, 0,\n",
              "       0, 0, 0, 1, 0, 1, 0, 1, 0, 0, 0, 0, 0, 0, 0, 1, 0, 0, 1, 0, 0, 0,\n",
              "       0, 0, 0, 0, 0, 1, 1, 0, 1, 0, 1, 0, 1, 0, 1, 0, 0, 1, 1, 0, 1, 0,\n",
              "       0, 1, 1, 0, 0, 0, 0, 0, 1, 0, 0, 0])"
            ]
          },
          "metadata": {},
          "execution_count": 105
        }
      ]
    },
    {
      "cell_type": "code",
      "metadata": {
        "id": "bYqMHoRftyPq"
      },
      "source": [
        "usable['Response'] = test_pred1"
      ],
      "execution_count": null,
      "outputs": []
    },
    {
      "cell_type": "code",
      "metadata": {
        "colab": {
          "base_uri": "https://localhost:8080/",
          "height": 445
        },
        "id": "i6YbFFGXvMOa",
        "outputId": "13d79656-5aaf-46f0-8031-7197ce172081"
      },
      "source": [
        "usable"
      ],
      "execution_count": null,
      "outputs": [
        {
          "output_type": "execute_result",
          "data": {
            "text/html": [
              "<div>\n",
              "<style scoped>\n",
              "    .dataframe tbody tr th:only-of-type {\n",
              "        vertical-align: middle;\n",
              "    }\n",
              "\n",
              "    .dataframe tbody tr th {\n",
              "        vertical-align: top;\n",
              "    }\n",
              "\n",
              "    .dataframe thead th {\n",
              "        text-align: right;\n",
              "    }\n",
              "</style>\n",
              "<table border=\"1\" class=\"dataframe\">\n",
              "  <thead>\n",
              "    <tr style=\"text-align: right;\">\n",
              "      <th></th>\n",
              "      <th>Response</th>\n",
              "    </tr>\n",
              "    <tr>\n",
              "      <th>ID</th>\n",
              "      <th></th>\n",
              "    </tr>\n",
              "  </thead>\n",
              "  <tbody>\n",
              "    <tr>\n",
              "      <th>ID_ZPMABNVX</th>\n",
              "      <td>0</td>\n",
              "    </tr>\n",
              "    <tr>\n",
              "      <th>ID_WFE91NAA</th>\n",
              "      <td>1</td>\n",
              "    </tr>\n",
              "    <tr>\n",
              "      <th>ID_JV11RBRK</th>\n",
              "      <td>1</td>\n",
              "    </tr>\n",
              "    <tr>\n",
              "      <th>ID_6B7SVKY9</th>\n",
              "      <td>0</td>\n",
              "    </tr>\n",
              "    <tr>\n",
              "      <th>ID_GOVUZ545</th>\n",
              "      <td>1</td>\n",
              "    </tr>\n",
              "    <tr>\n",
              "      <th>...</th>\n",
              "      <td>...</td>\n",
              "    </tr>\n",
              "    <tr>\n",
              "      <th>ID_1D68PV28</th>\n",
              "      <td>0</td>\n",
              "    </tr>\n",
              "    <tr>\n",
              "      <th>ID_TM6CYFZO</th>\n",
              "      <td>1</td>\n",
              "    </tr>\n",
              "    <tr>\n",
              "      <th>ID_VHR666SC</th>\n",
              "      <td>0</td>\n",
              "    </tr>\n",
              "    <tr>\n",
              "      <th>ID_O852YAO1</th>\n",
              "      <td>0</td>\n",
              "    </tr>\n",
              "    <tr>\n",
              "      <th>ID_ML5HMWHI</th>\n",
              "      <td>0</td>\n",
              "    </tr>\n",
              "  </tbody>\n",
              "</table>\n",
              "<p>672 rows × 1 columns</p>\n",
              "</div>"
            ],
            "text/plain": [
              "             Response\n",
              "ID                   \n",
              "ID_ZPMABNVX         0\n",
              "ID_WFE91NAA         1\n",
              "ID_JV11RBRK         1\n",
              "ID_6B7SVKY9         0\n",
              "ID_GOVUZ545         1\n",
              "...               ...\n",
              "ID_1D68PV28         0\n",
              "ID_TM6CYFZO         1\n",
              "ID_VHR666SC         0\n",
              "ID_O852YAO1         0\n",
              "ID_ML5HMWHI         0\n",
              "\n",
              "[672 rows x 1 columns]"
            ]
          },
          "metadata": {},
          "execution_count": 107
        }
      ]
    },
    {
      "cell_type": "code",
      "metadata": {
        "id": "t6h7Ptz1v_KB"
      },
      "source": [
        "#usable.to_csv('Sample114.csv')"
      ],
      "execution_count": null,
      "outputs": []
    },
    {
      "cell_type": "markdown",
      "metadata": {
        "id": "hXoslTHkz1VE"
      },
      "source": [
        "#let me try neural net"
      ]
    },
    {
      "cell_type": "code",
      "metadata": {
        "id": "5Gywy312z8Aw"
      },
      "source": [
        "from tensorflow import keras\n",
        "from tensorflow.keras import layers\n",
        "\n",
        "model = keras.Sequential([\n",
        "    layers.Dense(16, activation='relu', input_shape=[36]),\n",
        "    layers.Dropout(0.2), \n",
        "    layers.Dense(10, activation='relu'),\n",
        "    layers.Dropout(0.2),\n",
        "    layers.Dense(10, activation='relu'),\n",
        "    layers.Dropout(0.5),    \n",
        "    layers.Dense(1, activation='sigmoid'),\n",
        "])"
      ],
      "execution_count": null,
      "outputs": []
    },
    {
      "cell_type": "code",
      "metadata": {
        "id": "0VYKuKQD07vY"
      },
      "source": [
        "model.compile(\n",
        "    optimizer='adam',\n",
        "    loss='binary_crossentropy',\n",
        "    metrics=['binary_accuracy'],\n",
        ")"
      ],
      "execution_count": null,
      "outputs": []
    },
    {
      "cell_type": "code",
      "metadata": {
        "colab": {
          "base_uri": "https://localhost:8080/"
        },
        "id": "vbsxz0ReBt0R",
        "outputId": "e2347027-d3cc-422c-a05b-db28b8388e36"
      },
      "source": [
        "X_tra, X_va, y_tra, y_va"
      ],
      "execution_count": null,
      "outputs": [
        {
          "output_type": "execute_result",
          "data": {
            "text/plain": [
              "(array([[0.06177606, 0.0201005 , 0.02486188, ..., 0.14814815, 0.45      ,\n",
              "         0.90721649],\n",
              "        [0.03088803, 0.05025126, 0.0359116 , ..., 0.07407407, 0.35      ,\n",
              "         0.60824742],\n",
              "        [0.        , 0.1758794 , 0.34530387, ..., 0.25925926, 0.25      ,\n",
              "         0.73195876],\n",
              "        ...,\n",
              "        [0.55984556, 0.18592965, 0.1519337 , ..., 0.18518519, 0.15      ,\n",
              "         0.65979381],\n",
              "        [0.02316602, 0.08542714, 0.1160221 , ..., 0.11111111, 0.4       ,\n",
              "         0.7628866 ],\n",
              "        [0.        , 0.20100503, 0.0718232 , ..., 0.11111111, 0.05      ,\n",
              "         0.92783505]]),\n",
              " array([[0.03861004, 0.01507538, 0.03038674, ..., 0.11111111, 0.45      ,\n",
              "         0.77319588],\n",
              "        [0.        , 0.00502513, 0.00828729, ..., 0.03703704, 0.35      ,\n",
              "         0.75257732],\n",
              "        [0.45945946, 0.20100503, 0.08287293, ..., 0.25925926, 0.2       ,\n",
              "         0.50515464],\n",
              "        ...,\n",
              "        [0.02316602, 0.        , 0.09392265, ..., 0.25925926, 0.4       ,\n",
              "         0.51546392],\n",
              "        [0.        , 0.01005025, 0.02486188, ..., 0.03703704, 0.4       ,\n",
              "         0.87628866],\n",
              "        [0.11969112, 0.10552764, 0.2320442 , ..., 0.22222222, 0.1       ,\n",
              "         0.7628866 ]]),\n",
              " array([0, 0, 1, 1, 0, 1, 0, 0, 1, 0, 0, 0, 0, 1, 0, 1, 0, 0, 0, 1, 0, 0,\n",
              "        0, 1, 0, 1, 1, 0, 0, 1, 1, 1, 0, 1, 0, 1, 1, 0, 0, 0, 0, 1, 1, 0,\n",
              "        1, 0, 0, 1, 1, 0, 1, 0, 0, 0, 1, 0, 1, 1, 0, 0, 1, 1, 1, 1, 1, 1,\n",
              "        0, 1, 1, 0, 1, 0, 1, 0, 1, 1, 0, 0, 0, 0, 0, 0, 1, 0, 0, 1, 0, 1,\n",
              "        1, 0, 1, 1, 1, 0, 1, 1, 0, 1, 1, 0, 0, 1, 1, 0, 0, 0, 1, 0, 1, 1,\n",
              "        0, 0, 0, 1, 0, 1, 1, 0, 0, 0, 0, 0, 1, 0, 0, 0, 1, 0, 1, 1, 0, 1,\n",
              "        1, 1, 0, 0, 0, 0, 1, 0, 0, 0, 1, 0, 1, 0, 1, 0, 0, 1, 1, 1, 1, 0,\n",
              "        1, 0, 0, 0, 1, 0, 0, 0, 0, 1, 1, 1, 1, 1, 1, 1, 0, 1, 0, 1, 0, 0,\n",
              "        1, 1, 1, 1, 1, 1, 1, 1, 1, 0, 0, 1, 1, 1, 1, 1, 0, 1, 0, 0, 0, 1,\n",
              "        0, 0, 0, 1, 0, 1, 1, 0, 1, 1, 0, 1, 1, 0, 1, 0, 1, 0, 1, 0, 1, 0,\n",
              "        0, 0, 0, 0, 0, 0, 1, 1, 0, 0, 0, 1, 1, 1, 0, 0, 1, 0, 1, 1, 1, 0,\n",
              "        1, 1, 0, 0, 1, 0, 0, 0, 1, 0, 0, 0, 0, 1, 1, 0, 1, 0, 1, 0, 1, 1,\n",
              "        0, 1, 0, 0, 0, 0, 1, 0, 1, 1, 0, 1, 0, 0, 0, 1, 1, 0, 1, 1, 1, 1,\n",
              "        0, 0, 0, 1, 1, 1, 1, 1, 1, 1, 1, 0, 0, 0, 0, 0, 1, 1, 0, 0, 1, 0,\n",
              "        1, 1, 0, 0, 0, 0, 1, 1, 0, 1, 1, 0, 1, 1, 1, 0, 1, 0, 1, 1, 0, 1,\n",
              "        1, 0, 1, 1, 1, 1, 0, 1, 0, 0, 0, 1, 0, 0, 0, 0, 1, 0, 1, 0, 1, 0,\n",
              "        1, 1, 0, 1, 1, 1, 1, 1, 1, 0, 0, 0, 1, 0, 1, 0, 1, 1, 0, 1, 0, 1,\n",
              "        0, 0, 0, 0, 1, 1, 1, 0]),\n",
              " array([1, 0, 0, 0, 0, 0, 1, 0, 1, 0, 1, 1, 1, 1, 0, 1, 0, 0, 1, 0, 1, 1,\n",
              "        0, 1, 0, 1, 0, 0, 1, 0, 1, 0, 1, 0, 0, 0, 0, 1, 0, 0, 0, 1, 0, 1,\n",
              "        0, 1, 1, 0, 1, 1, 1, 0, 1, 0, 0, 0, 0, 1, 1, 0, 0, 0, 0, 1, 0, 1,\n",
              "        0, 1, 1, 1, 1, 1, 1, 1, 1, 0, 1, 1, 0, 1, 1, 0, 0, 1, 1, 0, 0, 1,\n",
              "        0, 1, 1, 0, 0, 1, 1, 1]))"
            ]
          },
          "metadata": {},
          "execution_count": 111
        }
      ]
    },
    {
      "cell_type": "code",
      "metadata": {
        "id": "vbabigv11Mh0",
        "colab": {
          "base_uri": "https://localhost:8080/"
        },
        "outputId": "bd34b088-f95f-42b2-93fd-0fdabff74b3c"
      },
      "source": [
        "early_stopping = keras.callbacks.EarlyStopping(\n",
        "    patience=250,\n",
        "    min_delta=0.001,\n",
        "    restore_best_weights=True,\n",
        ")\n",
        "\n",
        "history = model.fit(\n",
        "    X_tra, y_tra,\n",
        "    validation_data=(X_va, y_va),\n",
        "    batch_size= 250,\n",
        "    epochs=2000,\n",
        "    callbacks=[early_stopping],\n",
        "    #verbose=0, # hide the output because we have so many epochs\n",
        ")"
      ],
      "execution_count": null,
      "outputs": [
        {
          "output_type": "stream",
          "name": "stdout",
          "text": [
            "Epoch 1/2000\n",
            "2/2 [==============================] - 1s 202ms/step - loss: 0.7308 - binary_accuracy: 0.4555 - val_loss: 0.7141 - val_binary_accuracy: 0.4479\n",
            "Epoch 2/2000\n",
            "2/2 [==============================] - 0s 22ms/step - loss: 0.7157 - binary_accuracy: 0.4712 - val_loss: 0.7119 - val_binary_accuracy: 0.4479\n",
            "Epoch 3/2000\n",
            "2/2 [==============================] - 0s 19ms/step - loss: 0.7202 - binary_accuracy: 0.5026 - val_loss: 0.7099 - val_binary_accuracy: 0.4167\n",
            "Epoch 4/2000\n",
            "2/2 [==============================] - 0s 16ms/step - loss: 0.7114 - binary_accuracy: 0.4634 - val_loss: 0.7080 - val_binary_accuracy: 0.4167\n",
            "Epoch 5/2000\n",
            "2/2 [==============================] - 0s 17ms/step - loss: 0.7116 - binary_accuracy: 0.4921 - val_loss: 0.7063 - val_binary_accuracy: 0.3958\n",
            "Epoch 6/2000\n",
            "2/2 [==============================] - 0s 18ms/step - loss: 0.7130 - binary_accuracy: 0.4476 - val_loss: 0.7048 - val_binary_accuracy: 0.3750\n",
            "Epoch 7/2000\n",
            "2/2 [==============================] - 0s 16ms/step - loss: 0.6980 - binary_accuracy: 0.5262 - val_loss: 0.7034 - val_binary_accuracy: 0.4062\n",
            "Epoch 8/2000\n",
            "2/2 [==============================] - 0s 17ms/step - loss: 0.7025 - binary_accuracy: 0.4948 - val_loss: 0.7021 - val_binary_accuracy: 0.3958\n",
            "Epoch 9/2000\n",
            "2/2 [==============================] - 0s 18ms/step - loss: 0.7083 - binary_accuracy: 0.4476 - val_loss: 0.7012 - val_binary_accuracy: 0.4271\n",
            "Epoch 10/2000\n",
            "2/2 [==============================] - 0s 18ms/step - loss: 0.7062 - binary_accuracy: 0.4895 - val_loss: 0.7003 - val_binary_accuracy: 0.4479\n",
            "Epoch 11/2000\n",
            "2/2 [==============================] - 0s 18ms/step - loss: 0.6972 - binary_accuracy: 0.5183 - val_loss: 0.6993 - val_binary_accuracy: 0.4375\n",
            "Epoch 12/2000\n",
            "2/2 [==============================] - 0s 19ms/step - loss: 0.7068 - binary_accuracy: 0.4450 - val_loss: 0.6985 - val_binary_accuracy: 0.4271\n",
            "Epoch 13/2000\n",
            "2/2 [==============================] - 0s 19ms/step - loss: 0.6964 - binary_accuracy: 0.5183 - val_loss: 0.6977 - val_binary_accuracy: 0.4062\n",
            "Epoch 14/2000\n",
            "2/2 [==============================] - 0s 28ms/step - loss: 0.6961 - binary_accuracy: 0.5105 - val_loss: 0.6969 - val_binary_accuracy: 0.4062\n",
            "Epoch 15/2000\n",
            "2/2 [==============================] - 0s 19ms/step - loss: 0.6938 - binary_accuracy: 0.4974 - val_loss: 0.6962 - val_binary_accuracy: 0.4271\n",
            "Epoch 16/2000\n",
            "2/2 [==============================] - 0s 19ms/step - loss: 0.6931 - binary_accuracy: 0.4974 - val_loss: 0.6955 - val_binary_accuracy: 0.4271\n",
            "Epoch 17/2000\n",
            "2/2 [==============================] - 0s 24ms/step - loss: 0.6956 - binary_accuracy: 0.5026 - val_loss: 0.6949 - val_binary_accuracy: 0.4271\n",
            "Epoch 18/2000\n",
            "2/2 [==============================] - 0s 17ms/step - loss: 0.6990 - binary_accuracy: 0.4712 - val_loss: 0.6943 - val_binary_accuracy: 0.4271\n",
            "Epoch 19/2000\n",
            "2/2 [==============================] - 0s 23ms/step - loss: 0.6923 - binary_accuracy: 0.5026 - val_loss: 0.6939 - val_binary_accuracy: 0.4375\n",
            "Epoch 20/2000\n",
            "2/2 [==============================] - 0s 16ms/step - loss: 0.6981 - binary_accuracy: 0.4921 - val_loss: 0.6934 - val_binary_accuracy: 0.4583\n",
            "Epoch 21/2000\n",
            "2/2 [==============================] - 0s 16ms/step - loss: 0.6941 - binary_accuracy: 0.5079 - val_loss: 0.6930 - val_binary_accuracy: 0.4688\n",
            "Epoch 22/2000\n",
            "2/2 [==============================] - 0s 15ms/step - loss: 0.6842 - binary_accuracy: 0.5340 - val_loss: 0.6926 - val_binary_accuracy: 0.4896\n",
            "Epoch 23/2000\n",
            "2/2 [==============================] - 0s 16ms/step - loss: 0.6922 - binary_accuracy: 0.4948 - val_loss: 0.6921 - val_binary_accuracy: 0.4688\n",
            "Epoch 24/2000\n",
            "2/2 [==============================] - 0s 16ms/step - loss: 0.6917 - binary_accuracy: 0.5079 - val_loss: 0.6917 - val_binary_accuracy: 0.4688\n",
            "Epoch 25/2000\n",
            "2/2 [==============================] - 0s 15ms/step - loss: 0.6952 - binary_accuracy: 0.5131 - val_loss: 0.6913 - val_binary_accuracy: 0.4792\n",
            "Epoch 26/2000\n",
            "2/2 [==============================] - 0s 18ms/step - loss: 0.6944 - binary_accuracy: 0.5209 - val_loss: 0.6909 - val_binary_accuracy: 0.4896\n",
            "Epoch 27/2000\n",
            "2/2 [==============================] - 0s 17ms/step - loss: 0.6935 - binary_accuracy: 0.5209 - val_loss: 0.6905 - val_binary_accuracy: 0.5000\n",
            "Epoch 28/2000\n",
            "2/2 [==============================] - 0s 17ms/step - loss: 0.6924 - binary_accuracy: 0.5262 - val_loss: 0.6901 - val_binary_accuracy: 0.5000\n",
            "Epoch 29/2000\n",
            "2/2 [==============================] - 0s 18ms/step - loss: 0.6924 - binary_accuracy: 0.5131 - val_loss: 0.6897 - val_binary_accuracy: 0.5208\n",
            "Epoch 30/2000\n",
            "2/2 [==============================] - 0s 16ms/step - loss: 0.6906 - binary_accuracy: 0.5079 - val_loss: 0.6893 - val_binary_accuracy: 0.5208\n",
            "Epoch 31/2000\n",
            "2/2 [==============================] - 0s 17ms/step - loss: 0.6920 - binary_accuracy: 0.4948 - val_loss: 0.6888 - val_binary_accuracy: 0.5521\n",
            "Epoch 32/2000\n",
            "2/2 [==============================] - 0s 17ms/step - loss: 0.6921 - binary_accuracy: 0.5000 - val_loss: 0.6884 - val_binary_accuracy: 0.5729\n",
            "Epoch 33/2000\n",
            "2/2 [==============================] - 0s 16ms/step - loss: 0.6904 - binary_accuracy: 0.5183 - val_loss: 0.6878 - val_binary_accuracy: 0.5833\n",
            "Epoch 34/2000\n",
            "2/2 [==============================] - 0s 16ms/step - loss: 0.6833 - binary_accuracy: 0.5366 - val_loss: 0.6872 - val_binary_accuracy: 0.6146\n",
            "Epoch 35/2000\n",
            "2/2 [==============================] - 0s 22ms/step - loss: 0.6894 - binary_accuracy: 0.5393 - val_loss: 0.6867 - val_binary_accuracy: 0.6146\n",
            "Epoch 36/2000\n",
            "2/2 [==============================] - 0s 17ms/step - loss: 0.6897 - binary_accuracy: 0.5340 - val_loss: 0.6861 - val_binary_accuracy: 0.6250\n",
            "Epoch 37/2000\n",
            "2/2 [==============================] - 0s 19ms/step - loss: 0.6829 - binary_accuracy: 0.5707 - val_loss: 0.6855 - val_binary_accuracy: 0.6250\n",
            "Epoch 38/2000\n",
            "2/2 [==============================] - 0s 20ms/step - loss: 0.6813 - binary_accuracy: 0.5550 - val_loss: 0.6850 - val_binary_accuracy: 0.6250\n",
            "Epoch 39/2000\n",
            "2/2 [==============================] - 0s 19ms/step - loss: 0.6767 - binary_accuracy: 0.5628 - val_loss: 0.6843 - val_binary_accuracy: 0.6250\n",
            "Epoch 40/2000\n",
            "2/2 [==============================] - 0s 17ms/step - loss: 0.6831 - binary_accuracy: 0.5602 - val_loss: 0.6836 - val_binary_accuracy: 0.6354\n",
            "Epoch 41/2000\n",
            "2/2 [==============================] - 0s 27ms/step - loss: 0.6767 - binary_accuracy: 0.6021 - val_loss: 0.6828 - val_binary_accuracy: 0.6667\n",
            "Epoch 42/2000\n",
            "2/2 [==============================] - 0s 18ms/step - loss: 0.6826 - binary_accuracy: 0.5497 - val_loss: 0.6819 - val_binary_accuracy: 0.6667\n",
            "Epoch 43/2000\n",
            "2/2 [==============================] - 0s 18ms/step - loss: 0.6781 - binary_accuracy: 0.5733 - val_loss: 0.6811 - val_binary_accuracy: 0.6562\n",
            "Epoch 44/2000\n",
            "2/2 [==============================] - 0s 17ms/step - loss: 0.6815 - binary_accuracy: 0.5157 - val_loss: 0.6801 - val_binary_accuracy: 0.6562\n",
            "Epoch 45/2000\n",
            "2/2 [==============================] - 0s 19ms/step - loss: 0.6802 - binary_accuracy: 0.5812 - val_loss: 0.6793 - val_binary_accuracy: 0.6979\n",
            "Epoch 46/2000\n",
            "2/2 [==============================] - 0s 24ms/step - loss: 0.6835 - binary_accuracy: 0.5314 - val_loss: 0.6783 - val_binary_accuracy: 0.6771\n",
            "Epoch 47/2000\n",
            "2/2 [==============================] - 0s 23ms/step - loss: 0.6780 - binary_accuracy: 0.5524 - val_loss: 0.6773 - val_binary_accuracy: 0.6771\n",
            "Epoch 48/2000\n",
            "2/2 [==============================] - 0s 22ms/step - loss: 0.6786 - binary_accuracy: 0.5340 - val_loss: 0.6763 - val_binary_accuracy: 0.6771\n",
            "Epoch 49/2000\n",
            "2/2 [==============================] - 0s 23ms/step - loss: 0.6717 - binary_accuracy: 0.5628 - val_loss: 0.6752 - val_binary_accuracy: 0.6667\n",
            "Epoch 50/2000\n",
            "2/2 [==============================] - 0s 24ms/step - loss: 0.6806 - binary_accuracy: 0.5445 - val_loss: 0.6742 - val_binary_accuracy: 0.6771\n",
            "Epoch 51/2000\n",
            "2/2 [==============================] - 0s 21ms/step - loss: 0.6760 - binary_accuracy: 0.5340 - val_loss: 0.6732 - val_binary_accuracy: 0.6771\n",
            "Epoch 52/2000\n",
            "2/2 [==============================] - 0s 20ms/step - loss: 0.6729 - binary_accuracy: 0.5681 - val_loss: 0.6721 - val_binary_accuracy: 0.6771\n",
            "Epoch 53/2000\n",
            "2/2 [==============================] - 0s 18ms/step - loss: 0.6742 - binary_accuracy: 0.5576 - val_loss: 0.6710 - val_binary_accuracy: 0.6771\n",
            "Epoch 54/2000\n",
            "2/2 [==============================] - 0s 23ms/step - loss: 0.6715 - binary_accuracy: 0.5628 - val_loss: 0.6698 - val_binary_accuracy: 0.6771\n",
            "Epoch 55/2000\n",
            "2/2 [==============================] - 0s 20ms/step - loss: 0.6725 - binary_accuracy: 0.5654 - val_loss: 0.6686 - val_binary_accuracy: 0.6771\n",
            "Epoch 56/2000\n",
            "2/2 [==============================] - 0s 20ms/step - loss: 0.6697 - binary_accuracy: 0.5576 - val_loss: 0.6676 - val_binary_accuracy: 0.6875\n",
            "Epoch 57/2000\n",
            "2/2 [==============================] - 0s 18ms/step - loss: 0.6666 - binary_accuracy: 0.5890 - val_loss: 0.6665 - val_binary_accuracy: 0.6875\n",
            "Epoch 58/2000\n",
            "2/2 [==============================] - 0s 18ms/step - loss: 0.6713 - binary_accuracy: 0.5733 - val_loss: 0.6653 - val_binary_accuracy: 0.6979\n",
            "Epoch 59/2000\n",
            "2/2 [==============================] - 0s 16ms/step - loss: 0.6673 - binary_accuracy: 0.5812 - val_loss: 0.6640 - val_binary_accuracy: 0.7083\n",
            "Epoch 60/2000\n",
            "2/2 [==============================] - 0s 17ms/step - loss: 0.6588 - binary_accuracy: 0.5969 - val_loss: 0.6625 - val_binary_accuracy: 0.7083\n",
            "Epoch 61/2000\n",
            "2/2 [==============================] - 0s 25ms/step - loss: 0.6630 - binary_accuracy: 0.5942 - val_loss: 0.6608 - val_binary_accuracy: 0.7083\n",
            "Epoch 62/2000\n",
            "2/2 [==============================] - 0s 17ms/step - loss: 0.6645 - binary_accuracy: 0.5916 - val_loss: 0.6590 - val_binary_accuracy: 0.7083\n",
            "Epoch 63/2000\n",
            "2/2 [==============================] - 0s 18ms/step - loss: 0.6447 - binary_accuracy: 0.6152 - val_loss: 0.6570 - val_binary_accuracy: 0.7083\n",
            "Epoch 64/2000\n",
            "2/2 [==============================] - 0s 39ms/step - loss: 0.6555 - binary_accuracy: 0.6021 - val_loss: 0.6550 - val_binary_accuracy: 0.7083\n",
            "Epoch 65/2000\n",
            "2/2 [==============================] - 0s 21ms/step - loss: 0.6555 - binary_accuracy: 0.6099 - val_loss: 0.6529 - val_binary_accuracy: 0.7188\n",
            "Epoch 66/2000\n",
            "2/2 [==============================] - 0s 21ms/step - loss: 0.6526 - binary_accuracy: 0.5812 - val_loss: 0.6506 - val_binary_accuracy: 0.7188\n",
            "Epoch 67/2000\n",
            "2/2 [==============================] - 0s 18ms/step - loss: 0.6536 - binary_accuracy: 0.6021 - val_loss: 0.6483 - val_binary_accuracy: 0.7188\n",
            "Epoch 68/2000\n",
            "2/2 [==============================] - 0s 24ms/step - loss: 0.6600 - binary_accuracy: 0.5812 - val_loss: 0.6461 - val_binary_accuracy: 0.7396\n",
            "Epoch 69/2000\n",
            "2/2 [==============================] - 0s 17ms/step - loss: 0.6424 - binary_accuracy: 0.6230 - val_loss: 0.6437 - val_binary_accuracy: 0.7396\n",
            "Epoch 70/2000\n",
            "2/2 [==============================] - 0s 22ms/step - loss: 0.6582 - binary_accuracy: 0.5576 - val_loss: 0.6413 - val_binary_accuracy: 0.7292\n",
            "Epoch 71/2000\n",
            "2/2 [==============================] - 0s 17ms/step - loss: 0.6554 - binary_accuracy: 0.5995 - val_loss: 0.6390 - val_binary_accuracy: 0.7292\n",
            "Epoch 72/2000\n",
            "2/2 [==============================] - 0s 18ms/step - loss: 0.6494 - binary_accuracy: 0.5942 - val_loss: 0.6368 - val_binary_accuracy: 0.7396\n",
            "Epoch 73/2000\n",
            "2/2 [==============================] - 0s 23ms/step - loss: 0.6431 - binary_accuracy: 0.5916 - val_loss: 0.6343 - val_binary_accuracy: 0.7604\n",
            "Epoch 74/2000\n",
            "2/2 [==============================] - 0s 28ms/step - loss: 0.6302 - binary_accuracy: 0.6859 - val_loss: 0.6315 - val_binary_accuracy: 0.7604\n",
            "Epoch 75/2000\n",
            "2/2 [==============================] - 0s 20ms/step - loss: 0.6376 - binary_accuracy: 0.6152 - val_loss: 0.6283 - val_binary_accuracy: 0.7708\n",
            "Epoch 76/2000\n",
            "2/2 [==============================] - 0s 18ms/step - loss: 0.6331 - binary_accuracy: 0.6466 - val_loss: 0.6249 - val_binary_accuracy: 0.7708\n",
            "Epoch 77/2000\n",
            "2/2 [==============================] - 0s 18ms/step - loss: 0.6328 - binary_accuracy: 0.6204 - val_loss: 0.6212 - val_binary_accuracy: 0.7604\n",
            "Epoch 78/2000\n",
            "2/2 [==============================] - 0s 21ms/step - loss: 0.6273 - binary_accuracy: 0.5969 - val_loss: 0.6174 - val_binary_accuracy: 0.7604\n",
            "Epoch 79/2000\n",
            "2/2 [==============================] - 0s 20ms/step - loss: 0.6131 - binary_accuracy: 0.6414 - val_loss: 0.6134 - val_binary_accuracy: 0.7604\n",
            "Epoch 80/2000\n",
            "2/2 [==============================] - 0s 19ms/step - loss: 0.6263 - binary_accuracy: 0.6440 - val_loss: 0.6096 - val_binary_accuracy: 0.7604\n",
            "Epoch 81/2000\n",
            "2/2 [==============================] - 0s 32ms/step - loss: 0.6148 - binary_accuracy: 0.6702 - val_loss: 0.6059 - val_binary_accuracy: 0.7604\n",
            "Epoch 82/2000\n",
            "2/2 [==============================] - 0s 22ms/step - loss: 0.6258 - binary_accuracy: 0.6021 - val_loss: 0.6023 - val_binary_accuracy: 0.7604\n",
            "Epoch 83/2000\n",
            "2/2 [==============================] - 0s 20ms/step - loss: 0.6271 - binary_accuracy: 0.6283 - val_loss: 0.5987 - val_binary_accuracy: 0.7604\n",
            "Epoch 84/2000\n",
            "2/2 [==============================] - 0s 20ms/step - loss: 0.6059 - binary_accuracy: 0.6387 - val_loss: 0.5952 - val_binary_accuracy: 0.7604\n",
            "Epoch 85/2000\n",
            "2/2 [==============================] - 0s 26ms/step - loss: 0.6080 - binary_accuracy: 0.6466 - val_loss: 0.5915 - val_binary_accuracy: 0.7604\n",
            "Epoch 86/2000\n",
            "2/2 [==============================] - 0s 28ms/step - loss: 0.5834 - binary_accuracy: 0.6649 - val_loss: 0.5881 - val_binary_accuracy: 0.7500\n",
            "Epoch 87/2000\n",
            "2/2 [==============================] - 0s 29ms/step - loss: 0.6074 - binary_accuracy: 0.6597 - val_loss: 0.5848 - val_binary_accuracy: 0.7500\n",
            "Epoch 88/2000\n",
            "2/2 [==============================] - 0s 20ms/step - loss: 0.5852 - binary_accuracy: 0.6728 - val_loss: 0.5812 - val_binary_accuracy: 0.7604\n",
            "Epoch 89/2000\n",
            "2/2 [==============================] - 0s 21ms/step - loss: 0.6153 - binary_accuracy: 0.6466 - val_loss: 0.5772 - val_binary_accuracy: 0.7604\n",
            "Epoch 90/2000\n",
            "2/2 [==============================] - 0s 21ms/step - loss: 0.5932 - binary_accuracy: 0.6754 - val_loss: 0.5732 - val_binary_accuracy: 0.7604\n",
            "Epoch 91/2000\n",
            "2/2 [==============================] - 0s 20ms/step - loss: 0.5899 - binary_accuracy: 0.6806 - val_loss: 0.5695 - val_binary_accuracy: 0.7604\n",
            "Epoch 92/2000\n",
            "2/2 [==============================] - 0s 19ms/step - loss: 0.5996 - binary_accuracy: 0.6545 - val_loss: 0.5653 - val_binary_accuracy: 0.7708\n",
            "Epoch 93/2000\n",
            "2/2 [==============================] - 0s 20ms/step - loss: 0.6080 - binary_accuracy: 0.7016 - val_loss: 0.5609 - val_binary_accuracy: 0.7812\n",
            "Epoch 94/2000\n",
            "2/2 [==============================] - 0s 18ms/step - loss: 0.5709 - binary_accuracy: 0.7042 - val_loss: 0.5558 - val_binary_accuracy: 0.7812\n",
            "Epoch 95/2000\n",
            "2/2 [==============================] - 0s 18ms/step - loss: 0.5820 - binary_accuracy: 0.6806 - val_loss: 0.5506 - val_binary_accuracy: 0.7812\n",
            "Epoch 96/2000\n",
            "2/2 [==============================] - 0s 18ms/step - loss: 0.5810 - binary_accuracy: 0.6885 - val_loss: 0.5454 - val_binary_accuracy: 0.7708\n",
            "Epoch 97/2000\n",
            "2/2 [==============================] - 0s 20ms/step - loss: 0.5517 - binary_accuracy: 0.7225 - val_loss: 0.5406 - val_binary_accuracy: 0.7708\n",
            "Epoch 98/2000\n",
            "2/2 [==============================] - 0s 26ms/step - loss: 0.5759 - binary_accuracy: 0.7120 - val_loss: 0.5362 - val_binary_accuracy: 0.7708\n",
            "Epoch 99/2000\n",
            "2/2 [==============================] - 0s 24ms/step - loss: 0.5521 - binary_accuracy: 0.7042 - val_loss: 0.5319 - val_binary_accuracy: 0.7708\n",
            "Epoch 100/2000\n",
            "2/2 [==============================] - 0s 24ms/step - loss: 0.5622 - binary_accuracy: 0.6885 - val_loss: 0.5281 - val_binary_accuracy: 0.7708\n",
            "Epoch 101/2000\n",
            "2/2 [==============================] - 0s 18ms/step - loss: 0.5468 - binary_accuracy: 0.7277 - val_loss: 0.5243 - val_binary_accuracy: 0.7708\n",
            "Epoch 102/2000\n",
            "2/2 [==============================] - 0s 20ms/step - loss: 0.5567 - binary_accuracy: 0.6859 - val_loss: 0.5209 - val_binary_accuracy: 0.7812\n",
            "Epoch 103/2000\n",
            "2/2 [==============================] - 0s 18ms/step - loss: 0.5506 - binary_accuracy: 0.7408 - val_loss: 0.5179 - val_binary_accuracy: 0.7812\n",
            "Epoch 104/2000\n",
            "2/2 [==============================] - 0s 19ms/step - loss: 0.5894 - binary_accuracy: 0.6963 - val_loss: 0.5154 - val_binary_accuracy: 0.7812\n",
            "Epoch 105/2000\n",
            "2/2 [==============================] - 0s 18ms/step - loss: 0.5562 - binary_accuracy: 0.7042 - val_loss: 0.5124 - val_binary_accuracy: 0.7812\n",
            "Epoch 106/2000\n",
            "2/2 [==============================] - 0s 22ms/step - loss: 0.5477 - binary_accuracy: 0.7330 - val_loss: 0.5095 - val_binary_accuracy: 0.7812\n",
            "Epoch 107/2000\n",
            "2/2 [==============================] - 0s 19ms/step - loss: 0.5662 - binary_accuracy: 0.7042 - val_loss: 0.5075 - val_binary_accuracy: 0.7917\n",
            "Epoch 108/2000\n",
            "2/2 [==============================] - 0s 18ms/step - loss: 0.5284 - binary_accuracy: 0.7487 - val_loss: 0.5053 - val_binary_accuracy: 0.8021\n",
            "Epoch 109/2000\n",
            "2/2 [==============================] - 0s 18ms/step - loss: 0.5344 - binary_accuracy: 0.7356 - val_loss: 0.5014 - val_binary_accuracy: 0.7917\n",
            "Epoch 110/2000\n",
            "2/2 [==============================] - 0s 19ms/step - loss: 0.5219 - binary_accuracy: 0.7592 - val_loss: 0.4975 - val_binary_accuracy: 0.7917\n",
            "Epoch 111/2000\n",
            "2/2 [==============================] - 0s 18ms/step - loss: 0.5305 - binary_accuracy: 0.7277 - val_loss: 0.4938 - val_binary_accuracy: 0.7917\n",
            "Epoch 112/2000\n",
            "2/2 [==============================] - 0s 19ms/step - loss: 0.5479 - binary_accuracy: 0.7225 - val_loss: 0.4902 - val_binary_accuracy: 0.7917\n",
            "Epoch 113/2000\n",
            "2/2 [==============================] - 0s 24ms/step - loss: 0.5217 - binary_accuracy: 0.7539 - val_loss: 0.4867 - val_binary_accuracy: 0.8021\n",
            "Epoch 114/2000\n",
            "2/2 [==============================] - 0s 21ms/step - loss: 0.5157 - binary_accuracy: 0.7592 - val_loss: 0.4828 - val_binary_accuracy: 0.8021\n",
            "Epoch 115/2000\n",
            "2/2 [==============================] - 0s 20ms/step - loss: 0.5311 - binary_accuracy: 0.7356 - val_loss: 0.4795 - val_binary_accuracy: 0.7917\n",
            "Epoch 116/2000\n",
            "2/2 [==============================] - 0s 21ms/step - loss: 0.5379 - binary_accuracy: 0.7304 - val_loss: 0.4768 - val_binary_accuracy: 0.7917\n",
            "Epoch 117/2000\n",
            "2/2 [==============================] - 0s 23ms/step - loss: 0.5378 - binary_accuracy: 0.7304 - val_loss: 0.4749 - val_binary_accuracy: 0.7917\n",
            "Epoch 118/2000\n",
            "2/2 [==============================] - 0s 26ms/step - loss: 0.5492 - binary_accuracy: 0.7356 - val_loss: 0.4743 - val_binary_accuracy: 0.7917\n",
            "Epoch 119/2000\n",
            "2/2 [==============================] - 0s 22ms/step - loss: 0.5116 - binary_accuracy: 0.7539 - val_loss: 0.4737 - val_binary_accuracy: 0.7917\n",
            "Epoch 120/2000\n",
            "2/2 [==============================] - 0s 34ms/step - loss: 0.5277 - binary_accuracy: 0.7487 - val_loss: 0.4728 - val_binary_accuracy: 0.7917\n",
            "Epoch 121/2000\n",
            "2/2 [==============================] - 0s 23ms/step - loss: 0.5197 - binary_accuracy: 0.7304 - val_loss: 0.4718 - val_binary_accuracy: 0.7917\n",
            "Epoch 122/2000\n",
            "2/2 [==============================] - 0s 19ms/step - loss: 0.5133 - binary_accuracy: 0.7644 - val_loss: 0.4708 - val_binary_accuracy: 0.7917\n",
            "Epoch 123/2000\n",
            "2/2 [==============================] - 0s 22ms/step - loss: 0.5102 - binary_accuracy: 0.7513 - val_loss: 0.4700 - val_binary_accuracy: 0.7917\n",
            "Epoch 124/2000\n",
            "2/2 [==============================] - 0s 19ms/step - loss: 0.4710 - binary_accuracy: 0.7749 - val_loss: 0.4688 - val_binary_accuracy: 0.7917\n",
            "Epoch 125/2000\n",
            "2/2 [==============================] - 0s 18ms/step - loss: 0.5039 - binary_accuracy: 0.7775 - val_loss: 0.4669 - val_binary_accuracy: 0.7917\n",
            "Epoch 126/2000\n",
            "2/2 [==============================] - 0s 25ms/step - loss: 0.4830 - binary_accuracy: 0.7880 - val_loss: 0.4650 - val_binary_accuracy: 0.7917\n",
            "Epoch 127/2000\n",
            "2/2 [==============================] - 0s 19ms/step - loss: 0.5157 - binary_accuracy: 0.7513 - val_loss: 0.4638 - val_binary_accuracy: 0.7917\n",
            "Epoch 128/2000\n",
            "2/2 [==============================] - 0s 19ms/step - loss: 0.5411 - binary_accuracy: 0.7749 - val_loss: 0.4636 - val_binary_accuracy: 0.7917\n",
            "Epoch 129/2000\n",
            "2/2 [==============================] - 0s 19ms/step - loss: 0.5231 - binary_accuracy: 0.7670 - val_loss: 0.4641 - val_binary_accuracy: 0.7917\n",
            "Epoch 130/2000\n",
            "2/2 [==============================] - 0s 22ms/step - loss: 0.4686 - binary_accuracy: 0.8037 - val_loss: 0.4642 - val_binary_accuracy: 0.8021\n",
            "Epoch 131/2000\n",
            "2/2 [==============================] - 0s 18ms/step - loss: 0.5012 - binary_accuracy: 0.7880 - val_loss: 0.4647 - val_binary_accuracy: 0.7917\n",
            "Epoch 132/2000\n",
            "2/2 [==============================] - 0s 21ms/step - loss: 0.5193 - binary_accuracy: 0.7408 - val_loss: 0.4653 - val_binary_accuracy: 0.7917\n",
            "Epoch 133/2000\n",
            "2/2 [==============================] - 0s 19ms/step - loss: 0.5461 - binary_accuracy: 0.7539 - val_loss: 0.4653 - val_binary_accuracy: 0.7917\n",
            "Epoch 134/2000\n",
            "2/2 [==============================] - 0s 22ms/step - loss: 0.5020 - binary_accuracy: 0.7749 - val_loss: 0.4642 - val_binary_accuracy: 0.7917\n",
            "Epoch 135/2000\n",
            "2/2 [==============================] - 0s 18ms/step - loss: 0.4713 - binary_accuracy: 0.7958 - val_loss: 0.4629 - val_binary_accuracy: 0.7917\n",
            "Epoch 136/2000\n",
            "2/2 [==============================] - 0s 18ms/step - loss: 0.4817 - binary_accuracy: 0.7853 - val_loss: 0.4608 - val_binary_accuracy: 0.7917\n",
            "Epoch 137/2000\n",
            "2/2 [==============================] - 0s 18ms/step - loss: 0.5003 - binary_accuracy: 0.7618 - val_loss: 0.4589 - val_binary_accuracy: 0.8021\n",
            "Epoch 138/2000\n",
            "2/2 [==============================] - 0s 19ms/step - loss: 0.4956 - binary_accuracy: 0.7853 - val_loss: 0.4579 - val_binary_accuracy: 0.8021\n",
            "Epoch 139/2000\n",
            "2/2 [==============================] - 0s 22ms/step - loss: 0.5038 - binary_accuracy: 0.7539 - val_loss: 0.4571 - val_binary_accuracy: 0.8021\n",
            "Epoch 140/2000\n",
            "2/2 [==============================] - 0s 24ms/step - loss: 0.4764 - binary_accuracy: 0.7775 - val_loss: 0.4563 - val_binary_accuracy: 0.8021\n",
            "Epoch 141/2000\n",
            "2/2 [==============================] - 0s 18ms/step - loss: 0.4699 - binary_accuracy: 0.7827 - val_loss: 0.4552 - val_binary_accuracy: 0.8021\n",
            "Epoch 142/2000\n",
            "2/2 [==============================] - 0s 22ms/step - loss: 0.5121 - binary_accuracy: 0.7644 - val_loss: 0.4534 - val_binary_accuracy: 0.8021\n",
            "Epoch 143/2000\n",
            "2/2 [==============================] - 0s 20ms/step - loss: 0.4950 - binary_accuracy: 0.7670 - val_loss: 0.4519 - val_binary_accuracy: 0.8021\n",
            "Epoch 144/2000\n",
            "2/2 [==============================] - 0s 22ms/step - loss: 0.5076 - binary_accuracy: 0.7461 - val_loss: 0.4509 - val_binary_accuracy: 0.8021\n",
            "Epoch 145/2000\n",
            "2/2 [==============================] - 0s 19ms/step - loss: 0.4853 - binary_accuracy: 0.7670 - val_loss: 0.4499 - val_binary_accuracy: 0.8125\n",
            "Epoch 146/2000\n",
            "2/2 [==============================] - 0s 19ms/step - loss: 0.4855 - binary_accuracy: 0.7696 - val_loss: 0.4493 - val_binary_accuracy: 0.8125\n",
            "Epoch 147/2000\n",
            "2/2 [==============================] - 0s 24ms/step - loss: 0.5121 - binary_accuracy: 0.7670 - val_loss: 0.4491 - val_binary_accuracy: 0.8125\n",
            "Epoch 148/2000\n",
            "2/2 [==============================] - 0s 18ms/step - loss: 0.4815 - binary_accuracy: 0.7801 - val_loss: 0.4491 - val_binary_accuracy: 0.8125\n",
            "Epoch 149/2000\n",
            "2/2 [==============================] - 0s 20ms/step - loss: 0.4873 - binary_accuracy: 0.8010 - val_loss: 0.4486 - val_binary_accuracy: 0.8125\n",
            "Epoch 150/2000\n",
            "2/2 [==============================] - 0s 17ms/step - loss: 0.5021 - binary_accuracy: 0.7880 - val_loss: 0.4475 - val_binary_accuracy: 0.8125\n",
            "Epoch 151/2000\n",
            "2/2 [==============================] - 0s 18ms/step - loss: 0.4563 - binary_accuracy: 0.7853 - val_loss: 0.4469 - val_binary_accuracy: 0.8125\n",
            "Epoch 152/2000\n",
            "2/2 [==============================] - 0s 21ms/step - loss: 0.4996 - binary_accuracy: 0.7487 - val_loss: 0.4461 - val_binary_accuracy: 0.8125\n",
            "Epoch 153/2000\n",
            "2/2 [==============================] - 0s 23ms/step - loss: 0.4750 - binary_accuracy: 0.7958 - val_loss: 0.4457 - val_binary_accuracy: 0.8125\n",
            "Epoch 154/2000\n",
            "2/2 [==============================] - 0s 23ms/step - loss: 0.4700 - binary_accuracy: 0.7853 - val_loss: 0.4449 - val_binary_accuracy: 0.8021\n",
            "Epoch 155/2000\n",
            "2/2 [==============================] - 0s 22ms/step - loss: 0.4968 - binary_accuracy: 0.7592 - val_loss: 0.4440 - val_binary_accuracy: 0.8021\n",
            "Epoch 156/2000\n",
            "2/2 [==============================] - 0s 18ms/step - loss: 0.4827 - binary_accuracy: 0.7906 - val_loss: 0.4426 - val_binary_accuracy: 0.8021\n",
            "Epoch 157/2000\n",
            "2/2 [==============================] - 0s 20ms/step - loss: 0.4714 - binary_accuracy: 0.7906 - val_loss: 0.4411 - val_binary_accuracy: 0.8021\n",
            "Epoch 158/2000\n",
            "2/2 [==============================] - 0s 19ms/step - loss: 0.4772 - binary_accuracy: 0.7801 - val_loss: 0.4404 - val_binary_accuracy: 0.8021\n",
            "Epoch 159/2000\n",
            "2/2 [==============================] - 0s 20ms/step - loss: 0.4580 - binary_accuracy: 0.7932 - val_loss: 0.4392 - val_binary_accuracy: 0.8021\n",
            "Epoch 160/2000\n",
            "2/2 [==============================] - 0s 28ms/step - loss: 0.4865 - binary_accuracy: 0.7958 - val_loss: 0.4385 - val_binary_accuracy: 0.8021\n",
            "Epoch 161/2000\n",
            "2/2 [==============================] - 0s 30ms/step - loss: 0.4788 - binary_accuracy: 0.7932 - val_loss: 0.4377 - val_binary_accuracy: 0.8021\n",
            "Epoch 162/2000\n",
            "2/2 [==============================] - 0s 20ms/step - loss: 0.4763 - binary_accuracy: 0.7723 - val_loss: 0.4371 - val_binary_accuracy: 0.7917\n",
            "Epoch 163/2000\n",
            "2/2 [==============================] - 0s 22ms/step - loss: 0.5293 - binary_accuracy: 0.7670 - val_loss: 0.4369 - val_binary_accuracy: 0.7917\n",
            "Epoch 164/2000\n",
            "2/2 [==============================] - 0s 22ms/step - loss: 0.4742 - binary_accuracy: 0.7880 - val_loss: 0.4369 - val_binary_accuracy: 0.7917\n",
            "Epoch 165/2000\n",
            "2/2 [==============================] - 0s 18ms/step - loss: 0.4758 - binary_accuracy: 0.7696 - val_loss: 0.4371 - val_binary_accuracy: 0.7812\n",
            "Epoch 166/2000\n",
            "2/2 [==============================] - 0s 20ms/step - loss: 0.4880 - binary_accuracy: 0.7801 - val_loss: 0.4378 - val_binary_accuracy: 0.7812\n",
            "Epoch 167/2000\n",
            "2/2 [==============================] - 0s 22ms/step - loss: 0.4534 - binary_accuracy: 0.8168 - val_loss: 0.4383 - val_binary_accuracy: 0.7812\n",
            "Epoch 168/2000\n",
            "2/2 [==============================] - 0s 24ms/step - loss: 0.4705 - binary_accuracy: 0.7801 - val_loss: 0.4396 - val_binary_accuracy: 0.7917\n",
            "Epoch 169/2000\n",
            "2/2 [==============================] - 0s 19ms/step - loss: 0.4619 - binary_accuracy: 0.7801 - val_loss: 0.4398 - val_binary_accuracy: 0.7917\n",
            "Epoch 170/2000\n",
            "2/2 [==============================] - 0s 19ms/step - loss: 0.4811 - binary_accuracy: 0.7880 - val_loss: 0.4395 - val_binary_accuracy: 0.7812\n",
            "Epoch 171/2000\n",
            "2/2 [==============================] - 0s 24ms/step - loss: 0.4732 - binary_accuracy: 0.7749 - val_loss: 0.4382 - val_binary_accuracy: 0.7812\n",
            "Epoch 172/2000\n",
            "2/2 [==============================] - 0s 22ms/step - loss: 0.4636 - binary_accuracy: 0.8010 - val_loss: 0.4365 - val_binary_accuracy: 0.7917\n",
            "Epoch 173/2000\n",
            "2/2 [==============================] - 0s 23ms/step - loss: 0.4992 - binary_accuracy: 0.7827 - val_loss: 0.4349 - val_binary_accuracy: 0.7917\n",
            "Epoch 174/2000\n",
            "2/2 [==============================] - 0s 24ms/step - loss: 0.4736 - binary_accuracy: 0.7880 - val_loss: 0.4340 - val_binary_accuracy: 0.8021\n",
            "Epoch 175/2000\n",
            "2/2 [==============================] - 0s 21ms/step - loss: 0.4724 - binary_accuracy: 0.8141 - val_loss: 0.4332 - val_binary_accuracy: 0.8021\n",
            "Epoch 176/2000\n",
            "2/2 [==============================] - 0s 22ms/step - loss: 0.4752 - binary_accuracy: 0.7906 - val_loss: 0.4323 - val_binary_accuracy: 0.8021\n",
            "Epoch 177/2000\n",
            "2/2 [==============================] - 0s 21ms/step - loss: 0.4671 - binary_accuracy: 0.8010 - val_loss: 0.4322 - val_binary_accuracy: 0.8021\n",
            "Epoch 178/2000\n",
            "2/2 [==============================] - 0s 20ms/step - loss: 0.4773 - binary_accuracy: 0.7853 - val_loss: 0.4326 - val_binary_accuracy: 0.8021\n",
            "Epoch 179/2000\n",
            "2/2 [==============================] - 0s 20ms/step - loss: 0.4834 - binary_accuracy: 0.8010 - val_loss: 0.4328 - val_binary_accuracy: 0.8021\n",
            "Epoch 180/2000\n",
            "2/2 [==============================] - 0s 26ms/step - loss: 0.4330 - binary_accuracy: 0.8089 - val_loss: 0.4330 - val_binary_accuracy: 0.8021\n",
            "Epoch 181/2000\n",
            "2/2 [==============================] - 0s 26ms/step - loss: 0.4599 - binary_accuracy: 0.7984 - val_loss: 0.4334 - val_binary_accuracy: 0.8021\n",
            "Epoch 182/2000\n",
            "2/2 [==============================] - 0s 20ms/step - loss: 0.4401 - binary_accuracy: 0.8168 - val_loss: 0.4333 - val_binary_accuracy: 0.8021\n",
            "Epoch 183/2000\n",
            "2/2 [==============================] - 0s 18ms/step - loss: 0.4655 - binary_accuracy: 0.7906 - val_loss: 0.4334 - val_binary_accuracy: 0.8021\n",
            "Epoch 184/2000\n",
            "2/2 [==============================] - 0s 23ms/step - loss: 0.4573 - binary_accuracy: 0.7880 - val_loss: 0.4328 - val_binary_accuracy: 0.8021\n",
            "Epoch 185/2000\n",
            "2/2 [==============================] - 0s 17ms/step - loss: 0.4705 - binary_accuracy: 0.7932 - val_loss: 0.4318 - val_binary_accuracy: 0.8021\n",
            "Epoch 186/2000\n",
            "2/2 [==============================] - 0s 18ms/step - loss: 0.4535 - binary_accuracy: 0.7853 - val_loss: 0.4302 - val_binary_accuracy: 0.8021\n",
            "Epoch 187/2000\n",
            "2/2 [==============================] - 0s 20ms/step - loss: 0.4728 - binary_accuracy: 0.7932 - val_loss: 0.4285 - val_binary_accuracy: 0.8021\n",
            "Epoch 188/2000\n",
            "2/2 [==============================] - 0s 34ms/step - loss: 0.4258 - binary_accuracy: 0.7984 - val_loss: 0.4268 - val_binary_accuracy: 0.8125\n",
            "Epoch 189/2000\n",
            "2/2 [==============================] - 0s 21ms/step - loss: 0.4825 - binary_accuracy: 0.7880 - val_loss: 0.4248 - val_binary_accuracy: 0.8125\n",
            "Epoch 190/2000\n",
            "2/2 [==============================] - 0s 20ms/step - loss: 0.4286 - binary_accuracy: 0.8351 - val_loss: 0.4228 - val_binary_accuracy: 0.8125\n",
            "Epoch 191/2000\n",
            "2/2 [==============================] - 0s 20ms/step - loss: 0.4591 - binary_accuracy: 0.7906 - val_loss: 0.4217 - val_binary_accuracy: 0.8125\n",
            "Epoch 192/2000\n",
            "2/2 [==============================] - 0s 19ms/step - loss: 0.4316 - binary_accuracy: 0.8194 - val_loss: 0.4207 - val_binary_accuracy: 0.8125\n",
            "Epoch 193/2000\n",
            "2/2 [==============================] - 0s 19ms/step - loss: 0.4520 - binary_accuracy: 0.7932 - val_loss: 0.4197 - val_binary_accuracy: 0.8125\n",
            "Epoch 194/2000\n",
            "2/2 [==============================] - 0s 17ms/step - loss: 0.4539 - binary_accuracy: 0.7958 - val_loss: 0.4190 - val_binary_accuracy: 0.8125\n",
            "Epoch 195/2000\n",
            "2/2 [==============================] - 0s 24ms/step - loss: 0.4700 - binary_accuracy: 0.7749 - val_loss: 0.4187 - val_binary_accuracy: 0.8125\n",
            "Epoch 196/2000\n",
            "2/2 [==============================] - 0s 19ms/step - loss: 0.4519 - binary_accuracy: 0.8141 - val_loss: 0.4189 - val_binary_accuracy: 0.8125\n",
            "Epoch 197/2000\n",
            "2/2 [==============================] - 0s 19ms/step - loss: 0.4356 - binary_accuracy: 0.8141 - val_loss: 0.4199 - val_binary_accuracy: 0.8125\n",
            "Epoch 198/2000\n",
            "2/2 [==============================] - 0s 25ms/step - loss: 0.4644 - binary_accuracy: 0.8168 - val_loss: 0.4216 - val_binary_accuracy: 0.8021\n",
            "Epoch 199/2000\n",
            "2/2 [==============================] - 0s 19ms/step - loss: 0.4596 - binary_accuracy: 0.8037 - val_loss: 0.4237 - val_binary_accuracy: 0.8021\n",
            "Epoch 200/2000\n",
            "2/2 [==============================] - 0s 22ms/step - loss: 0.4440 - binary_accuracy: 0.8037 - val_loss: 0.4257 - val_binary_accuracy: 0.8021\n",
            "Epoch 201/2000\n",
            "2/2 [==============================] - 0s 23ms/step - loss: 0.4599 - binary_accuracy: 0.8010 - val_loss: 0.4269 - val_binary_accuracy: 0.8021\n",
            "Epoch 202/2000\n",
            "2/2 [==============================] - 0s 22ms/step - loss: 0.4291 - binary_accuracy: 0.8429 - val_loss: 0.4276 - val_binary_accuracy: 0.8021\n",
            "Epoch 203/2000\n",
            "2/2 [==============================] - 0s 18ms/step - loss: 0.4674 - binary_accuracy: 0.8089 - val_loss: 0.4273 - val_binary_accuracy: 0.8021\n",
            "Epoch 204/2000\n",
            "2/2 [==============================] - 0s 23ms/step - loss: 0.4368 - binary_accuracy: 0.7932 - val_loss: 0.4275 - val_binary_accuracy: 0.8021\n",
            "Epoch 205/2000\n",
            "2/2 [==============================] - 0s 21ms/step - loss: 0.4527 - binary_accuracy: 0.8168 - val_loss: 0.4275 - val_binary_accuracy: 0.8021\n",
            "Epoch 206/2000\n",
            "2/2 [==============================] - 0s 27ms/step - loss: 0.4502 - binary_accuracy: 0.8168 - val_loss: 0.4271 - val_binary_accuracy: 0.8021\n",
            "Epoch 207/2000\n",
            "2/2 [==============================] - 0s 22ms/step - loss: 0.4536 - binary_accuracy: 0.8063 - val_loss: 0.4265 - val_binary_accuracy: 0.8021\n",
            "Epoch 208/2000\n",
            "2/2 [==============================] - 0s 25ms/step - loss: 0.4596 - binary_accuracy: 0.8220 - val_loss: 0.4257 - val_binary_accuracy: 0.8021\n",
            "Epoch 209/2000\n",
            "2/2 [==============================] - 0s 20ms/step - loss: 0.4332 - binary_accuracy: 0.8115 - val_loss: 0.4253 - val_binary_accuracy: 0.8021\n",
            "Epoch 210/2000\n",
            "2/2 [==============================] - 0s 20ms/step - loss: 0.4116 - binary_accuracy: 0.8246 - val_loss: 0.4251 - val_binary_accuracy: 0.8021\n",
            "Epoch 211/2000\n",
            "2/2 [==============================] - 0s 26ms/step - loss: 0.4297 - binary_accuracy: 0.8325 - val_loss: 0.4258 - val_binary_accuracy: 0.8021\n",
            "Epoch 212/2000\n",
            "2/2 [==============================] - 0s 23ms/step - loss: 0.4282 - binary_accuracy: 0.8325 - val_loss: 0.4255 - val_binary_accuracy: 0.8021\n",
            "Epoch 213/2000\n",
            "2/2 [==============================] - 0s 25ms/step - loss: 0.4524 - binary_accuracy: 0.8010 - val_loss: 0.4251 - val_binary_accuracy: 0.8021\n",
            "Epoch 214/2000\n",
            "2/2 [==============================] - 0s 24ms/step - loss: 0.4616 - binary_accuracy: 0.7958 - val_loss: 0.4245 - val_binary_accuracy: 0.8021\n",
            "Epoch 215/2000\n",
            "2/2 [==============================] - 0s 27ms/step - loss: 0.4340 - binary_accuracy: 0.8037 - val_loss: 0.4238 - val_binary_accuracy: 0.8021\n",
            "Epoch 216/2000\n",
            "2/2 [==============================] - 0s 23ms/step - loss: 0.3883 - binary_accuracy: 0.8298 - val_loss: 0.4224 - val_binary_accuracy: 0.8021\n",
            "Epoch 217/2000\n",
            "2/2 [==============================] - 0s 21ms/step - loss: 0.4543 - binary_accuracy: 0.7984 - val_loss: 0.4204 - val_binary_accuracy: 0.8125\n",
            "Epoch 218/2000\n",
            "2/2 [==============================] - 0s 20ms/step - loss: 0.4184 - binary_accuracy: 0.8220 - val_loss: 0.4189 - val_binary_accuracy: 0.8125\n",
            "Epoch 219/2000\n",
            "2/2 [==============================] - 0s 29ms/step - loss: 0.4652 - binary_accuracy: 0.7932 - val_loss: 0.4178 - val_binary_accuracy: 0.8125\n",
            "Epoch 220/2000\n",
            "2/2 [==============================] - 0s 28ms/step - loss: 0.4083 - binary_accuracy: 0.8220 - val_loss: 0.4172 - val_binary_accuracy: 0.8125\n",
            "Epoch 221/2000\n",
            "2/2 [==============================] - 0s 21ms/step - loss: 0.4232 - binary_accuracy: 0.8351 - val_loss: 0.4164 - val_binary_accuracy: 0.8125\n",
            "Epoch 222/2000\n",
            "2/2 [==============================] - 0s 20ms/step - loss: 0.4453 - binary_accuracy: 0.8089 - val_loss: 0.4154 - val_binary_accuracy: 0.8125\n",
            "Epoch 223/2000\n",
            "2/2 [==============================] - 0s 24ms/step - loss: 0.4398 - binary_accuracy: 0.8429 - val_loss: 0.4154 - val_binary_accuracy: 0.8125\n",
            "Epoch 224/2000\n",
            "2/2 [==============================] - 0s 24ms/step - loss: 0.4191 - binary_accuracy: 0.8298 - val_loss: 0.4158 - val_binary_accuracy: 0.8125\n",
            "Epoch 225/2000\n",
            "2/2 [==============================] - 0s 20ms/step - loss: 0.4015 - binary_accuracy: 0.8168 - val_loss: 0.4167 - val_binary_accuracy: 0.8125\n",
            "Epoch 226/2000\n",
            "2/2 [==============================] - 0s 27ms/step - loss: 0.4308 - binary_accuracy: 0.8298 - val_loss: 0.4170 - val_binary_accuracy: 0.8125\n",
            "Epoch 227/2000\n",
            "2/2 [==============================] - 0s 24ms/step - loss: 0.4067 - binary_accuracy: 0.8298 - val_loss: 0.4176 - val_binary_accuracy: 0.8125\n",
            "Epoch 228/2000\n",
            "2/2 [==============================] - 0s 24ms/step - loss: 0.4486 - binary_accuracy: 0.8220 - val_loss: 0.4194 - val_binary_accuracy: 0.8021\n",
            "Epoch 229/2000\n",
            "2/2 [==============================] - 0s 19ms/step - loss: 0.4104 - binary_accuracy: 0.8298 - val_loss: 0.4212 - val_binary_accuracy: 0.8021\n",
            "Epoch 230/2000\n",
            "2/2 [==============================] - 0s 22ms/step - loss: 0.3934 - binary_accuracy: 0.8455 - val_loss: 0.4221 - val_binary_accuracy: 0.8021\n",
            "Epoch 231/2000\n",
            "2/2 [==============================] - 0s 45ms/step - loss: 0.4229 - binary_accuracy: 0.8272 - val_loss: 0.4229 - val_binary_accuracy: 0.8125\n",
            "Epoch 232/2000\n",
            "2/2 [==============================] - 0s 24ms/step - loss: 0.4332 - binary_accuracy: 0.8325 - val_loss: 0.4227 - val_binary_accuracy: 0.8125\n",
            "Epoch 233/2000\n",
            "2/2 [==============================] - 0s 22ms/step - loss: 0.4115 - binary_accuracy: 0.8586 - val_loss: 0.4229 - val_binary_accuracy: 0.8125\n",
            "Epoch 234/2000\n",
            "2/2 [==============================] - 0s 43ms/step - loss: 0.4143 - binary_accuracy: 0.8220 - val_loss: 0.4236 - val_binary_accuracy: 0.8125\n",
            "Epoch 235/2000\n",
            "2/2 [==============================] - 0s 21ms/step - loss: 0.4151 - binary_accuracy: 0.8325 - val_loss: 0.4246 - val_binary_accuracy: 0.8125\n",
            "Epoch 236/2000\n",
            "2/2 [==============================] - 0s 23ms/step - loss: 0.4228 - binary_accuracy: 0.8063 - val_loss: 0.4233 - val_binary_accuracy: 0.8125\n",
            "Epoch 237/2000\n",
            "2/2 [==============================] - 0s 28ms/step - loss: 0.4070 - binary_accuracy: 0.8351 - val_loss: 0.4213 - val_binary_accuracy: 0.8125\n",
            "Epoch 238/2000\n",
            "2/2 [==============================] - 0s 22ms/step - loss: 0.3857 - binary_accuracy: 0.8298 - val_loss: 0.4203 - val_binary_accuracy: 0.8125\n",
            "Epoch 239/2000\n",
            "2/2 [==============================] - 0s 22ms/step - loss: 0.4300 - binary_accuracy: 0.8377 - val_loss: 0.4193 - val_binary_accuracy: 0.8125\n",
            "Epoch 240/2000\n",
            "2/2 [==============================] - 0s 24ms/step - loss: 0.4178 - binary_accuracy: 0.8194 - val_loss: 0.4199 - val_binary_accuracy: 0.8125\n",
            "Epoch 241/2000\n",
            "2/2 [==============================] - 0s 26ms/step - loss: 0.4225 - binary_accuracy: 0.8429 - val_loss: 0.4206 - val_binary_accuracy: 0.8125\n",
            "Epoch 242/2000\n",
            "2/2 [==============================] - 0s 22ms/step - loss: 0.4055 - binary_accuracy: 0.8325 - val_loss: 0.4213 - val_binary_accuracy: 0.8125\n",
            "Epoch 243/2000\n",
            "2/2 [==============================] - 0s 25ms/step - loss: 0.4380 - binary_accuracy: 0.8220 - val_loss: 0.4219 - val_binary_accuracy: 0.8125\n",
            "Epoch 244/2000\n",
            "2/2 [==============================] - 0s 20ms/step - loss: 0.4275 - binary_accuracy: 0.8220 - val_loss: 0.4223 - val_binary_accuracy: 0.8125\n",
            "Epoch 245/2000\n",
            "2/2 [==============================] - 0s 26ms/step - loss: 0.4228 - binary_accuracy: 0.8063 - val_loss: 0.4227 - val_binary_accuracy: 0.8125\n",
            "Epoch 246/2000\n",
            "2/2 [==============================] - 0s 24ms/step - loss: 0.3951 - binary_accuracy: 0.8298 - val_loss: 0.4232 - val_binary_accuracy: 0.8125\n",
            "Epoch 247/2000\n",
            "2/2 [==============================] - 0s 26ms/step - loss: 0.4143 - binary_accuracy: 0.8351 - val_loss: 0.4228 - val_binary_accuracy: 0.8125\n",
            "Epoch 248/2000\n",
            "2/2 [==============================] - 0s 22ms/step - loss: 0.3915 - binary_accuracy: 0.8351 - val_loss: 0.4235 - val_binary_accuracy: 0.8125\n",
            "Epoch 249/2000\n",
            "2/2 [==============================] - 0s 23ms/step - loss: 0.4071 - binary_accuracy: 0.8429 - val_loss: 0.4231 - val_binary_accuracy: 0.8125\n",
            "Epoch 250/2000\n",
            "2/2 [==============================] - 0s 27ms/step - loss: 0.4252 - binary_accuracy: 0.8220 - val_loss: 0.4230 - val_binary_accuracy: 0.8125\n",
            "Epoch 251/2000\n",
            "2/2 [==============================] - 0s 23ms/step - loss: 0.3961 - binary_accuracy: 0.8220 - val_loss: 0.4229 - val_binary_accuracy: 0.8125\n",
            "Epoch 252/2000\n",
            "2/2 [==============================] - 0s 23ms/step - loss: 0.4279 - binary_accuracy: 0.8298 - val_loss: 0.4229 - val_binary_accuracy: 0.8125\n",
            "Epoch 253/2000\n",
            "2/2 [==============================] - 0s 20ms/step - loss: 0.3981 - binary_accuracy: 0.8194 - val_loss: 0.4226 - val_binary_accuracy: 0.8125\n",
            "Epoch 254/2000\n",
            "2/2 [==============================] - 0s 24ms/step - loss: 0.3762 - binary_accuracy: 0.8508 - val_loss: 0.4221 - val_binary_accuracy: 0.8125\n",
            "Epoch 255/2000\n",
            "2/2 [==============================] - 0s 27ms/step - loss: 0.3947 - binary_accuracy: 0.8613 - val_loss: 0.4219 - val_binary_accuracy: 0.8125\n",
            "Epoch 256/2000\n",
            "2/2 [==============================] - 0s 28ms/step - loss: 0.3861 - binary_accuracy: 0.8325 - val_loss: 0.4219 - val_binary_accuracy: 0.8125\n",
            "Epoch 257/2000\n",
            "2/2 [==============================] - 0s 27ms/step - loss: 0.3836 - binary_accuracy: 0.8482 - val_loss: 0.4216 - val_binary_accuracy: 0.8125\n",
            "Epoch 258/2000\n",
            "2/2 [==============================] - 0s 19ms/step - loss: 0.3894 - binary_accuracy: 0.8586 - val_loss: 0.4215 - val_binary_accuracy: 0.8125\n",
            "Epoch 259/2000\n",
            "2/2 [==============================] - 0s 29ms/step - loss: 0.4200 - binary_accuracy: 0.8377 - val_loss: 0.4215 - val_binary_accuracy: 0.8125\n",
            "Epoch 260/2000\n",
            "2/2 [==============================] - 0s 25ms/step - loss: 0.4131 - binary_accuracy: 0.8246 - val_loss: 0.4211 - val_binary_accuracy: 0.8125\n",
            "Epoch 261/2000\n",
            "2/2 [==============================] - 0s 19ms/step - loss: 0.3980 - binary_accuracy: 0.8534 - val_loss: 0.4211 - val_binary_accuracy: 0.8125\n",
            "Epoch 262/2000\n",
            "2/2 [==============================] - 0s 22ms/step - loss: 0.3753 - binary_accuracy: 0.8429 - val_loss: 0.4211 - val_binary_accuracy: 0.8125\n",
            "Epoch 263/2000\n",
            "2/2 [==============================] - 0s 19ms/step - loss: 0.4036 - binary_accuracy: 0.8351 - val_loss: 0.4216 - val_binary_accuracy: 0.8125\n",
            "Epoch 264/2000\n",
            "2/2 [==============================] - 0s 25ms/step - loss: 0.3631 - binary_accuracy: 0.8639 - val_loss: 0.4231 - val_binary_accuracy: 0.8125\n",
            "Epoch 265/2000\n",
            "2/2 [==============================] - 0s 25ms/step - loss: 0.4012 - binary_accuracy: 0.8403 - val_loss: 0.4238 - val_binary_accuracy: 0.8125\n",
            "Epoch 266/2000\n",
            "2/2 [==============================] - 0s 22ms/step - loss: 0.4136 - binary_accuracy: 0.8455 - val_loss: 0.4238 - val_binary_accuracy: 0.8125\n",
            "Epoch 267/2000\n",
            "2/2 [==============================] - 0s 19ms/step - loss: 0.3851 - binary_accuracy: 0.8743 - val_loss: 0.4237 - val_binary_accuracy: 0.8125\n",
            "Epoch 268/2000\n",
            "2/2 [==============================] - 0s 24ms/step - loss: 0.4461 - binary_accuracy: 0.8246 - val_loss: 0.4246 - val_binary_accuracy: 0.8125\n",
            "Epoch 269/2000\n",
            "2/2 [==============================] - 0s 25ms/step - loss: 0.3894 - binary_accuracy: 0.8455 - val_loss: 0.4266 - val_binary_accuracy: 0.8125\n",
            "Epoch 270/2000\n",
            "2/2 [==============================] - 0s 26ms/step - loss: 0.3925 - binary_accuracy: 0.8717 - val_loss: 0.4294 - val_binary_accuracy: 0.8125\n",
            "Epoch 271/2000\n",
            "2/2 [==============================] - 0s 30ms/step - loss: 0.3865 - binary_accuracy: 0.8351 - val_loss: 0.4312 - val_binary_accuracy: 0.8125\n",
            "Epoch 272/2000\n",
            "2/2 [==============================] - 0s 27ms/step - loss: 0.4101 - binary_accuracy: 0.8141 - val_loss: 0.4311 - val_binary_accuracy: 0.8125\n",
            "Epoch 273/2000\n",
            "2/2 [==============================] - 0s 35ms/step - loss: 0.3755 - binary_accuracy: 0.8717 - val_loss: 0.4306 - val_binary_accuracy: 0.8125\n",
            "Epoch 274/2000\n",
            "2/2 [==============================] - 0s 23ms/step - loss: 0.3863 - binary_accuracy: 0.8482 - val_loss: 0.4302 - val_binary_accuracy: 0.8125\n",
            "Epoch 275/2000\n",
            "2/2 [==============================] - 0s 21ms/step - loss: 0.3911 - binary_accuracy: 0.8455 - val_loss: 0.4295 - val_binary_accuracy: 0.8125\n",
            "Epoch 276/2000\n",
            "2/2 [==============================] - 0s 22ms/step - loss: 0.4105 - binary_accuracy: 0.8377 - val_loss: 0.4283 - val_binary_accuracy: 0.8125\n",
            "Epoch 277/2000\n",
            "2/2 [==============================] - 0s 28ms/step - loss: 0.3824 - binary_accuracy: 0.8325 - val_loss: 0.4279 - val_binary_accuracy: 0.8125\n",
            "Epoch 278/2000\n",
            "2/2 [==============================] - 0s 24ms/step - loss: 0.3806 - binary_accuracy: 0.8639 - val_loss: 0.4277 - val_binary_accuracy: 0.8125\n",
            "Epoch 279/2000\n",
            "2/2 [==============================] - 0s 27ms/step - loss: 0.3594 - binary_accuracy: 0.8560 - val_loss: 0.4284 - val_binary_accuracy: 0.8125\n",
            "Epoch 280/2000\n",
            "2/2 [==============================] - 0s 28ms/step - loss: 0.3958 - binary_accuracy: 0.8613 - val_loss: 0.4300 - val_binary_accuracy: 0.8125\n",
            "Epoch 281/2000\n",
            "2/2 [==============================] - 0s 24ms/step - loss: 0.3883 - binary_accuracy: 0.8482 - val_loss: 0.4312 - val_binary_accuracy: 0.8125\n",
            "Epoch 282/2000\n",
            "2/2 [==============================] - 0s 26ms/step - loss: 0.3951 - binary_accuracy: 0.8403 - val_loss: 0.4330 - val_binary_accuracy: 0.8125\n",
            "Epoch 283/2000\n",
            "2/2 [==============================] - 0s 46ms/step - loss: 0.3816 - binary_accuracy: 0.8534 - val_loss: 0.4341 - val_binary_accuracy: 0.8125\n",
            "Epoch 284/2000\n",
            "2/2 [==============================] - 0s 31ms/step - loss: 0.3760 - binary_accuracy: 0.8586 - val_loss: 0.4343 - val_binary_accuracy: 0.8125\n",
            "Epoch 285/2000\n",
            "2/2 [==============================] - 0s 28ms/step - loss: 0.3868 - binary_accuracy: 0.8639 - val_loss: 0.4341 - val_binary_accuracy: 0.8125\n",
            "Epoch 286/2000\n",
            "2/2 [==============================] - 0s 25ms/step - loss: 0.3613 - binary_accuracy: 0.8482 - val_loss: 0.4334 - val_binary_accuracy: 0.8125\n",
            "Epoch 287/2000\n",
            "2/2 [==============================] - 0s 23ms/step - loss: 0.3590 - binary_accuracy: 0.8560 - val_loss: 0.4328 - val_binary_accuracy: 0.8125\n",
            "Epoch 288/2000\n",
            "2/2 [==============================] - 0s 23ms/step - loss: 0.3943 - binary_accuracy: 0.8665 - val_loss: 0.4328 - val_binary_accuracy: 0.8125\n",
            "Epoch 289/2000\n",
            "2/2 [==============================] - 0s 30ms/step - loss: 0.3816 - binary_accuracy: 0.8534 - val_loss: 0.4334 - val_binary_accuracy: 0.8125\n",
            "Epoch 290/2000\n",
            "2/2 [==============================] - 0s 25ms/step - loss: 0.3813 - binary_accuracy: 0.8534 - val_loss: 0.4352 - val_binary_accuracy: 0.8125\n",
            "Epoch 291/2000\n",
            "2/2 [==============================] - 0s 22ms/step - loss: 0.3999 - binary_accuracy: 0.8429 - val_loss: 0.4362 - val_binary_accuracy: 0.8125\n",
            "Epoch 292/2000\n",
            "2/2 [==============================] - 0s 25ms/step - loss: 0.3625 - binary_accuracy: 0.8482 - val_loss: 0.4377 - val_binary_accuracy: 0.8125\n",
            "Epoch 293/2000\n",
            "2/2 [==============================] - 0s 22ms/step - loss: 0.3368 - binary_accuracy: 0.8534 - val_loss: 0.4392 - val_binary_accuracy: 0.8125\n",
            "Epoch 294/2000\n",
            "2/2 [==============================] - 0s 21ms/step - loss: 0.3611 - binary_accuracy: 0.8639 - val_loss: 0.4402 - val_binary_accuracy: 0.8125\n",
            "Epoch 295/2000\n",
            "2/2 [==============================] - 0s 26ms/step - loss: 0.3652 - binary_accuracy: 0.8927 - val_loss: 0.4405 - val_binary_accuracy: 0.8125\n",
            "Epoch 296/2000\n",
            "2/2 [==============================] - 0s 24ms/step - loss: 0.3797 - binary_accuracy: 0.8665 - val_loss: 0.4406 - val_binary_accuracy: 0.8125\n",
            "Epoch 297/2000\n",
            "2/2 [==============================] - 0s 26ms/step - loss: 0.3733 - binary_accuracy: 0.8691 - val_loss: 0.4408 - val_binary_accuracy: 0.8125\n",
            "Epoch 298/2000\n",
            "2/2 [==============================] - 0s 25ms/step - loss: 0.3728 - binary_accuracy: 0.8377 - val_loss: 0.4404 - val_binary_accuracy: 0.8125\n",
            "Epoch 299/2000\n",
            "2/2 [==============================] - 0s 24ms/step - loss: 0.3831 - binary_accuracy: 0.8429 - val_loss: 0.4399 - val_binary_accuracy: 0.8125\n",
            "Epoch 300/2000\n",
            "2/2 [==============================] - 0s 26ms/step - loss: 0.3604 - binary_accuracy: 0.8717 - val_loss: 0.4393 - val_binary_accuracy: 0.8125\n",
            "Epoch 301/2000\n",
            "2/2 [==============================] - 0s 27ms/step - loss: 0.3725 - binary_accuracy: 0.8639 - val_loss: 0.4382 - val_binary_accuracy: 0.8125\n",
            "Epoch 302/2000\n",
            "2/2 [==============================] - 0s 26ms/step - loss: 0.3616 - binary_accuracy: 0.8482 - val_loss: 0.4376 - val_binary_accuracy: 0.8125\n",
            "Epoch 303/2000\n",
            "2/2 [==============================] - 0s 22ms/step - loss: 0.3785 - binary_accuracy: 0.8455 - val_loss: 0.4380 - val_binary_accuracy: 0.8125\n",
            "Epoch 304/2000\n",
            "2/2 [==============================] - 0s 29ms/step - loss: 0.3765 - binary_accuracy: 0.8429 - val_loss: 0.4386 - val_binary_accuracy: 0.8125\n",
            "Epoch 305/2000\n",
            "2/2 [==============================] - 0s 25ms/step - loss: 0.3600 - binary_accuracy: 0.8691 - val_loss: 0.4399 - val_binary_accuracy: 0.8125\n",
            "Epoch 306/2000\n",
            "2/2 [==============================] - 0s 33ms/step - loss: 0.3583 - binary_accuracy: 0.8613 - val_loss: 0.4419 - val_binary_accuracy: 0.8125\n",
            "Epoch 307/2000\n",
            "2/2 [==============================] - 0s 29ms/step - loss: 0.3630 - binary_accuracy: 0.8691 - val_loss: 0.4441 - val_binary_accuracy: 0.8125\n",
            "Epoch 308/2000\n",
            "2/2 [==============================] - 0s 25ms/step - loss: 0.3702 - binary_accuracy: 0.8586 - val_loss: 0.4446 - val_binary_accuracy: 0.8125\n",
            "Epoch 309/2000\n",
            "2/2 [==============================] - 0s 26ms/step - loss: 0.3772 - binary_accuracy: 0.8665 - val_loss: 0.4440 - val_binary_accuracy: 0.8125\n",
            "Epoch 310/2000\n",
            "2/2 [==============================] - 0s 28ms/step - loss: 0.3609 - binary_accuracy: 0.8717 - val_loss: 0.4445 - val_binary_accuracy: 0.8125\n",
            "Epoch 311/2000\n",
            "2/2 [==============================] - 0s 23ms/step - loss: 0.3991 - binary_accuracy: 0.8586 - val_loss: 0.4446 - val_binary_accuracy: 0.8125\n",
            "Epoch 312/2000\n",
            "2/2 [==============================] - 0s 29ms/step - loss: 0.3695 - binary_accuracy: 0.8639 - val_loss: 0.4444 - val_binary_accuracy: 0.8125\n",
            "Epoch 313/2000\n",
            "2/2 [==============================] - 0s 23ms/step - loss: 0.3715 - binary_accuracy: 0.8482 - val_loss: 0.4438 - val_binary_accuracy: 0.8125\n",
            "Epoch 314/2000\n",
            "2/2 [==============================] - 0s 41ms/step - loss: 0.3774 - binary_accuracy: 0.8848 - val_loss: 0.4439 - val_binary_accuracy: 0.8125\n",
            "Epoch 315/2000\n",
            "2/2 [==============================] - 0s 29ms/step - loss: 0.3691 - binary_accuracy: 0.8403 - val_loss: 0.4442 - val_binary_accuracy: 0.8125\n",
            "Epoch 316/2000\n",
            "2/2 [==============================] - 0s 23ms/step - loss: 0.3778 - binary_accuracy: 0.8534 - val_loss: 0.4446 - val_binary_accuracy: 0.8125\n",
            "Epoch 317/2000\n",
            "2/2 [==============================] - 0s 22ms/step - loss: 0.3659 - binary_accuracy: 0.8717 - val_loss: 0.4459 - val_binary_accuracy: 0.8125\n",
            "Epoch 318/2000\n",
            "2/2 [==============================] - 0s 21ms/step - loss: 0.3451 - binary_accuracy: 0.8822 - val_loss: 0.4474 - val_binary_accuracy: 0.8125\n",
            "Epoch 319/2000\n",
            "2/2 [==============================] - 0s 28ms/step - loss: 0.3828 - binary_accuracy: 0.8403 - val_loss: 0.4483 - val_binary_accuracy: 0.8125\n",
            "Epoch 320/2000\n",
            "2/2 [==============================] - 0s 24ms/step - loss: 0.3793 - binary_accuracy: 0.8455 - val_loss: 0.4492 - val_binary_accuracy: 0.8125\n",
            "Epoch 321/2000\n",
            "2/2 [==============================] - 0s 26ms/step - loss: 0.3448 - binary_accuracy: 0.8508 - val_loss: 0.4496 - val_binary_accuracy: 0.8125\n",
            "Epoch 322/2000\n",
            "2/2 [==============================] - 0s 26ms/step - loss: 0.3681 - binary_accuracy: 0.8639 - val_loss: 0.4502 - val_binary_accuracy: 0.8125\n",
            "Epoch 323/2000\n",
            "2/2 [==============================] - 0s 24ms/step - loss: 0.3861 - binary_accuracy: 0.8691 - val_loss: 0.4503 - val_binary_accuracy: 0.8125\n",
            "Epoch 324/2000\n",
            "2/2 [==============================] - 0s 27ms/step - loss: 0.3827 - binary_accuracy: 0.8482 - val_loss: 0.4502 - val_binary_accuracy: 0.8125\n",
            "Epoch 325/2000\n",
            "2/2 [==============================] - 0s 29ms/step - loss: 0.3448 - binary_accuracy: 0.8796 - val_loss: 0.4501 - val_binary_accuracy: 0.8125\n",
            "Epoch 326/2000\n",
            "2/2 [==============================] - 0s 26ms/step - loss: 0.3710 - binary_accuracy: 0.8639 - val_loss: 0.4500 - val_binary_accuracy: 0.8125\n",
            "Epoch 327/2000\n",
            "2/2 [==============================] - 0s 22ms/step - loss: 0.3477 - binary_accuracy: 0.8691 - val_loss: 0.4506 - val_binary_accuracy: 0.8125\n",
            "Epoch 328/2000\n",
            "2/2 [==============================] - 0s 22ms/step - loss: 0.3482 - binary_accuracy: 0.8717 - val_loss: 0.4516 - val_binary_accuracy: 0.8125\n",
            "Epoch 329/2000\n",
            "2/2 [==============================] - 0s 24ms/step - loss: 0.3400 - binary_accuracy: 0.8901 - val_loss: 0.4522 - val_binary_accuracy: 0.8125\n",
            "Epoch 330/2000\n",
            "2/2 [==============================] - 0s 25ms/step - loss: 0.3531 - binary_accuracy: 0.8560 - val_loss: 0.4518 - val_binary_accuracy: 0.8125\n",
            "Epoch 331/2000\n",
            "2/2 [==============================] - 0s 23ms/step - loss: 0.3536 - binary_accuracy: 0.8770 - val_loss: 0.4513 - val_binary_accuracy: 0.8125\n",
            "Epoch 332/2000\n",
            "2/2 [==============================] - 0s 24ms/step - loss: 0.3560 - binary_accuracy: 0.8665 - val_loss: 0.4513 - val_binary_accuracy: 0.8125\n",
            "Epoch 333/2000\n",
            "2/2 [==============================] - 0s 24ms/step - loss: 0.3735 - binary_accuracy: 0.8822 - val_loss: 0.4515 - val_binary_accuracy: 0.8125\n",
            "Epoch 334/2000\n",
            "2/2 [==============================] - 0s 20ms/step - loss: 0.3511 - binary_accuracy: 0.8874 - val_loss: 0.4510 - val_binary_accuracy: 0.8125\n",
            "Epoch 335/2000\n",
            "2/2 [==============================] - 0s 24ms/step - loss: 0.3798 - binary_accuracy: 0.8639 - val_loss: 0.4506 - val_binary_accuracy: 0.8125\n",
            "Epoch 336/2000\n",
            "2/2 [==============================] - 0s 21ms/step - loss: 0.3397 - binary_accuracy: 0.8901 - val_loss: 0.4503 - val_binary_accuracy: 0.8021\n",
            "Epoch 337/2000\n",
            "2/2 [==============================] - 0s 20ms/step - loss: 0.3225 - binary_accuracy: 0.8717 - val_loss: 0.4508 - val_binary_accuracy: 0.8021\n",
            "Epoch 338/2000\n",
            "2/2 [==============================] - 0s 20ms/step - loss: 0.3549 - binary_accuracy: 0.8743 - val_loss: 0.4521 - val_binary_accuracy: 0.8021\n",
            "Epoch 339/2000\n",
            "2/2 [==============================] - 0s 32ms/step - loss: 0.3443 - binary_accuracy: 0.8560 - val_loss: 0.4543 - val_binary_accuracy: 0.8021\n",
            "Epoch 340/2000\n",
            "2/2 [==============================] - 0s 20ms/step - loss: 0.3642 - binary_accuracy: 0.8586 - val_loss: 0.4568 - val_binary_accuracy: 0.8021\n",
            "Epoch 341/2000\n",
            "2/2 [==============================] - 0s 28ms/step - loss: 0.3705 - binary_accuracy: 0.8586 - val_loss: 0.4581 - val_binary_accuracy: 0.8021\n",
            "Epoch 342/2000\n",
            "2/2 [==============================] - 0s 21ms/step - loss: 0.3656 - binary_accuracy: 0.8613 - val_loss: 0.4586 - val_binary_accuracy: 0.8021\n",
            "Epoch 343/2000\n",
            "2/2 [==============================] - 0s 23ms/step - loss: 0.3535 - binary_accuracy: 0.8770 - val_loss: 0.4585 - val_binary_accuracy: 0.8021\n",
            "Epoch 344/2000\n",
            "2/2 [==============================] - 0s 21ms/step - loss: 0.3631 - binary_accuracy: 0.8613 - val_loss: 0.4571 - val_binary_accuracy: 0.8021\n",
            "Epoch 345/2000\n",
            "2/2 [==============================] - 0s 31ms/step - loss: 0.3090 - binary_accuracy: 0.8901 - val_loss: 0.4553 - val_binary_accuracy: 0.8021\n",
            "Epoch 346/2000\n",
            "2/2 [==============================] - 0s 20ms/step - loss: 0.3519 - binary_accuracy: 0.8822 - val_loss: 0.4535 - val_binary_accuracy: 0.8021\n",
            "Epoch 347/2000\n",
            "2/2 [==============================] - 0s 24ms/step - loss: 0.3461 - binary_accuracy: 0.8796 - val_loss: 0.4522 - val_binary_accuracy: 0.8125\n",
            "Epoch 348/2000\n",
            "2/2 [==============================] - 0s 22ms/step - loss: 0.3652 - binary_accuracy: 0.8665 - val_loss: 0.4508 - val_binary_accuracy: 0.8125\n",
            "Epoch 349/2000\n",
            "2/2 [==============================] - 0s 23ms/step - loss: 0.3315 - binary_accuracy: 0.8848 - val_loss: 0.4503 - val_binary_accuracy: 0.8125\n",
            "Epoch 350/2000\n",
            "2/2 [==============================] - 0s 24ms/step - loss: 0.3348 - binary_accuracy: 0.8639 - val_loss: 0.4497 - val_binary_accuracy: 0.8125\n",
            "Epoch 351/2000\n",
            "2/2 [==============================] - 0s 23ms/step - loss: 0.3514 - binary_accuracy: 0.8691 - val_loss: 0.4496 - val_binary_accuracy: 0.8125\n",
            "Epoch 352/2000\n",
            "2/2 [==============================] - 0s 25ms/step - loss: 0.3312 - binary_accuracy: 0.8743 - val_loss: 0.4500 - val_binary_accuracy: 0.8125\n",
            "Epoch 353/2000\n",
            "2/2 [==============================] - 0s 23ms/step - loss: 0.3524 - binary_accuracy: 0.8508 - val_loss: 0.4509 - val_binary_accuracy: 0.8125\n",
            "Epoch 354/2000\n",
            "2/2 [==============================] - 0s 24ms/step - loss: 0.3231 - binary_accuracy: 0.8560 - val_loss: 0.4524 - val_binary_accuracy: 0.8229\n",
            "Epoch 355/2000\n",
            "2/2 [==============================] - 0s 26ms/step - loss: 0.3379 - binary_accuracy: 0.8717 - val_loss: 0.4554 - val_binary_accuracy: 0.8021\n",
            "Epoch 356/2000\n",
            "2/2 [==============================] - 0s 24ms/step - loss: 0.3144 - binary_accuracy: 0.8848 - val_loss: 0.4587 - val_binary_accuracy: 0.8021\n",
            "Epoch 357/2000\n",
            "2/2 [==============================] - 0s 22ms/step - loss: 0.3499 - binary_accuracy: 0.8639 - val_loss: 0.4626 - val_binary_accuracy: 0.8021\n",
            "Epoch 358/2000\n",
            "2/2 [==============================] - 0s 23ms/step - loss: 0.3451 - binary_accuracy: 0.8822 - val_loss: 0.4662 - val_binary_accuracy: 0.8021\n",
            "Epoch 359/2000\n",
            "2/2 [==============================] - 0s 23ms/step - loss: 0.3361 - binary_accuracy: 0.8901 - val_loss: 0.4685 - val_binary_accuracy: 0.8021\n",
            "Epoch 360/2000\n",
            "2/2 [==============================] - 0s 25ms/step - loss: 0.3390 - binary_accuracy: 0.8665 - val_loss: 0.4710 - val_binary_accuracy: 0.8021\n",
            "Epoch 361/2000\n",
            "2/2 [==============================] - 0s 26ms/step - loss: 0.3065 - binary_accuracy: 0.8901 - val_loss: 0.4731 - val_binary_accuracy: 0.8021\n",
            "Epoch 362/2000\n",
            "2/2 [==============================] - 0s 22ms/step - loss: 0.3542 - binary_accuracy: 0.8691 - val_loss: 0.4747 - val_binary_accuracy: 0.8021\n",
            "Epoch 363/2000\n",
            "2/2 [==============================] - 0s 26ms/step - loss: 0.3242 - binary_accuracy: 0.8796 - val_loss: 0.4753 - val_binary_accuracy: 0.8021\n",
            "Epoch 364/2000\n",
            "2/2 [==============================] - 0s 24ms/step - loss: 0.3287 - binary_accuracy: 0.8717 - val_loss: 0.4749 - val_binary_accuracy: 0.8021\n",
            "Epoch 365/2000\n",
            "2/2 [==============================] - 0s 36ms/step - loss: 0.3349 - binary_accuracy: 0.8796 - val_loss: 0.4755 - val_binary_accuracy: 0.8021\n",
            "Epoch 366/2000\n",
            "2/2 [==============================] - 0s 24ms/step - loss: 0.3551 - binary_accuracy: 0.8770 - val_loss: 0.4763 - val_binary_accuracy: 0.8021\n",
            "Epoch 367/2000\n",
            "2/2 [==============================] - 0s 20ms/step - loss: 0.3312 - binary_accuracy: 0.8717 - val_loss: 0.4767 - val_binary_accuracy: 0.8021\n",
            "Epoch 368/2000\n",
            "2/2 [==============================] - 0s 21ms/step - loss: 0.3983 - binary_accuracy: 0.8534 - val_loss: 0.4758 - val_binary_accuracy: 0.8021\n",
            "Epoch 369/2000\n",
            "2/2 [==============================] - 0s 21ms/step - loss: 0.3310 - binary_accuracy: 0.8639 - val_loss: 0.4751 - val_binary_accuracy: 0.8021\n",
            "Epoch 370/2000\n",
            "2/2 [==============================] - 0s 22ms/step - loss: 0.3376 - binary_accuracy: 0.8874 - val_loss: 0.4751 - val_binary_accuracy: 0.8021\n",
            "Epoch 371/2000\n",
            "2/2 [==============================] - 0s 38ms/step - loss: 0.3364 - binary_accuracy: 0.8613 - val_loss: 0.4753 - val_binary_accuracy: 0.8021\n",
            "Epoch 372/2000\n",
            "2/2 [==============================] - 0s 22ms/step - loss: 0.3155 - binary_accuracy: 0.8770 - val_loss: 0.4764 - val_binary_accuracy: 0.8021\n",
            "Epoch 373/2000\n",
            "2/2 [==============================] - 0s 24ms/step - loss: 0.3380 - binary_accuracy: 0.8639 - val_loss: 0.4767 - val_binary_accuracy: 0.8021\n",
            "Epoch 374/2000\n",
            "2/2 [==============================] - 0s 19ms/step - loss: 0.3360 - binary_accuracy: 0.8848 - val_loss: 0.4763 - val_binary_accuracy: 0.8021\n",
            "Epoch 375/2000\n",
            "2/2 [==============================] - 0s 24ms/step - loss: 0.3267 - binary_accuracy: 0.8796 - val_loss: 0.4760 - val_binary_accuracy: 0.8021\n",
            "Epoch 376/2000\n",
            "2/2 [==============================] - 0s 30ms/step - loss: 0.3227 - binary_accuracy: 0.8874 - val_loss: 0.4764 - val_binary_accuracy: 0.8021\n",
            "Epoch 377/2000\n",
            "2/2 [==============================] - 0s 24ms/step - loss: 0.3058 - binary_accuracy: 0.9005 - val_loss: 0.4769 - val_binary_accuracy: 0.8021\n",
            "Epoch 378/2000\n",
            "2/2 [==============================] - 0s 39ms/step - loss: 0.3546 - binary_accuracy: 0.8534 - val_loss: 0.4774 - val_binary_accuracy: 0.8021\n",
            "Epoch 379/2000\n",
            "2/2 [==============================] - 0s 24ms/step - loss: 0.3234 - binary_accuracy: 0.8743 - val_loss: 0.4776 - val_binary_accuracy: 0.8021\n",
            "Epoch 380/2000\n",
            "2/2 [==============================] - 0s 29ms/step - loss: 0.3209 - binary_accuracy: 0.8822 - val_loss: 0.4776 - val_binary_accuracy: 0.8021\n",
            "Epoch 381/2000\n",
            "2/2 [==============================] - 0s 21ms/step - loss: 0.3149 - binary_accuracy: 0.8901 - val_loss: 0.4782 - val_binary_accuracy: 0.8021\n",
            "Epoch 382/2000\n",
            "2/2 [==============================] - 0s 22ms/step - loss: 0.3411 - binary_accuracy: 0.8901 - val_loss: 0.4793 - val_binary_accuracy: 0.8021\n",
            "Epoch 383/2000\n",
            "2/2 [==============================] - 0s 28ms/step - loss: 0.3431 - binary_accuracy: 0.8796 - val_loss: 0.4801 - val_binary_accuracy: 0.8021\n",
            "Epoch 384/2000\n",
            "2/2 [==============================] - 0s 26ms/step - loss: 0.2928 - binary_accuracy: 0.8927 - val_loss: 0.4818 - val_binary_accuracy: 0.8021\n",
            "Epoch 385/2000\n",
            "2/2 [==============================] - 0s 21ms/step - loss: 0.3620 - binary_accuracy: 0.8429 - val_loss: 0.4848 - val_binary_accuracy: 0.8021\n",
            "Epoch 386/2000\n",
            "2/2 [==============================] - 0s 23ms/step - loss: 0.3304 - binary_accuracy: 0.8953 - val_loss: 0.4874 - val_binary_accuracy: 0.8021\n",
            "Epoch 387/2000\n",
            "2/2 [==============================] - 0s 23ms/step - loss: 0.3279 - binary_accuracy: 0.8796 - val_loss: 0.4884 - val_binary_accuracy: 0.8021\n",
            "Epoch 388/2000\n",
            "2/2 [==============================] - 0s 27ms/step - loss: 0.3060 - binary_accuracy: 0.8953 - val_loss: 0.4896 - val_binary_accuracy: 0.8021\n",
            "Epoch 389/2000\n",
            "2/2 [==============================] - 0s 27ms/step - loss: 0.3573 - binary_accuracy: 0.8534 - val_loss: 0.4902 - val_binary_accuracy: 0.8021\n",
            "Epoch 390/2000\n",
            "2/2 [==============================] - 0s 41ms/step - loss: 0.3014 - binary_accuracy: 0.8927 - val_loss: 0.4892 - val_binary_accuracy: 0.8021\n",
            "Epoch 391/2000\n",
            "2/2 [==============================] - 0s 34ms/step - loss: 0.3511 - binary_accuracy: 0.8717 - val_loss: 0.4880 - val_binary_accuracy: 0.8021\n",
            "Epoch 392/2000\n",
            "2/2 [==============================] - 0s 25ms/step - loss: 0.3529 - binary_accuracy: 0.8743 - val_loss: 0.4874 - val_binary_accuracy: 0.8021\n",
            "Epoch 393/2000\n",
            "2/2 [==============================] - 0s 36ms/step - loss: 0.3242 - binary_accuracy: 0.8848 - val_loss: 0.4877 - val_binary_accuracy: 0.8021\n",
            "Epoch 394/2000\n",
            "2/2 [==============================] - 0s 25ms/step - loss: 0.3146 - binary_accuracy: 0.8717 - val_loss: 0.4881 - val_binary_accuracy: 0.8021\n",
            "Epoch 395/2000\n",
            "2/2 [==============================] - 0s 29ms/step - loss: 0.3315 - binary_accuracy: 0.8770 - val_loss: 0.4884 - val_binary_accuracy: 0.8021\n",
            "Epoch 396/2000\n",
            "2/2 [==============================] - 0s 26ms/step - loss: 0.3351 - binary_accuracy: 0.8874 - val_loss: 0.4884 - val_binary_accuracy: 0.8021\n",
            "Epoch 397/2000\n",
            "2/2 [==============================] - 0s 31ms/step - loss: 0.3262 - binary_accuracy: 0.8796 - val_loss: 0.4877 - val_binary_accuracy: 0.8021\n",
            "Epoch 398/2000\n",
            "2/2 [==============================] - 0s 27ms/step - loss: 0.2928 - binary_accuracy: 0.8848 - val_loss: 0.4882 - val_binary_accuracy: 0.8021\n",
            "Epoch 399/2000\n",
            "2/2 [==============================] - 0s 24ms/step - loss: 0.3382 - binary_accuracy: 0.8717 - val_loss: 0.4902 - val_binary_accuracy: 0.8021\n",
            "Epoch 400/2000\n",
            "2/2 [==============================] - 0s 25ms/step - loss: 0.3100 - binary_accuracy: 0.8874 - val_loss: 0.4918 - val_binary_accuracy: 0.8021\n",
            "Epoch 401/2000\n",
            "2/2 [==============================] - 0s 26ms/step - loss: 0.3375 - binary_accuracy: 0.8743 - val_loss: 0.4935 - val_binary_accuracy: 0.8021\n",
            "Epoch 402/2000\n",
            "2/2 [==============================] - 0s 31ms/step - loss: 0.3204 - binary_accuracy: 0.8953 - val_loss: 0.4959 - val_binary_accuracy: 0.8021\n",
            "Epoch 403/2000\n",
            "2/2 [==============================] - 0s 46ms/step - loss: 0.2998 - binary_accuracy: 0.9084 - val_loss: 0.4991 - val_binary_accuracy: 0.8021\n",
            "Epoch 404/2000\n",
            "2/2 [==============================] - 0s 25ms/step - loss: 0.3141 - binary_accuracy: 0.8979 - val_loss: 0.5014 - val_binary_accuracy: 0.8021\n",
            "Epoch 405/2000\n",
            "2/2 [==============================] - 0s 35ms/step - loss: 0.3371 - binary_accuracy: 0.8874 - val_loss: 0.5032 - val_binary_accuracy: 0.8021\n",
            "Epoch 406/2000\n",
            "2/2 [==============================] - 0s 26ms/step - loss: 0.3037 - binary_accuracy: 0.9084 - val_loss: 0.5046 - val_binary_accuracy: 0.8021\n",
            "Epoch 407/2000\n",
            "2/2 [==============================] - 0s 27ms/step - loss: 0.3118 - binary_accuracy: 0.9084 - val_loss: 0.5055 - val_binary_accuracy: 0.8021\n",
            "Epoch 408/2000\n",
            "2/2 [==============================] - 0s 24ms/step - loss: 0.3316 - binary_accuracy: 0.8822 - val_loss: 0.5064 - val_binary_accuracy: 0.8021\n",
            "Epoch 409/2000\n",
            "2/2 [==============================] - 0s 23ms/step - loss: 0.3145 - binary_accuracy: 0.8665 - val_loss: 0.5061 - val_binary_accuracy: 0.8021\n",
            "Epoch 410/2000\n",
            "2/2 [==============================] - 0s 28ms/step - loss: 0.3169 - binary_accuracy: 0.8796 - val_loss: 0.5057 - val_binary_accuracy: 0.8021\n",
            "Epoch 411/2000\n",
            "2/2 [==============================] - 0s 21ms/step - loss: 0.2903 - binary_accuracy: 0.8848 - val_loss: 0.5059 - val_binary_accuracy: 0.8021\n",
            "Epoch 412/2000\n",
            "2/2 [==============================] - 0s 36ms/step - loss: 0.3392 - binary_accuracy: 0.8901 - val_loss: 0.5058 - val_binary_accuracy: 0.8125\n",
            "Epoch 413/2000\n",
            "2/2 [==============================] - 0s 23ms/step - loss: 0.3132 - binary_accuracy: 0.8901 - val_loss: 0.5064 - val_binary_accuracy: 0.8125\n",
            "Epoch 414/2000\n",
            "2/2 [==============================] - 0s 26ms/step - loss: 0.3183 - binary_accuracy: 0.8770 - val_loss: 0.5070 - val_binary_accuracy: 0.8125\n",
            "Epoch 415/2000\n",
            "2/2 [==============================] - 0s 21ms/step - loss: 0.3382 - binary_accuracy: 0.8770 - val_loss: 0.5072 - val_binary_accuracy: 0.8021\n",
            "Epoch 416/2000\n",
            "2/2 [==============================] - 0s 27ms/step - loss: 0.3246 - binary_accuracy: 0.8770 - val_loss: 0.5077 - val_binary_accuracy: 0.8125\n",
            "Epoch 417/2000\n",
            "2/2 [==============================] - 0s 22ms/step - loss: 0.3238 - binary_accuracy: 0.8665 - val_loss: 0.5080 - val_binary_accuracy: 0.8125\n",
            "Epoch 418/2000\n",
            "2/2 [==============================] - 0s 26ms/step - loss: 0.3091 - binary_accuracy: 0.8822 - val_loss: 0.5070 - val_binary_accuracy: 0.8125\n",
            "Epoch 419/2000\n",
            "2/2 [==============================] - 0s 22ms/step - loss: 0.3158 - binary_accuracy: 0.8874 - val_loss: 0.5067 - val_binary_accuracy: 0.8125\n",
            "Epoch 420/2000\n",
            "2/2 [==============================] - 0s 32ms/step - loss: 0.3346 - binary_accuracy: 0.8560 - val_loss: 0.5055 - val_binary_accuracy: 0.8125\n",
            "Epoch 421/2000\n",
            "2/2 [==============================] - 0s 27ms/step - loss: 0.3322 - binary_accuracy: 0.8953 - val_loss: 0.5047 - val_binary_accuracy: 0.8125\n",
            "Epoch 422/2000\n",
            "2/2 [==============================] - 0s 26ms/step - loss: 0.3092 - binary_accuracy: 0.8848 - val_loss: 0.5045 - val_binary_accuracy: 0.8125\n",
            "Epoch 423/2000\n",
            "2/2 [==============================] - 0s 25ms/step - loss: 0.3194 - binary_accuracy: 0.8927 - val_loss: 0.5036 - val_binary_accuracy: 0.8021\n",
            "Epoch 424/2000\n",
            "2/2 [==============================] - 0s 25ms/step - loss: 0.3082 - binary_accuracy: 0.8874 - val_loss: 0.5037 - val_binary_accuracy: 0.8021\n",
            "Epoch 425/2000\n",
            "2/2 [==============================] - 0s 28ms/step - loss: 0.3050 - binary_accuracy: 0.8848 - val_loss: 0.5050 - val_binary_accuracy: 0.8021\n",
            "Epoch 426/2000\n",
            "2/2 [==============================] - 0s 24ms/step - loss: 0.3375 - binary_accuracy: 0.8717 - val_loss: 0.5065 - val_binary_accuracy: 0.8021\n",
            "Epoch 427/2000\n",
            "2/2 [==============================] - 0s 21ms/step - loss: 0.2925 - binary_accuracy: 0.8953 - val_loss: 0.5079 - val_binary_accuracy: 0.8021\n",
            "Epoch 428/2000\n",
            "2/2 [==============================] - 0s 24ms/step - loss: 0.3225 - binary_accuracy: 0.8770 - val_loss: 0.5088 - val_binary_accuracy: 0.8021\n",
            "Epoch 429/2000\n",
            "2/2 [==============================] - 0s 27ms/step - loss: 0.3095 - binary_accuracy: 0.8822 - val_loss: 0.5108 - val_binary_accuracy: 0.8021\n",
            "Epoch 430/2000\n",
            "2/2 [==============================] - 0s 25ms/step - loss: 0.2915 - binary_accuracy: 0.9110 - val_loss: 0.5126 - val_binary_accuracy: 0.8021\n",
            "Epoch 431/2000\n",
            "2/2 [==============================] - 0s 31ms/step - loss: 0.3481 - binary_accuracy: 0.8848 - val_loss: 0.5136 - val_binary_accuracy: 0.8021\n",
            "Epoch 432/2000\n",
            "2/2 [==============================] - 0s 32ms/step - loss: 0.2827 - binary_accuracy: 0.9241 - val_loss: 0.5144 - val_binary_accuracy: 0.8021\n",
            "Epoch 433/2000\n",
            "2/2 [==============================] - 0s 26ms/step - loss: 0.3144 - binary_accuracy: 0.8927 - val_loss: 0.5157 - val_binary_accuracy: 0.8021\n",
            "Epoch 434/2000\n",
            "2/2 [==============================] - 0s 28ms/step - loss: 0.3035 - binary_accuracy: 0.9031 - val_loss: 0.5173 - val_binary_accuracy: 0.8021\n",
            "Epoch 435/2000\n",
            "2/2 [==============================] - 0s 26ms/step - loss: 0.3232 - binary_accuracy: 0.8822 - val_loss: 0.5191 - val_binary_accuracy: 0.8021\n",
            "Epoch 436/2000\n",
            "2/2 [==============================] - 0s 33ms/step - loss: 0.3054 - binary_accuracy: 0.8901 - val_loss: 0.5210 - val_binary_accuracy: 0.8021\n",
            "Epoch 437/2000\n",
            "2/2 [==============================] - 0s 28ms/step - loss: 0.2838 - binary_accuracy: 0.8901 - val_loss: 0.5222 - val_binary_accuracy: 0.8021\n",
            "Epoch 438/2000\n",
            "2/2 [==============================] - 0s 30ms/step - loss: 0.2808 - binary_accuracy: 0.9058 - val_loss: 0.5235 - val_binary_accuracy: 0.8021\n",
            "Epoch 439/2000\n",
            "2/2 [==============================] - 0s 27ms/step - loss: 0.2942 - binary_accuracy: 0.9084 - val_loss: 0.5249 - val_binary_accuracy: 0.8021\n",
            "Epoch 440/2000\n",
            "2/2 [==============================] - 0s 21ms/step - loss: 0.3051 - binary_accuracy: 0.8953 - val_loss: 0.5259 - val_binary_accuracy: 0.8021\n",
            "Epoch 441/2000\n",
            "2/2 [==============================] - 0s 36ms/step - loss: 0.3367 - binary_accuracy: 0.8822 - val_loss: 0.5270 - val_binary_accuracy: 0.8021\n",
            "Epoch 442/2000\n",
            "2/2 [==============================] - 0s 25ms/step - loss: 0.2954 - binary_accuracy: 0.8901 - val_loss: 0.5285 - val_binary_accuracy: 0.8021\n",
            "Epoch 443/2000\n",
            "2/2 [==============================] - 0s 25ms/step - loss: 0.3083 - binary_accuracy: 0.8927 - val_loss: 0.5309 - val_binary_accuracy: 0.8021\n",
            "Epoch 444/2000\n",
            "2/2 [==============================] - 0s 24ms/step - loss: 0.3104 - binary_accuracy: 0.8796 - val_loss: 0.5338 - val_binary_accuracy: 0.8021\n",
            "Epoch 445/2000\n",
            "2/2 [==============================] - 0s 21ms/step - loss: 0.2918 - binary_accuracy: 0.8979 - val_loss: 0.5365 - val_binary_accuracy: 0.8021\n",
            "Epoch 446/2000\n",
            "2/2 [==============================] - 0s 26ms/step - loss: 0.3181 - binary_accuracy: 0.8770 - val_loss: 0.5393 - val_binary_accuracy: 0.8021\n",
            "Epoch 447/2000\n",
            "2/2 [==============================] - 0s 37ms/step - loss: 0.3131 - binary_accuracy: 0.8848 - val_loss: 0.5400 - val_binary_accuracy: 0.8021\n",
            "Epoch 448/2000\n",
            "2/2 [==============================] - 0s 25ms/step - loss: 0.3026 - binary_accuracy: 0.8927 - val_loss: 0.5395 - val_binary_accuracy: 0.8125\n",
            "Epoch 449/2000\n",
            "2/2 [==============================] - 0s 29ms/step - loss: 0.3092 - binary_accuracy: 0.8901 - val_loss: 0.5387 - val_binary_accuracy: 0.8125\n",
            "Epoch 450/2000\n",
            "2/2 [==============================] - 0s 23ms/step - loss: 0.2969 - binary_accuracy: 0.8848 - val_loss: 0.5384 - val_binary_accuracy: 0.8125\n",
            "Epoch 451/2000\n",
            "2/2 [==============================] - 0s 25ms/step - loss: 0.3070 - binary_accuracy: 0.8796 - val_loss: 0.5384 - val_binary_accuracy: 0.8125\n",
            "Epoch 452/2000\n",
            "2/2 [==============================] - 0s 22ms/step - loss: 0.3084 - binary_accuracy: 0.8848 - val_loss: 0.5398 - val_binary_accuracy: 0.8125\n",
            "Epoch 453/2000\n",
            "2/2 [==============================] - 0s 25ms/step - loss: 0.3005 - binary_accuracy: 0.9005 - val_loss: 0.5415 - val_binary_accuracy: 0.8125\n",
            "Epoch 454/2000\n",
            "2/2 [==============================] - 0s 25ms/step - loss: 0.2937 - binary_accuracy: 0.8874 - val_loss: 0.5436 - val_binary_accuracy: 0.8125\n",
            "Epoch 455/2000\n",
            "2/2 [==============================] - 0s 29ms/step - loss: 0.2971 - binary_accuracy: 0.9136 - val_loss: 0.5462 - val_binary_accuracy: 0.8125\n",
            "Epoch 456/2000\n",
            "2/2 [==============================] - 0s 22ms/step - loss: 0.2477 - binary_accuracy: 0.8979 - val_loss: 0.5487 - val_binary_accuracy: 0.8125\n",
            "Epoch 457/2000\n",
            "2/2 [==============================] - 0s 26ms/step - loss: 0.3150 - binary_accuracy: 0.8953 - val_loss: 0.5494 - val_binary_accuracy: 0.8021\n",
            "Epoch 458/2000\n",
            "2/2 [==============================] - 0s 24ms/step - loss: 0.2722 - binary_accuracy: 0.8953 - val_loss: 0.5503 - val_binary_accuracy: 0.8021\n",
            "Epoch 459/2000\n",
            "2/2 [==============================] - 0s 23ms/step - loss: 0.2845 - binary_accuracy: 0.9084 - val_loss: 0.5519 - val_binary_accuracy: 0.8021\n",
            "Epoch 460/2000\n",
            "2/2 [==============================] - 0s 25ms/step - loss: 0.2783 - binary_accuracy: 0.8979 - val_loss: 0.5532 - val_binary_accuracy: 0.8021\n",
            "Epoch 461/2000\n",
            "2/2 [==============================] - 0s 23ms/step - loss: 0.2770 - binary_accuracy: 0.9084 - val_loss: 0.5536 - val_binary_accuracy: 0.8125\n",
            "Epoch 462/2000\n",
            "2/2 [==============================] - 0s 26ms/step - loss: 0.2796 - binary_accuracy: 0.8953 - val_loss: 0.5533 - val_binary_accuracy: 0.8125\n",
            "Epoch 463/2000\n",
            "2/2 [==============================] - 0s 23ms/step - loss: 0.3174 - binary_accuracy: 0.8717 - val_loss: 0.5526 - val_binary_accuracy: 0.8021\n",
            "Epoch 464/2000\n",
            "2/2 [==============================] - 0s 25ms/step - loss: 0.2569 - binary_accuracy: 0.9110 - val_loss: 0.5524 - val_binary_accuracy: 0.8021\n",
            "Epoch 465/2000\n",
            "2/2 [==============================] - 0s 24ms/step - loss: 0.2850 - binary_accuracy: 0.8953 - val_loss: 0.5530 - val_binary_accuracy: 0.8021\n",
            "Epoch 466/2000\n",
            "2/2 [==============================] - 0s 33ms/step - loss: 0.2956 - binary_accuracy: 0.8979 - val_loss: 0.5555 - val_binary_accuracy: 0.8021\n",
            "Epoch 467/2000\n",
            "2/2 [==============================] - 0s 23ms/step - loss: 0.2806 - binary_accuracy: 0.9084 - val_loss: 0.5592 - val_binary_accuracy: 0.8125\n",
            "Epoch 468/2000\n",
            "2/2 [==============================] - 0s 22ms/step - loss: 0.2822 - binary_accuracy: 0.8848 - val_loss: 0.5635 - val_binary_accuracy: 0.8125\n",
            "Epoch 469/2000\n",
            "2/2 [==============================] - 0s 22ms/step - loss: 0.2821 - binary_accuracy: 0.8822 - val_loss: 0.5669 - val_binary_accuracy: 0.8125\n",
            "Epoch 470/2000\n",
            "2/2 [==============================] - 0s 22ms/step - loss: 0.2936 - binary_accuracy: 0.8927 - val_loss: 0.5691 - val_binary_accuracy: 0.8125\n",
            "Epoch 471/2000\n",
            "2/2 [==============================] - 0s 24ms/step - loss: 0.2611 - binary_accuracy: 0.9058 - val_loss: 0.5708 - val_binary_accuracy: 0.8125\n"
          ]
        }
      ]
    },
    {
      "cell_type": "code",
      "metadata": {
        "colab": {
          "base_uri": "https://localhost:8080/"
        },
        "id": "87LjsN_W2UCR",
        "outputId": "a58725d2-6bce-4e90-95a1-4bbf74c1be22"
      },
      "source": [
        "test_pred2=(model.predict(test.values)>=0.42).reshape(672,).astype(int)\n",
        "test_pred2"
      ],
      "execution_count": null,
      "outputs": [
        {
          "output_type": "execute_result",
          "data": {
            "text/plain": [
              "array([0, 0, 0, 1, 0, 0, 0, 0, 0, 0, 0, 1, 0, 1, 0, 0, 1, 1, 0, 0, 0, 1,\n",
              "       0, 1, 1, 1, 0, 1, 1, 0, 0, 1, 1, 0, 1, 0, 1, 0, 0, 0, 0, 0, 0, 1,\n",
              "       0, 1, 1, 0, 1, 0, 0, 1, 1, 0, 0, 1, 0, 1, 0, 1, 1, 0, 0, 1, 0, 1,\n",
              "       1, 0, 0, 0, 0, 0, 0, 0, 0, 1, 0, 1, 1, 0, 0, 0, 1, 0, 0, 0, 0, 0,\n",
              "       0, 0, 0, 0, 0, 0, 0, 1, 0, 0, 0, 1, 0, 0, 0, 0, 0, 1, 0, 0, 0, 0,\n",
              "       0, 1, 0, 0, 0, 0, 0, 1, 0, 0, 1, 0, 1, 0, 0, 0, 0, 1, 0, 0, 0, 0,\n",
              "       1, 0, 0, 0, 0, 0, 0, 0, 0, 0, 0, 1, 1, 0, 0, 0, 1, 0, 0, 0, 1, 0,\n",
              "       0, 1, 0, 0, 1, 0, 1, 0, 0, 0, 1, 0, 0, 1, 0, 0, 1, 0, 0, 0, 0, 0,\n",
              "       1, 0, 1, 0, 0, 1, 0, 0, 0, 0, 1, 0, 1, 0, 0, 0, 0, 0, 0, 0, 0, 0,\n",
              "       0, 0, 1, 1, 0, 0, 0, 0, 1, 1, 0, 0, 0, 0, 1, 0, 0, 1, 0, 0, 0, 0,\n",
              "       0, 0, 1, 0, 0, 0, 0, 1, 0, 0, 1, 0, 0, 1, 0, 1, 0, 0, 0, 0, 0, 0,\n",
              "       0, 1, 0, 1, 0, 0, 0, 0, 1, 0, 0, 0, 0, 0, 1, 0, 0, 0, 0, 1, 0, 0,\n",
              "       1, 1, 0, 0, 0, 1, 1, 0, 0, 1, 0, 0, 0, 0, 0, 0, 1, 0, 1, 0, 0, 1,\n",
              "       0, 1, 0, 0, 0, 0, 1, 0, 0, 0, 0, 1, 0, 1, 0, 0, 0, 1, 0, 1, 1, 1,\n",
              "       0, 1, 0, 0, 0, 0, 1, 1, 0, 0, 0, 0, 0, 1, 0, 1, 1, 0, 0, 1, 0, 1,\n",
              "       0, 0, 1, 0, 0, 0, 0, 0, 0, 1, 1, 0, 0, 0, 0, 0, 0, 0, 0, 0, 1, 0,\n",
              "       0, 0, 1, 0, 1, 0, 0, 1, 0, 0, 0, 0, 1, 0, 0, 0, 0, 0, 0, 0, 0, 1,\n",
              "       0, 0, 0, 0, 1, 0, 0, 0, 0, 0, 1, 0, 1, 1, 1, 0, 0, 1, 0, 0, 0, 0,\n",
              "       0, 1, 1, 1, 0, 0, 0, 0, 0, 1, 0, 1, 1, 1, 0, 1, 0, 0, 1, 0, 0, 0,\n",
              "       0, 1, 1, 0, 0, 0, 0, 0, 1, 0, 0, 1, 0, 0, 0, 1, 0, 1, 0, 0, 0, 0,\n",
              "       0, 0, 1, 1, 0, 0, 0, 1, 1, 1, 0, 1, 0, 1, 1, 0, 0, 0, 0, 1, 0, 0,\n",
              "       0, 0, 1, 1, 0, 0, 1, 0, 0, 0, 0, 0, 0, 1, 0, 0, 0, 1, 1, 1, 0, 0,\n",
              "       0, 0, 0, 1, 0, 0, 0, 0, 0, 0, 0, 0, 0, 1, 1, 1, 1, 0, 1, 0, 0, 0,\n",
              "       0, 0, 0, 1, 0, 1, 0, 0, 0, 0, 0, 1, 0, 0, 0, 0, 1, 0, 0, 1, 0, 0,\n",
              "       1, 0, 0, 0, 1, 0, 1, 1, 1, 1, 1, 0, 1, 0, 0, 0, 0, 1, 0, 0, 0, 1,\n",
              "       0, 0, 0, 1, 0, 1, 1, 1, 1, 0, 1, 0, 0, 0, 0, 0, 0, 0, 0, 0, 0, 0,\n",
              "       0, 1, 0, 0, 0, 0, 0, 0, 0, 0, 0, 1, 0, 1, 0, 0, 0, 0, 1, 0, 0, 0,\n",
              "       0, 0, 0, 0, 0, 0, 0, 0, 0, 0, 1, 0, 0, 0, 0, 1, 0, 0, 0, 0, 0, 0,\n",
              "       0, 0, 0, 0, 0, 1, 0, 0, 0, 1, 0, 0, 0, 0, 0, 0, 0, 0, 1, 0, 0, 0,\n",
              "       0, 0, 0, 0, 0, 0, 0, 0, 0, 0, 0, 0, 1, 0, 1, 0, 0, 1, 1, 1, 1, 1,\n",
              "       0, 1, 1, 0, 0, 0, 0, 0, 1, 0, 0, 0])"
            ]
          },
          "metadata": {},
          "execution_count": 113
        }
      ]
    },
    {
      "cell_type": "code",
      "metadata": {
        "colab": {
          "base_uri": "https://localhost:8080/",
          "height": 428
        },
        "id": "yiJOZuFo7rS2",
        "outputId": "08b5efed-499a-4fcc-a94f-89420ebe91d9"
      },
      "source": [
        "usable.drop('Response',1)"
      ],
      "execution_count": null,
      "outputs": [
        {
          "output_type": "execute_result",
          "data": {
            "text/html": [
              "<div>\n",
              "<style scoped>\n",
              "    .dataframe tbody tr th:only-of-type {\n",
              "        vertical-align: middle;\n",
              "    }\n",
              "\n",
              "    .dataframe tbody tr th {\n",
              "        vertical-align: top;\n",
              "    }\n",
              "\n",
              "    .dataframe thead th {\n",
              "        text-align: right;\n",
              "    }\n",
              "</style>\n",
              "<table border=\"1\" class=\"dataframe\">\n",
              "  <thead>\n",
              "    <tr style=\"text-align: right;\">\n",
              "      <th></th>\n",
              "    </tr>\n",
              "    <tr>\n",
              "      <th>ID</th>\n",
              "    </tr>\n",
              "  </thead>\n",
              "  <tbody>\n",
              "    <tr>\n",
              "      <th>ID_ZPMABNVX</th>\n",
              "    </tr>\n",
              "    <tr>\n",
              "      <th>ID_WFE91NAA</th>\n",
              "    </tr>\n",
              "    <tr>\n",
              "      <th>ID_JV11RBRK</th>\n",
              "    </tr>\n",
              "    <tr>\n",
              "      <th>ID_6B7SVKY9</th>\n",
              "    </tr>\n",
              "    <tr>\n",
              "      <th>ID_GOVUZ545</th>\n",
              "    </tr>\n",
              "    <tr>\n",
              "      <th>...</th>\n",
              "    </tr>\n",
              "    <tr>\n",
              "      <th>ID_1D68PV28</th>\n",
              "    </tr>\n",
              "    <tr>\n",
              "      <th>ID_TM6CYFZO</th>\n",
              "    </tr>\n",
              "    <tr>\n",
              "      <th>ID_VHR666SC</th>\n",
              "    </tr>\n",
              "    <tr>\n",
              "      <th>ID_O852YAO1</th>\n",
              "    </tr>\n",
              "    <tr>\n",
              "      <th>ID_ML5HMWHI</th>\n",
              "    </tr>\n",
              "  </tbody>\n",
              "</table>\n",
              "<p>672 rows × 0 columns</p>\n",
              "</div>"
            ],
            "text/plain": [
              "Empty DataFrame\n",
              "Columns: []\n",
              "Index: [ID_ZPMABNVX, ID_WFE91NAA, ID_JV11RBRK, ID_6B7SVKY9, ID_GOVUZ545, ID_A3SFW973, ID_HERGG0GD, ID_S36UV4BY, ID_9E10P1ZZ, ID_2840OCS5, ID_JCTOSHNK, ID_9LLVM41O, ID_TDCG3QVS, ID_2RE3UL3M, ID_62X1U1Q9, ID_79N73FHZ, ID_CUSB2F0K, ID_9EAC9BLH, ID_KQNSDF1S, ID_30PH2BQB, ID_1ROZENIZ, ID_14DP6I2K, ID_YBNSBULG, ID_EN6J3AN0, ID_YLNY205A, ID_JN69O071, ID_HMQNRSKW, ID_94W19YVD, ID_3QFCADD4, ID_7SQGAJEV, ID_ORL3J2MS, ID_ZZP16F3C, ID_F1OA5IFK, ID_88ZZH3F8, ID_ECUNIT20, ID_BSF2BAKD, ID_2VMFU08P, ID_F49IFMQZ, ID_S86IE9EC, ID_LXLOIXGQ, ID_QCJ01BWI, ID_MOW0IJ2P, ID_YP1AKCV3, ID_KVSACQLG, ID_11N5AFNU, ID_IQZYXI8F, ID_36930STY, ID_D89BUNFW, ID_7BGL0ZAA, ID_F1GDNP7N, ID_Q2XRKOZL, ID_BHN7VSWC, ID_8429NU7K, ID_I2DHJB1L, ID_WKHK4001, ID_5OBUZA1O, ID_41LLBNJQ, ID_KEOWXCCD, ID_0KMNSZWV, ID_UTLEFRXM, ID_16MG7LYH, ID_H24QJ2Q8, ID_NBFRZBCE, ID_XGLL6MQE, ID_3JEDHRBP, ID_DYG2GME5, ID_D0KRDI51, ID_LK6SIOEA, ID_XPY9XDOP, ID_2OTU72O6, ID_KKL65T9F, ID_C6TEGBKE, ID_HW88QYQD, ID_XWQRU9C4, ID_QNQTI39I, ID_LAGANIA8, ID_SU9D6TMM, ID_XZW6L3AQ, ID_F1R1CDPL, ID_SETTONXG, ID_4FVVBY60, ID_FSH3NSNE, ID_MFK6E740, ID_5JNNZ41M, ID_FA3WWG6M, ID_RUNUFFBD, ID_QS6BK27S, ID_M03QVVEJ, ID_IYPIVY3M, ID_ZQIN3XSK, ID_C14G9DKZ, ID_9I5N02TF, ID_GOX7KLAY, ID_UKIXMSOI, ID_TQVUT0WV, ID_MFF0OK76, ID_I41JGE4L, ID_MMMFQO70, ID_QRQFCVY9, ID_TZC3FVBF, ...]\n",
              "\n",
              "[672 rows x 0 columns]"
            ]
          },
          "metadata": {},
          "execution_count": 114
        }
      ]
    },
    {
      "cell_type": "code",
      "metadata": {
        "id": "XvSMkGii7dfc"
      },
      "source": [
        "usable['Response'] = test_pred2"
      ],
      "execution_count": null,
      "outputs": []
    },
    {
      "cell_type": "code",
      "metadata": {
        "colab": {
          "base_uri": "https://localhost:8080/",
          "height": 445
        },
        "id": "bLNzuSLe8Gff",
        "outputId": "e9184026-003d-4c6d-fc2c-7fae89dca548"
      },
      "source": [
        "usable"
      ],
      "execution_count": null,
      "outputs": [
        {
          "output_type": "execute_result",
          "data": {
            "text/html": [
              "<div>\n",
              "<style scoped>\n",
              "    .dataframe tbody tr th:only-of-type {\n",
              "        vertical-align: middle;\n",
              "    }\n",
              "\n",
              "    .dataframe tbody tr th {\n",
              "        vertical-align: top;\n",
              "    }\n",
              "\n",
              "    .dataframe thead th {\n",
              "        text-align: right;\n",
              "    }\n",
              "</style>\n",
              "<table border=\"1\" class=\"dataframe\">\n",
              "  <thead>\n",
              "    <tr style=\"text-align: right;\">\n",
              "      <th></th>\n",
              "      <th>Response</th>\n",
              "    </tr>\n",
              "    <tr>\n",
              "      <th>ID</th>\n",
              "      <th></th>\n",
              "    </tr>\n",
              "  </thead>\n",
              "  <tbody>\n",
              "    <tr>\n",
              "      <th>ID_ZPMABNVX</th>\n",
              "      <td>0</td>\n",
              "    </tr>\n",
              "    <tr>\n",
              "      <th>ID_WFE91NAA</th>\n",
              "      <td>0</td>\n",
              "    </tr>\n",
              "    <tr>\n",
              "      <th>ID_JV11RBRK</th>\n",
              "      <td>0</td>\n",
              "    </tr>\n",
              "    <tr>\n",
              "      <th>ID_6B7SVKY9</th>\n",
              "      <td>1</td>\n",
              "    </tr>\n",
              "    <tr>\n",
              "      <th>ID_GOVUZ545</th>\n",
              "      <td>0</td>\n",
              "    </tr>\n",
              "    <tr>\n",
              "      <th>...</th>\n",
              "      <td>...</td>\n",
              "    </tr>\n",
              "    <tr>\n",
              "      <th>ID_1D68PV28</th>\n",
              "      <td>0</td>\n",
              "    </tr>\n",
              "    <tr>\n",
              "      <th>ID_TM6CYFZO</th>\n",
              "      <td>1</td>\n",
              "    </tr>\n",
              "    <tr>\n",
              "      <th>ID_VHR666SC</th>\n",
              "      <td>0</td>\n",
              "    </tr>\n",
              "    <tr>\n",
              "      <th>ID_O852YAO1</th>\n",
              "      <td>0</td>\n",
              "    </tr>\n",
              "    <tr>\n",
              "      <th>ID_ML5HMWHI</th>\n",
              "      <td>0</td>\n",
              "    </tr>\n",
              "  </tbody>\n",
              "</table>\n",
              "<p>672 rows × 1 columns</p>\n",
              "</div>"
            ],
            "text/plain": [
              "             Response\n",
              "ID                   \n",
              "ID_ZPMABNVX         0\n",
              "ID_WFE91NAA         0\n",
              "ID_JV11RBRK         0\n",
              "ID_6B7SVKY9         1\n",
              "ID_GOVUZ545         0\n",
              "...               ...\n",
              "ID_1D68PV28         0\n",
              "ID_TM6CYFZO         1\n",
              "ID_VHR666SC         0\n",
              "ID_O852YAO1         0\n",
              "ID_ML5HMWHI         0\n",
              "\n",
              "[672 rows x 1 columns]"
            ]
          },
          "metadata": {},
          "execution_count": 116
        }
      ]
    },
    {
      "cell_type": "code",
      "metadata": {
        "id": "ZHZMnQT1-pmv"
      },
      "source": [
        "usable.to_csv('Sample133.csv')"
      ],
      "execution_count": null,
      "outputs": []
    },
    {
      "cell_type": "code",
      "metadata": {
        "id": "lmrkKvGTSzCj"
      },
      "source": [
        "from tensorflow import keras\n",
        "from tensorflow.keras import layers\n",
        "\n",
        "model = keras.Sequential([\n",
        "    layers.Dense(4, activation='relu', input_shape=[36]), \n",
        "    layers.Dense(4, activation='relu'),    \n",
        "    layers.Dense(1, activation='sigmoid'),\n",
        "])"
      ],
      "execution_count": null,
      "outputs": []
    },
    {
      "cell_type": "code",
      "metadata": {
        "id": "djTHylicS0DD"
      },
      "source": [
        "model.compile(\n",
        "    optimizer='adam',\n",
        "    loss='binary_crossentropy',\n",
        "    metrics=['binary_accuracy'],\n",
        ")"
      ],
      "execution_count": null,
      "outputs": []
    },
    {
      "cell_type": "code",
      "metadata": {
        "colab": {
          "base_uri": "https://localhost:8080/"
        },
        "id": "6Q85Hd2NS0Pq",
        "outputId": "8971cfe2-c6b4-4552-de8e-1a3253994e24"
      },
      "source": [
        "early_stopping = keras.callbacks.EarlyStopping(\n",
        "    patience=10,\n",
        "    min_delta=0.001,\n",
        "    restore_best_weights=True,\n",
        ")\n",
        "\n",
        "history = model.fit(\n",
        "    scaled_train_full, y,\n",
        "    validation_data=(X_va, y_va),\n",
        "    batch_size= 512,\n",
        "    epochs=1000,\n",
        "    callbacks=[early_stopping],\n",
        "    #verbose=0, # hide the output because we have so many epochs\n",
        ")"
      ],
      "execution_count": null,
      "outputs": [
        {
          "output_type": "stream",
          "name": "stdout",
          "text": [
            "Epoch 1/1000\n",
            "4/4 [==============================] - 1s 49ms/step - loss: 0.7130 - binary_accuracy: 0.5574 - val_loss: 0.7076 - val_binary_accuracy: 0.4167\n",
            "Epoch 2/1000\n",
            "4/4 [==============================] - 0s 8ms/step - loss: 0.7061 - binary_accuracy: 0.5880 - val_loss: 0.7068 - val_binary_accuracy: 0.4062\n",
            "Epoch 3/1000\n",
            "4/4 [==============================] - 0s 13ms/step - loss: 0.6996 - binary_accuracy: 0.6250 - val_loss: 0.7059 - val_binary_accuracy: 0.4375\n",
            "Epoch 4/1000\n",
            "4/4 [==============================] - 0s 8ms/step - loss: 0.6936 - binary_accuracy: 0.6537 - val_loss: 0.7054 - val_binary_accuracy: 0.4479\n",
            "Epoch 5/1000\n",
            "4/4 [==============================] - 0s 7ms/step - loss: 0.6880 - binary_accuracy: 0.6716 - val_loss: 0.7048 - val_binary_accuracy: 0.4479\n",
            "Epoch 6/1000\n",
            "4/4 [==============================] - 0s 7ms/step - loss: 0.6827 - binary_accuracy: 0.6901 - val_loss: 0.7046 - val_binary_accuracy: 0.4375\n",
            "Epoch 7/1000\n",
            "4/4 [==============================] - 0s 7ms/step - loss: 0.6777 - binary_accuracy: 0.7085 - val_loss: 0.7045 - val_binary_accuracy: 0.4375\n",
            "Epoch 8/1000\n",
            "4/4 [==============================] - 0s 7ms/step - loss: 0.6730 - binary_accuracy: 0.7296 - val_loss: 0.7043 - val_binary_accuracy: 0.4375\n",
            "Epoch 9/1000\n",
            "4/4 [==============================] - 0s 6ms/step - loss: 0.6684 - binary_accuracy: 0.7545 - val_loss: 0.7042 - val_binary_accuracy: 0.4479\n",
            "Epoch 10/1000\n",
            "4/4 [==============================] - 0s 6ms/step - loss: 0.6640 - binary_accuracy: 0.7723 - val_loss: 0.7043 - val_binary_accuracy: 0.4583\n",
            "Epoch 11/1000\n",
            "4/4 [==============================] - 0s 6ms/step - loss: 0.6597 - binary_accuracy: 0.7870 - val_loss: 0.7044 - val_binary_accuracy: 0.4688\n",
            "Epoch 12/1000\n",
            "4/4 [==============================] - 0s 6ms/step - loss: 0.6555 - binary_accuracy: 0.7978 - val_loss: 0.7046 - val_binary_accuracy: 0.4792\n",
            "Epoch 13/1000\n",
            "4/4 [==============================] - 0s 7ms/step - loss: 0.6514 - binary_accuracy: 0.8068 - val_loss: 0.7050 - val_binary_accuracy: 0.4896\n",
            "Epoch 14/1000\n",
            "4/4 [==============================] - 0s 7ms/step - loss: 0.6473 - binary_accuracy: 0.8182 - val_loss: 0.7055 - val_binary_accuracy: 0.4896\n",
            "Epoch 15/1000\n",
            "4/4 [==============================] - 0s 7ms/step - loss: 0.6432 - binary_accuracy: 0.8253 - val_loss: 0.7060 - val_binary_accuracy: 0.4792\n"
          ]
        }
      ]
    },
    {
      "cell_type": "code",
      "metadata": {
        "colab": {
          "base_uri": "https://localhost:8080/"
        },
        "id": "h0bgyW0o9c6P",
        "outputId": "bd4cf86c-6221-4534-d673-58f6688ac9d5"
      },
      "source": [
        "test_pred3=(model.predict(test.values)>=0.55).reshape(672,).astype(int)\n",
        "test_pred3"
      ],
      "execution_count": null,
      "outputs": [
        {
          "output_type": "execute_result",
          "data": {
            "text/plain": [
              "array([0, 1, 0, 0, 0, 0, 0, 0, 0, 0, 0, 0, 0, 0, 0, 0, 0, 0, 0, 0, 0, 0,\n",
              "       0, 0, 1, 0, 0, 0, 0, 0, 0, 0, 0, 0, 0, 0, 0, 0, 1, 0, 0, 0, 0, 0,\n",
              "       0, 0, 0, 0, 0, 0, 0, 1, 0, 0, 1, 0, 0, 0, 0, 0, 0, 0, 0, 0, 0, 0,\n",
              "       0, 0, 1, 0, 0, 0, 1, 0, 0, 0, 0, 0, 0, 0, 0, 0, 0, 0, 0, 0, 0, 0,\n",
              "       0, 1, 0, 0, 0, 0, 0, 0, 0, 1, 0, 0, 0, 0, 0, 0, 0, 0, 0, 0, 0, 0,\n",
              "       0, 0, 0, 0, 0, 0, 0, 0, 0, 0, 0, 0, 0, 1, 0, 0, 0, 1, 1, 0, 0, 0,\n",
              "       0, 0, 0, 0, 0, 0, 0, 0, 0, 0, 0, 0, 0, 0, 0, 0, 0, 0, 0, 0, 0, 0,\n",
              "       0, 0, 0, 0, 0, 0, 0, 1, 0, 1, 0, 0, 0, 0, 0, 0, 0, 0, 0, 0, 0, 0,\n",
              "       0, 1, 0, 0, 0, 0, 1, 0, 0, 0, 1, 0, 1, 0, 0, 0, 0, 0, 1, 0, 0, 0,\n",
              "       0, 0, 0, 0, 1, 0, 0, 0, 0, 0, 0, 0, 0, 0, 1, 0, 0, 0, 0, 1, 0, 0,\n",
              "       0, 0, 0, 0, 0, 0, 0, 0, 0, 0, 0, 0, 0, 0, 0, 0, 0, 0, 0, 0, 0, 0,\n",
              "       0, 0, 0, 1, 0, 0, 0, 0, 0, 0, 0, 0, 0, 1, 1, 0, 0, 0, 1, 0, 1, 0,\n",
              "       0, 0, 0, 0, 0, 0, 0, 0, 1, 0, 0, 1, 0, 0, 0, 0, 0, 0, 0, 0, 0, 0,\n",
              "       0, 0, 1, 0, 0, 0, 0, 0, 0, 0, 0, 0, 0, 0, 0, 0, 1, 0, 0, 0, 1, 0,\n",
              "       0, 0, 0, 0, 0, 0, 1, 1, 0, 0, 1, 0, 0, 0, 1, 0, 0, 0, 0, 0, 0, 0,\n",
              "       0, 0, 1, 0, 1, 0, 1, 0, 0, 0, 0, 0, 0, 0, 0, 0, 0, 0, 0, 0, 0, 0,\n",
              "       0, 0, 0, 0, 0, 0, 0, 0, 0, 0, 0, 0, 0, 0, 0, 0, 0, 0, 0, 0, 0, 0,\n",
              "       0, 0, 0, 0, 0, 0, 0, 0, 0, 0, 0, 0, 0, 0, 1, 0, 1, 0, 1, 0, 0, 0,\n",
              "       0, 0, 0, 0, 0, 1, 1, 0, 0, 0, 0, 0, 0, 0, 0, 0, 1, 0, 0, 0, 0, 0,\n",
              "       0, 0, 0, 1, 0, 0, 0, 0, 0, 0, 0, 0, 0, 0, 0, 0, 0, 0, 0, 0, 1, 0,\n",
              "       0, 0, 1, 0, 1, 0, 0, 0, 0, 0, 0, 0, 0, 0, 0, 1, 0, 1, 0, 0, 0, 0,\n",
              "       0, 0, 0, 0, 0, 1, 0, 0, 0, 0, 0, 0, 0, 0, 0, 0, 0, 0, 1, 0, 0, 0,\n",
              "       0, 0, 0, 0, 0, 1, 0, 0, 0, 0, 0, 0, 0, 0, 0, 0, 1, 0, 0, 0, 0, 0,\n",
              "       0, 0, 0, 0, 0, 0, 0, 0, 0, 0, 0, 0, 0, 0, 0, 0, 0, 0, 0, 1, 0, 0,\n",
              "       0, 0, 0, 0, 0, 0, 0, 1, 0, 0, 0, 0, 0, 0, 0, 0, 0, 0, 0, 0, 1, 1,\n",
              "       0, 0, 0, 0, 0, 0, 0, 0, 0, 0, 0, 0, 0, 0, 0, 1, 1, 0, 0, 0, 0, 1,\n",
              "       0, 0, 0, 0, 0, 0, 0, 0, 0, 0, 0, 0, 0, 0, 0, 0, 0, 0, 0, 0, 0, 0,\n",
              "       1, 0, 0, 0, 0, 0, 0, 0, 0, 0, 1, 0, 0, 0, 0, 0, 0, 0, 1, 0, 0, 0,\n",
              "       0, 0, 0, 0, 0, 0, 0, 0, 0, 1, 0, 1, 1, 0, 0, 0, 0, 1, 0, 1, 0, 1,\n",
              "       1, 0, 0, 0, 0, 0, 0, 0, 0, 0, 0, 0, 0, 0, 0, 0, 0, 0, 0, 0, 0, 0,\n",
              "       0, 0, 0, 0, 1, 0, 0, 0, 0, 0, 1, 0])"
            ]
          },
          "metadata": {},
          "execution_count": 121
        }
      ]
    },
    {
      "cell_type": "code",
      "metadata": {
        "colab": {
          "base_uri": "https://localhost:8080/",
          "height": 428
        },
        "id": "mu-h2SSv9lPm",
        "outputId": "2c065fac-402e-403d-859a-fb752637b00d"
      },
      "source": [
        "usable.drop('Response',1)"
      ],
      "execution_count": null,
      "outputs": [
        {
          "output_type": "execute_result",
          "data": {
            "text/html": [
              "<div>\n",
              "<style scoped>\n",
              "    .dataframe tbody tr th:only-of-type {\n",
              "        vertical-align: middle;\n",
              "    }\n",
              "\n",
              "    .dataframe tbody tr th {\n",
              "        vertical-align: top;\n",
              "    }\n",
              "\n",
              "    .dataframe thead th {\n",
              "        text-align: right;\n",
              "    }\n",
              "</style>\n",
              "<table border=\"1\" class=\"dataframe\">\n",
              "  <thead>\n",
              "    <tr style=\"text-align: right;\">\n",
              "      <th></th>\n",
              "    </tr>\n",
              "    <tr>\n",
              "      <th>ID</th>\n",
              "    </tr>\n",
              "  </thead>\n",
              "  <tbody>\n",
              "    <tr>\n",
              "      <th>ID_ZPMABNVX</th>\n",
              "    </tr>\n",
              "    <tr>\n",
              "      <th>ID_WFE91NAA</th>\n",
              "    </tr>\n",
              "    <tr>\n",
              "      <th>ID_JV11RBRK</th>\n",
              "    </tr>\n",
              "    <tr>\n",
              "      <th>ID_6B7SVKY9</th>\n",
              "    </tr>\n",
              "    <tr>\n",
              "      <th>ID_GOVUZ545</th>\n",
              "    </tr>\n",
              "    <tr>\n",
              "      <th>...</th>\n",
              "    </tr>\n",
              "    <tr>\n",
              "      <th>ID_1D68PV28</th>\n",
              "    </tr>\n",
              "    <tr>\n",
              "      <th>ID_TM6CYFZO</th>\n",
              "    </tr>\n",
              "    <tr>\n",
              "      <th>ID_VHR666SC</th>\n",
              "    </tr>\n",
              "    <tr>\n",
              "      <th>ID_O852YAO1</th>\n",
              "    </tr>\n",
              "    <tr>\n",
              "      <th>ID_ML5HMWHI</th>\n",
              "    </tr>\n",
              "  </tbody>\n",
              "</table>\n",
              "<p>672 rows × 0 columns</p>\n",
              "</div>"
            ],
            "text/plain": [
              "Empty DataFrame\n",
              "Columns: []\n",
              "Index: [ID_ZPMABNVX, ID_WFE91NAA, ID_JV11RBRK, ID_6B7SVKY9, ID_GOVUZ545, ID_A3SFW973, ID_HERGG0GD, ID_S36UV4BY, ID_9E10P1ZZ, ID_2840OCS5, ID_JCTOSHNK, ID_9LLVM41O, ID_TDCG3QVS, ID_2RE3UL3M, ID_62X1U1Q9, ID_79N73FHZ, ID_CUSB2F0K, ID_9EAC9BLH, ID_KQNSDF1S, ID_30PH2BQB, ID_1ROZENIZ, ID_14DP6I2K, ID_YBNSBULG, ID_EN6J3AN0, ID_YLNY205A, ID_JN69O071, ID_HMQNRSKW, ID_94W19YVD, ID_3QFCADD4, ID_7SQGAJEV, ID_ORL3J2MS, ID_ZZP16F3C, ID_F1OA5IFK, ID_88ZZH3F8, ID_ECUNIT20, ID_BSF2BAKD, ID_2VMFU08P, ID_F49IFMQZ, ID_S86IE9EC, ID_LXLOIXGQ, ID_QCJ01BWI, ID_MOW0IJ2P, ID_YP1AKCV3, ID_KVSACQLG, ID_11N5AFNU, ID_IQZYXI8F, ID_36930STY, ID_D89BUNFW, ID_7BGL0ZAA, ID_F1GDNP7N, ID_Q2XRKOZL, ID_BHN7VSWC, ID_8429NU7K, ID_I2DHJB1L, ID_WKHK4001, ID_5OBUZA1O, ID_41LLBNJQ, ID_KEOWXCCD, ID_0KMNSZWV, ID_UTLEFRXM, ID_16MG7LYH, ID_H24QJ2Q8, ID_NBFRZBCE, ID_XGLL6MQE, ID_3JEDHRBP, ID_DYG2GME5, ID_D0KRDI51, ID_LK6SIOEA, ID_XPY9XDOP, ID_2OTU72O6, ID_KKL65T9F, ID_C6TEGBKE, ID_HW88QYQD, ID_XWQRU9C4, ID_QNQTI39I, ID_LAGANIA8, ID_SU9D6TMM, ID_XZW6L3AQ, ID_F1R1CDPL, ID_SETTONXG, ID_4FVVBY60, ID_FSH3NSNE, ID_MFK6E740, ID_5JNNZ41M, ID_FA3WWG6M, ID_RUNUFFBD, ID_QS6BK27S, ID_M03QVVEJ, ID_IYPIVY3M, ID_ZQIN3XSK, ID_C14G9DKZ, ID_9I5N02TF, ID_GOX7KLAY, ID_UKIXMSOI, ID_TQVUT0WV, ID_MFF0OK76, ID_I41JGE4L, ID_MMMFQO70, ID_QRQFCVY9, ID_TZC3FVBF, ...]\n",
              "\n",
              "[672 rows x 0 columns]"
            ]
          },
          "metadata": {},
          "execution_count": 122
        }
      ]
    },
    {
      "cell_type": "code",
      "metadata": {
        "id": "W-rUdMJC9u4B"
      },
      "source": [
        "usable['Response'] = test_pred3"
      ],
      "execution_count": null,
      "outputs": []
    },
    {
      "cell_type": "code",
      "metadata": {
        "id": "43EDnjHG9vEy"
      },
      "source": [
        "#usable.to_csv('Sample115.csv')"
      ],
      "execution_count": null,
      "outputs": []
    }
  ]
}